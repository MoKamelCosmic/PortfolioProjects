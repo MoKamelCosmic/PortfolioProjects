{
 "cells": [
  {
   "cell_type": "markdown",
   "metadata": {},
   "source": [
    "\n",
    "# Plotly and Cufflinks"
   ]
  },
  {
   "cell_type": "code",
   "execution_count": 1,
   "metadata": {},
   "outputs": [],
   "source": [
    "import pandas as pd\n",
    "import numpy as np\n",
    "%matplotlib inline"
   ]
  },
  {
   "cell_type": "code",
   "execution_count": 2,
   "metadata": {},
   "outputs": [
    {
     "name": "stdout",
     "output_type": "stream",
     "text": [
      "5.9.0\n"
     ]
    }
   ],
   "source": [
    "from plotly import __version__\n",
    "from plotly.offline import download_plotlyjs, init_notebook_mode, plot, iplot\n",
    "\n",
    "print(__version__) # requires version >= 1.9.0"
   ]
  },
  {
   "cell_type": "code",
   "execution_count": 3,
   "metadata": {},
   "outputs": [],
   "source": [
    "import cufflinks as cf"
   ]
  },
  {
   "cell_type": "code",
   "execution_count": 4,
   "metadata": {},
   "outputs": [
    {
     "data": {
      "text/html": [
       "        <script type=\"text/javascript\">\n",
       "        window.PlotlyConfig = {MathJaxConfig: 'local'};\n",
       "        if (window.MathJax && window.MathJax.Hub && window.MathJax.Hub.Config) {window.MathJax.Hub.Config({SVG: {font: \"STIX-Web\"}});}\n",
       "        if (typeof require !== 'undefined') {\n",
       "        require.undef(\"plotly\");\n",
       "        requirejs.config({\n",
       "            paths: {\n",
       "                'plotly': ['https://cdn.plot.ly/plotly-2.12.1.min']\n",
       "            }\n",
       "        });\n",
       "        require(['plotly'], function(Plotly) {\n",
       "            window._Plotly = Plotly;\n",
       "        });\n",
       "        }\n",
       "        </script>\n",
       "        "
      ]
     },
     "metadata": {},
     "output_type": "display_data"
    }
   ],
   "source": [
    "# For Notebooks\n",
    "init_notebook_mode(connected=True)"
   ]
  },
  {
   "cell_type": "code",
   "execution_count": 5,
   "metadata": {},
   "outputs": [
    {
     "data": {
      "text/html": [
       "        <script type=\"text/javascript\">\n",
       "        window.PlotlyConfig = {MathJaxConfig: 'local'};\n",
       "        if (window.MathJax && window.MathJax.Hub && window.MathJax.Hub.Config) {window.MathJax.Hub.Config({SVG: {font: \"STIX-Web\"}});}\n",
       "        if (typeof require !== 'undefined') {\n",
       "        require.undef(\"plotly\");\n",
       "        requirejs.config({\n",
       "            paths: {\n",
       "                'plotly': ['https://cdn.plot.ly/plotly-2.12.1.min']\n",
       "            }\n",
       "        });\n",
       "        require(['plotly'], function(Plotly) {\n",
       "            window._Plotly = Plotly;\n",
       "        });\n",
       "        }\n",
       "        </script>\n",
       "        "
      ]
     },
     "metadata": {},
     "output_type": "display_data"
    }
   ],
   "source": [
    "# For offline use\n",
    "cf.go_offline()"
   ]
  },
  {
   "cell_type": "markdown",
   "metadata": {},
   "source": [
    "### Fake Data"
   ]
  },
  {
   "cell_type": "code",
   "execution_count": 6,
   "metadata": {},
   "outputs": [],
   "source": [
    "df = pd.DataFrame(np.random.randn(100,4),columns='A B C D'.split())"
   ]
  },
  {
   "cell_type": "code",
   "execution_count": 7,
   "metadata": {},
   "outputs": [
    {
     "data": {
      "text/html": [
       "<div>\n",
       "<style scoped>\n",
       "    .dataframe tbody tr th:only-of-type {\n",
       "        vertical-align: middle;\n",
       "    }\n",
       "\n",
       "    .dataframe tbody tr th {\n",
       "        vertical-align: top;\n",
       "    }\n",
       "\n",
       "    .dataframe thead th {\n",
       "        text-align: right;\n",
       "    }\n",
       "</style>\n",
       "<table border=\"1\" class=\"dataframe\">\n",
       "  <thead>\n",
       "    <tr style=\"text-align: right;\">\n",
       "      <th></th>\n",
       "      <th>A</th>\n",
       "      <th>B</th>\n",
       "      <th>C</th>\n",
       "      <th>D</th>\n",
       "    </tr>\n",
       "  </thead>\n",
       "  <tbody>\n",
       "    <tr>\n",
       "      <th>0</th>\n",
       "      <td>0.131605</td>\n",
       "      <td>1.431895</td>\n",
       "      <td>-0.971022</td>\n",
       "      <td>-0.026946</td>\n",
       "    </tr>\n",
       "    <tr>\n",
       "      <th>1</th>\n",
       "      <td>-0.795089</td>\n",
       "      <td>0.240260</td>\n",
       "      <td>-0.524302</td>\n",
       "      <td>0.700186</td>\n",
       "    </tr>\n",
       "    <tr>\n",
       "      <th>2</th>\n",
       "      <td>-0.131787</td>\n",
       "      <td>0.445129</td>\n",
       "      <td>1.428641</td>\n",
       "      <td>-0.298217</td>\n",
       "    </tr>\n",
       "    <tr>\n",
       "      <th>3</th>\n",
       "      <td>0.046433</td>\n",
       "      <td>0.536226</td>\n",
       "      <td>0.913783</td>\n",
       "      <td>-0.467858</td>\n",
       "    </tr>\n",
       "    <tr>\n",
       "      <th>4</th>\n",
       "      <td>1.400881</td>\n",
       "      <td>-1.106650</td>\n",
       "      <td>-0.885808</td>\n",
       "      <td>0.166220</td>\n",
       "    </tr>\n",
       "  </tbody>\n",
       "</table>\n",
       "</div>"
      ],
      "text/plain": [
       "          A         B         C         D\n",
       "0  0.131605  1.431895 -0.971022 -0.026946\n",
       "1 -0.795089  0.240260 -0.524302  0.700186\n",
       "2 -0.131787  0.445129  1.428641 -0.298217\n",
       "3  0.046433  0.536226  0.913783 -0.467858\n",
       "4  1.400881 -1.106650 -0.885808  0.166220"
      ]
     },
     "execution_count": 7,
     "metadata": {},
     "output_type": "execute_result"
    }
   ],
   "source": [
    "df.head()"
   ]
  },
  {
   "cell_type": "code",
   "execution_count": 8,
   "metadata": {},
   "outputs": [],
   "source": [
    "df2 = pd.DataFrame({'Category':['A','B','C'],'Values':[32,43,50]})"
   ]
  },
  {
   "cell_type": "code",
   "execution_count": 9,
   "metadata": {},
   "outputs": [
    {
     "data": {
      "text/html": [
       "<div>\n",
       "<style scoped>\n",
       "    .dataframe tbody tr th:only-of-type {\n",
       "        vertical-align: middle;\n",
       "    }\n",
       "\n",
       "    .dataframe tbody tr th {\n",
       "        vertical-align: top;\n",
       "    }\n",
       "\n",
       "    .dataframe thead th {\n",
       "        text-align: right;\n",
       "    }\n",
       "</style>\n",
       "<table border=\"1\" class=\"dataframe\">\n",
       "  <thead>\n",
       "    <tr style=\"text-align: right;\">\n",
       "      <th></th>\n",
       "      <th>Category</th>\n",
       "      <th>Values</th>\n",
       "    </tr>\n",
       "  </thead>\n",
       "  <tbody>\n",
       "    <tr>\n",
       "      <th>0</th>\n",
       "      <td>A</td>\n",
       "      <td>32</td>\n",
       "    </tr>\n",
       "    <tr>\n",
       "      <th>1</th>\n",
       "      <td>B</td>\n",
       "      <td>43</td>\n",
       "    </tr>\n",
       "    <tr>\n",
       "      <th>2</th>\n",
       "      <td>C</td>\n",
       "      <td>50</td>\n",
       "    </tr>\n",
       "  </tbody>\n",
       "</table>\n",
       "</div>"
      ],
      "text/plain": [
       "  Category  Values\n",
       "0        A      32\n",
       "1        B      43\n",
       "2        C      50"
      ]
     },
     "execution_count": 9,
     "metadata": {},
     "output_type": "execute_result"
    }
   ],
   "source": [
    "df2.head()"
   ]
  },
  {
   "cell_type": "markdown",
   "metadata": {},
   "source": [
    "## Using Cufflinks and iplot()\n",
    "\n",
    "* scatter\n",
    "* bar\n",
    "* box\n",
    "* spread\n",
    "* ratio\n",
    "* heatmap\n",
    "* surface\n",
    "* histogram\n",
    "* bubble"
   ]
  },
  {
   "cell_type": "markdown",
   "metadata": {},
   "source": [
    "## Scatter"
   ]
  },
  {
   "cell_type": "code",
   "execution_count": 10,
   "metadata": {},
   "outputs": [
    {
     "data": {
      "application/vnd.plotly.v1+json": {
       "config": {
        "linkText": "Export to plot.ly",
        "plotlyServerURL": "https://plot.ly",
        "showLink": true
       },
       "data": [
        {
         "line": {
          "color": "rgba(255, 153, 51, 1.0)",
          "dash": "solid",
          "shape": "linear",
          "width": 1.3
         },
         "marker": {
          "size": 10,
          "symbol": "circle"
         },
         "mode": "markers",
         "name": "B",
         "text": "",
         "type": "scatter",
         "x": [
          0.13160484099032704,
          -0.7950894148460821,
          -0.13178744981839602,
          0.04643253694874059,
          1.4008811580488094,
          1.0636094200617128,
          -0.6302576662973428,
          -1.0151765951983778,
          -1.6289811525645115,
          1.6268210437035,
          0.6256421851048581,
          0.6214972799378291,
          1.2228321462568825,
          1.4103128126593787,
          -1.3973949776753045,
          -0.18281033081801018,
          2.605677785134823,
          0.3988269851056346,
          -0.4529882860464019,
          1.0784128278939078,
          0.7901159872294277,
          -0.4910610738334806,
          -0.9409118009988205,
          0.434468041211235,
          0.3742896418368096,
          -1.1561864863866274,
          -1.2842867457363056,
          -0.5261606343749329,
          0.6429325143749458,
          -1.3552544051664746,
          1.6270610794688527,
          -2.1435595460990853,
          -0.23455305399294482,
          -1.5986242370245385,
          1.1759934266713825,
          -0.01270097113625606,
          -0.4668452761149272,
          -0.7412607679432618,
          0.3462472288658386,
          0.10935402326252003,
          -0.3649831789786431,
          -0.21849969872497854,
          0.32657994207227464,
          2.2351327991254717,
          0.18144734817366057,
          -0.6912176240497995,
          0.7261509416783926,
          -1.8859562311461544,
          0.6217916103657698,
          -1.814362876226159,
          0.4189234239519778,
          1.7208451979119816,
          0.46099175660802466,
          0.07536895923905688,
          1.6026332086845676,
          -0.4813040033991323,
          -1.1715479856146989,
          -0.961844887784821,
          -0.3697250311946081,
          0.9903676937190032,
          0.5987589037491994,
          0.22441901104260428,
          -0.7290832505061414,
          1.182504038571702,
          0.49849042094992546,
          1.934068179888321,
          -1.0356143693303237,
          0.5099229331601602,
          -0.14881706016740145,
          1.2932578315420147,
          -0.8803779558532795,
          0.9912732908960632,
          -0.07363103484386704,
          -1.2099173247127637,
          0.49734583814546224,
          0.35313499965974543,
          -0.27695109523629635,
          0.3977250325577475,
          0.4267867826118734,
          -1.2592491178910903,
          1.561409048832289,
          -0.6487493849583286,
          2.1000263133192827,
          -1.6738293406736495,
          -1.2478081529020673,
          -0.5461776592746976,
          -0.8069503449533223,
          -1.216016854020958,
          -0.6994925219189366,
          0.3168200730116124,
          -1.618796776256919,
          0.43488998610191393,
          -0.09960482964117366,
          0.8141745749221933,
          -0.6550109510461594,
          -1.0731797207644709,
          0.025062692688615756,
          -0.1987930919360324,
          -0.8068381141444133,
          -0.3756595044409874
         ],
         "y": [
          1.4318947810176526,
          0.24026038605821917,
          0.4451286277214846,
          0.5362264542043904,
          -1.1066503086203259,
          -0.42229707035492087,
          0.718042335741499,
          -0.9318978257839343,
          -0.44859068426479753,
          0.06393476675777732,
          -0.9638697396246255,
          0.047373052805112593,
          -2.6316439201988544,
          1.16645099432575,
          0.32036750849283824,
          -0.05364339294583357,
          0.3802655235220497,
          -0.09961734522532066,
          -0.3653884522071064,
          0.5387252402177625,
          0.4688390726042069,
          0.09915984634898799,
          0.07388293090421022,
          -0.18789060897527135,
          -0.11576320542210079,
          1.0107124619771906,
          -0.6193205128828219,
          -0.12003905201802431,
          -0.08329152526464428,
          -1.0665194384892394,
          0.5251365929191014,
          -1.7202303396085004,
          -0.4098643151059729,
          0.2192352113181968,
          0.23647471448842297,
          -0.1115245845888328,
          0.18615443769853549,
          -0.40964673877098917,
          0.9711188501856983,
          -1.5071541555991648,
          0.1999602495297384,
          2.492818422930499,
          -0.41384143683286634,
          -0.9240183532845967,
          0.428717009167491,
          1.8113112612096411,
          -0.003990601547180274,
          -1.0569525684969008,
          -0.2462620275510187,
          -0.4334682863880004,
          0.3952226502148541,
          1.2432030130337701,
          0.6223978449559944,
          -1.1375909277591023,
          0.8016351645868708,
          -0.20628826144655052,
          1.6797828797502556,
          -0.9924526424616922,
          -0.31062961008454076,
          1.4306099335403377,
          1.9799584956398923,
          1.2607300051211943,
          0.5926955856960735,
          -0.6860932783938856,
          0.8932491030110556,
          -0.2366485951762157,
          1.1461888955923492,
          0.9762538722558245,
          -0.7899138777903845,
          0.4001873776041438,
          0.12072644501913432,
          1.17629127197133,
          -1.489601357172212,
          0.28052146475854733,
          1.6260200481973202,
          0.4605915872324684,
          0.14764372184436497,
          0.7331058048576845,
          2.2291967418153136,
          -0.781849913741244,
          -0.9985226652186919,
          1.237574668861233,
          0.7169596395220929,
          -1.9079310473095077,
          1.2290383651644585,
          -0.7379281450552093,
          -0.3610320856280676,
          2.8491743491694232,
          1.0186867977434042,
          -0.45887321828980554,
          0.19222873439429394,
          0.11579126666695112,
          0.09289699526265048,
          -0.15629653044902783,
          -1.2121316352810876,
          0.24892657275282007,
          -0.34109291135368036,
          -0.8333844588916233,
          1.2299995015955598,
          -0.09384418811944956
         ]
        }
       ],
       "layout": {
        "legend": {
         "bgcolor": "#F5F6F9",
         "font": {
          "color": "#4D5663"
         }
        },
        "paper_bgcolor": "#F5F6F9",
        "plot_bgcolor": "#F5F6F9",
        "template": {
         "data": {
          "bar": [
           {
            "error_x": {
             "color": "#2a3f5f"
            },
            "error_y": {
             "color": "#2a3f5f"
            },
            "marker": {
             "line": {
              "color": "#E5ECF6",
              "width": 0.5
             },
             "pattern": {
              "fillmode": "overlay",
              "size": 10,
              "solidity": 0.2
             }
            },
            "type": "bar"
           }
          ],
          "barpolar": [
           {
            "marker": {
             "line": {
              "color": "#E5ECF6",
              "width": 0.5
             },
             "pattern": {
              "fillmode": "overlay",
              "size": 10,
              "solidity": 0.2
             }
            },
            "type": "barpolar"
           }
          ],
          "carpet": [
           {
            "aaxis": {
             "endlinecolor": "#2a3f5f",
             "gridcolor": "white",
             "linecolor": "white",
             "minorgridcolor": "white",
             "startlinecolor": "#2a3f5f"
            },
            "baxis": {
             "endlinecolor": "#2a3f5f",
             "gridcolor": "white",
             "linecolor": "white",
             "minorgridcolor": "white",
             "startlinecolor": "#2a3f5f"
            },
            "type": "carpet"
           }
          ],
          "choropleth": [
           {
            "colorbar": {
             "outlinewidth": 0,
             "ticks": ""
            },
            "type": "choropleth"
           }
          ],
          "contour": [
           {
            "colorbar": {
             "outlinewidth": 0,
             "ticks": ""
            },
            "colorscale": [
             [
              0,
              "#0d0887"
             ],
             [
              0.1111111111111111,
              "#46039f"
             ],
             [
              0.2222222222222222,
              "#7201a8"
             ],
             [
              0.3333333333333333,
              "#9c179e"
             ],
             [
              0.4444444444444444,
              "#bd3786"
             ],
             [
              0.5555555555555556,
              "#d8576b"
             ],
             [
              0.6666666666666666,
              "#ed7953"
             ],
             [
              0.7777777777777778,
              "#fb9f3a"
             ],
             [
              0.8888888888888888,
              "#fdca26"
             ],
             [
              1,
              "#f0f921"
             ]
            ],
            "type": "contour"
           }
          ],
          "contourcarpet": [
           {
            "colorbar": {
             "outlinewidth": 0,
             "ticks": ""
            },
            "type": "contourcarpet"
           }
          ],
          "heatmap": [
           {
            "colorbar": {
             "outlinewidth": 0,
             "ticks": ""
            },
            "colorscale": [
             [
              0,
              "#0d0887"
             ],
             [
              0.1111111111111111,
              "#46039f"
             ],
             [
              0.2222222222222222,
              "#7201a8"
             ],
             [
              0.3333333333333333,
              "#9c179e"
             ],
             [
              0.4444444444444444,
              "#bd3786"
             ],
             [
              0.5555555555555556,
              "#d8576b"
             ],
             [
              0.6666666666666666,
              "#ed7953"
             ],
             [
              0.7777777777777778,
              "#fb9f3a"
             ],
             [
              0.8888888888888888,
              "#fdca26"
             ],
             [
              1,
              "#f0f921"
             ]
            ],
            "type": "heatmap"
           }
          ],
          "heatmapgl": [
           {
            "colorbar": {
             "outlinewidth": 0,
             "ticks": ""
            },
            "colorscale": [
             [
              0,
              "#0d0887"
             ],
             [
              0.1111111111111111,
              "#46039f"
             ],
             [
              0.2222222222222222,
              "#7201a8"
             ],
             [
              0.3333333333333333,
              "#9c179e"
             ],
             [
              0.4444444444444444,
              "#bd3786"
             ],
             [
              0.5555555555555556,
              "#d8576b"
             ],
             [
              0.6666666666666666,
              "#ed7953"
             ],
             [
              0.7777777777777778,
              "#fb9f3a"
             ],
             [
              0.8888888888888888,
              "#fdca26"
             ],
             [
              1,
              "#f0f921"
             ]
            ],
            "type": "heatmapgl"
           }
          ],
          "histogram": [
           {
            "marker": {
             "pattern": {
              "fillmode": "overlay",
              "size": 10,
              "solidity": 0.2
             }
            },
            "type": "histogram"
           }
          ],
          "histogram2d": [
           {
            "colorbar": {
             "outlinewidth": 0,
             "ticks": ""
            },
            "colorscale": [
             [
              0,
              "#0d0887"
             ],
             [
              0.1111111111111111,
              "#46039f"
             ],
             [
              0.2222222222222222,
              "#7201a8"
             ],
             [
              0.3333333333333333,
              "#9c179e"
             ],
             [
              0.4444444444444444,
              "#bd3786"
             ],
             [
              0.5555555555555556,
              "#d8576b"
             ],
             [
              0.6666666666666666,
              "#ed7953"
             ],
             [
              0.7777777777777778,
              "#fb9f3a"
             ],
             [
              0.8888888888888888,
              "#fdca26"
             ],
             [
              1,
              "#f0f921"
             ]
            ],
            "type": "histogram2d"
           }
          ],
          "histogram2dcontour": [
           {
            "colorbar": {
             "outlinewidth": 0,
             "ticks": ""
            },
            "colorscale": [
             [
              0,
              "#0d0887"
             ],
             [
              0.1111111111111111,
              "#46039f"
             ],
             [
              0.2222222222222222,
              "#7201a8"
             ],
             [
              0.3333333333333333,
              "#9c179e"
             ],
             [
              0.4444444444444444,
              "#bd3786"
             ],
             [
              0.5555555555555556,
              "#d8576b"
             ],
             [
              0.6666666666666666,
              "#ed7953"
             ],
             [
              0.7777777777777778,
              "#fb9f3a"
             ],
             [
              0.8888888888888888,
              "#fdca26"
             ],
             [
              1,
              "#f0f921"
             ]
            ],
            "type": "histogram2dcontour"
           }
          ],
          "mesh3d": [
           {
            "colorbar": {
             "outlinewidth": 0,
             "ticks": ""
            },
            "type": "mesh3d"
           }
          ],
          "parcoords": [
           {
            "line": {
             "colorbar": {
              "outlinewidth": 0,
              "ticks": ""
             }
            },
            "type": "parcoords"
           }
          ],
          "pie": [
           {
            "automargin": true,
            "type": "pie"
           }
          ],
          "scatter": [
           {
            "fillpattern": {
             "fillmode": "overlay",
             "size": 10,
             "solidity": 0.2
            },
            "type": "scatter"
           }
          ],
          "scatter3d": [
           {
            "line": {
             "colorbar": {
              "outlinewidth": 0,
              "ticks": ""
             }
            },
            "marker": {
             "colorbar": {
              "outlinewidth": 0,
              "ticks": ""
             }
            },
            "type": "scatter3d"
           }
          ],
          "scattercarpet": [
           {
            "marker": {
             "colorbar": {
              "outlinewidth": 0,
              "ticks": ""
             }
            },
            "type": "scattercarpet"
           }
          ],
          "scattergeo": [
           {
            "marker": {
             "colorbar": {
              "outlinewidth": 0,
              "ticks": ""
             }
            },
            "type": "scattergeo"
           }
          ],
          "scattergl": [
           {
            "marker": {
             "colorbar": {
              "outlinewidth": 0,
              "ticks": ""
             }
            },
            "type": "scattergl"
           }
          ],
          "scattermapbox": [
           {
            "marker": {
             "colorbar": {
              "outlinewidth": 0,
              "ticks": ""
             }
            },
            "type": "scattermapbox"
           }
          ],
          "scatterpolar": [
           {
            "marker": {
             "colorbar": {
              "outlinewidth": 0,
              "ticks": ""
             }
            },
            "type": "scatterpolar"
           }
          ],
          "scatterpolargl": [
           {
            "marker": {
             "colorbar": {
              "outlinewidth": 0,
              "ticks": ""
             }
            },
            "type": "scatterpolargl"
           }
          ],
          "scatterternary": [
           {
            "marker": {
             "colorbar": {
              "outlinewidth": 0,
              "ticks": ""
             }
            },
            "type": "scatterternary"
           }
          ],
          "surface": [
           {
            "colorbar": {
             "outlinewidth": 0,
             "ticks": ""
            },
            "colorscale": [
             [
              0,
              "#0d0887"
             ],
             [
              0.1111111111111111,
              "#46039f"
             ],
             [
              0.2222222222222222,
              "#7201a8"
             ],
             [
              0.3333333333333333,
              "#9c179e"
             ],
             [
              0.4444444444444444,
              "#bd3786"
             ],
             [
              0.5555555555555556,
              "#d8576b"
             ],
             [
              0.6666666666666666,
              "#ed7953"
             ],
             [
              0.7777777777777778,
              "#fb9f3a"
             ],
             [
              0.8888888888888888,
              "#fdca26"
             ],
             [
              1,
              "#f0f921"
             ]
            ],
            "type": "surface"
           }
          ],
          "table": [
           {
            "cells": {
             "fill": {
              "color": "#EBF0F8"
             },
             "line": {
              "color": "white"
             }
            },
            "header": {
             "fill": {
              "color": "#C8D4E3"
             },
             "line": {
              "color": "white"
             }
            },
            "type": "table"
           }
          ]
         },
         "layout": {
          "annotationdefaults": {
           "arrowcolor": "#2a3f5f",
           "arrowhead": 0,
           "arrowwidth": 1
          },
          "autotypenumbers": "strict",
          "coloraxis": {
           "colorbar": {
            "outlinewidth": 0,
            "ticks": ""
           }
          },
          "colorscale": {
           "diverging": [
            [
             0,
             "#8e0152"
            ],
            [
             0.1,
             "#c51b7d"
            ],
            [
             0.2,
             "#de77ae"
            ],
            [
             0.3,
             "#f1b6da"
            ],
            [
             0.4,
             "#fde0ef"
            ],
            [
             0.5,
             "#f7f7f7"
            ],
            [
             0.6,
             "#e6f5d0"
            ],
            [
             0.7,
             "#b8e186"
            ],
            [
             0.8,
             "#7fbc41"
            ],
            [
             0.9,
             "#4d9221"
            ],
            [
             1,
             "#276419"
            ]
           ],
           "sequential": [
            [
             0,
             "#0d0887"
            ],
            [
             0.1111111111111111,
             "#46039f"
            ],
            [
             0.2222222222222222,
             "#7201a8"
            ],
            [
             0.3333333333333333,
             "#9c179e"
            ],
            [
             0.4444444444444444,
             "#bd3786"
            ],
            [
             0.5555555555555556,
             "#d8576b"
            ],
            [
             0.6666666666666666,
             "#ed7953"
            ],
            [
             0.7777777777777778,
             "#fb9f3a"
            ],
            [
             0.8888888888888888,
             "#fdca26"
            ],
            [
             1,
             "#f0f921"
            ]
           ],
           "sequentialminus": [
            [
             0,
             "#0d0887"
            ],
            [
             0.1111111111111111,
             "#46039f"
            ],
            [
             0.2222222222222222,
             "#7201a8"
            ],
            [
             0.3333333333333333,
             "#9c179e"
            ],
            [
             0.4444444444444444,
             "#bd3786"
            ],
            [
             0.5555555555555556,
             "#d8576b"
            ],
            [
             0.6666666666666666,
             "#ed7953"
            ],
            [
             0.7777777777777778,
             "#fb9f3a"
            ],
            [
             0.8888888888888888,
             "#fdca26"
            ],
            [
             1,
             "#f0f921"
            ]
           ]
          },
          "colorway": [
           "#636efa",
           "#EF553B",
           "#00cc96",
           "#ab63fa",
           "#FFA15A",
           "#19d3f3",
           "#FF6692",
           "#B6E880",
           "#FF97FF",
           "#FECB52"
          ],
          "font": {
           "color": "#2a3f5f"
          },
          "geo": {
           "bgcolor": "white",
           "lakecolor": "white",
           "landcolor": "#E5ECF6",
           "showlakes": true,
           "showland": true,
           "subunitcolor": "white"
          },
          "hoverlabel": {
           "align": "left"
          },
          "hovermode": "closest",
          "mapbox": {
           "style": "light"
          },
          "paper_bgcolor": "white",
          "plot_bgcolor": "#E5ECF6",
          "polar": {
           "angularaxis": {
            "gridcolor": "white",
            "linecolor": "white",
            "ticks": ""
           },
           "bgcolor": "#E5ECF6",
           "radialaxis": {
            "gridcolor": "white",
            "linecolor": "white",
            "ticks": ""
           }
          },
          "scene": {
           "xaxis": {
            "backgroundcolor": "#E5ECF6",
            "gridcolor": "white",
            "gridwidth": 2,
            "linecolor": "white",
            "showbackground": true,
            "ticks": "",
            "zerolinecolor": "white"
           },
           "yaxis": {
            "backgroundcolor": "#E5ECF6",
            "gridcolor": "white",
            "gridwidth": 2,
            "linecolor": "white",
            "showbackground": true,
            "ticks": "",
            "zerolinecolor": "white"
           },
           "zaxis": {
            "backgroundcolor": "#E5ECF6",
            "gridcolor": "white",
            "gridwidth": 2,
            "linecolor": "white",
            "showbackground": true,
            "ticks": "",
            "zerolinecolor": "white"
           }
          },
          "shapedefaults": {
           "line": {
            "color": "#2a3f5f"
           }
          },
          "ternary": {
           "aaxis": {
            "gridcolor": "white",
            "linecolor": "white",
            "ticks": ""
           },
           "baxis": {
            "gridcolor": "white",
            "linecolor": "white",
            "ticks": ""
           },
           "bgcolor": "#E5ECF6",
           "caxis": {
            "gridcolor": "white",
            "linecolor": "white",
            "ticks": ""
           }
          },
          "title": {
           "x": 0.05
          },
          "xaxis": {
           "automargin": true,
           "gridcolor": "white",
           "linecolor": "white",
           "ticks": "",
           "title": {
            "standoff": 15
           },
           "zerolinecolor": "white",
           "zerolinewidth": 2
          },
          "yaxis": {
           "automargin": true,
           "gridcolor": "white",
           "linecolor": "white",
           "ticks": "",
           "title": {
            "standoff": 15
           },
           "zerolinecolor": "white",
           "zerolinewidth": 2
          }
         }
        },
        "title": {
         "font": {
          "color": "#4D5663"
         }
        },
        "xaxis": {
         "gridcolor": "#E1E5ED",
         "showgrid": true,
         "tickfont": {
          "color": "#4D5663"
         },
         "title": {
          "font": {
           "color": "#4D5663"
          },
          "text": ""
         },
         "zerolinecolor": "#E1E5ED"
        },
        "yaxis": {
         "gridcolor": "#E1E5ED",
         "showgrid": true,
         "tickfont": {
          "color": "#4D5663"
         },
         "title": {
          "font": {
           "color": "#4D5663"
          },
          "text": ""
         },
         "zerolinecolor": "#E1E5ED"
        }
       }
      },
      "text/html": [
       "<div>                            <div id=\"99560a68-ee87-43df-bd58-58c6ec56a1ba\" class=\"plotly-graph-div\" style=\"height:525px; width:100%;\"></div>            <script type=\"text/javascript\">                require([\"plotly\"], function(Plotly) {                    window.PLOTLYENV=window.PLOTLYENV || {};\n",
       "                    window.PLOTLYENV.BASE_URL='https://plot.ly';                                    if (document.getElementById(\"99560a68-ee87-43df-bd58-58c6ec56a1ba\")) {                    Plotly.newPlot(                        \"99560a68-ee87-43df-bd58-58c6ec56a1ba\",                        [{\"line\":{\"color\":\"rgba(255, 153, 51, 1.0)\",\"dash\":\"solid\",\"shape\":\"linear\",\"width\":1.3},\"marker\":{\"size\":10,\"symbol\":\"circle\"},\"mode\":\"markers\",\"name\":\"B\",\"text\":\"\",\"x\":[0.13160484099032704,-0.7950894148460821,-0.13178744981839602,0.04643253694874059,1.4008811580488094,1.0636094200617128,-0.6302576662973428,-1.0151765951983778,-1.6289811525645115,1.6268210437035,0.6256421851048581,0.6214972799378291,1.2228321462568825,1.4103128126593787,-1.3973949776753045,-0.18281033081801018,2.605677785134823,0.3988269851056346,-0.4529882860464019,1.0784128278939078,0.7901159872294277,-0.4910610738334806,-0.9409118009988205,0.434468041211235,0.3742896418368096,-1.1561864863866274,-1.2842867457363056,-0.5261606343749329,0.6429325143749458,-1.3552544051664746,1.6270610794688527,-2.1435595460990853,-0.23455305399294482,-1.5986242370245385,1.1759934266713825,-0.01270097113625606,-0.4668452761149272,-0.7412607679432618,0.3462472288658386,0.10935402326252003,-0.3649831789786431,-0.21849969872497854,0.32657994207227464,2.2351327991254717,0.18144734817366057,-0.6912176240497995,0.7261509416783926,-1.8859562311461544,0.6217916103657698,-1.814362876226159,0.4189234239519778,1.7208451979119816,0.46099175660802466,0.07536895923905688,1.6026332086845676,-0.4813040033991323,-1.1715479856146989,-0.961844887784821,-0.3697250311946081,0.9903676937190032,0.5987589037491994,0.22441901104260428,-0.7290832505061414,1.182504038571702,0.49849042094992546,1.934068179888321,-1.0356143693303237,0.5099229331601602,-0.14881706016740145,1.2932578315420147,-0.8803779558532795,0.9912732908960632,-0.07363103484386704,-1.2099173247127637,0.49734583814546224,0.35313499965974543,-0.27695109523629635,0.3977250325577475,0.4267867826118734,-1.2592491178910903,1.561409048832289,-0.6487493849583286,2.1000263133192827,-1.6738293406736495,-1.2478081529020673,-0.5461776592746976,-0.8069503449533223,-1.216016854020958,-0.6994925219189366,0.3168200730116124,-1.618796776256919,0.43488998610191393,-0.09960482964117366,0.8141745749221933,-0.6550109510461594,-1.0731797207644709,0.025062692688615756,-0.1987930919360324,-0.8068381141444133,-0.3756595044409874],\"y\":[1.4318947810176526,0.24026038605821917,0.4451286277214846,0.5362264542043904,-1.1066503086203259,-0.42229707035492087,0.718042335741499,-0.9318978257839343,-0.44859068426479753,0.06393476675777732,-0.9638697396246255,0.047373052805112593,-2.6316439201988544,1.16645099432575,0.32036750849283824,-0.05364339294583357,0.3802655235220497,-0.09961734522532066,-0.3653884522071064,0.5387252402177625,0.4688390726042069,0.09915984634898799,0.07388293090421022,-0.18789060897527135,-0.11576320542210079,1.0107124619771906,-0.6193205128828219,-0.12003905201802431,-0.08329152526464428,-1.0665194384892394,0.5251365929191014,-1.7202303396085004,-0.4098643151059729,0.2192352113181968,0.23647471448842297,-0.1115245845888328,0.18615443769853549,-0.40964673877098917,0.9711188501856983,-1.5071541555991648,0.1999602495297384,2.492818422930499,-0.41384143683286634,-0.9240183532845967,0.428717009167491,1.8113112612096411,-0.003990601547180274,-1.0569525684969008,-0.2462620275510187,-0.4334682863880004,0.3952226502148541,1.2432030130337701,0.6223978449559944,-1.1375909277591023,0.8016351645868708,-0.20628826144655052,1.6797828797502556,-0.9924526424616922,-0.31062961008454076,1.4306099335403377,1.9799584956398923,1.2607300051211943,0.5926955856960735,-0.6860932783938856,0.8932491030110556,-0.2366485951762157,1.1461888955923492,0.9762538722558245,-0.7899138777903845,0.4001873776041438,0.12072644501913432,1.17629127197133,-1.489601357172212,0.28052146475854733,1.6260200481973202,0.4605915872324684,0.14764372184436497,0.7331058048576845,2.2291967418153136,-0.781849913741244,-0.9985226652186919,1.237574668861233,0.7169596395220929,-1.9079310473095077,1.2290383651644585,-0.7379281450552093,-0.3610320856280676,2.8491743491694232,1.0186867977434042,-0.45887321828980554,0.19222873439429394,0.11579126666695112,0.09289699526265048,-0.15629653044902783,-1.2121316352810876,0.24892657275282007,-0.34109291135368036,-0.8333844588916233,1.2299995015955598,-0.09384418811944956],\"type\":\"scatter\"}],                        {\"legend\":{\"bgcolor\":\"#F5F6F9\",\"font\":{\"color\":\"#4D5663\"}},\"paper_bgcolor\":\"#F5F6F9\",\"plot_bgcolor\":\"#F5F6F9\",\"template\":{\"data\":{\"barpolar\":[{\"marker\":{\"line\":{\"color\":\"#E5ECF6\",\"width\":0.5},\"pattern\":{\"fillmode\":\"overlay\",\"size\":10,\"solidity\":0.2}},\"type\":\"barpolar\"}],\"bar\":[{\"error_x\":{\"color\":\"#2a3f5f\"},\"error_y\":{\"color\":\"#2a3f5f\"},\"marker\":{\"line\":{\"color\":\"#E5ECF6\",\"width\":0.5},\"pattern\":{\"fillmode\":\"overlay\",\"size\":10,\"solidity\":0.2}},\"type\":\"bar\"}],\"carpet\":[{\"aaxis\":{\"endlinecolor\":\"#2a3f5f\",\"gridcolor\":\"white\",\"linecolor\":\"white\",\"minorgridcolor\":\"white\",\"startlinecolor\":\"#2a3f5f\"},\"baxis\":{\"endlinecolor\":\"#2a3f5f\",\"gridcolor\":\"white\",\"linecolor\":\"white\",\"minorgridcolor\":\"white\",\"startlinecolor\":\"#2a3f5f\"},\"type\":\"carpet\"}],\"choropleth\":[{\"colorbar\":{\"outlinewidth\":0,\"ticks\":\"\"},\"type\":\"choropleth\"}],\"contourcarpet\":[{\"colorbar\":{\"outlinewidth\":0,\"ticks\":\"\"},\"type\":\"contourcarpet\"}],\"contour\":[{\"colorbar\":{\"outlinewidth\":0,\"ticks\":\"\"},\"colorscale\":[[0.0,\"#0d0887\"],[0.1111111111111111,\"#46039f\"],[0.2222222222222222,\"#7201a8\"],[0.3333333333333333,\"#9c179e\"],[0.4444444444444444,\"#bd3786\"],[0.5555555555555556,\"#d8576b\"],[0.6666666666666666,\"#ed7953\"],[0.7777777777777778,\"#fb9f3a\"],[0.8888888888888888,\"#fdca26\"],[1.0,\"#f0f921\"]],\"type\":\"contour\"}],\"heatmapgl\":[{\"colorbar\":{\"outlinewidth\":0,\"ticks\":\"\"},\"colorscale\":[[0.0,\"#0d0887\"],[0.1111111111111111,\"#46039f\"],[0.2222222222222222,\"#7201a8\"],[0.3333333333333333,\"#9c179e\"],[0.4444444444444444,\"#bd3786\"],[0.5555555555555556,\"#d8576b\"],[0.6666666666666666,\"#ed7953\"],[0.7777777777777778,\"#fb9f3a\"],[0.8888888888888888,\"#fdca26\"],[1.0,\"#f0f921\"]],\"type\":\"heatmapgl\"}],\"heatmap\":[{\"colorbar\":{\"outlinewidth\":0,\"ticks\":\"\"},\"colorscale\":[[0.0,\"#0d0887\"],[0.1111111111111111,\"#46039f\"],[0.2222222222222222,\"#7201a8\"],[0.3333333333333333,\"#9c179e\"],[0.4444444444444444,\"#bd3786\"],[0.5555555555555556,\"#d8576b\"],[0.6666666666666666,\"#ed7953\"],[0.7777777777777778,\"#fb9f3a\"],[0.8888888888888888,\"#fdca26\"],[1.0,\"#f0f921\"]],\"type\":\"heatmap\"}],\"histogram2dcontour\":[{\"colorbar\":{\"outlinewidth\":0,\"ticks\":\"\"},\"colorscale\":[[0.0,\"#0d0887\"],[0.1111111111111111,\"#46039f\"],[0.2222222222222222,\"#7201a8\"],[0.3333333333333333,\"#9c179e\"],[0.4444444444444444,\"#bd3786\"],[0.5555555555555556,\"#d8576b\"],[0.6666666666666666,\"#ed7953\"],[0.7777777777777778,\"#fb9f3a\"],[0.8888888888888888,\"#fdca26\"],[1.0,\"#f0f921\"]],\"type\":\"histogram2dcontour\"}],\"histogram2d\":[{\"colorbar\":{\"outlinewidth\":0,\"ticks\":\"\"},\"colorscale\":[[0.0,\"#0d0887\"],[0.1111111111111111,\"#46039f\"],[0.2222222222222222,\"#7201a8\"],[0.3333333333333333,\"#9c179e\"],[0.4444444444444444,\"#bd3786\"],[0.5555555555555556,\"#d8576b\"],[0.6666666666666666,\"#ed7953\"],[0.7777777777777778,\"#fb9f3a\"],[0.8888888888888888,\"#fdca26\"],[1.0,\"#f0f921\"]],\"type\":\"histogram2d\"}],\"histogram\":[{\"marker\":{\"pattern\":{\"fillmode\":\"overlay\",\"size\":10,\"solidity\":0.2}},\"type\":\"histogram\"}],\"mesh3d\":[{\"colorbar\":{\"outlinewidth\":0,\"ticks\":\"\"},\"type\":\"mesh3d\"}],\"parcoords\":[{\"line\":{\"colorbar\":{\"outlinewidth\":0,\"ticks\":\"\"}},\"type\":\"parcoords\"}],\"pie\":[{\"automargin\":true,\"type\":\"pie\"}],\"scatter3d\":[{\"line\":{\"colorbar\":{\"outlinewidth\":0,\"ticks\":\"\"}},\"marker\":{\"colorbar\":{\"outlinewidth\":0,\"ticks\":\"\"}},\"type\":\"scatter3d\"}],\"scattercarpet\":[{\"marker\":{\"colorbar\":{\"outlinewidth\":0,\"ticks\":\"\"}},\"type\":\"scattercarpet\"}],\"scattergeo\":[{\"marker\":{\"colorbar\":{\"outlinewidth\":0,\"ticks\":\"\"}},\"type\":\"scattergeo\"}],\"scattergl\":[{\"marker\":{\"colorbar\":{\"outlinewidth\":0,\"ticks\":\"\"}},\"type\":\"scattergl\"}],\"scattermapbox\":[{\"marker\":{\"colorbar\":{\"outlinewidth\":0,\"ticks\":\"\"}},\"type\":\"scattermapbox\"}],\"scatterpolargl\":[{\"marker\":{\"colorbar\":{\"outlinewidth\":0,\"ticks\":\"\"}},\"type\":\"scatterpolargl\"}],\"scatterpolar\":[{\"marker\":{\"colorbar\":{\"outlinewidth\":0,\"ticks\":\"\"}},\"type\":\"scatterpolar\"}],\"scatter\":[{\"fillpattern\":{\"fillmode\":\"overlay\",\"size\":10,\"solidity\":0.2},\"type\":\"scatter\"}],\"scatterternary\":[{\"marker\":{\"colorbar\":{\"outlinewidth\":0,\"ticks\":\"\"}},\"type\":\"scatterternary\"}],\"surface\":[{\"colorbar\":{\"outlinewidth\":0,\"ticks\":\"\"},\"colorscale\":[[0.0,\"#0d0887\"],[0.1111111111111111,\"#46039f\"],[0.2222222222222222,\"#7201a8\"],[0.3333333333333333,\"#9c179e\"],[0.4444444444444444,\"#bd3786\"],[0.5555555555555556,\"#d8576b\"],[0.6666666666666666,\"#ed7953\"],[0.7777777777777778,\"#fb9f3a\"],[0.8888888888888888,\"#fdca26\"],[1.0,\"#f0f921\"]],\"type\":\"surface\"}],\"table\":[{\"cells\":{\"fill\":{\"color\":\"#EBF0F8\"},\"line\":{\"color\":\"white\"}},\"header\":{\"fill\":{\"color\":\"#C8D4E3\"},\"line\":{\"color\":\"white\"}},\"type\":\"table\"}]},\"layout\":{\"annotationdefaults\":{\"arrowcolor\":\"#2a3f5f\",\"arrowhead\":0,\"arrowwidth\":1},\"autotypenumbers\":\"strict\",\"coloraxis\":{\"colorbar\":{\"outlinewidth\":0,\"ticks\":\"\"}},\"colorscale\":{\"diverging\":[[0,\"#8e0152\"],[0.1,\"#c51b7d\"],[0.2,\"#de77ae\"],[0.3,\"#f1b6da\"],[0.4,\"#fde0ef\"],[0.5,\"#f7f7f7\"],[0.6,\"#e6f5d0\"],[0.7,\"#b8e186\"],[0.8,\"#7fbc41\"],[0.9,\"#4d9221\"],[1,\"#276419\"]],\"sequential\":[[0.0,\"#0d0887\"],[0.1111111111111111,\"#46039f\"],[0.2222222222222222,\"#7201a8\"],[0.3333333333333333,\"#9c179e\"],[0.4444444444444444,\"#bd3786\"],[0.5555555555555556,\"#d8576b\"],[0.6666666666666666,\"#ed7953\"],[0.7777777777777778,\"#fb9f3a\"],[0.8888888888888888,\"#fdca26\"],[1.0,\"#f0f921\"]],\"sequentialminus\":[[0.0,\"#0d0887\"],[0.1111111111111111,\"#46039f\"],[0.2222222222222222,\"#7201a8\"],[0.3333333333333333,\"#9c179e\"],[0.4444444444444444,\"#bd3786\"],[0.5555555555555556,\"#d8576b\"],[0.6666666666666666,\"#ed7953\"],[0.7777777777777778,\"#fb9f3a\"],[0.8888888888888888,\"#fdca26\"],[1.0,\"#f0f921\"]]},\"colorway\":[\"#636efa\",\"#EF553B\",\"#00cc96\",\"#ab63fa\",\"#FFA15A\",\"#19d3f3\",\"#FF6692\",\"#B6E880\",\"#FF97FF\",\"#FECB52\"],\"font\":{\"color\":\"#2a3f5f\"},\"geo\":{\"bgcolor\":\"white\",\"lakecolor\":\"white\",\"landcolor\":\"#E5ECF6\",\"showlakes\":true,\"showland\":true,\"subunitcolor\":\"white\"},\"hoverlabel\":{\"align\":\"left\"},\"hovermode\":\"closest\",\"mapbox\":{\"style\":\"light\"},\"paper_bgcolor\":\"white\",\"plot_bgcolor\":\"#E5ECF6\",\"polar\":{\"angularaxis\":{\"gridcolor\":\"white\",\"linecolor\":\"white\",\"ticks\":\"\"},\"bgcolor\":\"#E5ECF6\",\"radialaxis\":{\"gridcolor\":\"white\",\"linecolor\":\"white\",\"ticks\":\"\"}},\"scene\":{\"xaxis\":{\"backgroundcolor\":\"#E5ECF6\",\"gridcolor\":\"white\",\"gridwidth\":2,\"linecolor\":\"white\",\"showbackground\":true,\"ticks\":\"\",\"zerolinecolor\":\"white\"},\"yaxis\":{\"backgroundcolor\":\"#E5ECF6\",\"gridcolor\":\"white\",\"gridwidth\":2,\"linecolor\":\"white\",\"showbackground\":true,\"ticks\":\"\",\"zerolinecolor\":\"white\"},\"zaxis\":{\"backgroundcolor\":\"#E5ECF6\",\"gridcolor\":\"white\",\"gridwidth\":2,\"linecolor\":\"white\",\"showbackground\":true,\"ticks\":\"\",\"zerolinecolor\":\"white\"}},\"shapedefaults\":{\"line\":{\"color\":\"#2a3f5f\"}},\"ternary\":{\"aaxis\":{\"gridcolor\":\"white\",\"linecolor\":\"white\",\"ticks\":\"\"},\"baxis\":{\"gridcolor\":\"white\",\"linecolor\":\"white\",\"ticks\":\"\"},\"bgcolor\":\"#E5ECF6\",\"caxis\":{\"gridcolor\":\"white\",\"linecolor\":\"white\",\"ticks\":\"\"}},\"title\":{\"x\":0.05},\"xaxis\":{\"automargin\":true,\"gridcolor\":\"white\",\"linecolor\":\"white\",\"ticks\":\"\",\"title\":{\"standoff\":15},\"zerolinecolor\":\"white\",\"zerolinewidth\":2},\"yaxis\":{\"automargin\":true,\"gridcolor\":\"white\",\"linecolor\":\"white\",\"ticks\":\"\",\"title\":{\"standoff\":15},\"zerolinecolor\":\"white\",\"zerolinewidth\":2}}},\"title\":{\"font\":{\"color\":\"#4D5663\"}},\"xaxis\":{\"gridcolor\":\"#E1E5ED\",\"showgrid\":true,\"tickfont\":{\"color\":\"#4D5663\"},\"title\":{\"font\":{\"color\":\"#4D5663\"},\"text\":\"\"},\"zerolinecolor\":\"#E1E5ED\"},\"yaxis\":{\"gridcolor\":\"#E1E5ED\",\"showgrid\":true,\"tickfont\":{\"color\":\"#4D5663\"},\"title\":{\"font\":{\"color\":\"#4D5663\"},\"text\":\"\"},\"zerolinecolor\":\"#E1E5ED\"}},                        {\"showLink\": true, \"linkText\": \"Export to plot.ly\", \"plotlyServerURL\": \"https://plot.ly\", \"responsive\": true}                    ).then(function(){\n",
       "                            \n",
       "var gd = document.getElementById('99560a68-ee87-43df-bd58-58c6ec56a1ba');\n",
       "var x = new MutationObserver(function (mutations, observer) {{\n",
       "        var display = window.getComputedStyle(gd).display;\n",
       "        if (!display || display === 'none') {{\n",
       "            console.log([gd, 'removed!']);\n",
       "            Plotly.purge(gd);\n",
       "            observer.disconnect();\n",
       "        }}\n",
       "}});\n",
       "\n",
       "// Listen for the removal of the full notebook cells\n",
       "var notebookContainer = gd.closest('#notebook-container');\n",
       "if (notebookContainer) {{\n",
       "    x.observe(notebookContainer, {childList: true});\n",
       "}}\n",
       "\n",
       "// Listen for the clearing of the current output cell\n",
       "var outputEl = gd.closest('.output');\n",
       "if (outputEl) {{\n",
       "    x.observe(outputEl, {childList: true});\n",
       "}}\n",
       "\n",
       "                        })                };                });            </script>        </div>"
      ]
     },
     "metadata": {},
     "output_type": "display_data"
    }
   ],
   "source": [
    "df.iplot(kind='scatter',x='A',y='B',mode='markers',size=10)"
   ]
  },
  {
   "cell_type": "markdown",
   "metadata": {},
   "source": [
    "## Bar Plots"
   ]
  },
  {
   "cell_type": "code",
   "execution_count": 11,
   "metadata": {},
   "outputs": [
    {
     "data": {
      "application/vnd.plotly.v1+json": {
       "config": {
        "linkText": "Export to plot.ly",
        "plotlyServerURL": "https://plot.ly",
        "showLink": true
       },
       "data": [
        {
         "marker": {
          "color": "rgba(255, 153, 51, 0.6)",
          "line": {
           "color": "rgba(255, 153, 51, 1.0)",
           "width": 1
          }
         },
         "name": "Values",
         "orientation": "v",
         "text": "",
         "type": "bar",
         "x": [
          "A",
          "B",
          "C"
         ],
         "y": [
          32,
          43,
          50
         ]
        }
       ],
       "layout": {
        "legend": {
         "bgcolor": "#F5F6F9",
         "font": {
          "color": "#4D5663"
         }
        },
        "paper_bgcolor": "#F5F6F9",
        "plot_bgcolor": "#F5F6F9",
        "template": {
         "data": {
          "bar": [
           {
            "error_x": {
             "color": "#2a3f5f"
            },
            "error_y": {
             "color": "#2a3f5f"
            },
            "marker": {
             "line": {
              "color": "#E5ECF6",
              "width": 0.5
             },
             "pattern": {
              "fillmode": "overlay",
              "size": 10,
              "solidity": 0.2
             }
            },
            "type": "bar"
           }
          ],
          "barpolar": [
           {
            "marker": {
             "line": {
              "color": "#E5ECF6",
              "width": 0.5
             },
             "pattern": {
              "fillmode": "overlay",
              "size": 10,
              "solidity": 0.2
             }
            },
            "type": "barpolar"
           }
          ],
          "carpet": [
           {
            "aaxis": {
             "endlinecolor": "#2a3f5f",
             "gridcolor": "white",
             "linecolor": "white",
             "minorgridcolor": "white",
             "startlinecolor": "#2a3f5f"
            },
            "baxis": {
             "endlinecolor": "#2a3f5f",
             "gridcolor": "white",
             "linecolor": "white",
             "minorgridcolor": "white",
             "startlinecolor": "#2a3f5f"
            },
            "type": "carpet"
           }
          ],
          "choropleth": [
           {
            "colorbar": {
             "outlinewidth": 0,
             "ticks": ""
            },
            "type": "choropleth"
           }
          ],
          "contour": [
           {
            "colorbar": {
             "outlinewidth": 0,
             "ticks": ""
            },
            "colorscale": [
             [
              0,
              "#0d0887"
             ],
             [
              0.1111111111111111,
              "#46039f"
             ],
             [
              0.2222222222222222,
              "#7201a8"
             ],
             [
              0.3333333333333333,
              "#9c179e"
             ],
             [
              0.4444444444444444,
              "#bd3786"
             ],
             [
              0.5555555555555556,
              "#d8576b"
             ],
             [
              0.6666666666666666,
              "#ed7953"
             ],
             [
              0.7777777777777778,
              "#fb9f3a"
             ],
             [
              0.8888888888888888,
              "#fdca26"
             ],
             [
              1,
              "#f0f921"
             ]
            ],
            "type": "contour"
           }
          ],
          "contourcarpet": [
           {
            "colorbar": {
             "outlinewidth": 0,
             "ticks": ""
            },
            "type": "contourcarpet"
           }
          ],
          "heatmap": [
           {
            "colorbar": {
             "outlinewidth": 0,
             "ticks": ""
            },
            "colorscale": [
             [
              0,
              "#0d0887"
             ],
             [
              0.1111111111111111,
              "#46039f"
             ],
             [
              0.2222222222222222,
              "#7201a8"
             ],
             [
              0.3333333333333333,
              "#9c179e"
             ],
             [
              0.4444444444444444,
              "#bd3786"
             ],
             [
              0.5555555555555556,
              "#d8576b"
             ],
             [
              0.6666666666666666,
              "#ed7953"
             ],
             [
              0.7777777777777778,
              "#fb9f3a"
             ],
             [
              0.8888888888888888,
              "#fdca26"
             ],
             [
              1,
              "#f0f921"
             ]
            ],
            "type": "heatmap"
           }
          ],
          "heatmapgl": [
           {
            "colorbar": {
             "outlinewidth": 0,
             "ticks": ""
            },
            "colorscale": [
             [
              0,
              "#0d0887"
             ],
             [
              0.1111111111111111,
              "#46039f"
             ],
             [
              0.2222222222222222,
              "#7201a8"
             ],
             [
              0.3333333333333333,
              "#9c179e"
             ],
             [
              0.4444444444444444,
              "#bd3786"
             ],
             [
              0.5555555555555556,
              "#d8576b"
             ],
             [
              0.6666666666666666,
              "#ed7953"
             ],
             [
              0.7777777777777778,
              "#fb9f3a"
             ],
             [
              0.8888888888888888,
              "#fdca26"
             ],
             [
              1,
              "#f0f921"
             ]
            ],
            "type": "heatmapgl"
           }
          ],
          "histogram": [
           {
            "marker": {
             "pattern": {
              "fillmode": "overlay",
              "size": 10,
              "solidity": 0.2
             }
            },
            "type": "histogram"
           }
          ],
          "histogram2d": [
           {
            "colorbar": {
             "outlinewidth": 0,
             "ticks": ""
            },
            "colorscale": [
             [
              0,
              "#0d0887"
             ],
             [
              0.1111111111111111,
              "#46039f"
             ],
             [
              0.2222222222222222,
              "#7201a8"
             ],
             [
              0.3333333333333333,
              "#9c179e"
             ],
             [
              0.4444444444444444,
              "#bd3786"
             ],
             [
              0.5555555555555556,
              "#d8576b"
             ],
             [
              0.6666666666666666,
              "#ed7953"
             ],
             [
              0.7777777777777778,
              "#fb9f3a"
             ],
             [
              0.8888888888888888,
              "#fdca26"
             ],
             [
              1,
              "#f0f921"
             ]
            ],
            "type": "histogram2d"
           }
          ],
          "histogram2dcontour": [
           {
            "colorbar": {
             "outlinewidth": 0,
             "ticks": ""
            },
            "colorscale": [
             [
              0,
              "#0d0887"
             ],
             [
              0.1111111111111111,
              "#46039f"
             ],
             [
              0.2222222222222222,
              "#7201a8"
             ],
             [
              0.3333333333333333,
              "#9c179e"
             ],
             [
              0.4444444444444444,
              "#bd3786"
             ],
             [
              0.5555555555555556,
              "#d8576b"
             ],
             [
              0.6666666666666666,
              "#ed7953"
             ],
             [
              0.7777777777777778,
              "#fb9f3a"
             ],
             [
              0.8888888888888888,
              "#fdca26"
             ],
             [
              1,
              "#f0f921"
             ]
            ],
            "type": "histogram2dcontour"
           }
          ],
          "mesh3d": [
           {
            "colorbar": {
             "outlinewidth": 0,
             "ticks": ""
            },
            "type": "mesh3d"
           }
          ],
          "parcoords": [
           {
            "line": {
             "colorbar": {
              "outlinewidth": 0,
              "ticks": ""
             }
            },
            "type": "parcoords"
           }
          ],
          "pie": [
           {
            "automargin": true,
            "type": "pie"
           }
          ],
          "scatter": [
           {
            "fillpattern": {
             "fillmode": "overlay",
             "size": 10,
             "solidity": 0.2
            },
            "type": "scatter"
           }
          ],
          "scatter3d": [
           {
            "line": {
             "colorbar": {
              "outlinewidth": 0,
              "ticks": ""
             }
            },
            "marker": {
             "colorbar": {
              "outlinewidth": 0,
              "ticks": ""
             }
            },
            "type": "scatter3d"
           }
          ],
          "scattercarpet": [
           {
            "marker": {
             "colorbar": {
              "outlinewidth": 0,
              "ticks": ""
             }
            },
            "type": "scattercarpet"
           }
          ],
          "scattergeo": [
           {
            "marker": {
             "colorbar": {
              "outlinewidth": 0,
              "ticks": ""
             }
            },
            "type": "scattergeo"
           }
          ],
          "scattergl": [
           {
            "marker": {
             "colorbar": {
              "outlinewidth": 0,
              "ticks": ""
             }
            },
            "type": "scattergl"
           }
          ],
          "scattermapbox": [
           {
            "marker": {
             "colorbar": {
              "outlinewidth": 0,
              "ticks": ""
             }
            },
            "type": "scattermapbox"
           }
          ],
          "scatterpolar": [
           {
            "marker": {
             "colorbar": {
              "outlinewidth": 0,
              "ticks": ""
             }
            },
            "type": "scatterpolar"
           }
          ],
          "scatterpolargl": [
           {
            "marker": {
             "colorbar": {
              "outlinewidth": 0,
              "ticks": ""
             }
            },
            "type": "scatterpolargl"
           }
          ],
          "scatterternary": [
           {
            "marker": {
             "colorbar": {
              "outlinewidth": 0,
              "ticks": ""
             }
            },
            "type": "scatterternary"
           }
          ],
          "surface": [
           {
            "colorbar": {
             "outlinewidth": 0,
             "ticks": ""
            },
            "colorscale": [
             [
              0,
              "#0d0887"
             ],
             [
              0.1111111111111111,
              "#46039f"
             ],
             [
              0.2222222222222222,
              "#7201a8"
             ],
             [
              0.3333333333333333,
              "#9c179e"
             ],
             [
              0.4444444444444444,
              "#bd3786"
             ],
             [
              0.5555555555555556,
              "#d8576b"
             ],
             [
              0.6666666666666666,
              "#ed7953"
             ],
             [
              0.7777777777777778,
              "#fb9f3a"
             ],
             [
              0.8888888888888888,
              "#fdca26"
             ],
             [
              1,
              "#f0f921"
             ]
            ],
            "type": "surface"
           }
          ],
          "table": [
           {
            "cells": {
             "fill": {
              "color": "#EBF0F8"
             },
             "line": {
              "color": "white"
             }
            },
            "header": {
             "fill": {
              "color": "#C8D4E3"
             },
             "line": {
              "color": "white"
             }
            },
            "type": "table"
           }
          ]
         },
         "layout": {
          "annotationdefaults": {
           "arrowcolor": "#2a3f5f",
           "arrowhead": 0,
           "arrowwidth": 1
          },
          "autotypenumbers": "strict",
          "coloraxis": {
           "colorbar": {
            "outlinewidth": 0,
            "ticks": ""
           }
          },
          "colorscale": {
           "diverging": [
            [
             0,
             "#8e0152"
            ],
            [
             0.1,
             "#c51b7d"
            ],
            [
             0.2,
             "#de77ae"
            ],
            [
             0.3,
             "#f1b6da"
            ],
            [
             0.4,
             "#fde0ef"
            ],
            [
             0.5,
             "#f7f7f7"
            ],
            [
             0.6,
             "#e6f5d0"
            ],
            [
             0.7,
             "#b8e186"
            ],
            [
             0.8,
             "#7fbc41"
            ],
            [
             0.9,
             "#4d9221"
            ],
            [
             1,
             "#276419"
            ]
           ],
           "sequential": [
            [
             0,
             "#0d0887"
            ],
            [
             0.1111111111111111,
             "#46039f"
            ],
            [
             0.2222222222222222,
             "#7201a8"
            ],
            [
             0.3333333333333333,
             "#9c179e"
            ],
            [
             0.4444444444444444,
             "#bd3786"
            ],
            [
             0.5555555555555556,
             "#d8576b"
            ],
            [
             0.6666666666666666,
             "#ed7953"
            ],
            [
             0.7777777777777778,
             "#fb9f3a"
            ],
            [
             0.8888888888888888,
             "#fdca26"
            ],
            [
             1,
             "#f0f921"
            ]
           ],
           "sequentialminus": [
            [
             0,
             "#0d0887"
            ],
            [
             0.1111111111111111,
             "#46039f"
            ],
            [
             0.2222222222222222,
             "#7201a8"
            ],
            [
             0.3333333333333333,
             "#9c179e"
            ],
            [
             0.4444444444444444,
             "#bd3786"
            ],
            [
             0.5555555555555556,
             "#d8576b"
            ],
            [
             0.6666666666666666,
             "#ed7953"
            ],
            [
             0.7777777777777778,
             "#fb9f3a"
            ],
            [
             0.8888888888888888,
             "#fdca26"
            ],
            [
             1,
             "#f0f921"
            ]
           ]
          },
          "colorway": [
           "#636efa",
           "#EF553B",
           "#00cc96",
           "#ab63fa",
           "#FFA15A",
           "#19d3f3",
           "#FF6692",
           "#B6E880",
           "#FF97FF",
           "#FECB52"
          ],
          "font": {
           "color": "#2a3f5f"
          },
          "geo": {
           "bgcolor": "white",
           "lakecolor": "white",
           "landcolor": "#E5ECF6",
           "showlakes": true,
           "showland": true,
           "subunitcolor": "white"
          },
          "hoverlabel": {
           "align": "left"
          },
          "hovermode": "closest",
          "mapbox": {
           "style": "light"
          },
          "paper_bgcolor": "white",
          "plot_bgcolor": "#E5ECF6",
          "polar": {
           "angularaxis": {
            "gridcolor": "white",
            "linecolor": "white",
            "ticks": ""
           },
           "bgcolor": "#E5ECF6",
           "radialaxis": {
            "gridcolor": "white",
            "linecolor": "white",
            "ticks": ""
           }
          },
          "scene": {
           "xaxis": {
            "backgroundcolor": "#E5ECF6",
            "gridcolor": "white",
            "gridwidth": 2,
            "linecolor": "white",
            "showbackground": true,
            "ticks": "",
            "zerolinecolor": "white"
           },
           "yaxis": {
            "backgroundcolor": "#E5ECF6",
            "gridcolor": "white",
            "gridwidth": 2,
            "linecolor": "white",
            "showbackground": true,
            "ticks": "",
            "zerolinecolor": "white"
           },
           "zaxis": {
            "backgroundcolor": "#E5ECF6",
            "gridcolor": "white",
            "gridwidth": 2,
            "linecolor": "white",
            "showbackground": true,
            "ticks": "",
            "zerolinecolor": "white"
           }
          },
          "shapedefaults": {
           "line": {
            "color": "#2a3f5f"
           }
          },
          "ternary": {
           "aaxis": {
            "gridcolor": "white",
            "linecolor": "white",
            "ticks": ""
           },
           "baxis": {
            "gridcolor": "white",
            "linecolor": "white",
            "ticks": ""
           },
           "bgcolor": "#E5ECF6",
           "caxis": {
            "gridcolor": "white",
            "linecolor": "white",
            "ticks": ""
           }
          },
          "title": {
           "x": 0.05
          },
          "xaxis": {
           "automargin": true,
           "gridcolor": "white",
           "linecolor": "white",
           "ticks": "",
           "title": {
            "standoff": 15
           },
           "zerolinecolor": "white",
           "zerolinewidth": 2
          },
          "yaxis": {
           "automargin": true,
           "gridcolor": "white",
           "linecolor": "white",
           "ticks": "",
           "title": {
            "standoff": 15
           },
           "zerolinecolor": "white",
           "zerolinewidth": 2
          }
         }
        },
        "title": {
         "font": {
          "color": "#4D5663"
         }
        },
        "xaxis": {
         "gridcolor": "#E1E5ED",
         "showgrid": true,
         "tickfont": {
          "color": "#4D5663"
         },
         "title": {
          "font": {
           "color": "#4D5663"
          },
          "text": ""
         },
         "zerolinecolor": "#E1E5ED"
        },
        "yaxis": {
         "gridcolor": "#E1E5ED",
         "showgrid": true,
         "tickfont": {
          "color": "#4D5663"
         },
         "title": {
          "font": {
           "color": "#4D5663"
          },
          "text": ""
         },
         "zerolinecolor": "#E1E5ED"
        }
       }
      },
      "text/html": [
       "<div>                            <div id=\"a1478ca9-8b34-471f-aa1b-1e837ad9b759\" class=\"plotly-graph-div\" style=\"height:525px; width:100%;\"></div>            <script type=\"text/javascript\">                require([\"plotly\"], function(Plotly) {                    window.PLOTLYENV=window.PLOTLYENV || {};\n",
       "                    window.PLOTLYENV.BASE_URL='https://plot.ly';                                    if (document.getElementById(\"a1478ca9-8b34-471f-aa1b-1e837ad9b759\")) {                    Plotly.newPlot(                        \"a1478ca9-8b34-471f-aa1b-1e837ad9b759\",                        [{\"marker\":{\"color\":\"rgba(255, 153, 51, 0.6)\",\"line\":{\"color\":\"rgba(255, 153, 51, 1.0)\",\"width\":1}},\"name\":\"Values\",\"orientation\":\"v\",\"text\":\"\",\"x\":[\"A\",\"B\",\"C\"],\"y\":[32,43,50],\"type\":\"bar\"}],                        {\"legend\":{\"bgcolor\":\"#F5F6F9\",\"font\":{\"color\":\"#4D5663\"}},\"paper_bgcolor\":\"#F5F6F9\",\"plot_bgcolor\":\"#F5F6F9\",\"template\":{\"data\":{\"barpolar\":[{\"marker\":{\"line\":{\"color\":\"#E5ECF6\",\"width\":0.5},\"pattern\":{\"fillmode\":\"overlay\",\"size\":10,\"solidity\":0.2}},\"type\":\"barpolar\"}],\"bar\":[{\"error_x\":{\"color\":\"#2a3f5f\"},\"error_y\":{\"color\":\"#2a3f5f\"},\"marker\":{\"line\":{\"color\":\"#E5ECF6\",\"width\":0.5},\"pattern\":{\"fillmode\":\"overlay\",\"size\":10,\"solidity\":0.2}},\"type\":\"bar\"}],\"carpet\":[{\"aaxis\":{\"endlinecolor\":\"#2a3f5f\",\"gridcolor\":\"white\",\"linecolor\":\"white\",\"minorgridcolor\":\"white\",\"startlinecolor\":\"#2a3f5f\"},\"baxis\":{\"endlinecolor\":\"#2a3f5f\",\"gridcolor\":\"white\",\"linecolor\":\"white\",\"minorgridcolor\":\"white\",\"startlinecolor\":\"#2a3f5f\"},\"type\":\"carpet\"}],\"choropleth\":[{\"colorbar\":{\"outlinewidth\":0,\"ticks\":\"\"},\"type\":\"choropleth\"}],\"contourcarpet\":[{\"colorbar\":{\"outlinewidth\":0,\"ticks\":\"\"},\"type\":\"contourcarpet\"}],\"contour\":[{\"colorbar\":{\"outlinewidth\":0,\"ticks\":\"\"},\"colorscale\":[[0.0,\"#0d0887\"],[0.1111111111111111,\"#46039f\"],[0.2222222222222222,\"#7201a8\"],[0.3333333333333333,\"#9c179e\"],[0.4444444444444444,\"#bd3786\"],[0.5555555555555556,\"#d8576b\"],[0.6666666666666666,\"#ed7953\"],[0.7777777777777778,\"#fb9f3a\"],[0.8888888888888888,\"#fdca26\"],[1.0,\"#f0f921\"]],\"type\":\"contour\"}],\"heatmapgl\":[{\"colorbar\":{\"outlinewidth\":0,\"ticks\":\"\"},\"colorscale\":[[0.0,\"#0d0887\"],[0.1111111111111111,\"#46039f\"],[0.2222222222222222,\"#7201a8\"],[0.3333333333333333,\"#9c179e\"],[0.4444444444444444,\"#bd3786\"],[0.5555555555555556,\"#d8576b\"],[0.6666666666666666,\"#ed7953\"],[0.7777777777777778,\"#fb9f3a\"],[0.8888888888888888,\"#fdca26\"],[1.0,\"#f0f921\"]],\"type\":\"heatmapgl\"}],\"heatmap\":[{\"colorbar\":{\"outlinewidth\":0,\"ticks\":\"\"},\"colorscale\":[[0.0,\"#0d0887\"],[0.1111111111111111,\"#46039f\"],[0.2222222222222222,\"#7201a8\"],[0.3333333333333333,\"#9c179e\"],[0.4444444444444444,\"#bd3786\"],[0.5555555555555556,\"#d8576b\"],[0.6666666666666666,\"#ed7953\"],[0.7777777777777778,\"#fb9f3a\"],[0.8888888888888888,\"#fdca26\"],[1.0,\"#f0f921\"]],\"type\":\"heatmap\"}],\"histogram2dcontour\":[{\"colorbar\":{\"outlinewidth\":0,\"ticks\":\"\"},\"colorscale\":[[0.0,\"#0d0887\"],[0.1111111111111111,\"#46039f\"],[0.2222222222222222,\"#7201a8\"],[0.3333333333333333,\"#9c179e\"],[0.4444444444444444,\"#bd3786\"],[0.5555555555555556,\"#d8576b\"],[0.6666666666666666,\"#ed7953\"],[0.7777777777777778,\"#fb9f3a\"],[0.8888888888888888,\"#fdca26\"],[1.0,\"#f0f921\"]],\"type\":\"histogram2dcontour\"}],\"histogram2d\":[{\"colorbar\":{\"outlinewidth\":0,\"ticks\":\"\"},\"colorscale\":[[0.0,\"#0d0887\"],[0.1111111111111111,\"#46039f\"],[0.2222222222222222,\"#7201a8\"],[0.3333333333333333,\"#9c179e\"],[0.4444444444444444,\"#bd3786\"],[0.5555555555555556,\"#d8576b\"],[0.6666666666666666,\"#ed7953\"],[0.7777777777777778,\"#fb9f3a\"],[0.8888888888888888,\"#fdca26\"],[1.0,\"#f0f921\"]],\"type\":\"histogram2d\"}],\"histogram\":[{\"marker\":{\"pattern\":{\"fillmode\":\"overlay\",\"size\":10,\"solidity\":0.2}},\"type\":\"histogram\"}],\"mesh3d\":[{\"colorbar\":{\"outlinewidth\":0,\"ticks\":\"\"},\"type\":\"mesh3d\"}],\"parcoords\":[{\"line\":{\"colorbar\":{\"outlinewidth\":0,\"ticks\":\"\"}},\"type\":\"parcoords\"}],\"pie\":[{\"automargin\":true,\"type\":\"pie\"}],\"scatter3d\":[{\"line\":{\"colorbar\":{\"outlinewidth\":0,\"ticks\":\"\"}},\"marker\":{\"colorbar\":{\"outlinewidth\":0,\"ticks\":\"\"}},\"type\":\"scatter3d\"}],\"scattercarpet\":[{\"marker\":{\"colorbar\":{\"outlinewidth\":0,\"ticks\":\"\"}},\"type\":\"scattercarpet\"}],\"scattergeo\":[{\"marker\":{\"colorbar\":{\"outlinewidth\":0,\"ticks\":\"\"}},\"type\":\"scattergeo\"}],\"scattergl\":[{\"marker\":{\"colorbar\":{\"outlinewidth\":0,\"ticks\":\"\"}},\"type\":\"scattergl\"}],\"scattermapbox\":[{\"marker\":{\"colorbar\":{\"outlinewidth\":0,\"ticks\":\"\"}},\"type\":\"scattermapbox\"}],\"scatterpolargl\":[{\"marker\":{\"colorbar\":{\"outlinewidth\":0,\"ticks\":\"\"}},\"type\":\"scatterpolargl\"}],\"scatterpolar\":[{\"marker\":{\"colorbar\":{\"outlinewidth\":0,\"ticks\":\"\"}},\"type\":\"scatterpolar\"}],\"scatter\":[{\"fillpattern\":{\"fillmode\":\"overlay\",\"size\":10,\"solidity\":0.2},\"type\":\"scatter\"}],\"scatterternary\":[{\"marker\":{\"colorbar\":{\"outlinewidth\":0,\"ticks\":\"\"}},\"type\":\"scatterternary\"}],\"surface\":[{\"colorbar\":{\"outlinewidth\":0,\"ticks\":\"\"},\"colorscale\":[[0.0,\"#0d0887\"],[0.1111111111111111,\"#46039f\"],[0.2222222222222222,\"#7201a8\"],[0.3333333333333333,\"#9c179e\"],[0.4444444444444444,\"#bd3786\"],[0.5555555555555556,\"#d8576b\"],[0.6666666666666666,\"#ed7953\"],[0.7777777777777778,\"#fb9f3a\"],[0.8888888888888888,\"#fdca26\"],[1.0,\"#f0f921\"]],\"type\":\"surface\"}],\"table\":[{\"cells\":{\"fill\":{\"color\":\"#EBF0F8\"},\"line\":{\"color\":\"white\"}},\"header\":{\"fill\":{\"color\":\"#C8D4E3\"},\"line\":{\"color\":\"white\"}},\"type\":\"table\"}]},\"layout\":{\"annotationdefaults\":{\"arrowcolor\":\"#2a3f5f\",\"arrowhead\":0,\"arrowwidth\":1},\"autotypenumbers\":\"strict\",\"coloraxis\":{\"colorbar\":{\"outlinewidth\":0,\"ticks\":\"\"}},\"colorscale\":{\"diverging\":[[0,\"#8e0152\"],[0.1,\"#c51b7d\"],[0.2,\"#de77ae\"],[0.3,\"#f1b6da\"],[0.4,\"#fde0ef\"],[0.5,\"#f7f7f7\"],[0.6,\"#e6f5d0\"],[0.7,\"#b8e186\"],[0.8,\"#7fbc41\"],[0.9,\"#4d9221\"],[1,\"#276419\"]],\"sequential\":[[0.0,\"#0d0887\"],[0.1111111111111111,\"#46039f\"],[0.2222222222222222,\"#7201a8\"],[0.3333333333333333,\"#9c179e\"],[0.4444444444444444,\"#bd3786\"],[0.5555555555555556,\"#d8576b\"],[0.6666666666666666,\"#ed7953\"],[0.7777777777777778,\"#fb9f3a\"],[0.8888888888888888,\"#fdca26\"],[1.0,\"#f0f921\"]],\"sequentialminus\":[[0.0,\"#0d0887\"],[0.1111111111111111,\"#46039f\"],[0.2222222222222222,\"#7201a8\"],[0.3333333333333333,\"#9c179e\"],[0.4444444444444444,\"#bd3786\"],[0.5555555555555556,\"#d8576b\"],[0.6666666666666666,\"#ed7953\"],[0.7777777777777778,\"#fb9f3a\"],[0.8888888888888888,\"#fdca26\"],[1.0,\"#f0f921\"]]},\"colorway\":[\"#636efa\",\"#EF553B\",\"#00cc96\",\"#ab63fa\",\"#FFA15A\",\"#19d3f3\",\"#FF6692\",\"#B6E880\",\"#FF97FF\",\"#FECB52\"],\"font\":{\"color\":\"#2a3f5f\"},\"geo\":{\"bgcolor\":\"white\",\"lakecolor\":\"white\",\"landcolor\":\"#E5ECF6\",\"showlakes\":true,\"showland\":true,\"subunitcolor\":\"white\"},\"hoverlabel\":{\"align\":\"left\"},\"hovermode\":\"closest\",\"mapbox\":{\"style\":\"light\"},\"paper_bgcolor\":\"white\",\"plot_bgcolor\":\"#E5ECF6\",\"polar\":{\"angularaxis\":{\"gridcolor\":\"white\",\"linecolor\":\"white\",\"ticks\":\"\"},\"bgcolor\":\"#E5ECF6\",\"radialaxis\":{\"gridcolor\":\"white\",\"linecolor\":\"white\",\"ticks\":\"\"}},\"scene\":{\"xaxis\":{\"backgroundcolor\":\"#E5ECF6\",\"gridcolor\":\"white\",\"gridwidth\":2,\"linecolor\":\"white\",\"showbackground\":true,\"ticks\":\"\",\"zerolinecolor\":\"white\"},\"yaxis\":{\"backgroundcolor\":\"#E5ECF6\",\"gridcolor\":\"white\",\"gridwidth\":2,\"linecolor\":\"white\",\"showbackground\":true,\"ticks\":\"\",\"zerolinecolor\":\"white\"},\"zaxis\":{\"backgroundcolor\":\"#E5ECF6\",\"gridcolor\":\"white\",\"gridwidth\":2,\"linecolor\":\"white\",\"showbackground\":true,\"ticks\":\"\",\"zerolinecolor\":\"white\"}},\"shapedefaults\":{\"line\":{\"color\":\"#2a3f5f\"}},\"ternary\":{\"aaxis\":{\"gridcolor\":\"white\",\"linecolor\":\"white\",\"ticks\":\"\"},\"baxis\":{\"gridcolor\":\"white\",\"linecolor\":\"white\",\"ticks\":\"\"},\"bgcolor\":\"#E5ECF6\",\"caxis\":{\"gridcolor\":\"white\",\"linecolor\":\"white\",\"ticks\":\"\"}},\"title\":{\"x\":0.05},\"xaxis\":{\"automargin\":true,\"gridcolor\":\"white\",\"linecolor\":\"white\",\"ticks\":\"\",\"title\":{\"standoff\":15},\"zerolinecolor\":\"white\",\"zerolinewidth\":2},\"yaxis\":{\"automargin\":true,\"gridcolor\":\"white\",\"linecolor\":\"white\",\"ticks\":\"\",\"title\":{\"standoff\":15},\"zerolinecolor\":\"white\",\"zerolinewidth\":2}}},\"title\":{\"font\":{\"color\":\"#4D5663\"}},\"xaxis\":{\"gridcolor\":\"#E1E5ED\",\"showgrid\":true,\"tickfont\":{\"color\":\"#4D5663\"},\"title\":{\"font\":{\"color\":\"#4D5663\"},\"text\":\"\"},\"zerolinecolor\":\"#E1E5ED\"},\"yaxis\":{\"gridcolor\":\"#E1E5ED\",\"showgrid\":true,\"tickfont\":{\"color\":\"#4D5663\"},\"title\":{\"font\":{\"color\":\"#4D5663\"},\"text\":\"\"},\"zerolinecolor\":\"#E1E5ED\"}},                        {\"showLink\": true, \"linkText\": \"Export to plot.ly\", \"plotlyServerURL\": \"https://plot.ly\", \"responsive\": true}                    ).then(function(){\n",
       "                            \n",
       "var gd = document.getElementById('a1478ca9-8b34-471f-aa1b-1e837ad9b759');\n",
       "var x = new MutationObserver(function (mutations, observer) {{\n",
       "        var display = window.getComputedStyle(gd).display;\n",
       "        if (!display || display === 'none') {{\n",
       "            console.log([gd, 'removed!']);\n",
       "            Plotly.purge(gd);\n",
       "            observer.disconnect();\n",
       "        }}\n",
       "}});\n",
       "\n",
       "// Listen for the removal of the full notebook cells\n",
       "var notebookContainer = gd.closest('#notebook-container');\n",
       "if (notebookContainer) {{\n",
       "    x.observe(notebookContainer, {childList: true});\n",
       "}}\n",
       "\n",
       "// Listen for the clearing of the current output cell\n",
       "var outputEl = gd.closest('.output');\n",
       "if (outputEl) {{\n",
       "    x.observe(outputEl, {childList: true});\n",
       "}}\n",
       "\n",
       "                        })                };                });            </script>        </div>"
      ]
     },
     "metadata": {},
     "output_type": "display_data"
    }
   ],
   "source": [
    "df2.iplot(kind='bar',x='Category',y='Values')"
   ]
  },
  {
   "cell_type": "code",
   "execution_count": 12,
   "metadata": {},
   "outputs": [
    {
     "data": {
      "application/vnd.plotly.v1+json": {
       "config": {
        "linkText": "Export to plot.ly",
        "plotlyServerURL": "https://plot.ly",
        "showLink": true
       },
       "data": [
        {
         "marker": {
          "color": "rgba(255, 153, 51, 0.6)",
          "line": {
           "color": "rgba(255, 153, 51, 1.0)",
           "width": 1
          }
         },
         "name": "None",
         "orientation": "v",
         "text": "",
         "type": "bar",
         "x": [
          "A",
          "B",
          "C",
          "D"
         ],
         "y": [
          100,
          100,
          100,
          100
         ]
        }
       ],
       "layout": {
        "legend": {
         "bgcolor": "#F5F6F9",
         "font": {
          "color": "#4D5663"
         }
        },
        "paper_bgcolor": "#F5F6F9",
        "plot_bgcolor": "#F5F6F9",
        "template": {
         "data": {
          "bar": [
           {
            "error_x": {
             "color": "#2a3f5f"
            },
            "error_y": {
             "color": "#2a3f5f"
            },
            "marker": {
             "line": {
              "color": "#E5ECF6",
              "width": 0.5
             },
             "pattern": {
              "fillmode": "overlay",
              "size": 10,
              "solidity": 0.2
             }
            },
            "type": "bar"
           }
          ],
          "barpolar": [
           {
            "marker": {
             "line": {
              "color": "#E5ECF6",
              "width": 0.5
             },
             "pattern": {
              "fillmode": "overlay",
              "size": 10,
              "solidity": 0.2
             }
            },
            "type": "barpolar"
           }
          ],
          "carpet": [
           {
            "aaxis": {
             "endlinecolor": "#2a3f5f",
             "gridcolor": "white",
             "linecolor": "white",
             "minorgridcolor": "white",
             "startlinecolor": "#2a3f5f"
            },
            "baxis": {
             "endlinecolor": "#2a3f5f",
             "gridcolor": "white",
             "linecolor": "white",
             "minorgridcolor": "white",
             "startlinecolor": "#2a3f5f"
            },
            "type": "carpet"
           }
          ],
          "choropleth": [
           {
            "colorbar": {
             "outlinewidth": 0,
             "ticks": ""
            },
            "type": "choropleth"
           }
          ],
          "contour": [
           {
            "colorbar": {
             "outlinewidth": 0,
             "ticks": ""
            },
            "colorscale": [
             [
              0,
              "#0d0887"
             ],
             [
              0.1111111111111111,
              "#46039f"
             ],
             [
              0.2222222222222222,
              "#7201a8"
             ],
             [
              0.3333333333333333,
              "#9c179e"
             ],
             [
              0.4444444444444444,
              "#bd3786"
             ],
             [
              0.5555555555555556,
              "#d8576b"
             ],
             [
              0.6666666666666666,
              "#ed7953"
             ],
             [
              0.7777777777777778,
              "#fb9f3a"
             ],
             [
              0.8888888888888888,
              "#fdca26"
             ],
             [
              1,
              "#f0f921"
             ]
            ],
            "type": "contour"
           }
          ],
          "contourcarpet": [
           {
            "colorbar": {
             "outlinewidth": 0,
             "ticks": ""
            },
            "type": "contourcarpet"
           }
          ],
          "heatmap": [
           {
            "colorbar": {
             "outlinewidth": 0,
             "ticks": ""
            },
            "colorscale": [
             [
              0,
              "#0d0887"
             ],
             [
              0.1111111111111111,
              "#46039f"
             ],
             [
              0.2222222222222222,
              "#7201a8"
             ],
             [
              0.3333333333333333,
              "#9c179e"
             ],
             [
              0.4444444444444444,
              "#bd3786"
             ],
             [
              0.5555555555555556,
              "#d8576b"
             ],
             [
              0.6666666666666666,
              "#ed7953"
             ],
             [
              0.7777777777777778,
              "#fb9f3a"
             ],
             [
              0.8888888888888888,
              "#fdca26"
             ],
             [
              1,
              "#f0f921"
             ]
            ],
            "type": "heatmap"
           }
          ],
          "heatmapgl": [
           {
            "colorbar": {
             "outlinewidth": 0,
             "ticks": ""
            },
            "colorscale": [
             [
              0,
              "#0d0887"
             ],
             [
              0.1111111111111111,
              "#46039f"
             ],
             [
              0.2222222222222222,
              "#7201a8"
             ],
             [
              0.3333333333333333,
              "#9c179e"
             ],
             [
              0.4444444444444444,
              "#bd3786"
             ],
             [
              0.5555555555555556,
              "#d8576b"
             ],
             [
              0.6666666666666666,
              "#ed7953"
             ],
             [
              0.7777777777777778,
              "#fb9f3a"
             ],
             [
              0.8888888888888888,
              "#fdca26"
             ],
             [
              1,
              "#f0f921"
             ]
            ],
            "type": "heatmapgl"
           }
          ],
          "histogram": [
           {
            "marker": {
             "pattern": {
              "fillmode": "overlay",
              "size": 10,
              "solidity": 0.2
             }
            },
            "type": "histogram"
           }
          ],
          "histogram2d": [
           {
            "colorbar": {
             "outlinewidth": 0,
             "ticks": ""
            },
            "colorscale": [
             [
              0,
              "#0d0887"
             ],
             [
              0.1111111111111111,
              "#46039f"
             ],
             [
              0.2222222222222222,
              "#7201a8"
             ],
             [
              0.3333333333333333,
              "#9c179e"
             ],
             [
              0.4444444444444444,
              "#bd3786"
             ],
             [
              0.5555555555555556,
              "#d8576b"
             ],
             [
              0.6666666666666666,
              "#ed7953"
             ],
             [
              0.7777777777777778,
              "#fb9f3a"
             ],
             [
              0.8888888888888888,
              "#fdca26"
             ],
             [
              1,
              "#f0f921"
             ]
            ],
            "type": "histogram2d"
           }
          ],
          "histogram2dcontour": [
           {
            "colorbar": {
             "outlinewidth": 0,
             "ticks": ""
            },
            "colorscale": [
             [
              0,
              "#0d0887"
             ],
             [
              0.1111111111111111,
              "#46039f"
             ],
             [
              0.2222222222222222,
              "#7201a8"
             ],
             [
              0.3333333333333333,
              "#9c179e"
             ],
             [
              0.4444444444444444,
              "#bd3786"
             ],
             [
              0.5555555555555556,
              "#d8576b"
             ],
             [
              0.6666666666666666,
              "#ed7953"
             ],
             [
              0.7777777777777778,
              "#fb9f3a"
             ],
             [
              0.8888888888888888,
              "#fdca26"
             ],
             [
              1,
              "#f0f921"
             ]
            ],
            "type": "histogram2dcontour"
           }
          ],
          "mesh3d": [
           {
            "colorbar": {
             "outlinewidth": 0,
             "ticks": ""
            },
            "type": "mesh3d"
           }
          ],
          "parcoords": [
           {
            "line": {
             "colorbar": {
              "outlinewidth": 0,
              "ticks": ""
             }
            },
            "type": "parcoords"
           }
          ],
          "pie": [
           {
            "automargin": true,
            "type": "pie"
           }
          ],
          "scatter": [
           {
            "fillpattern": {
             "fillmode": "overlay",
             "size": 10,
             "solidity": 0.2
            },
            "type": "scatter"
           }
          ],
          "scatter3d": [
           {
            "line": {
             "colorbar": {
              "outlinewidth": 0,
              "ticks": ""
             }
            },
            "marker": {
             "colorbar": {
              "outlinewidth": 0,
              "ticks": ""
             }
            },
            "type": "scatter3d"
           }
          ],
          "scattercarpet": [
           {
            "marker": {
             "colorbar": {
              "outlinewidth": 0,
              "ticks": ""
             }
            },
            "type": "scattercarpet"
           }
          ],
          "scattergeo": [
           {
            "marker": {
             "colorbar": {
              "outlinewidth": 0,
              "ticks": ""
             }
            },
            "type": "scattergeo"
           }
          ],
          "scattergl": [
           {
            "marker": {
             "colorbar": {
              "outlinewidth": 0,
              "ticks": ""
             }
            },
            "type": "scattergl"
           }
          ],
          "scattermapbox": [
           {
            "marker": {
             "colorbar": {
              "outlinewidth": 0,
              "ticks": ""
             }
            },
            "type": "scattermapbox"
           }
          ],
          "scatterpolar": [
           {
            "marker": {
             "colorbar": {
              "outlinewidth": 0,
              "ticks": ""
             }
            },
            "type": "scatterpolar"
           }
          ],
          "scatterpolargl": [
           {
            "marker": {
             "colorbar": {
              "outlinewidth": 0,
              "ticks": ""
             }
            },
            "type": "scatterpolargl"
           }
          ],
          "scatterternary": [
           {
            "marker": {
             "colorbar": {
              "outlinewidth": 0,
              "ticks": ""
             }
            },
            "type": "scatterternary"
           }
          ],
          "surface": [
           {
            "colorbar": {
             "outlinewidth": 0,
             "ticks": ""
            },
            "colorscale": [
             [
              0,
              "#0d0887"
             ],
             [
              0.1111111111111111,
              "#46039f"
             ],
             [
              0.2222222222222222,
              "#7201a8"
             ],
             [
              0.3333333333333333,
              "#9c179e"
             ],
             [
              0.4444444444444444,
              "#bd3786"
             ],
             [
              0.5555555555555556,
              "#d8576b"
             ],
             [
              0.6666666666666666,
              "#ed7953"
             ],
             [
              0.7777777777777778,
              "#fb9f3a"
             ],
             [
              0.8888888888888888,
              "#fdca26"
             ],
             [
              1,
              "#f0f921"
             ]
            ],
            "type": "surface"
           }
          ],
          "table": [
           {
            "cells": {
             "fill": {
              "color": "#EBF0F8"
             },
             "line": {
              "color": "white"
             }
            },
            "header": {
             "fill": {
              "color": "#C8D4E3"
             },
             "line": {
              "color": "white"
             }
            },
            "type": "table"
           }
          ]
         },
         "layout": {
          "annotationdefaults": {
           "arrowcolor": "#2a3f5f",
           "arrowhead": 0,
           "arrowwidth": 1
          },
          "autotypenumbers": "strict",
          "coloraxis": {
           "colorbar": {
            "outlinewidth": 0,
            "ticks": ""
           }
          },
          "colorscale": {
           "diverging": [
            [
             0,
             "#8e0152"
            ],
            [
             0.1,
             "#c51b7d"
            ],
            [
             0.2,
             "#de77ae"
            ],
            [
             0.3,
             "#f1b6da"
            ],
            [
             0.4,
             "#fde0ef"
            ],
            [
             0.5,
             "#f7f7f7"
            ],
            [
             0.6,
             "#e6f5d0"
            ],
            [
             0.7,
             "#b8e186"
            ],
            [
             0.8,
             "#7fbc41"
            ],
            [
             0.9,
             "#4d9221"
            ],
            [
             1,
             "#276419"
            ]
           ],
           "sequential": [
            [
             0,
             "#0d0887"
            ],
            [
             0.1111111111111111,
             "#46039f"
            ],
            [
             0.2222222222222222,
             "#7201a8"
            ],
            [
             0.3333333333333333,
             "#9c179e"
            ],
            [
             0.4444444444444444,
             "#bd3786"
            ],
            [
             0.5555555555555556,
             "#d8576b"
            ],
            [
             0.6666666666666666,
             "#ed7953"
            ],
            [
             0.7777777777777778,
             "#fb9f3a"
            ],
            [
             0.8888888888888888,
             "#fdca26"
            ],
            [
             1,
             "#f0f921"
            ]
           ],
           "sequentialminus": [
            [
             0,
             "#0d0887"
            ],
            [
             0.1111111111111111,
             "#46039f"
            ],
            [
             0.2222222222222222,
             "#7201a8"
            ],
            [
             0.3333333333333333,
             "#9c179e"
            ],
            [
             0.4444444444444444,
             "#bd3786"
            ],
            [
             0.5555555555555556,
             "#d8576b"
            ],
            [
             0.6666666666666666,
             "#ed7953"
            ],
            [
             0.7777777777777778,
             "#fb9f3a"
            ],
            [
             0.8888888888888888,
             "#fdca26"
            ],
            [
             1,
             "#f0f921"
            ]
           ]
          },
          "colorway": [
           "#636efa",
           "#EF553B",
           "#00cc96",
           "#ab63fa",
           "#FFA15A",
           "#19d3f3",
           "#FF6692",
           "#B6E880",
           "#FF97FF",
           "#FECB52"
          ],
          "font": {
           "color": "#2a3f5f"
          },
          "geo": {
           "bgcolor": "white",
           "lakecolor": "white",
           "landcolor": "#E5ECF6",
           "showlakes": true,
           "showland": true,
           "subunitcolor": "white"
          },
          "hoverlabel": {
           "align": "left"
          },
          "hovermode": "closest",
          "mapbox": {
           "style": "light"
          },
          "paper_bgcolor": "white",
          "plot_bgcolor": "#E5ECF6",
          "polar": {
           "angularaxis": {
            "gridcolor": "white",
            "linecolor": "white",
            "ticks": ""
           },
           "bgcolor": "#E5ECF6",
           "radialaxis": {
            "gridcolor": "white",
            "linecolor": "white",
            "ticks": ""
           }
          },
          "scene": {
           "xaxis": {
            "backgroundcolor": "#E5ECF6",
            "gridcolor": "white",
            "gridwidth": 2,
            "linecolor": "white",
            "showbackground": true,
            "ticks": "",
            "zerolinecolor": "white"
           },
           "yaxis": {
            "backgroundcolor": "#E5ECF6",
            "gridcolor": "white",
            "gridwidth": 2,
            "linecolor": "white",
            "showbackground": true,
            "ticks": "",
            "zerolinecolor": "white"
           },
           "zaxis": {
            "backgroundcolor": "#E5ECF6",
            "gridcolor": "white",
            "gridwidth": 2,
            "linecolor": "white",
            "showbackground": true,
            "ticks": "",
            "zerolinecolor": "white"
           }
          },
          "shapedefaults": {
           "line": {
            "color": "#2a3f5f"
           }
          },
          "ternary": {
           "aaxis": {
            "gridcolor": "white",
            "linecolor": "white",
            "ticks": ""
           },
           "baxis": {
            "gridcolor": "white",
            "linecolor": "white",
            "ticks": ""
           },
           "bgcolor": "#E5ECF6",
           "caxis": {
            "gridcolor": "white",
            "linecolor": "white",
            "ticks": ""
           }
          },
          "title": {
           "x": 0.05
          },
          "xaxis": {
           "automargin": true,
           "gridcolor": "white",
           "linecolor": "white",
           "ticks": "",
           "title": {
            "standoff": 15
           },
           "zerolinecolor": "white",
           "zerolinewidth": 2
          },
          "yaxis": {
           "automargin": true,
           "gridcolor": "white",
           "linecolor": "white",
           "ticks": "",
           "title": {
            "standoff": 15
           },
           "zerolinecolor": "white",
           "zerolinewidth": 2
          }
         }
        },
        "title": {
         "font": {
          "color": "#4D5663"
         }
        },
        "xaxis": {
         "gridcolor": "#E1E5ED",
         "showgrid": true,
         "tickfont": {
          "color": "#4D5663"
         },
         "title": {
          "font": {
           "color": "#4D5663"
          },
          "text": ""
         },
         "zerolinecolor": "#E1E5ED"
        },
        "yaxis": {
         "gridcolor": "#E1E5ED",
         "showgrid": true,
         "tickfont": {
          "color": "#4D5663"
         },
         "title": {
          "font": {
           "color": "#4D5663"
          },
          "text": ""
         },
         "zerolinecolor": "#E1E5ED"
        }
       }
      },
      "text/html": [
       "<div>                            <div id=\"745a7eee-5dcc-426a-859b-76ad20831f00\" class=\"plotly-graph-div\" style=\"height:525px; width:100%;\"></div>            <script type=\"text/javascript\">                require([\"plotly\"], function(Plotly) {                    window.PLOTLYENV=window.PLOTLYENV || {};\n",
       "                    window.PLOTLYENV.BASE_URL='https://plot.ly';                                    if (document.getElementById(\"745a7eee-5dcc-426a-859b-76ad20831f00\")) {                    Plotly.newPlot(                        \"745a7eee-5dcc-426a-859b-76ad20831f00\",                        [{\"marker\":{\"color\":\"rgba(255, 153, 51, 0.6)\",\"line\":{\"color\":\"rgba(255, 153, 51, 1.0)\",\"width\":1}},\"name\":\"None\",\"orientation\":\"v\",\"text\":\"\",\"x\":[\"A\",\"B\",\"C\",\"D\"],\"y\":[100,100,100,100],\"type\":\"bar\"}],                        {\"legend\":{\"bgcolor\":\"#F5F6F9\",\"font\":{\"color\":\"#4D5663\"}},\"paper_bgcolor\":\"#F5F6F9\",\"plot_bgcolor\":\"#F5F6F9\",\"template\":{\"data\":{\"barpolar\":[{\"marker\":{\"line\":{\"color\":\"#E5ECF6\",\"width\":0.5},\"pattern\":{\"fillmode\":\"overlay\",\"size\":10,\"solidity\":0.2}},\"type\":\"barpolar\"}],\"bar\":[{\"error_x\":{\"color\":\"#2a3f5f\"},\"error_y\":{\"color\":\"#2a3f5f\"},\"marker\":{\"line\":{\"color\":\"#E5ECF6\",\"width\":0.5},\"pattern\":{\"fillmode\":\"overlay\",\"size\":10,\"solidity\":0.2}},\"type\":\"bar\"}],\"carpet\":[{\"aaxis\":{\"endlinecolor\":\"#2a3f5f\",\"gridcolor\":\"white\",\"linecolor\":\"white\",\"minorgridcolor\":\"white\",\"startlinecolor\":\"#2a3f5f\"},\"baxis\":{\"endlinecolor\":\"#2a3f5f\",\"gridcolor\":\"white\",\"linecolor\":\"white\",\"minorgridcolor\":\"white\",\"startlinecolor\":\"#2a3f5f\"},\"type\":\"carpet\"}],\"choropleth\":[{\"colorbar\":{\"outlinewidth\":0,\"ticks\":\"\"},\"type\":\"choropleth\"}],\"contourcarpet\":[{\"colorbar\":{\"outlinewidth\":0,\"ticks\":\"\"},\"type\":\"contourcarpet\"}],\"contour\":[{\"colorbar\":{\"outlinewidth\":0,\"ticks\":\"\"},\"colorscale\":[[0.0,\"#0d0887\"],[0.1111111111111111,\"#46039f\"],[0.2222222222222222,\"#7201a8\"],[0.3333333333333333,\"#9c179e\"],[0.4444444444444444,\"#bd3786\"],[0.5555555555555556,\"#d8576b\"],[0.6666666666666666,\"#ed7953\"],[0.7777777777777778,\"#fb9f3a\"],[0.8888888888888888,\"#fdca26\"],[1.0,\"#f0f921\"]],\"type\":\"contour\"}],\"heatmapgl\":[{\"colorbar\":{\"outlinewidth\":0,\"ticks\":\"\"},\"colorscale\":[[0.0,\"#0d0887\"],[0.1111111111111111,\"#46039f\"],[0.2222222222222222,\"#7201a8\"],[0.3333333333333333,\"#9c179e\"],[0.4444444444444444,\"#bd3786\"],[0.5555555555555556,\"#d8576b\"],[0.6666666666666666,\"#ed7953\"],[0.7777777777777778,\"#fb9f3a\"],[0.8888888888888888,\"#fdca26\"],[1.0,\"#f0f921\"]],\"type\":\"heatmapgl\"}],\"heatmap\":[{\"colorbar\":{\"outlinewidth\":0,\"ticks\":\"\"},\"colorscale\":[[0.0,\"#0d0887\"],[0.1111111111111111,\"#46039f\"],[0.2222222222222222,\"#7201a8\"],[0.3333333333333333,\"#9c179e\"],[0.4444444444444444,\"#bd3786\"],[0.5555555555555556,\"#d8576b\"],[0.6666666666666666,\"#ed7953\"],[0.7777777777777778,\"#fb9f3a\"],[0.8888888888888888,\"#fdca26\"],[1.0,\"#f0f921\"]],\"type\":\"heatmap\"}],\"histogram2dcontour\":[{\"colorbar\":{\"outlinewidth\":0,\"ticks\":\"\"},\"colorscale\":[[0.0,\"#0d0887\"],[0.1111111111111111,\"#46039f\"],[0.2222222222222222,\"#7201a8\"],[0.3333333333333333,\"#9c179e\"],[0.4444444444444444,\"#bd3786\"],[0.5555555555555556,\"#d8576b\"],[0.6666666666666666,\"#ed7953\"],[0.7777777777777778,\"#fb9f3a\"],[0.8888888888888888,\"#fdca26\"],[1.0,\"#f0f921\"]],\"type\":\"histogram2dcontour\"}],\"histogram2d\":[{\"colorbar\":{\"outlinewidth\":0,\"ticks\":\"\"},\"colorscale\":[[0.0,\"#0d0887\"],[0.1111111111111111,\"#46039f\"],[0.2222222222222222,\"#7201a8\"],[0.3333333333333333,\"#9c179e\"],[0.4444444444444444,\"#bd3786\"],[0.5555555555555556,\"#d8576b\"],[0.6666666666666666,\"#ed7953\"],[0.7777777777777778,\"#fb9f3a\"],[0.8888888888888888,\"#fdca26\"],[1.0,\"#f0f921\"]],\"type\":\"histogram2d\"}],\"histogram\":[{\"marker\":{\"pattern\":{\"fillmode\":\"overlay\",\"size\":10,\"solidity\":0.2}},\"type\":\"histogram\"}],\"mesh3d\":[{\"colorbar\":{\"outlinewidth\":0,\"ticks\":\"\"},\"type\":\"mesh3d\"}],\"parcoords\":[{\"line\":{\"colorbar\":{\"outlinewidth\":0,\"ticks\":\"\"}},\"type\":\"parcoords\"}],\"pie\":[{\"automargin\":true,\"type\":\"pie\"}],\"scatter3d\":[{\"line\":{\"colorbar\":{\"outlinewidth\":0,\"ticks\":\"\"}},\"marker\":{\"colorbar\":{\"outlinewidth\":0,\"ticks\":\"\"}},\"type\":\"scatter3d\"}],\"scattercarpet\":[{\"marker\":{\"colorbar\":{\"outlinewidth\":0,\"ticks\":\"\"}},\"type\":\"scattercarpet\"}],\"scattergeo\":[{\"marker\":{\"colorbar\":{\"outlinewidth\":0,\"ticks\":\"\"}},\"type\":\"scattergeo\"}],\"scattergl\":[{\"marker\":{\"colorbar\":{\"outlinewidth\":0,\"ticks\":\"\"}},\"type\":\"scattergl\"}],\"scattermapbox\":[{\"marker\":{\"colorbar\":{\"outlinewidth\":0,\"ticks\":\"\"}},\"type\":\"scattermapbox\"}],\"scatterpolargl\":[{\"marker\":{\"colorbar\":{\"outlinewidth\":0,\"ticks\":\"\"}},\"type\":\"scatterpolargl\"}],\"scatterpolar\":[{\"marker\":{\"colorbar\":{\"outlinewidth\":0,\"ticks\":\"\"}},\"type\":\"scatterpolar\"}],\"scatter\":[{\"fillpattern\":{\"fillmode\":\"overlay\",\"size\":10,\"solidity\":0.2},\"type\":\"scatter\"}],\"scatterternary\":[{\"marker\":{\"colorbar\":{\"outlinewidth\":0,\"ticks\":\"\"}},\"type\":\"scatterternary\"}],\"surface\":[{\"colorbar\":{\"outlinewidth\":0,\"ticks\":\"\"},\"colorscale\":[[0.0,\"#0d0887\"],[0.1111111111111111,\"#46039f\"],[0.2222222222222222,\"#7201a8\"],[0.3333333333333333,\"#9c179e\"],[0.4444444444444444,\"#bd3786\"],[0.5555555555555556,\"#d8576b\"],[0.6666666666666666,\"#ed7953\"],[0.7777777777777778,\"#fb9f3a\"],[0.8888888888888888,\"#fdca26\"],[1.0,\"#f0f921\"]],\"type\":\"surface\"}],\"table\":[{\"cells\":{\"fill\":{\"color\":\"#EBF0F8\"},\"line\":{\"color\":\"white\"}},\"header\":{\"fill\":{\"color\":\"#C8D4E3\"},\"line\":{\"color\":\"white\"}},\"type\":\"table\"}]},\"layout\":{\"annotationdefaults\":{\"arrowcolor\":\"#2a3f5f\",\"arrowhead\":0,\"arrowwidth\":1},\"autotypenumbers\":\"strict\",\"coloraxis\":{\"colorbar\":{\"outlinewidth\":0,\"ticks\":\"\"}},\"colorscale\":{\"diverging\":[[0,\"#8e0152\"],[0.1,\"#c51b7d\"],[0.2,\"#de77ae\"],[0.3,\"#f1b6da\"],[0.4,\"#fde0ef\"],[0.5,\"#f7f7f7\"],[0.6,\"#e6f5d0\"],[0.7,\"#b8e186\"],[0.8,\"#7fbc41\"],[0.9,\"#4d9221\"],[1,\"#276419\"]],\"sequential\":[[0.0,\"#0d0887\"],[0.1111111111111111,\"#46039f\"],[0.2222222222222222,\"#7201a8\"],[0.3333333333333333,\"#9c179e\"],[0.4444444444444444,\"#bd3786\"],[0.5555555555555556,\"#d8576b\"],[0.6666666666666666,\"#ed7953\"],[0.7777777777777778,\"#fb9f3a\"],[0.8888888888888888,\"#fdca26\"],[1.0,\"#f0f921\"]],\"sequentialminus\":[[0.0,\"#0d0887\"],[0.1111111111111111,\"#46039f\"],[0.2222222222222222,\"#7201a8\"],[0.3333333333333333,\"#9c179e\"],[0.4444444444444444,\"#bd3786\"],[0.5555555555555556,\"#d8576b\"],[0.6666666666666666,\"#ed7953\"],[0.7777777777777778,\"#fb9f3a\"],[0.8888888888888888,\"#fdca26\"],[1.0,\"#f0f921\"]]},\"colorway\":[\"#636efa\",\"#EF553B\",\"#00cc96\",\"#ab63fa\",\"#FFA15A\",\"#19d3f3\",\"#FF6692\",\"#B6E880\",\"#FF97FF\",\"#FECB52\"],\"font\":{\"color\":\"#2a3f5f\"},\"geo\":{\"bgcolor\":\"white\",\"lakecolor\":\"white\",\"landcolor\":\"#E5ECF6\",\"showlakes\":true,\"showland\":true,\"subunitcolor\":\"white\"},\"hoverlabel\":{\"align\":\"left\"},\"hovermode\":\"closest\",\"mapbox\":{\"style\":\"light\"},\"paper_bgcolor\":\"white\",\"plot_bgcolor\":\"#E5ECF6\",\"polar\":{\"angularaxis\":{\"gridcolor\":\"white\",\"linecolor\":\"white\",\"ticks\":\"\"},\"bgcolor\":\"#E5ECF6\",\"radialaxis\":{\"gridcolor\":\"white\",\"linecolor\":\"white\",\"ticks\":\"\"}},\"scene\":{\"xaxis\":{\"backgroundcolor\":\"#E5ECF6\",\"gridcolor\":\"white\",\"gridwidth\":2,\"linecolor\":\"white\",\"showbackground\":true,\"ticks\":\"\",\"zerolinecolor\":\"white\"},\"yaxis\":{\"backgroundcolor\":\"#E5ECF6\",\"gridcolor\":\"white\",\"gridwidth\":2,\"linecolor\":\"white\",\"showbackground\":true,\"ticks\":\"\",\"zerolinecolor\":\"white\"},\"zaxis\":{\"backgroundcolor\":\"#E5ECF6\",\"gridcolor\":\"white\",\"gridwidth\":2,\"linecolor\":\"white\",\"showbackground\":true,\"ticks\":\"\",\"zerolinecolor\":\"white\"}},\"shapedefaults\":{\"line\":{\"color\":\"#2a3f5f\"}},\"ternary\":{\"aaxis\":{\"gridcolor\":\"white\",\"linecolor\":\"white\",\"ticks\":\"\"},\"baxis\":{\"gridcolor\":\"white\",\"linecolor\":\"white\",\"ticks\":\"\"},\"bgcolor\":\"#E5ECF6\",\"caxis\":{\"gridcolor\":\"white\",\"linecolor\":\"white\",\"ticks\":\"\"}},\"title\":{\"x\":0.05},\"xaxis\":{\"automargin\":true,\"gridcolor\":\"white\",\"linecolor\":\"white\",\"ticks\":\"\",\"title\":{\"standoff\":15},\"zerolinecolor\":\"white\",\"zerolinewidth\":2},\"yaxis\":{\"automargin\":true,\"gridcolor\":\"white\",\"linecolor\":\"white\",\"ticks\":\"\",\"title\":{\"standoff\":15},\"zerolinecolor\":\"white\",\"zerolinewidth\":2}}},\"title\":{\"font\":{\"color\":\"#4D5663\"}},\"xaxis\":{\"gridcolor\":\"#E1E5ED\",\"showgrid\":true,\"tickfont\":{\"color\":\"#4D5663\"},\"title\":{\"font\":{\"color\":\"#4D5663\"},\"text\":\"\"},\"zerolinecolor\":\"#E1E5ED\"},\"yaxis\":{\"gridcolor\":\"#E1E5ED\",\"showgrid\":true,\"tickfont\":{\"color\":\"#4D5663\"},\"title\":{\"font\":{\"color\":\"#4D5663\"},\"text\":\"\"},\"zerolinecolor\":\"#E1E5ED\"}},                        {\"showLink\": true, \"linkText\": \"Export to plot.ly\", \"plotlyServerURL\": \"https://plot.ly\", \"responsive\": true}                    ).then(function(){\n",
       "                            \n",
       "var gd = document.getElementById('745a7eee-5dcc-426a-859b-76ad20831f00');\n",
       "var x = new MutationObserver(function (mutations, observer) {{\n",
       "        var display = window.getComputedStyle(gd).display;\n",
       "        if (!display || display === 'none') {{\n",
       "            console.log([gd, 'removed!']);\n",
       "            Plotly.purge(gd);\n",
       "            observer.disconnect();\n",
       "        }}\n",
       "}});\n",
       "\n",
       "// Listen for the removal of the full notebook cells\n",
       "var notebookContainer = gd.closest('#notebook-container');\n",
       "if (notebookContainer) {{\n",
       "    x.observe(notebookContainer, {childList: true});\n",
       "}}\n",
       "\n",
       "// Listen for the clearing of the current output cell\n",
       "var outputEl = gd.closest('.output');\n",
       "if (outputEl) {{\n",
       "    x.observe(outputEl, {childList: true});\n",
       "}}\n",
       "\n",
       "                        })                };                });            </script>        </div>"
      ]
     },
     "metadata": {},
     "output_type": "display_data"
    }
   ],
   "source": [
    "df.count().iplot(kind='bar')"
   ]
  },
  {
   "cell_type": "markdown",
   "metadata": {},
   "source": [
    "## Boxplots"
   ]
  },
  {
   "cell_type": "code",
   "execution_count": 13,
   "metadata": {},
   "outputs": [
    {
     "data": {
      "application/vnd.plotly.v1+json": {
       "config": {
        "linkText": "Export to plot.ly",
        "plotlyServerURL": "https://plot.ly",
        "showLink": true
       },
       "data": [
        {
         "boxpoints": false,
         "line": {
          "width": 1.3
         },
         "marker": {
          "color": "rgba(255, 153, 51, 1.0)"
         },
         "name": "A",
         "orientation": "v",
         "type": "box",
         "y": [
          0.13160484099032704,
          -0.7950894148460821,
          -0.13178744981839602,
          0.04643253694874059,
          1.4008811580488094,
          1.0636094200617128,
          -0.6302576662973428,
          -1.0151765951983778,
          -1.6289811525645115,
          1.6268210437035,
          0.6256421851048581,
          0.6214972799378291,
          1.2228321462568825,
          1.4103128126593787,
          -1.3973949776753045,
          -0.18281033081801018,
          2.605677785134823,
          0.3988269851056346,
          -0.4529882860464019,
          1.0784128278939078,
          0.7901159872294277,
          -0.4910610738334806,
          -0.9409118009988205,
          0.434468041211235,
          0.3742896418368096,
          -1.1561864863866274,
          -1.2842867457363056,
          -0.5261606343749329,
          0.6429325143749458,
          -1.3552544051664746,
          1.6270610794688527,
          -2.1435595460990853,
          -0.23455305399294482,
          -1.5986242370245385,
          1.1759934266713825,
          -0.01270097113625606,
          -0.4668452761149272,
          -0.7412607679432618,
          0.3462472288658386,
          0.10935402326252003,
          -0.3649831789786431,
          -0.21849969872497854,
          0.32657994207227464,
          2.2351327991254717,
          0.18144734817366057,
          -0.6912176240497995,
          0.7261509416783926,
          -1.8859562311461544,
          0.6217916103657698,
          -1.814362876226159,
          0.4189234239519778,
          1.7208451979119816,
          0.46099175660802466,
          0.07536895923905688,
          1.6026332086845676,
          -0.4813040033991323,
          -1.1715479856146989,
          -0.961844887784821,
          -0.3697250311946081,
          0.9903676937190032,
          0.5987589037491994,
          0.22441901104260428,
          -0.7290832505061414,
          1.182504038571702,
          0.49849042094992546,
          1.934068179888321,
          -1.0356143693303237,
          0.5099229331601602,
          -0.14881706016740145,
          1.2932578315420147,
          -0.8803779558532795,
          0.9912732908960632,
          -0.07363103484386704,
          -1.2099173247127637,
          0.49734583814546224,
          0.35313499965974543,
          -0.27695109523629635,
          0.3977250325577475,
          0.4267867826118734,
          -1.2592491178910903,
          1.561409048832289,
          -0.6487493849583286,
          2.1000263133192827,
          -1.6738293406736495,
          -1.2478081529020673,
          -0.5461776592746976,
          -0.8069503449533223,
          -1.216016854020958,
          -0.6994925219189366,
          0.3168200730116124,
          -1.618796776256919,
          0.43488998610191393,
          -0.09960482964117366,
          0.8141745749221933,
          -0.6550109510461594,
          -1.0731797207644709,
          0.025062692688615756,
          -0.1987930919360324,
          -0.8068381141444133,
          -0.3756595044409874
         ]
        },
        {
         "boxpoints": false,
         "line": {
          "width": 1.3
         },
         "marker": {
          "color": "rgba(55, 128, 191, 1.0)"
         },
         "name": "B",
         "orientation": "v",
         "type": "box",
         "y": [
          1.4318947810176526,
          0.24026038605821917,
          0.4451286277214846,
          0.5362264542043904,
          -1.1066503086203259,
          -0.42229707035492087,
          0.718042335741499,
          -0.9318978257839343,
          -0.44859068426479753,
          0.06393476675777732,
          -0.9638697396246255,
          0.047373052805112593,
          -2.6316439201988544,
          1.16645099432575,
          0.32036750849283824,
          -0.05364339294583357,
          0.3802655235220497,
          -0.09961734522532066,
          -0.3653884522071064,
          0.5387252402177625,
          0.4688390726042069,
          0.09915984634898799,
          0.07388293090421022,
          -0.18789060897527135,
          -0.11576320542210079,
          1.0107124619771906,
          -0.6193205128828219,
          -0.12003905201802431,
          -0.08329152526464428,
          -1.0665194384892394,
          0.5251365929191014,
          -1.7202303396085004,
          -0.4098643151059729,
          0.2192352113181968,
          0.23647471448842297,
          -0.1115245845888328,
          0.18615443769853549,
          -0.40964673877098917,
          0.9711188501856983,
          -1.5071541555991648,
          0.1999602495297384,
          2.492818422930499,
          -0.41384143683286634,
          -0.9240183532845967,
          0.428717009167491,
          1.8113112612096411,
          -0.003990601547180274,
          -1.0569525684969008,
          -0.2462620275510187,
          -0.4334682863880004,
          0.3952226502148541,
          1.2432030130337701,
          0.6223978449559944,
          -1.1375909277591023,
          0.8016351645868708,
          -0.20628826144655052,
          1.6797828797502556,
          -0.9924526424616922,
          -0.31062961008454076,
          1.4306099335403377,
          1.9799584956398923,
          1.2607300051211943,
          0.5926955856960735,
          -0.6860932783938856,
          0.8932491030110556,
          -0.2366485951762157,
          1.1461888955923492,
          0.9762538722558245,
          -0.7899138777903845,
          0.4001873776041438,
          0.12072644501913432,
          1.17629127197133,
          -1.489601357172212,
          0.28052146475854733,
          1.6260200481973202,
          0.4605915872324684,
          0.14764372184436497,
          0.7331058048576845,
          2.2291967418153136,
          -0.781849913741244,
          -0.9985226652186919,
          1.237574668861233,
          0.7169596395220929,
          -1.9079310473095077,
          1.2290383651644585,
          -0.7379281450552093,
          -0.3610320856280676,
          2.8491743491694232,
          1.0186867977434042,
          -0.45887321828980554,
          0.19222873439429394,
          0.11579126666695112,
          0.09289699526265048,
          -0.15629653044902783,
          -1.2121316352810876,
          0.24892657275282007,
          -0.34109291135368036,
          -0.8333844588916233,
          1.2299995015955598,
          -0.09384418811944956
         ]
        },
        {
         "boxpoints": false,
         "line": {
          "width": 1.3
         },
         "marker": {
          "color": "rgba(50, 171, 96, 1.0)"
         },
         "name": "C",
         "orientation": "v",
         "type": "box",
         "y": [
          -0.971022346575938,
          -0.5243024731276443,
          1.4286413183508697,
          0.9137829630609101,
          -0.8858080620372212,
          1.60714413043683,
          1.500409250991382,
          0.23383299051706155,
          -0.45644596388353964,
          0.9323430868876016,
          0.18136130428341612,
          -0.08710946309744187,
          -0.5165280743998215,
          -0.9871919968274258,
          0.6957812675613306,
          -0.21310596317218783,
          -0.7671961431296472,
          -0.8456308966197522,
          1.000258255813157,
          -0.8766672551763515,
          -1.025581732381983,
          -0.4493566079268353,
          -0.8189968559032405,
          2.1423888628192667,
          0.21283462121999747,
          0.41124945491522974,
          -0.528734301448836,
          2.2378067259334387,
          -1.1604140663002422,
          0.4072605370018098,
          -1.6922822861315925,
          0.20304010437405975,
          -0.370719198334433,
          -0.4218291816271057,
          -1.1825893612552376,
          -1.5967591425602543,
          -0.09221248457979499,
          1.7631166471745965,
          -0.04083330384185371,
          1.832559072362424,
          -0.1275310601322519,
          -1.499482768775023,
          1.1900005959356978,
          0.4932095737397246,
          1.4089585106778706,
          0.1740381662200239,
          -0.11007728217088389,
          -0.5687332352449179,
          0.060133667198007765,
          1.3688822401017933,
          1.582865785466756,
          0.5822665546760064,
          -0.7815186844672299,
          -0.6777042737687243,
          1.126308992622847,
          1.2788472079126632,
          -1.0672752399294543,
          -0.643146503037076,
          -0.1511482000712323,
          1.6585490956043274,
          -1.4981491057130696,
          -0.058557970848679405,
          0.9795625424614111,
          1.2033564609474556,
          -1.4954506288951142,
          0.29031527322649764,
          0.8635660788280374,
          0.27092205398846453,
          0.8967125564808078,
          1.6857266086235219,
          -0.18267859561471733,
          -2.2304111589487903,
          -0.015856920988653118,
          -0.34308233132870436,
          -0.18275565819244208,
          0.6454017103842246,
          2.280495614345781,
          -1.0982758047559875,
          0.7686227898033995,
          -1.5435421374184264,
          -1.6748784707759343,
          1.1040311056681484,
          0.7640841601508227,
          1.6956137181403692,
          1.540992767196364,
          1.3080783711522082,
          -1.4700280148462321,
          -1.1657677185485011,
          -0.5634960739617756,
          0.712096619769324,
          -1.837827400119136,
          0.6761305537246636,
          -0.7441499518305543,
          -0.693276859929443,
          -1.2285294853916533,
          -1.216206962262111,
          0.7791380282318413,
          -0.5842460014967957,
          -0.41736139073749073,
          1.2635056761349914
         ]
        },
        {
         "boxpoints": false,
         "line": {
          "width": 1.3
         },
         "marker": {
          "color": "rgba(128, 0, 128, 1.0)"
         },
         "name": "D",
         "orientation": "v",
         "type": "box",
         "y": [
          -0.026946352214707543,
          0.7001864198834278,
          -0.2982169573158846,
          -0.46785808251321376,
          0.1662198421131035,
          -1.0361993190548702,
          0.36990320951933825,
          -0.46096929909194345,
          -0.32786381054044816,
          -1.9425338206029976,
          1.3241557623479694,
          1.1454651188750975,
          0.7486765634810072,
          0.9330479359890153,
          -0.9417092796502509,
          0.6690846669731796,
          -1.336677393459967,
          0.8684602791773485,
          -0.6536004660338142,
          -0.12821638297337665,
          -0.5600649918885628,
          0.12970791744126992,
          0.6532835157045196,
          -1.282823899790167,
          0.7736421266931258,
          -1.7976496762557792,
          -0.15948682481998375,
          -0.391125585197008,
          1.354088423712669,
          -1.443692993191206,
          -0.4289105316998597,
          0.5740855457163138,
          -0.33639804341759105,
          -0.10356897058918564,
          1.574387291112665,
          -0.9091404976969024,
          1.046847296801124,
          0.5706535462664871,
          -1.6541427845300183,
          -0.8536739719150671,
          -1.0688862444256853,
          -1.9336291584556424,
          1.9376248679459394,
          0.6695776761101119,
          1.5313603114363874,
          -1.4712342112068328,
          1.7690964396844335,
          1.1077083251306983,
          -0.58024259998545,
          -0.5196224712276971,
          0.38399780945459105,
          0.31773733607258414,
          -1.8371234971094654,
          0.08363561366150972,
          0.473428602686091,
          -1.057167404990847,
          -0.2945659075349518,
          -0.46844130149068275,
          -0.7780798699914746,
          0.25040311051155845,
          -0.10387342147144044,
          -1.263258128858654,
          0.4867782976354999,
          -0.8868103081610105,
          0.15165521213779967,
          -0.8652838520851245,
          0.17588274530746156,
          -0.11919944926902291,
          -1.4675189167998794,
          1.7553033154179047,
          0.8196102272713092,
          -0.4133265676516026,
          -1.443631395161763,
          -1.1308320153402704,
          -0.6639551530556687,
          -0.39126040132210677,
          0.46545469886051766,
          0.5733045030441133,
          -2.0616130374103525,
          0.2949920301219885,
          0.012695105848094499,
          -0.07790473580455372,
          0.10607123347971581,
          0.6567785605314618,
          -0.6250906670799768,
          1.6570247763242396,
          1.1201417570577372,
          1.033694848041122,
          -0.9124782530568055,
          1.988878350986756,
          -0.4582865124599824,
          -0.8059843919133812,
          0.5124959363470918,
          1.9149527906323667,
          -0.17926090652051777,
          1.2052411849841747,
          -0.555649682790034,
          0.3362816656037818,
          -0.7121607025339074,
          1.0413593991665846
         ]
        }
       ],
       "layout": {
        "legend": {
         "bgcolor": "#F5F6F9",
         "font": {
          "color": "#4D5663"
         }
        },
        "paper_bgcolor": "#F5F6F9",
        "plot_bgcolor": "#F5F6F9",
        "template": {
         "data": {
          "bar": [
           {
            "error_x": {
             "color": "#2a3f5f"
            },
            "error_y": {
             "color": "#2a3f5f"
            },
            "marker": {
             "line": {
              "color": "#E5ECF6",
              "width": 0.5
             },
             "pattern": {
              "fillmode": "overlay",
              "size": 10,
              "solidity": 0.2
             }
            },
            "type": "bar"
           }
          ],
          "barpolar": [
           {
            "marker": {
             "line": {
              "color": "#E5ECF6",
              "width": 0.5
             },
             "pattern": {
              "fillmode": "overlay",
              "size": 10,
              "solidity": 0.2
             }
            },
            "type": "barpolar"
           }
          ],
          "carpet": [
           {
            "aaxis": {
             "endlinecolor": "#2a3f5f",
             "gridcolor": "white",
             "linecolor": "white",
             "minorgridcolor": "white",
             "startlinecolor": "#2a3f5f"
            },
            "baxis": {
             "endlinecolor": "#2a3f5f",
             "gridcolor": "white",
             "linecolor": "white",
             "minorgridcolor": "white",
             "startlinecolor": "#2a3f5f"
            },
            "type": "carpet"
           }
          ],
          "choropleth": [
           {
            "colorbar": {
             "outlinewidth": 0,
             "ticks": ""
            },
            "type": "choropleth"
           }
          ],
          "contour": [
           {
            "colorbar": {
             "outlinewidth": 0,
             "ticks": ""
            },
            "colorscale": [
             [
              0,
              "#0d0887"
             ],
             [
              0.1111111111111111,
              "#46039f"
             ],
             [
              0.2222222222222222,
              "#7201a8"
             ],
             [
              0.3333333333333333,
              "#9c179e"
             ],
             [
              0.4444444444444444,
              "#bd3786"
             ],
             [
              0.5555555555555556,
              "#d8576b"
             ],
             [
              0.6666666666666666,
              "#ed7953"
             ],
             [
              0.7777777777777778,
              "#fb9f3a"
             ],
             [
              0.8888888888888888,
              "#fdca26"
             ],
             [
              1,
              "#f0f921"
             ]
            ],
            "type": "contour"
           }
          ],
          "contourcarpet": [
           {
            "colorbar": {
             "outlinewidth": 0,
             "ticks": ""
            },
            "type": "contourcarpet"
           }
          ],
          "heatmap": [
           {
            "colorbar": {
             "outlinewidth": 0,
             "ticks": ""
            },
            "colorscale": [
             [
              0,
              "#0d0887"
             ],
             [
              0.1111111111111111,
              "#46039f"
             ],
             [
              0.2222222222222222,
              "#7201a8"
             ],
             [
              0.3333333333333333,
              "#9c179e"
             ],
             [
              0.4444444444444444,
              "#bd3786"
             ],
             [
              0.5555555555555556,
              "#d8576b"
             ],
             [
              0.6666666666666666,
              "#ed7953"
             ],
             [
              0.7777777777777778,
              "#fb9f3a"
             ],
             [
              0.8888888888888888,
              "#fdca26"
             ],
             [
              1,
              "#f0f921"
             ]
            ],
            "type": "heatmap"
           }
          ],
          "heatmapgl": [
           {
            "colorbar": {
             "outlinewidth": 0,
             "ticks": ""
            },
            "colorscale": [
             [
              0,
              "#0d0887"
             ],
             [
              0.1111111111111111,
              "#46039f"
             ],
             [
              0.2222222222222222,
              "#7201a8"
             ],
             [
              0.3333333333333333,
              "#9c179e"
             ],
             [
              0.4444444444444444,
              "#bd3786"
             ],
             [
              0.5555555555555556,
              "#d8576b"
             ],
             [
              0.6666666666666666,
              "#ed7953"
             ],
             [
              0.7777777777777778,
              "#fb9f3a"
             ],
             [
              0.8888888888888888,
              "#fdca26"
             ],
             [
              1,
              "#f0f921"
             ]
            ],
            "type": "heatmapgl"
           }
          ],
          "histogram": [
           {
            "marker": {
             "pattern": {
              "fillmode": "overlay",
              "size": 10,
              "solidity": 0.2
             }
            },
            "type": "histogram"
           }
          ],
          "histogram2d": [
           {
            "colorbar": {
             "outlinewidth": 0,
             "ticks": ""
            },
            "colorscale": [
             [
              0,
              "#0d0887"
             ],
             [
              0.1111111111111111,
              "#46039f"
             ],
             [
              0.2222222222222222,
              "#7201a8"
             ],
             [
              0.3333333333333333,
              "#9c179e"
             ],
             [
              0.4444444444444444,
              "#bd3786"
             ],
             [
              0.5555555555555556,
              "#d8576b"
             ],
             [
              0.6666666666666666,
              "#ed7953"
             ],
             [
              0.7777777777777778,
              "#fb9f3a"
             ],
             [
              0.8888888888888888,
              "#fdca26"
             ],
             [
              1,
              "#f0f921"
             ]
            ],
            "type": "histogram2d"
           }
          ],
          "histogram2dcontour": [
           {
            "colorbar": {
             "outlinewidth": 0,
             "ticks": ""
            },
            "colorscale": [
             [
              0,
              "#0d0887"
             ],
             [
              0.1111111111111111,
              "#46039f"
             ],
             [
              0.2222222222222222,
              "#7201a8"
             ],
             [
              0.3333333333333333,
              "#9c179e"
             ],
             [
              0.4444444444444444,
              "#bd3786"
             ],
             [
              0.5555555555555556,
              "#d8576b"
             ],
             [
              0.6666666666666666,
              "#ed7953"
             ],
             [
              0.7777777777777778,
              "#fb9f3a"
             ],
             [
              0.8888888888888888,
              "#fdca26"
             ],
             [
              1,
              "#f0f921"
             ]
            ],
            "type": "histogram2dcontour"
           }
          ],
          "mesh3d": [
           {
            "colorbar": {
             "outlinewidth": 0,
             "ticks": ""
            },
            "type": "mesh3d"
           }
          ],
          "parcoords": [
           {
            "line": {
             "colorbar": {
              "outlinewidth": 0,
              "ticks": ""
             }
            },
            "type": "parcoords"
           }
          ],
          "pie": [
           {
            "automargin": true,
            "type": "pie"
           }
          ],
          "scatter": [
           {
            "fillpattern": {
             "fillmode": "overlay",
             "size": 10,
             "solidity": 0.2
            },
            "type": "scatter"
           }
          ],
          "scatter3d": [
           {
            "line": {
             "colorbar": {
              "outlinewidth": 0,
              "ticks": ""
             }
            },
            "marker": {
             "colorbar": {
              "outlinewidth": 0,
              "ticks": ""
             }
            },
            "type": "scatter3d"
           }
          ],
          "scattercarpet": [
           {
            "marker": {
             "colorbar": {
              "outlinewidth": 0,
              "ticks": ""
             }
            },
            "type": "scattercarpet"
           }
          ],
          "scattergeo": [
           {
            "marker": {
             "colorbar": {
              "outlinewidth": 0,
              "ticks": ""
             }
            },
            "type": "scattergeo"
           }
          ],
          "scattergl": [
           {
            "marker": {
             "colorbar": {
              "outlinewidth": 0,
              "ticks": ""
             }
            },
            "type": "scattergl"
           }
          ],
          "scattermapbox": [
           {
            "marker": {
             "colorbar": {
              "outlinewidth": 0,
              "ticks": ""
             }
            },
            "type": "scattermapbox"
           }
          ],
          "scatterpolar": [
           {
            "marker": {
             "colorbar": {
              "outlinewidth": 0,
              "ticks": ""
             }
            },
            "type": "scatterpolar"
           }
          ],
          "scatterpolargl": [
           {
            "marker": {
             "colorbar": {
              "outlinewidth": 0,
              "ticks": ""
             }
            },
            "type": "scatterpolargl"
           }
          ],
          "scatterternary": [
           {
            "marker": {
             "colorbar": {
              "outlinewidth": 0,
              "ticks": ""
             }
            },
            "type": "scatterternary"
           }
          ],
          "surface": [
           {
            "colorbar": {
             "outlinewidth": 0,
             "ticks": ""
            },
            "colorscale": [
             [
              0,
              "#0d0887"
             ],
             [
              0.1111111111111111,
              "#46039f"
             ],
             [
              0.2222222222222222,
              "#7201a8"
             ],
             [
              0.3333333333333333,
              "#9c179e"
             ],
             [
              0.4444444444444444,
              "#bd3786"
             ],
             [
              0.5555555555555556,
              "#d8576b"
             ],
             [
              0.6666666666666666,
              "#ed7953"
             ],
             [
              0.7777777777777778,
              "#fb9f3a"
             ],
             [
              0.8888888888888888,
              "#fdca26"
             ],
             [
              1,
              "#f0f921"
             ]
            ],
            "type": "surface"
           }
          ],
          "table": [
           {
            "cells": {
             "fill": {
              "color": "#EBF0F8"
             },
             "line": {
              "color": "white"
             }
            },
            "header": {
             "fill": {
              "color": "#C8D4E3"
             },
             "line": {
              "color": "white"
             }
            },
            "type": "table"
           }
          ]
         },
         "layout": {
          "annotationdefaults": {
           "arrowcolor": "#2a3f5f",
           "arrowhead": 0,
           "arrowwidth": 1
          },
          "autotypenumbers": "strict",
          "coloraxis": {
           "colorbar": {
            "outlinewidth": 0,
            "ticks": ""
           }
          },
          "colorscale": {
           "diverging": [
            [
             0,
             "#8e0152"
            ],
            [
             0.1,
             "#c51b7d"
            ],
            [
             0.2,
             "#de77ae"
            ],
            [
             0.3,
             "#f1b6da"
            ],
            [
             0.4,
             "#fde0ef"
            ],
            [
             0.5,
             "#f7f7f7"
            ],
            [
             0.6,
             "#e6f5d0"
            ],
            [
             0.7,
             "#b8e186"
            ],
            [
             0.8,
             "#7fbc41"
            ],
            [
             0.9,
             "#4d9221"
            ],
            [
             1,
             "#276419"
            ]
           ],
           "sequential": [
            [
             0,
             "#0d0887"
            ],
            [
             0.1111111111111111,
             "#46039f"
            ],
            [
             0.2222222222222222,
             "#7201a8"
            ],
            [
             0.3333333333333333,
             "#9c179e"
            ],
            [
             0.4444444444444444,
             "#bd3786"
            ],
            [
             0.5555555555555556,
             "#d8576b"
            ],
            [
             0.6666666666666666,
             "#ed7953"
            ],
            [
             0.7777777777777778,
             "#fb9f3a"
            ],
            [
             0.8888888888888888,
             "#fdca26"
            ],
            [
             1,
             "#f0f921"
            ]
           ],
           "sequentialminus": [
            [
             0,
             "#0d0887"
            ],
            [
             0.1111111111111111,
             "#46039f"
            ],
            [
             0.2222222222222222,
             "#7201a8"
            ],
            [
             0.3333333333333333,
             "#9c179e"
            ],
            [
             0.4444444444444444,
             "#bd3786"
            ],
            [
             0.5555555555555556,
             "#d8576b"
            ],
            [
             0.6666666666666666,
             "#ed7953"
            ],
            [
             0.7777777777777778,
             "#fb9f3a"
            ],
            [
             0.8888888888888888,
             "#fdca26"
            ],
            [
             1,
             "#f0f921"
            ]
           ]
          },
          "colorway": [
           "#636efa",
           "#EF553B",
           "#00cc96",
           "#ab63fa",
           "#FFA15A",
           "#19d3f3",
           "#FF6692",
           "#B6E880",
           "#FF97FF",
           "#FECB52"
          ],
          "font": {
           "color": "#2a3f5f"
          },
          "geo": {
           "bgcolor": "white",
           "lakecolor": "white",
           "landcolor": "#E5ECF6",
           "showlakes": true,
           "showland": true,
           "subunitcolor": "white"
          },
          "hoverlabel": {
           "align": "left"
          },
          "hovermode": "closest",
          "mapbox": {
           "style": "light"
          },
          "paper_bgcolor": "white",
          "plot_bgcolor": "#E5ECF6",
          "polar": {
           "angularaxis": {
            "gridcolor": "white",
            "linecolor": "white",
            "ticks": ""
           },
           "bgcolor": "#E5ECF6",
           "radialaxis": {
            "gridcolor": "white",
            "linecolor": "white",
            "ticks": ""
           }
          },
          "scene": {
           "xaxis": {
            "backgroundcolor": "#E5ECF6",
            "gridcolor": "white",
            "gridwidth": 2,
            "linecolor": "white",
            "showbackground": true,
            "ticks": "",
            "zerolinecolor": "white"
           },
           "yaxis": {
            "backgroundcolor": "#E5ECF6",
            "gridcolor": "white",
            "gridwidth": 2,
            "linecolor": "white",
            "showbackground": true,
            "ticks": "",
            "zerolinecolor": "white"
           },
           "zaxis": {
            "backgroundcolor": "#E5ECF6",
            "gridcolor": "white",
            "gridwidth": 2,
            "linecolor": "white",
            "showbackground": true,
            "ticks": "",
            "zerolinecolor": "white"
           }
          },
          "shapedefaults": {
           "line": {
            "color": "#2a3f5f"
           }
          },
          "ternary": {
           "aaxis": {
            "gridcolor": "white",
            "linecolor": "white",
            "ticks": ""
           },
           "baxis": {
            "gridcolor": "white",
            "linecolor": "white",
            "ticks": ""
           },
           "bgcolor": "#E5ECF6",
           "caxis": {
            "gridcolor": "white",
            "linecolor": "white",
            "ticks": ""
           }
          },
          "title": {
           "x": 0.05
          },
          "xaxis": {
           "automargin": true,
           "gridcolor": "white",
           "linecolor": "white",
           "ticks": "",
           "title": {
            "standoff": 15
           },
           "zerolinecolor": "white",
           "zerolinewidth": 2
          },
          "yaxis": {
           "automargin": true,
           "gridcolor": "white",
           "linecolor": "white",
           "ticks": "",
           "title": {
            "standoff": 15
           },
           "zerolinecolor": "white",
           "zerolinewidth": 2
          }
         }
        },
        "title": {
         "font": {
          "color": "#4D5663"
         }
        },
        "xaxis": {
         "gridcolor": "#E1E5ED",
         "showgrid": true,
         "tickfont": {
          "color": "#4D5663"
         },
         "title": {
          "font": {
           "color": "#4D5663"
          },
          "text": ""
         },
         "zerolinecolor": "#E1E5ED"
        },
        "yaxis": {
         "gridcolor": "#E1E5ED",
         "showgrid": true,
         "tickfont": {
          "color": "#4D5663"
         },
         "title": {
          "font": {
           "color": "#4D5663"
          },
          "text": ""
         },
         "zerolinecolor": "#E1E5ED"
        }
       }
      },
      "text/html": [
       "<div>                            <div id=\"39b3a02d-ce39-404e-a5c5-40d7120ab8fd\" class=\"plotly-graph-div\" style=\"height:525px; width:100%;\"></div>            <script type=\"text/javascript\">                require([\"plotly\"], function(Plotly) {                    window.PLOTLYENV=window.PLOTLYENV || {};\n",
       "                    window.PLOTLYENV.BASE_URL='https://plot.ly';                                    if (document.getElementById(\"39b3a02d-ce39-404e-a5c5-40d7120ab8fd\")) {                    Plotly.newPlot(                        \"39b3a02d-ce39-404e-a5c5-40d7120ab8fd\",                        [{\"boxpoints\":false,\"line\":{\"width\":1.3},\"marker\":{\"color\":\"rgba(255, 153, 51, 1.0)\"},\"name\":\"A\",\"orientation\":\"v\",\"y\":[0.13160484099032704,-0.7950894148460821,-0.13178744981839602,0.04643253694874059,1.4008811580488094,1.0636094200617128,-0.6302576662973428,-1.0151765951983778,-1.6289811525645115,1.6268210437035,0.6256421851048581,0.6214972799378291,1.2228321462568825,1.4103128126593787,-1.3973949776753045,-0.18281033081801018,2.605677785134823,0.3988269851056346,-0.4529882860464019,1.0784128278939078,0.7901159872294277,-0.4910610738334806,-0.9409118009988205,0.434468041211235,0.3742896418368096,-1.1561864863866274,-1.2842867457363056,-0.5261606343749329,0.6429325143749458,-1.3552544051664746,1.6270610794688527,-2.1435595460990853,-0.23455305399294482,-1.5986242370245385,1.1759934266713825,-0.01270097113625606,-0.4668452761149272,-0.7412607679432618,0.3462472288658386,0.10935402326252003,-0.3649831789786431,-0.21849969872497854,0.32657994207227464,2.2351327991254717,0.18144734817366057,-0.6912176240497995,0.7261509416783926,-1.8859562311461544,0.6217916103657698,-1.814362876226159,0.4189234239519778,1.7208451979119816,0.46099175660802466,0.07536895923905688,1.6026332086845676,-0.4813040033991323,-1.1715479856146989,-0.961844887784821,-0.3697250311946081,0.9903676937190032,0.5987589037491994,0.22441901104260428,-0.7290832505061414,1.182504038571702,0.49849042094992546,1.934068179888321,-1.0356143693303237,0.5099229331601602,-0.14881706016740145,1.2932578315420147,-0.8803779558532795,0.9912732908960632,-0.07363103484386704,-1.2099173247127637,0.49734583814546224,0.35313499965974543,-0.27695109523629635,0.3977250325577475,0.4267867826118734,-1.2592491178910903,1.561409048832289,-0.6487493849583286,2.1000263133192827,-1.6738293406736495,-1.2478081529020673,-0.5461776592746976,-0.8069503449533223,-1.216016854020958,-0.6994925219189366,0.3168200730116124,-1.618796776256919,0.43488998610191393,-0.09960482964117366,0.8141745749221933,-0.6550109510461594,-1.0731797207644709,0.025062692688615756,-0.1987930919360324,-0.8068381141444133,-0.3756595044409874],\"type\":\"box\"},{\"boxpoints\":false,\"line\":{\"width\":1.3},\"marker\":{\"color\":\"rgba(55, 128, 191, 1.0)\"},\"name\":\"B\",\"orientation\":\"v\",\"y\":[1.4318947810176526,0.24026038605821917,0.4451286277214846,0.5362264542043904,-1.1066503086203259,-0.42229707035492087,0.718042335741499,-0.9318978257839343,-0.44859068426479753,0.06393476675777732,-0.9638697396246255,0.047373052805112593,-2.6316439201988544,1.16645099432575,0.32036750849283824,-0.05364339294583357,0.3802655235220497,-0.09961734522532066,-0.3653884522071064,0.5387252402177625,0.4688390726042069,0.09915984634898799,0.07388293090421022,-0.18789060897527135,-0.11576320542210079,1.0107124619771906,-0.6193205128828219,-0.12003905201802431,-0.08329152526464428,-1.0665194384892394,0.5251365929191014,-1.7202303396085004,-0.4098643151059729,0.2192352113181968,0.23647471448842297,-0.1115245845888328,0.18615443769853549,-0.40964673877098917,0.9711188501856983,-1.5071541555991648,0.1999602495297384,2.492818422930499,-0.41384143683286634,-0.9240183532845967,0.428717009167491,1.8113112612096411,-0.003990601547180274,-1.0569525684969008,-0.2462620275510187,-0.4334682863880004,0.3952226502148541,1.2432030130337701,0.6223978449559944,-1.1375909277591023,0.8016351645868708,-0.20628826144655052,1.6797828797502556,-0.9924526424616922,-0.31062961008454076,1.4306099335403377,1.9799584956398923,1.2607300051211943,0.5926955856960735,-0.6860932783938856,0.8932491030110556,-0.2366485951762157,1.1461888955923492,0.9762538722558245,-0.7899138777903845,0.4001873776041438,0.12072644501913432,1.17629127197133,-1.489601357172212,0.28052146475854733,1.6260200481973202,0.4605915872324684,0.14764372184436497,0.7331058048576845,2.2291967418153136,-0.781849913741244,-0.9985226652186919,1.237574668861233,0.7169596395220929,-1.9079310473095077,1.2290383651644585,-0.7379281450552093,-0.3610320856280676,2.8491743491694232,1.0186867977434042,-0.45887321828980554,0.19222873439429394,0.11579126666695112,0.09289699526265048,-0.15629653044902783,-1.2121316352810876,0.24892657275282007,-0.34109291135368036,-0.8333844588916233,1.2299995015955598,-0.09384418811944956],\"type\":\"box\"},{\"boxpoints\":false,\"line\":{\"width\":1.3},\"marker\":{\"color\":\"rgba(50, 171, 96, 1.0)\"},\"name\":\"C\",\"orientation\":\"v\",\"y\":[-0.971022346575938,-0.5243024731276443,1.4286413183508697,0.9137829630609101,-0.8858080620372212,1.60714413043683,1.500409250991382,0.23383299051706155,-0.45644596388353964,0.9323430868876016,0.18136130428341612,-0.08710946309744187,-0.5165280743998215,-0.9871919968274258,0.6957812675613306,-0.21310596317218783,-0.7671961431296472,-0.8456308966197522,1.000258255813157,-0.8766672551763515,-1.025581732381983,-0.4493566079268353,-0.8189968559032405,2.1423888628192667,0.21283462121999747,0.41124945491522974,-0.528734301448836,2.2378067259334387,-1.1604140663002422,0.4072605370018098,-1.6922822861315925,0.20304010437405975,-0.370719198334433,-0.4218291816271057,-1.1825893612552376,-1.5967591425602543,-0.09221248457979499,1.7631166471745965,-0.04083330384185371,1.832559072362424,-0.1275310601322519,-1.499482768775023,1.1900005959356978,0.4932095737397246,1.4089585106778706,0.1740381662200239,-0.11007728217088389,-0.5687332352449179,0.060133667198007765,1.3688822401017933,1.582865785466756,0.5822665546760064,-0.7815186844672299,-0.6777042737687243,1.126308992622847,1.2788472079126632,-1.0672752399294543,-0.643146503037076,-0.1511482000712323,1.6585490956043274,-1.4981491057130696,-0.058557970848679405,0.9795625424614111,1.2033564609474556,-1.4954506288951142,0.29031527322649764,0.8635660788280374,0.27092205398846453,0.8967125564808078,1.6857266086235219,-0.18267859561471733,-2.2304111589487903,-0.015856920988653118,-0.34308233132870436,-0.18275565819244208,0.6454017103842246,2.280495614345781,-1.0982758047559875,0.7686227898033995,-1.5435421374184264,-1.6748784707759343,1.1040311056681484,0.7640841601508227,1.6956137181403692,1.540992767196364,1.3080783711522082,-1.4700280148462321,-1.1657677185485011,-0.5634960739617756,0.712096619769324,-1.837827400119136,0.6761305537246636,-0.7441499518305543,-0.693276859929443,-1.2285294853916533,-1.216206962262111,0.7791380282318413,-0.5842460014967957,-0.41736139073749073,1.2635056761349914],\"type\":\"box\"},{\"boxpoints\":false,\"line\":{\"width\":1.3},\"marker\":{\"color\":\"rgba(128, 0, 128, 1.0)\"},\"name\":\"D\",\"orientation\":\"v\",\"y\":[-0.026946352214707543,0.7001864198834278,-0.2982169573158846,-0.46785808251321376,0.1662198421131035,-1.0361993190548702,0.36990320951933825,-0.46096929909194345,-0.32786381054044816,-1.9425338206029976,1.3241557623479694,1.1454651188750975,0.7486765634810072,0.9330479359890153,-0.9417092796502509,0.6690846669731796,-1.336677393459967,0.8684602791773485,-0.6536004660338142,-0.12821638297337665,-0.5600649918885628,0.12970791744126992,0.6532835157045196,-1.282823899790167,0.7736421266931258,-1.7976496762557792,-0.15948682481998375,-0.391125585197008,1.354088423712669,-1.443692993191206,-0.4289105316998597,0.5740855457163138,-0.33639804341759105,-0.10356897058918564,1.574387291112665,-0.9091404976969024,1.046847296801124,0.5706535462664871,-1.6541427845300183,-0.8536739719150671,-1.0688862444256853,-1.9336291584556424,1.9376248679459394,0.6695776761101119,1.5313603114363874,-1.4712342112068328,1.7690964396844335,1.1077083251306983,-0.58024259998545,-0.5196224712276971,0.38399780945459105,0.31773733607258414,-1.8371234971094654,0.08363561366150972,0.473428602686091,-1.057167404990847,-0.2945659075349518,-0.46844130149068275,-0.7780798699914746,0.25040311051155845,-0.10387342147144044,-1.263258128858654,0.4867782976354999,-0.8868103081610105,0.15165521213779967,-0.8652838520851245,0.17588274530746156,-0.11919944926902291,-1.4675189167998794,1.7553033154179047,0.8196102272713092,-0.4133265676516026,-1.443631395161763,-1.1308320153402704,-0.6639551530556687,-0.39126040132210677,0.46545469886051766,0.5733045030441133,-2.0616130374103525,0.2949920301219885,0.012695105848094499,-0.07790473580455372,0.10607123347971581,0.6567785605314618,-0.6250906670799768,1.6570247763242396,1.1201417570577372,1.033694848041122,-0.9124782530568055,1.988878350986756,-0.4582865124599824,-0.8059843919133812,0.5124959363470918,1.9149527906323667,-0.17926090652051777,1.2052411849841747,-0.555649682790034,0.3362816656037818,-0.7121607025339074,1.0413593991665846],\"type\":\"box\"}],                        {\"legend\":{\"bgcolor\":\"#F5F6F9\",\"font\":{\"color\":\"#4D5663\"}},\"paper_bgcolor\":\"#F5F6F9\",\"plot_bgcolor\":\"#F5F6F9\",\"template\":{\"data\":{\"barpolar\":[{\"marker\":{\"line\":{\"color\":\"#E5ECF6\",\"width\":0.5},\"pattern\":{\"fillmode\":\"overlay\",\"size\":10,\"solidity\":0.2}},\"type\":\"barpolar\"}],\"bar\":[{\"error_x\":{\"color\":\"#2a3f5f\"},\"error_y\":{\"color\":\"#2a3f5f\"},\"marker\":{\"line\":{\"color\":\"#E5ECF6\",\"width\":0.5},\"pattern\":{\"fillmode\":\"overlay\",\"size\":10,\"solidity\":0.2}},\"type\":\"bar\"}],\"carpet\":[{\"aaxis\":{\"endlinecolor\":\"#2a3f5f\",\"gridcolor\":\"white\",\"linecolor\":\"white\",\"minorgridcolor\":\"white\",\"startlinecolor\":\"#2a3f5f\"},\"baxis\":{\"endlinecolor\":\"#2a3f5f\",\"gridcolor\":\"white\",\"linecolor\":\"white\",\"minorgridcolor\":\"white\",\"startlinecolor\":\"#2a3f5f\"},\"type\":\"carpet\"}],\"choropleth\":[{\"colorbar\":{\"outlinewidth\":0,\"ticks\":\"\"},\"type\":\"choropleth\"}],\"contourcarpet\":[{\"colorbar\":{\"outlinewidth\":0,\"ticks\":\"\"},\"type\":\"contourcarpet\"}],\"contour\":[{\"colorbar\":{\"outlinewidth\":0,\"ticks\":\"\"},\"colorscale\":[[0.0,\"#0d0887\"],[0.1111111111111111,\"#46039f\"],[0.2222222222222222,\"#7201a8\"],[0.3333333333333333,\"#9c179e\"],[0.4444444444444444,\"#bd3786\"],[0.5555555555555556,\"#d8576b\"],[0.6666666666666666,\"#ed7953\"],[0.7777777777777778,\"#fb9f3a\"],[0.8888888888888888,\"#fdca26\"],[1.0,\"#f0f921\"]],\"type\":\"contour\"}],\"heatmapgl\":[{\"colorbar\":{\"outlinewidth\":0,\"ticks\":\"\"},\"colorscale\":[[0.0,\"#0d0887\"],[0.1111111111111111,\"#46039f\"],[0.2222222222222222,\"#7201a8\"],[0.3333333333333333,\"#9c179e\"],[0.4444444444444444,\"#bd3786\"],[0.5555555555555556,\"#d8576b\"],[0.6666666666666666,\"#ed7953\"],[0.7777777777777778,\"#fb9f3a\"],[0.8888888888888888,\"#fdca26\"],[1.0,\"#f0f921\"]],\"type\":\"heatmapgl\"}],\"heatmap\":[{\"colorbar\":{\"outlinewidth\":0,\"ticks\":\"\"},\"colorscale\":[[0.0,\"#0d0887\"],[0.1111111111111111,\"#46039f\"],[0.2222222222222222,\"#7201a8\"],[0.3333333333333333,\"#9c179e\"],[0.4444444444444444,\"#bd3786\"],[0.5555555555555556,\"#d8576b\"],[0.6666666666666666,\"#ed7953\"],[0.7777777777777778,\"#fb9f3a\"],[0.8888888888888888,\"#fdca26\"],[1.0,\"#f0f921\"]],\"type\":\"heatmap\"}],\"histogram2dcontour\":[{\"colorbar\":{\"outlinewidth\":0,\"ticks\":\"\"},\"colorscale\":[[0.0,\"#0d0887\"],[0.1111111111111111,\"#46039f\"],[0.2222222222222222,\"#7201a8\"],[0.3333333333333333,\"#9c179e\"],[0.4444444444444444,\"#bd3786\"],[0.5555555555555556,\"#d8576b\"],[0.6666666666666666,\"#ed7953\"],[0.7777777777777778,\"#fb9f3a\"],[0.8888888888888888,\"#fdca26\"],[1.0,\"#f0f921\"]],\"type\":\"histogram2dcontour\"}],\"histogram2d\":[{\"colorbar\":{\"outlinewidth\":0,\"ticks\":\"\"},\"colorscale\":[[0.0,\"#0d0887\"],[0.1111111111111111,\"#46039f\"],[0.2222222222222222,\"#7201a8\"],[0.3333333333333333,\"#9c179e\"],[0.4444444444444444,\"#bd3786\"],[0.5555555555555556,\"#d8576b\"],[0.6666666666666666,\"#ed7953\"],[0.7777777777777778,\"#fb9f3a\"],[0.8888888888888888,\"#fdca26\"],[1.0,\"#f0f921\"]],\"type\":\"histogram2d\"}],\"histogram\":[{\"marker\":{\"pattern\":{\"fillmode\":\"overlay\",\"size\":10,\"solidity\":0.2}},\"type\":\"histogram\"}],\"mesh3d\":[{\"colorbar\":{\"outlinewidth\":0,\"ticks\":\"\"},\"type\":\"mesh3d\"}],\"parcoords\":[{\"line\":{\"colorbar\":{\"outlinewidth\":0,\"ticks\":\"\"}},\"type\":\"parcoords\"}],\"pie\":[{\"automargin\":true,\"type\":\"pie\"}],\"scatter3d\":[{\"line\":{\"colorbar\":{\"outlinewidth\":0,\"ticks\":\"\"}},\"marker\":{\"colorbar\":{\"outlinewidth\":0,\"ticks\":\"\"}},\"type\":\"scatter3d\"}],\"scattercarpet\":[{\"marker\":{\"colorbar\":{\"outlinewidth\":0,\"ticks\":\"\"}},\"type\":\"scattercarpet\"}],\"scattergeo\":[{\"marker\":{\"colorbar\":{\"outlinewidth\":0,\"ticks\":\"\"}},\"type\":\"scattergeo\"}],\"scattergl\":[{\"marker\":{\"colorbar\":{\"outlinewidth\":0,\"ticks\":\"\"}},\"type\":\"scattergl\"}],\"scattermapbox\":[{\"marker\":{\"colorbar\":{\"outlinewidth\":0,\"ticks\":\"\"}},\"type\":\"scattermapbox\"}],\"scatterpolargl\":[{\"marker\":{\"colorbar\":{\"outlinewidth\":0,\"ticks\":\"\"}},\"type\":\"scatterpolargl\"}],\"scatterpolar\":[{\"marker\":{\"colorbar\":{\"outlinewidth\":0,\"ticks\":\"\"}},\"type\":\"scatterpolar\"}],\"scatter\":[{\"fillpattern\":{\"fillmode\":\"overlay\",\"size\":10,\"solidity\":0.2},\"type\":\"scatter\"}],\"scatterternary\":[{\"marker\":{\"colorbar\":{\"outlinewidth\":0,\"ticks\":\"\"}},\"type\":\"scatterternary\"}],\"surface\":[{\"colorbar\":{\"outlinewidth\":0,\"ticks\":\"\"},\"colorscale\":[[0.0,\"#0d0887\"],[0.1111111111111111,\"#46039f\"],[0.2222222222222222,\"#7201a8\"],[0.3333333333333333,\"#9c179e\"],[0.4444444444444444,\"#bd3786\"],[0.5555555555555556,\"#d8576b\"],[0.6666666666666666,\"#ed7953\"],[0.7777777777777778,\"#fb9f3a\"],[0.8888888888888888,\"#fdca26\"],[1.0,\"#f0f921\"]],\"type\":\"surface\"}],\"table\":[{\"cells\":{\"fill\":{\"color\":\"#EBF0F8\"},\"line\":{\"color\":\"white\"}},\"header\":{\"fill\":{\"color\":\"#C8D4E3\"},\"line\":{\"color\":\"white\"}},\"type\":\"table\"}]},\"layout\":{\"annotationdefaults\":{\"arrowcolor\":\"#2a3f5f\",\"arrowhead\":0,\"arrowwidth\":1},\"autotypenumbers\":\"strict\",\"coloraxis\":{\"colorbar\":{\"outlinewidth\":0,\"ticks\":\"\"}},\"colorscale\":{\"diverging\":[[0,\"#8e0152\"],[0.1,\"#c51b7d\"],[0.2,\"#de77ae\"],[0.3,\"#f1b6da\"],[0.4,\"#fde0ef\"],[0.5,\"#f7f7f7\"],[0.6,\"#e6f5d0\"],[0.7,\"#b8e186\"],[0.8,\"#7fbc41\"],[0.9,\"#4d9221\"],[1,\"#276419\"]],\"sequential\":[[0.0,\"#0d0887\"],[0.1111111111111111,\"#46039f\"],[0.2222222222222222,\"#7201a8\"],[0.3333333333333333,\"#9c179e\"],[0.4444444444444444,\"#bd3786\"],[0.5555555555555556,\"#d8576b\"],[0.6666666666666666,\"#ed7953\"],[0.7777777777777778,\"#fb9f3a\"],[0.8888888888888888,\"#fdca26\"],[1.0,\"#f0f921\"]],\"sequentialminus\":[[0.0,\"#0d0887\"],[0.1111111111111111,\"#46039f\"],[0.2222222222222222,\"#7201a8\"],[0.3333333333333333,\"#9c179e\"],[0.4444444444444444,\"#bd3786\"],[0.5555555555555556,\"#d8576b\"],[0.6666666666666666,\"#ed7953\"],[0.7777777777777778,\"#fb9f3a\"],[0.8888888888888888,\"#fdca26\"],[1.0,\"#f0f921\"]]},\"colorway\":[\"#636efa\",\"#EF553B\",\"#00cc96\",\"#ab63fa\",\"#FFA15A\",\"#19d3f3\",\"#FF6692\",\"#B6E880\",\"#FF97FF\",\"#FECB52\"],\"font\":{\"color\":\"#2a3f5f\"},\"geo\":{\"bgcolor\":\"white\",\"lakecolor\":\"white\",\"landcolor\":\"#E5ECF6\",\"showlakes\":true,\"showland\":true,\"subunitcolor\":\"white\"},\"hoverlabel\":{\"align\":\"left\"},\"hovermode\":\"closest\",\"mapbox\":{\"style\":\"light\"},\"paper_bgcolor\":\"white\",\"plot_bgcolor\":\"#E5ECF6\",\"polar\":{\"angularaxis\":{\"gridcolor\":\"white\",\"linecolor\":\"white\",\"ticks\":\"\"},\"bgcolor\":\"#E5ECF6\",\"radialaxis\":{\"gridcolor\":\"white\",\"linecolor\":\"white\",\"ticks\":\"\"}},\"scene\":{\"xaxis\":{\"backgroundcolor\":\"#E5ECF6\",\"gridcolor\":\"white\",\"gridwidth\":2,\"linecolor\":\"white\",\"showbackground\":true,\"ticks\":\"\",\"zerolinecolor\":\"white\"},\"yaxis\":{\"backgroundcolor\":\"#E5ECF6\",\"gridcolor\":\"white\",\"gridwidth\":2,\"linecolor\":\"white\",\"showbackground\":true,\"ticks\":\"\",\"zerolinecolor\":\"white\"},\"zaxis\":{\"backgroundcolor\":\"#E5ECF6\",\"gridcolor\":\"white\",\"gridwidth\":2,\"linecolor\":\"white\",\"showbackground\":true,\"ticks\":\"\",\"zerolinecolor\":\"white\"}},\"shapedefaults\":{\"line\":{\"color\":\"#2a3f5f\"}},\"ternary\":{\"aaxis\":{\"gridcolor\":\"white\",\"linecolor\":\"white\",\"ticks\":\"\"},\"baxis\":{\"gridcolor\":\"white\",\"linecolor\":\"white\",\"ticks\":\"\"},\"bgcolor\":\"#E5ECF6\",\"caxis\":{\"gridcolor\":\"white\",\"linecolor\":\"white\",\"ticks\":\"\"}},\"title\":{\"x\":0.05},\"xaxis\":{\"automargin\":true,\"gridcolor\":\"white\",\"linecolor\":\"white\",\"ticks\":\"\",\"title\":{\"standoff\":15},\"zerolinecolor\":\"white\",\"zerolinewidth\":2},\"yaxis\":{\"automargin\":true,\"gridcolor\":\"white\",\"linecolor\":\"white\",\"ticks\":\"\",\"title\":{\"standoff\":15},\"zerolinecolor\":\"white\",\"zerolinewidth\":2}}},\"title\":{\"font\":{\"color\":\"#4D5663\"}},\"xaxis\":{\"gridcolor\":\"#E1E5ED\",\"showgrid\":true,\"tickfont\":{\"color\":\"#4D5663\"},\"title\":{\"font\":{\"color\":\"#4D5663\"},\"text\":\"\"},\"zerolinecolor\":\"#E1E5ED\"},\"yaxis\":{\"gridcolor\":\"#E1E5ED\",\"showgrid\":true,\"tickfont\":{\"color\":\"#4D5663\"},\"title\":{\"font\":{\"color\":\"#4D5663\"},\"text\":\"\"},\"zerolinecolor\":\"#E1E5ED\"}},                        {\"showLink\": true, \"linkText\": \"Export to plot.ly\", \"plotlyServerURL\": \"https://plot.ly\", \"responsive\": true}                    ).then(function(){\n",
       "                            \n",
       "var gd = document.getElementById('39b3a02d-ce39-404e-a5c5-40d7120ab8fd');\n",
       "var x = new MutationObserver(function (mutations, observer) {{\n",
       "        var display = window.getComputedStyle(gd).display;\n",
       "        if (!display || display === 'none') {{\n",
       "            console.log([gd, 'removed!']);\n",
       "            Plotly.purge(gd);\n",
       "            observer.disconnect();\n",
       "        }}\n",
       "}});\n",
       "\n",
       "// Listen for the removal of the full notebook cells\n",
       "var notebookContainer = gd.closest('#notebook-container');\n",
       "if (notebookContainer) {{\n",
       "    x.observe(notebookContainer, {childList: true});\n",
       "}}\n",
       "\n",
       "// Listen for the clearing of the current output cell\n",
       "var outputEl = gd.closest('.output');\n",
       "if (outputEl) {{\n",
       "    x.observe(outputEl, {childList: true});\n",
       "}}\n",
       "\n",
       "                        })                };                });            </script>        </div>"
      ]
     },
     "metadata": {},
     "output_type": "display_data"
    }
   ],
   "source": [
    "df.iplot(kind='box')"
   ]
  },
  {
   "cell_type": "markdown",
   "metadata": {},
   "source": [
    "## 3d Surface"
   ]
  },
  {
   "cell_type": "code",
   "execution_count": 14,
   "metadata": {},
   "outputs": [
    {
     "data": {
      "application/vnd.plotly.v1+json": {
       "config": {
        "linkText": "Export to plot.ly",
        "plotlyServerURL": "https://plot.ly",
        "showLink": true
       },
       "data": [
        {
         "colorscale": [
          [
           0,
           "rgb(165,0,38)"
          ],
          [
           0.1,
           "rgb(215,48,39)"
          ],
          [
           0.2,
           "rgb(244,109,67)"
          ],
          [
           0.3,
           "rgb(253,174,97)"
          ],
          [
           0.4,
           "rgb(254,224,144)"
          ],
          [
           0.5,
           "rgb(255,255,191)"
          ],
          [
           0.6,
           "rgb(224,243,248)"
          ],
          [
           0.7,
           "rgb(171,217,233)"
          ],
          [
           0.8,
           "rgb(116,173,209)"
          ],
          [
           0.9,
           "rgb(69,117,180)"
          ],
          [
           1,
           "rgb(49,54,149)"
          ]
         ],
         "type": "surface",
         "x": [
          0,
          1,
          2,
          3,
          4
         ],
         "y": [
          "x",
          "y",
          "z"
         ],
         "z": [
          [
           1,
           2,
           3,
           4,
           5
          ],
          [
           10,
           20,
           30,
           20,
           10
          ],
          [
           5,
           4,
           3,
           2,
           1
          ]
         ]
        }
       ],
       "layout": {
        "legend": {
         "bgcolor": "#F5F6F9",
         "font": {
          "color": "#4D5663"
         }
        },
        "paper_bgcolor": "#F5F6F9",
        "plot_bgcolor": "#F5F6F9",
        "template": {
         "data": {
          "bar": [
           {
            "error_x": {
             "color": "#2a3f5f"
            },
            "error_y": {
             "color": "#2a3f5f"
            },
            "marker": {
             "line": {
              "color": "#E5ECF6",
              "width": 0.5
             },
             "pattern": {
              "fillmode": "overlay",
              "size": 10,
              "solidity": 0.2
             }
            },
            "type": "bar"
           }
          ],
          "barpolar": [
           {
            "marker": {
             "line": {
              "color": "#E5ECF6",
              "width": 0.5
             },
             "pattern": {
              "fillmode": "overlay",
              "size": 10,
              "solidity": 0.2
             }
            },
            "type": "barpolar"
           }
          ],
          "carpet": [
           {
            "aaxis": {
             "endlinecolor": "#2a3f5f",
             "gridcolor": "white",
             "linecolor": "white",
             "minorgridcolor": "white",
             "startlinecolor": "#2a3f5f"
            },
            "baxis": {
             "endlinecolor": "#2a3f5f",
             "gridcolor": "white",
             "linecolor": "white",
             "minorgridcolor": "white",
             "startlinecolor": "#2a3f5f"
            },
            "type": "carpet"
           }
          ],
          "choropleth": [
           {
            "colorbar": {
             "outlinewidth": 0,
             "ticks": ""
            },
            "type": "choropleth"
           }
          ],
          "contour": [
           {
            "colorbar": {
             "outlinewidth": 0,
             "ticks": ""
            },
            "colorscale": [
             [
              0,
              "#0d0887"
             ],
             [
              0.1111111111111111,
              "#46039f"
             ],
             [
              0.2222222222222222,
              "#7201a8"
             ],
             [
              0.3333333333333333,
              "#9c179e"
             ],
             [
              0.4444444444444444,
              "#bd3786"
             ],
             [
              0.5555555555555556,
              "#d8576b"
             ],
             [
              0.6666666666666666,
              "#ed7953"
             ],
             [
              0.7777777777777778,
              "#fb9f3a"
             ],
             [
              0.8888888888888888,
              "#fdca26"
             ],
             [
              1,
              "#f0f921"
             ]
            ],
            "type": "contour"
           }
          ],
          "contourcarpet": [
           {
            "colorbar": {
             "outlinewidth": 0,
             "ticks": ""
            },
            "type": "contourcarpet"
           }
          ],
          "heatmap": [
           {
            "colorbar": {
             "outlinewidth": 0,
             "ticks": ""
            },
            "colorscale": [
             [
              0,
              "#0d0887"
             ],
             [
              0.1111111111111111,
              "#46039f"
             ],
             [
              0.2222222222222222,
              "#7201a8"
             ],
             [
              0.3333333333333333,
              "#9c179e"
             ],
             [
              0.4444444444444444,
              "#bd3786"
             ],
             [
              0.5555555555555556,
              "#d8576b"
             ],
             [
              0.6666666666666666,
              "#ed7953"
             ],
             [
              0.7777777777777778,
              "#fb9f3a"
             ],
             [
              0.8888888888888888,
              "#fdca26"
             ],
             [
              1,
              "#f0f921"
             ]
            ],
            "type": "heatmap"
           }
          ],
          "heatmapgl": [
           {
            "colorbar": {
             "outlinewidth": 0,
             "ticks": ""
            },
            "colorscale": [
             [
              0,
              "#0d0887"
             ],
             [
              0.1111111111111111,
              "#46039f"
             ],
             [
              0.2222222222222222,
              "#7201a8"
             ],
             [
              0.3333333333333333,
              "#9c179e"
             ],
             [
              0.4444444444444444,
              "#bd3786"
             ],
             [
              0.5555555555555556,
              "#d8576b"
             ],
             [
              0.6666666666666666,
              "#ed7953"
             ],
             [
              0.7777777777777778,
              "#fb9f3a"
             ],
             [
              0.8888888888888888,
              "#fdca26"
             ],
             [
              1,
              "#f0f921"
             ]
            ],
            "type": "heatmapgl"
           }
          ],
          "histogram": [
           {
            "marker": {
             "pattern": {
              "fillmode": "overlay",
              "size": 10,
              "solidity": 0.2
             }
            },
            "type": "histogram"
           }
          ],
          "histogram2d": [
           {
            "colorbar": {
             "outlinewidth": 0,
             "ticks": ""
            },
            "colorscale": [
             [
              0,
              "#0d0887"
             ],
             [
              0.1111111111111111,
              "#46039f"
             ],
             [
              0.2222222222222222,
              "#7201a8"
             ],
             [
              0.3333333333333333,
              "#9c179e"
             ],
             [
              0.4444444444444444,
              "#bd3786"
             ],
             [
              0.5555555555555556,
              "#d8576b"
             ],
             [
              0.6666666666666666,
              "#ed7953"
             ],
             [
              0.7777777777777778,
              "#fb9f3a"
             ],
             [
              0.8888888888888888,
              "#fdca26"
             ],
             [
              1,
              "#f0f921"
             ]
            ],
            "type": "histogram2d"
           }
          ],
          "histogram2dcontour": [
           {
            "colorbar": {
             "outlinewidth": 0,
             "ticks": ""
            },
            "colorscale": [
             [
              0,
              "#0d0887"
             ],
             [
              0.1111111111111111,
              "#46039f"
             ],
             [
              0.2222222222222222,
              "#7201a8"
             ],
             [
              0.3333333333333333,
              "#9c179e"
             ],
             [
              0.4444444444444444,
              "#bd3786"
             ],
             [
              0.5555555555555556,
              "#d8576b"
             ],
             [
              0.6666666666666666,
              "#ed7953"
             ],
             [
              0.7777777777777778,
              "#fb9f3a"
             ],
             [
              0.8888888888888888,
              "#fdca26"
             ],
             [
              1,
              "#f0f921"
             ]
            ],
            "type": "histogram2dcontour"
           }
          ],
          "mesh3d": [
           {
            "colorbar": {
             "outlinewidth": 0,
             "ticks": ""
            },
            "type": "mesh3d"
           }
          ],
          "parcoords": [
           {
            "line": {
             "colorbar": {
              "outlinewidth": 0,
              "ticks": ""
             }
            },
            "type": "parcoords"
           }
          ],
          "pie": [
           {
            "automargin": true,
            "type": "pie"
           }
          ],
          "scatter": [
           {
            "fillpattern": {
             "fillmode": "overlay",
             "size": 10,
             "solidity": 0.2
            },
            "type": "scatter"
           }
          ],
          "scatter3d": [
           {
            "line": {
             "colorbar": {
              "outlinewidth": 0,
              "ticks": ""
             }
            },
            "marker": {
             "colorbar": {
              "outlinewidth": 0,
              "ticks": ""
             }
            },
            "type": "scatter3d"
           }
          ],
          "scattercarpet": [
           {
            "marker": {
             "colorbar": {
              "outlinewidth": 0,
              "ticks": ""
             }
            },
            "type": "scattercarpet"
           }
          ],
          "scattergeo": [
           {
            "marker": {
             "colorbar": {
              "outlinewidth": 0,
              "ticks": ""
             }
            },
            "type": "scattergeo"
           }
          ],
          "scattergl": [
           {
            "marker": {
             "colorbar": {
              "outlinewidth": 0,
              "ticks": ""
             }
            },
            "type": "scattergl"
           }
          ],
          "scattermapbox": [
           {
            "marker": {
             "colorbar": {
              "outlinewidth": 0,
              "ticks": ""
             }
            },
            "type": "scattermapbox"
           }
          ],
          "scatterpolar": [
           {
            "marker": {
             "colorbar": {
              "outlinewidth": 0,
              "ticks": ""
             }
            },
            "type": "scatterpolar"
           }
          ],
          "scatterpolargl": [
           {
            "marker": {
             "colorbar": {
              "outlinewidth": 0,
              "ticks": ""
             }
            },
            "type": "scatterpolargl"
           }
          ],
          "scatterternary": [
           {
            "marker": {
             "colorbar": {
              "outlinewidth": 0,
              "ticks": ""
             }
            },
            "type": "scatterternary"
           }
          ],
          "surface": [
           {
            "colorbar": {
             "outlinewidth": 0,
             "ticks": ""
            },
            "colorscale": [
             [
              0,
              "#0d0887"
             ],
             [
              0.1111111111111111,
              "#46039f"
             ],
             [
              0.2222222222222222,
              "#7201a8"
             ],
             [
              0.3333333333333333,
              "#9c179e"
             ],
             [
              0.4444444444444444,
              "#bd3786"
             ],
             [
              0.5555555555555556,
              "#d8576b"
             ],
             [
              0.6666666666666666,
              "#ed7953"
             ],
             [
              0.7777777777777778,
              "#fb9f3a"
             ],
             [
              0.8888888888888888,
              "#fdca26"
             ],
             [
              1,
              "#f0f921"
             ]
            ],
            "type": "surface"
           }
          ],
          "table": [
           {
            "cells": {
             "fill": {
              "color": "#EBF0F8"
             },
             "line": {
              "color": "white"
             }
            },
            "header": {
             "fill": {
              "color": "#C8D4E3"
             },
             "line": {
              "color": "white"
             }
            },
            "type": "table"
           }
          ]
         },
         "layout": {
          "annotationdefaults": {
           "arrowcolor": "#2a3f5f",
           "arrowhead": 0,
           "arrowwidth": 1
          },
          "autotypenumbers": "strict",
          "coloraxis": {
           "colorbar": {
            "outlinewidth": 0,
            "ticks": ""
           }
          },
          "colorscale": {
           "diverging": [
            [
             0,
             "#8e0152"
            ],
            [
             0.1,
             "#c51b7d"
            ],
            [
             0.2,
             "#de77ae"
            ],
            [
             0.3,
             "#f1b6da"
            ],
            [
             0.4,
             "#fde0ef"
            ],
            [
             0.5,
             "#f7f7f7"
            ],
            [
             0.6,
             "#e6f5d0"
            ],
            [
             0.7,
             "#b8e186"
            ],
            [
             0.8,
             "#7fbc41"
            ],
            [
             0.9,
             "#4d9221"
            ],
            [
             1,
             "#276419"
            ]
           ],
           "sequential": [
            [
             0,
             "#0d0887"
            ],
            [
             0.1111111111111111,
             "#46039f"
            ],
            [
             0.2222222222222222,
             "#7201a8"
            ],
            [
             0.3333333333333333,
             "#9c179e"
            ],
            [
             0.4444444444444444,
             "#bd3786"
            ],
            [
             0.5555555555555556,
             "#d8576b"
            ],
            [
             0.6666666666666666,
             "#ed7953"
            ],
            [
             0.7777777777777778,
             "#fb9f3a"
            ],
            [
             0.8888888888888888,
             "#fdca26"
            ],
            [
             1,
             "#f0f921"
            ]
           ],
           "sequentialminus": [
            [
             0,
             "#0d0887"
            ],
            [
             0.1111111111111111,
             "#46039f"
            ],
            [
             0.2222222222222222,
             "#7201a8"
            ],
            [
             0.3333333333333333,
             "#9c179e"
            ],
            [
             0.4444444444444444,
             "#bd3786"
            ],
            [
             0.5555555555555556,
             "#d8576b"
            ],
            [
             0.6666666666666666,
             "#ed7953"
            ],
            [
             0.7777777777777778,
             "#fb9f3a"
            ],
            [
             0.8888888888888888,
             "#fdca26"
            ],
            [
             1,
             "#f0f921"
            ]
           ]
          },
          "colorway": [
           "#636efa",
           "#EF553B",
           "#00cc96",
           "#ab63fa",
           "#FFA15A",
           "#19d3f3",
           "#FF6692",
           "#B6E880",
           "#FF97FF",
           "#FECB52"
          ],
          "font": {
           "color": "#2a3f5f"
          },
          "geo": {
           "bgcolor": "white",
           "lakecolor": "white",
           "landcolor": "#E5ECF6",
           "showlakes": true,
           "showland": true,
           "subunitcolor": "white"
          },
          "hoverlabel": {
           "align": "left"
          },
          "hovermode": "closest",
          "mapbox": {
           "style": "light"
          },
          "paper_bgcolor": "white",
          "plot_bgcolor": "#E5ECF6",
          "polar": {
           "angularaxis": {
            "gridcolor": "white",
            "linecolor": "white",
            "ticks": ""
           },
           "bgcolor": "#E5ECF6",
           "radialaxis": {
            "gridcolor": "white",
            "linecolor": "white",
            "ticks": ""
           }
          },
          "scene": {
           "xaxis": {
            "backgroundcolor": "#E5ECF6",
            "gridcolor": "white",
            "gridwidth": 2,
            "linecolor": "white",
            "showbackground": true,
            "ticks": "",
            "zerolinecolor": "white"
           },
           "yaxis": {
            "backgroundcolor": "#E5ECF6",
            "gridcolor": "white",
            "gridwidth": 2,
            "linecolor": "white",
            "showbackground": true,
            "ticks": "",
            "zerolinecolor": "white"
           },
           "zaxis": {
            "backgroundcolor": "#E5ECF6",
            "gridcolor": "white",
            "gridwidth": 2,
            "linecolor": "white",
            "showbackground": true,
            "ticks": "",
            "zerolinecolor": "white"
           }
          },
          "shapedefaults": {
           "line": {
            "color": "#2a3f5f"
           }
          },
          "ternary": {
           "aaxis": {
            "gridcolor": "white",
            "linecolor": "white",
            "ticks": ""
           },
           "baxis": {
            "gridcolor": "white",
            "linecolor": "white",
            "ticks": ""
           },
           "bgcolor": "#E5ECF6",
           "caxis": {
            "gridcolor": "white",
            "linecolor": "white",
            "ticks": ""
           }
          },
          "title": {
           "x": 0.05
          },
          "xaxis": {
           "automargin": true,
           "gridcolor": "white",
           "linecolor": "white",
           "ticks": "",
           "title": {
            "standoff": 15
           },
           "zerolinecolor": "white",
           "zerolinewidth": 2
          },
          "yaxis": {
           "automargin": true,
           "gridcolor": "white",
           "linecolor": "white",
           "ticks": "",
           "title": {
            "standoff": 15
           },
           "zerolinecolor": "white",
           "zerolinewidth": 2
          }
         }
        },
        "title": {
         "font": {
          "color": "#4D5663"
         }
        },
        "xaxis": {
         "gridcolor": "#E1E5ED",
         "showgrid": true,
         "tickfont": {
          "color": "#4D5663"
         },
         "title": {
          "font": {
           "color": "#4D5663"
          },
          "text": ""
         },
         "zerolinecolor": "#E1E5ED"
        },
        "yaxis": {
         "gridcolor": "#E1E5ED",
         "showgrid": true,
         "tickfont": {
          "color": "#4D5663"
         },
         "title": {
          "font": {
           "color": "#4D5663"
          },
          "text": ""
         },
         "zerolinecolor": "#E1E5ED"
        }
       }
      },
      "text/html": [
       "<div>                            <div id=\"63a2f9dd-abcc-4aab-8c81-f8489431072a\" class=\"plotly-graph-div\" style=\"height:525px; width:100%;\"></div>            <script type=\"text/javascript\">                require([\"plotly\"], function(Plotly) {                    window.PLOTLYENV=window.PLOTLYENV || {};\n",
       "                    window.PLOTLYENV.BASE_URL='https://plot.ly';                                    if (document.getElementById(\"63a2f9dd-abcc-4aab-8c81-f8489431072a\")) {                    Plotly.newPlot(                        \"63a2f9dd-abcc-4aab-8c81-f8489431072a\",                        [{\"colorscale\":[[0.0,\"rgb(165,0,38)\"],[0.1,\"rgb(215,48,39)\"],[0.2,\"rgb(244,109,67)\"],[0.3,\"rgb(253,174,97)\"],[0.4,\"rgb(254,224,144)\"],[0.5,\"rgb(255,255,191)\"],[0.6,\"rgb(224,243,248)\"],[0.7,\"rgb(171,217,233)\"],[0.8,\"rgb(116,173,209)\"],[0.9,\"rgb(69,117,180)\"],[1.0,\"rgb(49,54,149)\"]],\"x\":[0,1,2,3,4],\"y\":[\"x\",\"y\",\"z\"],\"z\":[[1,2,3,4,5],[10,20,30,20,10],[5,4,3,2,1]],\"type\":\"surface\"}],                        {\"legend\":{\"bgcolor\":\"#F5F6F9\",\"font\":{\"color\":\"#4D5663\"}},\"paper_bgcolor\":\"#F5F6F9\",\"plot_bgcolor\":\"#F5F6F9\",\"template\":{\"data\":{\"barpolar\":[{\"marker\":{\"line\":{\"color\":\"#E5ECF6\",\"width\":0.5},\"pattern\":{\"fillmode\":\"overlay\",\"size\":10,\"solidity\":0.2}},\"type\":\"barpolar\"}],\"bar\":[{\"error_x\":{\"color\":\"#2a3f5f\"},\"error_y\":{\"color\":\"#2a3f5f\"},\"marker\":{\"line\":{\"color\":\"#E5ECF6\",\"width\":0.5},\"pattern\":{\"fillmode\":\"overlay\",\"size\":10,\"solidity\":0.2}},\"type\":\"bar\"}],\"carpet\":[{\"aaxis\":{\"endlinecolor\":\"#2a3f5f\",\"gridcolor\":\"white\",\"linecolor\":\"white\",\"minorgridcolor\":\"white\",\"startlinecolor\":\"#2a3f5f\"},\"baxis\":{\"endlinecolor\":\"#2a3f5f\",\"gridcolor\":\"white\",\"linecolor\":\"white\",\"minorgridcolor\":\"white\",\"startlinecolor\":\"#2a3f5f\"},\"type\":\"carpet\"}],\"choropleth\":[{\"colorbar\":{\"outlinewidth\":0,\"ticks\":\"\"},\"type\":\"choropleth\"}],\"contourcarpet\":[{\"colorbar\":{\"outlinewidth\":0,\"ticks\":\"\"},\"type\":\"contourcarpet\"}],\"contour\":[{\"colorbar\":{\"outlinewidth\":0,\"ticks\":\"\"},\"colorscale\":[[0.0,\"#0d0887\"],[0.1111111111111111,\"#46039f\"],[0.2222222222222222,\"#7201a8\"],[0.3333333333333333,\"#9c179e\"],[0.4444444444444444,\"#bd3786\"],[0.5555555555555556,\"#d8576b\"],[0.6666666666666666,\"#ed7953\"],[0.7777777777777778,\"#fb9f3a\"],[0.8888888888888888,\"#fdca26\"],[1.0,\"#f0f921\"]],\"type\":\"contour\"}],\"heatmapgl\":[{\"colorbar\":{\"outlinewidth\":0,\"ticks\":\"\"},\"colorscale\":[[0.0,\"#0d0887\"],[0.1111111111111111,\"#46039f\"],[0.2222222222222222,\"#7201a8\"],[0.3333333333333333,\"#9c179e\"],[0.4444444444444444,\"#bd3786\"],[0.5555555555555556,\"#d8576b\"],[0.6666666666666666,\"#ed7953\"],[0.7777777777777778,\"#fb9f3a\"],[0.8888888888888888,\"#fdca26\"],[1.0,\"#f0f921\"]],\"type\":\"heatmapgl\"}],\"heatmap\":[{\"colorbar\":{\"outlinewidth\":0,\"ticks\":\"\"},\"colorscale\":[[0.0,\"#0d0887\"],[0.1111111111111111,\"#46039f\"],[0.2222222222222222,\"#7201a8\"],[0.3333333333333333,\"#9c179e\"],[0.4444444444444444,\"#bd3786\"],[0.5555555555555556,\"#d8576b\"],[0.6666666666666666,\"#ed7953\"],[0.7777777777777778,\"#fb9f3a\"],[0.8888888888888888,\"#fdca26\"],[1.0,\"#f0f921\"]],\"type\":\"heatmap\"}],\"histogram2dcontour\":[{\"colorbar\":{\"outlinewidth\":0,\"ticks\":\"\"},\"colorscale\":[[0.0,\"#0d0887\"],[0.1111111111111111,\"#46039f\"],[0.2222222222222222,\"#7201a8\"],[0.3333333333333333,\"#9c179e\"],[0.4444444444444444,\"#bd3786\"],[0.5555555555555556,\"#d8576b\"],[0.6666666666666666,\"#ed7953\"],[0.7777777777777778,\"#fb9f3a\"],[0.8888888888888888,\"#fdca26\"],[1.0,\"#f0f921\"]],\"type\":\"histogram2dcontour\"}],\"histogram2d\":[{\"colorbar\":{\"outlinewidth\":0,\"ticks\":\"\"},\"colorscale\":[[0.0,\"#0d0887\"],[0.1111111111111111,\"#46039f\"],[0.2222222222222222,\"#7201a8\"],[0.3333333333333333,\"#9c179e\"],[0.4444444444444444,\"#bd3786\"],[0.5555555555555556,\"#d8576b\"],[0.6666666666666666,\"#ed7953\"],[0.7777777777777778,\"#fb9f3a\"],[0.8888888888888888,\"#fdca26\"],[1.0,\"#f0f921\"]],\"type\":\"histogram2d\"}],\"histogram\":[{\"marker\":{\"pattern\":{\"fillmode\":\"overlay\",\"size\":10,\"solidity\":0.2}},\"type\":\"histogram\"}],\"mesh3d\":[{\"colorbar\":{\"outlinewidth\":0,\"ticks\":\"\"},\"type\":\"mesh3d\"}],\"parcoords\":[{\"line\":{\"colorbar\":{\"outlinewidth\":0,\"ticks\":\"\"}},\"type\":\"parcoords\"}],\"pie\":[{\"automargin\":true,\"type\":\"pie\"}],\"scatter3d\":[{\"line\":{\"colorbar\":{\"outlinewidth\":0,\"ticks\":\"\"}},\"marker\":{\"colorbar\":{\"outlinewidth\":0,\"ticks\":\"\"}},\"type\":\"scatter3d\"}],\"scattercarpet\":[{\"marker\":{\"colorbar\":{\"outlinewidth\":0,\"ticks\":\"\"}},\"type\":\"scattercarpet\"}],\"scattergeo\":[{\"marker\":{\"colorbar\":{\"outlinewidth\":0,\"ticks\":\"\"}},\"type\":\"scattergeo\"}],\"scattergl\":[{\"marker\":{\"colorbar\":{\"outlinewidth\":0,\"ticks\":\"\"}},\"type\":\"scattergl\"}],\"scattermapbox\":[{\"marker\":{\"colorbar\":{\"outlinewidth\":0,\"ticks\":\"\"}},\"type\":\"scattermapbox\"}],\"scatterpolargl\":[{\"marker\":{\"colorbar\":{\"outlinewidth\":0,\"ticks\":\"\"}},\"type\":\"scatterpolargl\"}],\"scatterpolar\":[{\"marker\":{\"colorbar\":{\"outlinewidth\":0,\"ticks\":\"\"}},\"type\":\"scatterpolar\"}],\"scatter\":[{\"fillpattern\":{\"fillmode\":\"overlay\",\"size\":10,\"solidity\":0.2},\"type\":\"scatter\"}],\"scatterternary\":[{\"marker\":{\"colorbar\":{\"outlinewidth\":0,\"ticks\":\"\"}},\"type\":\"scatterternary\"}],\"surface\":[{\"colorbar\":{\"outlinewidth\":0,\"ticks\":\"\"},\"colorscale\":[[0.0,\"#0d0887\"],[0.1111111111111111,\"#46039f\"],[0.2222222222222222,\"#7201a8\"],[0.3333333333333333,\"#9c179e\"],[0.4444444444444444,\"#bd3786\"],[0.5555555555555556,\"#d8576b\"],[0.6666666666666666,\"#ed7953\"],[0.7777777777777778,\"#fb9f3a\"],[0.8888888888888888,\"#fdca26\"],[1.0,\"#f0f921\"]],\"type\":\"surface\"}],\"table\":[{\"cells\":{\"fill\":{\"color\":\"#EBF0F8\"},\"line\":{\"color\":\"white\"}},\"header\":{\"fill\":{\"color\":\"#C8D4E3\"},\"line\":{\"color\":\"white\"}},\"type\":\"table\"}]},\"layout\":{\"annotationdefaults\":{\"arrowcolor\":\"#2a3f5f\",\"arrowhead\":0,\"arrowwidth\":1},\"autotypenumbers\":\"strict\",\"coloraxis\":{\"colorbar\":{\"outlinewidth\":0,\"ticks\":\"\"}},\"colorscale\":{\"diverging\":[[0,\"#8e0152\"],[0.1,\"#c51b7d\"],[0.2,\"#de77ae\"],[0.3,\"#f1b6da\"],[0.4,\"#fde0ef\"],[0.5,\"#f7f7f7\"],[0.6,\"#e6f5d0\"],[0.7,\"#b8e186\"],[0.8,\"#7fbc41\"],[0.9,\"#4d9221\"],[1,\"#276419\"]],\"sequential\":[[0.0,\"#0d0887\"],[0.1111111111111111,\"#46039f\"],[0.2222222222222222,\"#7201a8\"],[0.3333333333333333,\"#9c179e\"],[0.4444444444444444,\"#bd3786\"],[0.5555555555555556,\"#d8576b\"],[0.6666666666666666,\"#ed7953\"],[0.7777777777777778,\"#fb9f3a\"],[0.8888888888888888,\"#fdca26\"],[1.0,\"#f0f921\"]],\"sequentialminus\":[[0.0,\"#0d0887\"],[0.1111111111111111,\"#46039f\"],[0.2222222222222222,\"#7201a8\"],[0.3333333333333333,\"#9c179e\"],[0.4444444444444444,\"#bd3786\"],[0.5555555555555556,\"#d8576b\"],[0.6666666666666666,\"#ed7953\"],[0.7777777777777778,\"#fb9f3a\"],[0.8888888888888888,\"#fdca26\"],[1.0,\"#f0f921\"]]},\"colorway\":[\"#636efa\",\"#EF553B\",\"#00cc96\",\"#ab63fa\",\"#FFA15A\",\"#19d3f3\",\"#FF6692\",\"#B6E880\",\"#FF97FF\",\"#FECB52\"],\"font\":{\"color\":\"#2a3f5f\"},\"geo\":{\"bgcolor\":\"white\",\"lakecolor\":\"white\",\"landcolor\":\"#E5ECF6\",\"showlakes\":true,\"showland\":true,\"subunitcolor\":\"white\"},\"hoverlabel\":{\"align\":\"left\"},\"hovermode\":\"closest\",\"mapbox\":{\"style\":\"light\"},\"paper_bgcolor\":\"white\",\"plot_bgcolor\":\"#E5ECF6\",\"polar\":{\"angularaxis\":{\"gridcolor\":\"white\",\"linecolor\":\"white\",\"ticks\":\"\"},\"bgcolor\":\"#E5ECF6\",\"radialaxis\":{\"gridcolor\":\"white\",\"linecolor\":\"white\",\"ticks\":\"\"}},\"scene\":{\"xaxis\":{\"backgroundcolor\":\"#E5ECF6\",\"gridcolor\":\"white\",\"gridwidth\":2,\"linecolor\":\"white\",\"showbackground\":true,\"ticks\":\"\",\"zerolinecolor\":\"white\"},\"yaxis\":{\"backgroundcolor\":\"#E5ECF6\",\"gridcolor\":\"white\",\"gridwidth\":2,\"linecolor\":\"white\",\"showbackground\":true,\"ticks\":\"\",\"zerolinecolor\":\"white\"},\"zaxis\":{\"backgroundcolor\":\"#E5ECF6\",\"gridcolor\":\"white\",\"gridwidth\":2,\"linecolor\":\"white\",\"showbackground\":true,\"ticks\":\"\",\"zerolinecolor\":\"white\"}},\"shapedefaults\":{\"line\":{\"color\":\"#2a3f5f\"}},\"ternary\":{\"aaxis\":{\"gridcolor\":\"white\",\"linecolor\":\"white\",\"ticks\":\"\"},\"baxis\":{\"gridcolor\":\"white\",\"linecolor\":\"white\",\"ticks\":\"\"},\"bgcolor\":\"#E5ECF6\",\"caxis\":{\"gridcolor\":\"white\",\"linecolor\":\"white\",\"ticks\":\"\"}},\"title\":{\"x\":0.05},\"xaxis\":{\"automargin\":true,\"gridcolor\":\"white\",\"linecolor\":\"white\",\"ticks\":\"\",\"title\":{\"standoff\":15},\"zerolinecolor\":\"white\",\"zerolinewidth\":2},\"yaxis\":{\"automargin\":true,\"gridcolor\":\"white\",\"linecolor\":\"white\",\"ticks\":\"\",\"title\":{\"standoff\":15},\"zerolinecolor\":\"white\",\"zerolinewidth\":2}}},\"title\":{\"font\":{\"color\":\"#4D5663\"}},\"xaxis\":{\"gridcolor\":\"#E1E5ED\",\"showgrid\":true,\"tickfont\":{\"color\":\"#4D5663\"},\"title\":{\"font\":{\"color\":\"#4D5663\"},\"text\":\"\"},\"zerolinecolor\":\"#E1E5ED\"},\"yaxis\":{\"gridcolor\":\"#E1E5ED\",\"showgrid\":true,\"tickfont\":{\"color\":\"#4D5663\"},\"title\":{\"font\":{\"color\":\"#4D5663\"},\"text\":\"\"},\"zerolinecolor\":\"#E1E5ED\"}},                        {\"showLink\": true, \"linkText\": \"Export to plot.ly\", \"plotlyServerURL\": \"https://plot.ly\", \"responsive\": true}                    ).then(function(){\n",
       "                            \n",
       "var gd = document.getElementById('63a2f9dd-abcc-4aab-8c81-f8489431072a');\n",
       "var x = new MutationObserver(function (mutations, observer) {{\n",
       "        var display = window.getComputedStyle(gd).display;\n",
       "        if (!display || display === 'none') {{\n",
       "            console.log([gd, 'removed!']);\n",
       "            Plotly.purge(gd);\n",
       "            observer.disconnect();\n",
       "        }}\n",
       "}});\n",
       "\n",
       "// Listen for the removal of the full notebook cells\n",
       "var notebookContainer = gd.closest('#notebook-container');\n",
       "if (notebookContainer) {{\n",
       "    x.observe(notebookContainer, {childList: true});\n",
       "}}\n",
       "\n",
       "// Listen for the clearing of the current output cell\n",
       "var outputEl = gd.closest('.output');\n",
       "if (outputEl) {{\n",
       "    x.observe(outputEl, {childList: true});\n",
       "}}\n",
       "\n",
       "                        })                };                });            </script>        </div>"
      ]
     },
     "metadata": {},
     "output_type": "display_data"
    }
   ],
   "source": [
    "df3 = pd.DataFrame({'x':[1,2,3,4,5],'y':[10,20,30,20,10],'z':[5,4,3,2,1]})\n",
    "df3.iplot(kind='surface',colorscale='rdylbu')"
   ]
  },
  {
   "cell_type": "markdown",
   "metadata": {},
   "source": [
    "## histogram"
   ]
  },
  {
   "cell_type": "code",
   "execution_count": 15,
   "metadata": {},
   "outputs": [
    {
     "data": {
      "application/vnd.plotly.v1+json": {
       "config": {
        "linkText": "Export to plot.ly",
        "plotlyServerURL": "https://plot.ly",
        "showLink": true
       },
       "data": [
        {
         "histfunc": "count",
         "histnorm": "",
         "marker": {
          "color": "rgba(255, 153, 51, 1.0)",
          "line": {
           "color": "#4D5663",
           "width": 1.3
          }
         },
         "name": "A",
         "nbinsx": 25,
         "opacity": 0.8,
         "orientation": "v",
         "type": "histogram",
         "x": [
          0.13160484099032704,
          -0.7950894148460821,
          -0.13178744981839602,
          0.04643253694874059,
          1.4008811580488094,
          1.0636094200617128,
          -0.6302576662973428,
          -1.0151765951983778,
          -1.6289811525645115,
          1.6268210437035,
          0.6256421851048581,
          0.6214972799378291,
          1.2228321462568825,
          1.4103128126593787,
          -1.3973949776753045,
          -0.18281033081801018,
          2.605677785134823,
          0.3988269851056346,
          -0.4529882860464019,
          1.0784128278939078,
          0.7901159872294277,
          -0.4910610738334806,
          -0.9409118009988205,
          0.434468041211235,
          0.3742896418368096,
          -1.1561864863866274,
          -1.2842867457363056,
          -0.5261606343749329,
          0.6429325143749458,
          -1.3552544051664746,
          1.6270610794688527,
          -2.1435595460990853,
          -0.23455305399294482,
          -1.5986242370245385,
          1.1759934266713825,
          -0.01270097113625606,
          -0.4668452761149272,
          -0.7412607679432618,
          0.3462472288658386,
          0.10935402326252003,
          -0.3649831789786431,
          -0.21849969872497854,
          0.32657994207227464,
          2.2351327991254717,
          0.18144734817366057,
          -0.6912176240497995,
          0.7261509416783926,
          -1.8859562311461544,
          0.6217916103657698,
          -1.814362876226159,
          0.4189234239519778,
          1.7208451979119816,
          0.46099175660802466,
          0.07536895923905688,
          1.6026332086845676,
          -0.4813040033991323,
          -1.1715479856146989,
          -0.961844887784821,
          -0.3697250311946081,
          0.9903676937190032,
          0.5987589037491994,
          0.22441901104260428,
          -0.7290832505061414,
          1.182504038571702,
          0.49849042094992546,
          1.934068179888321,
          -1.0356143693303237,
          0.5099229331601602,
          -0.14881706016740145,
          1.2932578315420147,
          -0.8803779558532795,
          0.9912732908960632,
          -0.07363103484386704,
          -1.2099173247127637,
          0.49734583814546224,
          0.35313499965974543,
          -0.27695109523629635,
          0.3977250325577475,
          0.4267867826118734,
          -1.2592491178910903,
          1.561409048832289,
          -0.6487493849583286,
          2.1000263133192827,
          -1.6738293406736495,
          -1.2478081529020673,
          -0.5461776592746976,
          -0.8069503449533223,
          -1.216016854020958,
          -0.6994925219189366,
          0.3168200730116124,
          -1.618796776256919,
          0.43488998610191393,
          -0.09960482964117366,
          0.8141745749221933,
          -0.6550109510461594,
          -1.0731797207644709,
          0.025062692688615756,
          -0.1987930919360324,
          -0.8068381141444133,
          -0.3756595044409874
         ]
        }
       ],
       "layout": {
        "barmode": "overlay",
        "legend": {
         "bgcolor": "#F5F6F9",
         "font": {
          "color": "#4D5663"
         }
        },
        "paper_bgcolor": "#F5F6F9",
        "plot_bgcolor": "#F5F6F9",
        "template": {
         "data": {
          "bar": [
           {
            "error_x": {
             "color": "#2a3f5f"
            },
            "error_y": {
             "color": "#2a3f5f"
            },
            "marker": {
             "line": {
              "color": "#E5ECF6",
              "width": 0.5
             },
             "pattern": {
              "fillmode": "overlay",
              "size": 10,
              "solidity": 0.2
             }
            },
            "type": "bar"
           }
          ],
          "barpolar": [
           {
            "marker": {
             "line": {
              "color": "#E5ECF6",
              "width": 0.5
             },
             "pattern": {
              "fillmode": "overlay",
              "size": 10,
              "solidity": 0.2
             }
            },
            "type": "barpolar"
           }
          ],
          "carpet": [
           {
            "aaxis": {
             "endlinecolor": "#2a3f5f",
             "gridcolor": "white",
             "linecolor": "white",
             "minorgridcolor": "white",
             "startlinecolor": "#2a3f5f"
            },
            "baxis": {
             "endlinecolor": "#2a3f5f",
             "gridcolor": "white",
             "linecolor": "white",
             "minorgridcolor": "white",
             "startlinecolor": "#2a3f5f"
            },
            "type": "carpet"
           }
          ],
          "choropleth": [
           {
            "colorbar": {
             "outlinewidth": 0,
             "ticks": ""
            },
            "type": "choropleth"
           }
          ],
          "contour": [
           {
            "colorbar": {
             "outlinewidth": 0,
             "ticks": ""
            },
            "colorscale": [
             [
              0,
              "#0d0887"
             ],
             [
              0.1111111111111111,
              "#46039f"
             ],
             [
              0.2222222222222222,
              "#7201a8"
             ],
             [
              0.3333333333333333,
              "#9c179e"
             ],
             [
              0.4444444444444444,
              "#bd3786"
             ],
             [
              0.5555555555555556,
              "#d8576b"
             ],
             [
              0.6666666666666666,
              "#ed7953"
             ],
             [
              0.7777777777777778,
              "#fb9f3a"
             ],
             [
              0.8888888888888888,
              "#fdca26"
             ],
             [
              1,
              "#f0f921"
             ]
            ],
            "type": "contour"
           }
          ],
          "contourcarpet": [
           {
            "colorbar": {
             "outlinewidth": 0,
             "ticks": ""
            },
            "type": "contourcarpet"
           }
          ],
          "heatmap": [
           {
            "colorbar": {
             "outlinewidth": 0,
             "ticks": ""
            },
            "colorscale": [
             [
              0,
              "#0d0887"
             ],
             [
              0.1111111111111111,
              "#46039f"
             ],
             [
              0.2222222222222222,
              "#7201a8"
             ],
             [
              0.3333333333333333,
              "#9c179e"
             ],
             [
              0.4444444444444444,
              "#bd3786"
             ],
             [
              0.5555555555555556,
              "#d8576b"
             ],
             [
              0.6666666666666666,
              "#ed7953"
             ],
             [
              0.7777777777777778,
              "#fb9f3a"
             ],
             [
              0.8888888888888888,
              "#fdca26"
             ],
             [
              1,
              "#f0f921"
             ]
            ],
            "type": "heatmap"
           }
          ],
          "heatmapgl": [
           {
            "colorbar": {
             "outlinewidth": 0,
             "ticks": ""
            },
            "colorscale": [
             [
              0,
              "#0d0887"
             ],
             [
              0.1111111111111111,
              "#46039f"
             ],
             [
              0.2222222222222222,
              "#7201a8"
             ],
             [
              0.3333333333333333,
              "#9c179e"
             ],
             [
              0.4444444444444444,
              "#bd3786"
             ],
             [
              0.5555555555555556,
              "#d8576b"
             ],
             [
              0.6666666666666666,
              "#ed7953"
             ],
             [
              0.7777777777777778,
              "#fb9f3a"
             ],
             [
              0.8888888888888888,
              "#fdca26"
             ],
             [
              1,
              "#f0f921"
             ]
            ],
            "type": "heatmapgl"
           }
          ],
          "histogram": [
           {
            "marker": {
             "pattern": {
              "fillmode": "overlay",
              "size": 10,
              "solidity": 0.2
             }
            },
            "type": "histogram"
           }
          ],
          "histogram2d": [
           {
            "colorbar": {
             "outlinewidth": 0,
             "ticks": ""
            },
            "colorscale": [
             [
              0,
              "#0d0887"
             ],
             [
              0.1111111111111111,
              "#46039f"
             ],
             [
              0.2222222222222222,
              "#7201a8"
             ],
             [
              0.3333333333333333,
              "#9c179e"
             ],
             [
              0.4444444444444444,
              "#bd3786"
             ],
             [
              0.5555555555555556,
              "#d8576b"
             ],
             [
              0.6666666666666666,
              "#ed7953"
             ],
             [
              0.7777777777777778,
              "#fb9f3a"
             ],
             [
              0.8888888888888888,
              "#fdca26"
             ],
             [
              1,
              "#f0f921"
             ]
            ],
            "type": "histogram2d"
           }
          ],
          "histogram2dcontour": [
           {
            "colorbar": {
             "outlinewidth": 0,
             "ticks": ""
            },
            "colorscale": [
             [
              0,
              "#0d0887"
             ],
             [
              0.1111111111111111,
              "#46039f"
             ],
             [
              0.2222222222222222,
              "#7201a8"
             ],
             [
              0.3333333333333333,
              "#9c179e"
             ],
             [
              0.4444444444444444,
              "#bd3786"
             ],
             [
              0.5555555555555556,
              "#d8576b"
             ],
             [
              0.6666666666666666,
              "#ed7953"
             ],
             [
              0.7777777777777778,
              "#fb9f3a"
             ],
             [
              0.8888888888888888,
              "#fdca26"
             ],
             [
              1,
              "#f0f921"
             ]
            ],
            "type": "histogram2dcontour"
           }
          ],
          "mesh3d": [
           {
            "colorbar": {
             "outlinewidth": 0,
             "ticks": ""
            },
            "type": "mesh3d"
           }
          ],
          "parcoords": [
           {
            "line": {
             "colorbar": {
              "outlinewidth": 0,
              "ticks": ""
             }
            },
            "type": "parcoords"
           }
          ],
          "pie": [
           {
            "automargin": true,
            "type": "pie"
           }
          ],
          "scatter": [
           {
            "fillpattern": {
             "fillmode": "overlay",
             "size": 10,
             "solidity": 0.2
            },
            "type": "scatter"
           }
          ],
          "scatter3d": [
           {
            "line": {
             "colorbar": {
              "outlinewidth": 0,
              "ticks": ""
             }
            },
            "marker": {
             "colorbar": {
              "outlinewidth": 0,
              "ticks": ""
             }
            },
            "type": "scatter3d"
           }
          ],
          "scattercarpet": [
           {
            "marker": {
             "colorbar": {
              "outlinewidth": 0,
              "ticks": ""
             }
            },
            "type": "scattercarpet"
           }
          ],
          "scattergeo": [
           {
            "marker": {
             "colorbar": {
              "outlinewidth": 0,
              "ticks": ""
             }
            },
            "type": "scattergeo"
           }
          ],
          "scattergl": [
           {
            "marker": {
             "colorbar": {
              "outlinewidth": 0,
              "ticks": ""
             }
            },
            "type": "scattergl"
           }
          ],
          "scattermapbox": [
           {
            "marker": {
             "colorbar": {
              "outlinewidth": 0,
              "ticks": ""
             }
            },
            "type": "scattermapbox"
           }
          ],
          "scatterpolar": [
           {
            "marker": {
             "colorbar": {
              "outlinewidth": 0,
              "ticks": ""
             }
            },
            "type": "scatterpolar"
           }
          ],
          "scatterpolargl": [
           {
            "marker": {
             "colorbar": {
              "outlinewidth": 0,
              "ticks": ""
             }
            },
            "type": "scatterpolargl"
           }
          ],
          "scatterternary": [
           {
            "marker": {
             "colorbar": {
              "outlinewidth": 0,
              "ticks": ""
             }
            },
            "type": "scatterternary"
           }
          ],
          "surface": [
           {
            "colorbar": {
             "outlinewidth": 0,
             "ticks": ""
            },
            "colorscale": [
             [
              0,
              "#0d0887"
             ],
             [
              0.1111111111111111,
              "#46039f"
             ],
             [
              0.2222222222222222,
              "#7201a8"
             ],
             [
              0.3333333333333333,
              "#9c179e"
             ],
             [
              0.4444444444444444,
              "#bd3786"
             ],
             [
              0.5555555555555556,
              "#d8576b"
             ],
             [
              0.6666666666666666,
              "#ed7953"
             ],
             [
              0.7777777777777778,
              "#fb9f3a"
             ],
             [
              0.8888888888888888,
              "#fdca26"
             ],
             [
              1,
              "#f0f921"
             ]
            ],
            "type": "surface"
           }
          ],
          "table": [
           {
            "cells": {
             "fill": {
              "color": "#EBF0F8"
             },
             "line": {
              "color": "white"
             }
            },
            "header": {
             "fill": {
              "color": "#C8D4E3"
             },
             "line": {
              "color": "white"
             }
            },
            "type": "table"
           }
          ]
         },
         "layout": {
          "annotationdefaults": {
           "arrowcolor": "#2a3f5f",
           "arrowhead": 0,
           "arrowwidth": 1
          },
          "autotypenumbers": "strict",
          "coloraxis": {
           "colorbar": {
            "outlinewidth": 0,
            "ticks": ""
           }
          },
          "colorscale": {
           "diverging": [
            [
             0,
             "#8e0152"
            ],
            [
             0.1,
             "#c51b7d"
            ],
            [
             0.2,
             "#de77ae"
            ],
            [
             0.3,
             "#f1b6da"
            ],
            [
             0.4,
             "#fde0ef"
            ],
            [
             0.5,
             "#f7f7f7"
            ],
            [
             0.6,
             "#e6f5d0"
            ],
            [
             0.7,
             "#b8e186"
            ],
            [
             0.8,
             "#7fbc41"
            ],
            [
             0.9,
             "#4d9221"
            ],
            [
             1,
             "#276419"
            ]
           ],
           "sequential": [
            [
             0,
             "#0d0887"
            ],
            [
             0.1111111111111111,
             "#46039f"
            ],
            [
             0.2222222222222222,
             "#7201a8"
            ],
            [
             0.3333333333333333,
             "#9c179e"
            ],
            [
             0.4444444444444444,
             "#bd3786"
            ],
            [
             0.5555555555555556,
             "#d8576b"
            ],
            [
             0.6666666666666666,
             "#ed7953"
            ],
            [
             0.7777777777777778,
             "#fb9f3a"
            ],
            [
             0.8888888888888888,
             "#fdca26"
            ],
            [
             1,
             "#f0f921"
            ]
           ],
           "sequentialminus": [
            [
             0,
             "#0d0887"
            ],
            [
             0.1111111111111111,
             "#46039f"
            ],
            [
             0.2222222222222222,
             "#7201a8"
            ],
            [
             0.3333333333333333,
             "#9c179e"
            ],
            [
             0.4444444444444444,
             "#bd3786"
            ],
            [
             0.5555555555555556,
             "#d8576b"
            ],
            [
             0.6666666666666666,
             "#ed7953"
            ],
            [
             0.7777777777777778,
             "#fb9f3a"
            ],
            [
             0.8888888888888888,
             "#fdca26"
            ],
            [
             1,
             "#f0f921"
            ]
           ]
          },
          "colorway": [
           "#636efa",
           "#EF553B",
           "#00cc96",
           "#ab63fa",
           "#FFA15A",
           "#19d3f3",
           "#FF6692",
           "#B6E880",
           "#FF97FF",
           "#FECB52"
          ],
          "font": {
           "color": "#2a3f5f"
          },
          "geo": {
           "bgcolor": "white",
           "lakecolor": "white",
           "landcolor": "#E5ECF6",
           "showlakes": true,
           "showland": true,
           "subunitcolor": "white"
          },
          "hoverlabel": {
           "align": "left"
          },
          "hovermode": "closest",
          "mapbox": {
           "style": "light"
          },
          "paper_bgcolor": "white",
          "plot_bgcolor": "#E5ECF6",
          "polar": {
           "angularaxis": {
            "gridcolor": "white",
            "linecolor": "white",
            "ticks": ""
           },
           "bgcolor": "#E5ECF6",
           "radialaxis": {
            "gridcolor": "white",
            "linecolor": "white",
            "ticks": ""
           }
          },
          "scene": {
           "xaxis": {
            "backgroundcolor": "#E5ECF6",
            "gridcolor": "white",
            "gridwidth": 2,
            "linecolor": "white",
            "showbackground": true,
            "ticks": "",
            "zerolinecolor": "white"
           },
           "yaxis": {
            "backgroundcolor": "#E5ECF6",
            "gridcolor": "white",
            "gridwidth": 2,
            "linecolor": "white",
            "showbackground": true,
            "ticks": "",
            "zerolinecolor": "white"
           },
           "zaxis": {
            "backgroundcolor": "#E5ECF6",
            "gridcolor": "white",
            "gridwidth": 2,
            "linecolor": "white",
            "showbackground": true,
            "ticks": "",
            "zerolinecolor": "white"
           }
          },
          "shapedefaults": {
           "line": {
            "color": "#2a3f5f"
           }
          },
          "ternary": {
           "aaxis": {
            "gridcolor": "white",
            "linecolor": "white",
            "ticks": ""
           },
           "baxis": {
            "gridcolor": "white",
            "linecolor": "white",
            "ticks": ""
           },
           "bgcolor": "#E5ECF6",
           "caxis": {
            "gridcolor": "white",
            "linecolor": "white",
            "ticks": ""
           }
          },
          "title": {
           "x": 0.05
          },
          "xaxis": {
           "automargin": true,
           "gridcolor": "white",
           "linecolor": "white",
           "ticks": "",
           "title": {
            "standoff": 15
           },
           "zerolinecolor": "white",
           "zerolinewidth": 2
          },
          "yaxis": {
           "automargin": true,
           "gridcolor": "white",
           "linecolor": "white",
           "ticks": "",
           "title": {
            "standoff": 15
           },
           "zerolinecolor": "white",
           "zerolinewidth": 2
          }
         }
        },
        "title": {
         "font": {
          "color": "#4D5663"
         }
        },
        "xaxis": {
         "gridcolor": "#E1E5ED",
         "showgrid": true,
         "tickfont": {
          "color": "#4D5663"
         },
         "title": {
          "font": {
           "color": "#4D5663"
          },
          "text": ""
         },
         "zerolinecolor": "#E1E5ED"
        },
        "yaxis": {
         "gridcolor": "#E1E5ED",
         "showgrid": true,
         "tickfont": {
          "color": "#4D5663"
         },
         "title": {
          "font": {
           "color": "#4D5663"
          },
          "text": ""
         },
         "zerolinecolor": "#E1E5ED"
        }
       }
      },
      "text/html": [
       "<div>                            <div id=\"ced59588-bef1-4ba1-a93d-db30e44daffb\" class=\"plotly-graph-div\" style=\"height:525px; width:100%;\"></div>            <script type=\"text/javascript\">                require([\"plotly\"], function(Plotly) {                    window.PLOTLYENV=window.PLOTLYENV || {};\n",
       "                    window.PLOTLYENV.BASE_URL='https://plot.ly';                                    if (document.getElementById(\"ced59588-bef1-4ba1-a93d-db30e44daffb\")) {                    Plotly.newPlot(                        \"ced59588-bef1-4ba1-a93d-db30e44daffb\",                        [{\"histfunc\":\"count\",\"histnorm\":\"\",\"marker\":{\"color\":\"rgba(255, 153, 51, 1.0)\",\"line\":{\"color\":\"#4D5663\",\"width\":1.3}},\"name\":\"A\",\"nbinsx\":25,\"opacity\":0.8,\"orientation\":\"v\",\"x\":[0.13160484099032704,-0.7950894148460821,-0.13178744981839602,0.04643253694874059,1.4008811580488094,1.0636094200617128,-0.6302576662973428,-1.0151765951983778,-1.6289811525645115,1.6268210437035,0.6256421851048581,0.6214972799378291,1.2228321462568825,1.4103128126593787,-1.3973949776753045,-0.18281033081801018,2.605677785134823,0.3988269851056346,-0.4529882860464019,1.0784128278939078,0.7901159872294277,-0.4910610738334806,-0.9409118009988205,0.434468041211235,0.3742896418368096,-1.1561864863866274,-1.2842867457363056,-0.5261606343749329,0.6429325143749458,-1.3552544051664746,1.6270610794688527,-2.1435595460990853,-0.23455305399294482,-1.5986242370245385,1.1759934266713825,-0.01270097113625606,-0.4668452761149272,-0.7412607679432618,0.3462472288658386,0.10935402326252003,-0.3649831789786431,-0.21849969872497854,0.32657994207227464,2.2351327991254717,0.18144734817366057,-0.6912176240497995,0.7261509416783926,-1.8859562311461544,0.6217916103657698,-1.814362876226159,0.4189234239519778,1.7208451979119816,0.46099175660802466,0.07536895923905688,1.6026332086845676,-0.4813040033991323,-1.1715479856146989,-0.961844887784821,-0.3697250311946081,0.9903676937190032,0.5987589037491994,0.22441901104260428,-0.7290832505061414,1.182504038571702,0.49849042094992546,1.934068179888321,-1.0356143693303237,0.5099229331601602,-0.14881706016740145,1.2932578315420147,-0.8803779558532795,0.9912732908960632,-0.07363103484386704,-1.2099173247127637,0.49734583814546224,0.35313499965974543,-0.27695109523629635,0.3977250325577475,0.4267867826118734,-1.2592491178910903,1.561409048832289,-0.6487493849583286,2.1000263133192827,-1.6738293406736495,-1.2478081529020673,-0.5461776592746976,-0.8069503449533223,-1.216016854020958,-0.6994925219189366,0.3168200730116124,-1.618796776256919,0.43488998610191393,-0.09960482964117366,0.8141745749221933,-0.6550109510461594,-1.0731797207644709,0.025062692688615756,-0.1987930919360324,-0.8068381141444133,-0.3756595044409874],\"type\":\"histogram\"}],                        {\"barmode\":\"overlay\",\"legend\":{\"bgcolor\":\"#F5F6F9\",\"font\":{\"color\":\"#4D5663\"}},\"paper_bgcolor\":\"#F5F6F9\",\"plot_bgcolor\":\"#F5F6F9\",\"template\":{\"data\":{\"barpolar\":[{\"marker\":{\"line\":{\"color\":\"#E5ECF6\",\"width\":0.5},\"pattern\":{\"fillmode\":\"overlay\",\"size\":10,\"solidity\":0.2}},\"type\":\"barpolar\"}],\"bar\":[{\"error_x\":{\"color\":\"#2a3f5f\"},\"error_y\":{\"color\":\"#2a3f5f\"},\"marker\":{\"line\":{\"color\":\"#E5ECF6\",\"width\":0.5},\"pattern\":{\"fillmode\":\"overlay\",\"size\":10,\"solidity\":0.2}},\"type\":\"bar\"}],\"carpet\":[{\"aaxis\":{\"endlinecolor\":\"#2a3f5f\",\"gridcolor\":\"white\",\"linecolor\":\"white\",\"minorgridcolor\":\"white\",\"startlinecolor\":\"#2a3f5f\"},\"baxis\":{\"endlinecolor\":\"#2a3f5f\",\"gridcolor\":\"white\",\"linecolor\":\"white\",\"minorgridcolor\":\"white\",\"startlinecolor\":\"#2a3f5f\"},\"type\":\"carpet\"}],\"choropleth\":[{\"colorbar\":{\"outlinewidth\":0,\"ticks\":\"\"},\"type\":\"choropleth\"}],\"contourcarpet\":[{\"colorbar\":{\"outlinewidth\":0,\"ticks\":\"\"},\"type\":\"contourcarpet\"}],\"contour\":[{\"colorbar\":{\"outlinewidth\":0,\"ticks\":\"\"},\"colorscale\":[[0.0,\"#0d0887\"],[0.1111111111111111,\"#46039f\"],[0.2222222222222222,\"#7201a8\"],[0.3333333333333333,\"#9c179e\"],[0.4444444444444444,\"#bd3786\"],[0.5555555555555556,\"#d8576b\"],[0.6666666666666666,\"#ed7953\"],[0.7777777777777778,\"#fb9f3a\"],[0.8888888888888888,\"#fdca26\"],[1.0,\"#f0f921\"]],\"type\":\"contour\"}],\"heatmapgl\":[{\"colorbar\":{\"outlinewidth\":0,\"ticks\":\"\"},\"colorscale\":[[0.0,\"#0d0887\"],[0.1111111111111111,\"#46039f\"],[0.2222222222222222,\"#7201a8\"],[0.3333333333333333,\"#9c179e\"],[0.4444444444444444,\"#bd3786\"],[0.5555555555555556,\"#d8576b\"],[0.6666666666666666,\"#ed7953\"],[0.7777777777777778,\"#fb9f3a\"],[0.8888888888888888,\"#fdca26\"],[1.0,\"#f0f921\"]],\"type\":\"heatmapgl\"}],\"heatmap\":[{\"colorbar\":{\"outlinewidth\":0,\"ticks\":\"\"},\"colorscale\":[[0.0,\"#0d0887\"],[0.1111111111111111,\"#46039f\"],[0.2222222222222222,\"#7201a8\"],[0.3333333333333333,\"#9c179e\"],[0.4444444444444444,\"#bd3786\"],[0.5555555555555556,\"#d8576b\"],[0.6666666666666666,\"#ed7953\"],[0.7777777777777778,\"#fb9f3a\"],[0.8888888888888888,\"#fdca26\"],[1.0,\"#f0f921\"]],\"type\":\"heatmap\"}],\"histogram2dcontour\":[{\"colorbar\":{\"outlinewidth\":0,\"ticks\":\"\"},\"colorscale\":[[0.0,\"#0d0887\"],[0.1111111111111111,\"#46039f\"],[0.2222222222222222,\"#7201a8\"],[0.3333333333333333,\"#9c179e\"],[0.4444444444444444,\"#bd3786\"],[0.5555555555555556,\"#d8576b\"],[0.6666666666666666,\"#ed7953\"],[0.7777777777777778,\"#fb9f3a\"],[0.8888888888888888,\"#fdca26\"],[1.0,\"#f0f921\"]],\"type\":\"histogram2dcontour\"}],\"histogram2d\":[{\"colorbar\":{\"outlinewidth\":0,\"ticks\":\"\"},\"colorscale\":[[0.0,\"#0d0887\"],[0.1111111111111111,\"#46039f\"],[0.2222222222222222,\"#7201a8\"],[0.3333333333333333,\"#9c179e\"],[0.4444444444444444,\"#bd3786\"],[0.5555555555555556,\"#d8576b\"],[0.6666666666666666,\"#ed7953\"],[0.7777777777777778,\"#fb9f3a\"],[0.8888888888888888,\"#fdca26\"],[1.0,\"#f0f921\"]],\"type\":\"histogram2d\"}],\"histogram\":[{\"marker\":{\"pattern\":{\"fillmode\":\"overlay\",\"size\":10,\"solidity\":0.2}},\"type\":\"histogram\"}],\"mesh3d\":[{\"colorbar\":{\"outlinewidth\":0,\"ticks\":\"\"},\"type\":\"mesh3d\"}],\"parcoords\":[{\"line\":{\"colorbar\":{\"outlinewidth\":0,\"ticks\":\"\"}},\"type\":\"parcoords\"}],\"pie\":[{\"automargin\":true,\"type\":\"pie\"}],\"scatter3d\":[{\"line\":{\"colorbar\":{\"outlinewidth\":0,\"ticks\":\"\"}},\"marker\":{\"colorbar\":{\"outlinewidth\":0,\"ticks\":\"\"}},\"type\":\"scatter3d\"}],\"scattercarpet\":[{\"marker\":{\"colorbar\":{\"outlinewidth\":0,\"ticks\":\"\"}},\"type\":\"scattercarpet\"}],\"scattergeo\":[{\"marker\":{\"colorbar\":{\"outlinewidth\":0,\"ticks\":\"\"}},\"type\":\"scattergeo\"}],\"scattergl\":[{\"marker\":{\"colorbar\":{\"outlinewidth\":0,\"ticks\":\"\"}},\"type\":\"scattergl\"}],\"scattermapbox\":[{\"marker\":{\"colorbar\":{\"outlinewidth\":0,\"ticks\":\"\"}},\"type\":\"scattermapbox\"}],\"scatterpolargl\":[{\"marker\":{\"colorbar\":{\"outlinewidth\":0,\"ticks\":\"\"}},\"type\":\"scatterpolargl\"}],\"scatterpolar\":[{\"marker\":{\"colorbar\":{\"outlinewidth\":0,\"ticks\":\"\"}},\"type\":\"scatterpolar\"}],\"scatter\":[{\"fillpattern\":{\"fillmode\":\"overlay\",\"size\":10,\"solidity\":0.2},\"type\":\"scatter\"}],\"scatterternary\":[{\"marker\":{\"colorbar\":{\"outlinewidth\":0,\"ticks\":\"\"}},\"type\":\"scatterternary\"}],\"surface\":[{\"colorbar\":{\"outlinewidth\":0,\"ticks\":\"\"},\"colorscale\":[[0.0,\"#0d0887\"],[0.1111111111111111,\"#46039f\"],[0.2222222222222222,\"#7201a8\"],[0.3333333333333333,\"#9c179e\"],[0.4444444444444444,\"#bd3786\"],[0.5555555555555556,\"#d8576b\"],[0.6666666666666666,\"#ed7953\"],[0.7777777777777778,\"#fb9f3a\"],[0.8888888888888888,\"#fdca26\"],[1.0,\"#f0f921\"]],\"type\":\"surface\"}],\"table\":[{\"cells\":{\"fill\":{\"color\":\"#EBF0F8\"},\"line\":{\"color\":\"white\"}},\"header\":{\"fill\":{\"color\":\"#C8D4E3\"},\"line\":{\"color\":\"white\"}},\"type\":\"table\"}]},\"layout\":{\"annotationdefaults\":{\"arrowcolor\":\"#2a3f5f\",\"arrowhead\":0,\"arrowwidth\":1},\"autotypenumbers\":\"strict\",\"coloraxis\":{\"colorbar\":{\"outlinewidth\":0,\"ticks\":\"\"}},\"colorscale\":{\"diverging\":[[0,\"#8e0152\"],[0.1,\"#c51b7d\"],[0.2,\"#de77ae\"],[0.3,\"#f1b6da\"],[0.4,\"#fde0ef\"],[0.5,\"#f7f7f7\"],[0.6,\"#e6f5d0\"],[0.7,\"#b8e186\"],[0.8,\"#7fbc41\"],[0.9,\"#4d9221\"],[1,\"#276419\"]],\"sequential\":[[0.0,\"#0d0887\"],[0.1111111111111111,\"#46039f\"],[0.2222222222222222,\"#7201a8\"],[0.3333333333333333,\"#9c179e\"],[0.4444444444444444,\"#bd3786\"],[0.5555555555555556,\"#d8576b\"],[0.6666666666666666,\"#ed7953\"],[0.7777777777777778,\"#fb9f3a\"],[0.8888888888888888,\"#fdca26\"],[1.0,\"#f0f921\"]],\"sequentialminus\":[[0.0,\"#0d0887\"],[0.1111111111111111,\"#46039f\"],[0.2222222222222222,\"#7201a8\"],[0.3333333333333333,\"#9c179e\"],[0.4444444444444444,\"#bd3786\"],[0.5555555555555556,\"#d8576b\"],[0.6666666666666666,\"#ed7953\"],[0.7777777777777778,\"#fb9f3a\"],[0.8888888888888888,\"#fdca26\"],[1.0,\"#f0f921\"]]},\"colorway\":[\"#636efa\",\"#EF553B\",\"#00cc96\",\"#ab63fa\",\"#FFA15A\",\"#19d3f3\",\"#FF6692\",\"#B6E880\",\"#FF97FF\",\"#FECB52\"],\"font\":{\"color\":\"#2a3f5f\"},\"geo\":{\"bgcolor\":\"white\",\"lakecolor\":\"white\",\"landcolor\":\"#E5ECF6\",\"showlakes\":true,\"showland\":true,\"subunitcolor\":\"white\"},\"hoverlabel\":{\"align\":\"left\"},\"hovermode\":\"closest\",\"mapbox\":{\"style\":\"light\"},\"paper_bgcolor\":\"white\",\"plot_bgcolor\":\"#E5ECF6\",\"polar\":{\"angularaxis\":{\"gridcolor\":\"white\",\"linecolor\":\"white\",\"ticks\":\"\"},\"bgcolor\":\"#E5ECF6\",\"radialaxis\":{\"gridcolor\":\"white\",\"linecolor\":\"white\",\"ticks\":\"\"}},\"scene\":{\"xaxis\":{\"backgroundcolor\":\"#E5ECF6\",\"gridcolor\":\"white\",\"gridwidth\":2,\"linecolor\":\"white\",\"showbackground\":true,\"ticks\":\"\",\"zerolinecolor\":\"white\"},\"yaxis\":{\"backgroundcolor\":\"#E5ECF6\",\"gridcolor\":\"white\",\"gridwidth\":2,\"linecolor\":\"white\",\"showbackground\":true,\"ticks\":\"\",\"zerolinecolor\":\"white\"},\"zaxis\":{\"backgroundcolor\":\"#E5ECF6\",\"gridcolor\":\"white\",\"gridwidth\":2,\"linecolor\":\"white\",\"showbackground\":true,\"ticks\":\"\",\"zerolinecolor\":\"white\"}},\"shapedefaults\":{\"line\":{\"color\":\"#2a3f5f\"}},\"ternary\":{\"aaxis\":{\"gridcolor\":\"white\",\"linecolor\":\"white\",\"ticks\":\"\"},\"baxis\":{\"gridcolor\":\"white\",\"linecolor\":\"white\",\"ticks\":\"\"},\"bgcolor\":\"#E5ECF6\",\"caxis\":{\"gridcolor\":\"white\",\"linecolor\":\"white\",\"ticks\":\"\"}},\"title\":{\"x\":0.05},\"xaxis\":{\"automargin\":true,\"gridcolor\":\"white\",\"linecolor\":\"white\",\"ticks\":\"\",\"title\":{\"standoff\":15},\"zerolinecolor\":\"white\",\"zerolinewidth\":2},\"yaxis\":{\"automargin\":true,\"gridcolor\":\"white\",\"linecolor\":\"white\",\"ticks\":\"\",\"title\":{\"standoff\":15},\"zerolinecolor\":\"white\",\"zerolinewidth\":2}}},\"title\":{\"font\":{\"color\":\"#4D5663\"}},\"xaxis\":{\"gridcolor\":\"#E1E5ED\",\"showgrid\":true,\"tickfont\":{\"color\":\"#4D5663\"},\"title\":{\"font\":{\"color\":\"#4D5663\"},\"text\":\"\"},\"zerolinecolor\":\"#E1E5ED\"},\"yaxis\":{\"gridcolor\":\"#E1E5ED\",\"showgrid\":true,\"tickfont\":{\"color\":\"#4D5663\"},\"title\":{\"font\":{\"color\":\"#4D5663\"},\"text\":\"\"},\"zerolinecolor\":\"#E1E5ED\"}},                        {\"showLink\": true, \"linkText\": \"Export to plot.ly\", \"plotlyServerURL\": \"https://plot.ly\", \"responsive\": true}                    ).then(function(){\n",
       "                            \n",
       "var gd = document.getElementById('ced59588-bef1-4ba1-a93d-db30e44daffb');\n",
       "var x = new MutationObserver(function (mutations, observer) {{\n",
       "        var display = window.getComputedStyle(gd).display;\n",
       "        if (!display || display === 'none') {{\n",
       "            console.log([gd, 'removed!']);\n",
       "            Plotly.purge(gd);\n",
       "            observer.disconnect();\n",
       "        }}\n",
       "}});\n",
       "\n",
       "// Listen for the removal of the full notebook cells\n",
       "var notebookContainer = gd.closest('#notebook-container');\n",
       "if (notebookContainer) {{\n",
       "    x.observe(notebookContainer, {childList: true});\n",
       "}}\n",
       "\n",
       "// Listen for the clearing of the current output cell\n",
       "var outputEl = gd.closest('.output');\n",
       "if (outputEl) {{\n",
       "    x.observe(outputEl, {childList: true});\n",
       "}}\n",
       "\n",
       "                        })                };                });            </script>        </div>"
      ]
     },
     "metadata": {},
     "output_type": "display_data"
    }
   ],
   "source": [
    "df['A'].iplot(kind='hist',bins=25)"
   ]
  },
  {
   "cell_type": "code",
   "execution_count": 16,
   "metadata": {},
   "outputs": [
    {
     "data": {
      "application/vnd.plotly.v1+json": {
       "config": {
        "linkText": "Export to plot.ly",
        "plotlyServerURL": "https://plot.ly",
        "showLink": true
       },
       "data": [
        {
         "marker": {
          "color": [
           "rgb(255, 153, 51)",
           "rgb(55, 128, 191)",
           "rgb(50, 171, 96)",
           "rgb(128, 0, 128)",
           "rgb(219, 64, 82)",
           "rgb(0, 128, 128)",
           "rgb(255, 255, 51)",
           "rgb(128, 128, 0)",
           "rgb(251, 128, 114)",
           "rgb(128, 177, 211)"
          ],
          "line": {
           "width": 1.3
          },
          "size": [
           39,
           49,
           93,
           81,
           41,
           97,
           94,
           66,
           51,
           82,
           65,
           59,
           49,
           39,
           76,
           56,
           44,
           42,
           83,
           42,
           38,
           51,
           43,
           108,
           66,
           70,
           49,
           111,
           35,
           70,
           23,
           65,
           53,
           52,
           35,
           26,
           59,
           100,
           60,
           102,
           58,
           28,
           87,
           72,
           92,
           65,
           59,
           48,
           62,
           91,
           96,
           74,
           44,
           46,
           86,
           89,
           37,
           47,
           58,
           98,
           28,
           60,
           83,
           88,
           28,
           67,
           80,
           67,
           81,
           98,
           57,
           12,
           61,
           53,
           57,
           75,
           112,
           37,
           78,
           27,
           24,
           85,
           78,
           99,
           95,
           90,
           28,
           35,
           48,
           77,
           20,
           76,
           44,
           46,
           34,
           34,
           78,
           48,
           52,
           89
          ],
          "symbol": "circle"
         },
         "mode": "markers",
         "text": "",
         "type": "scatter",
         "x": [
          0.13160484099032704,
          -0.7950894148460821,
          -0.13178744981839602,
          0.04643253694874059,
          1.4008811580488094,
          1.0636094200617128,
          -0.6302576662973428,
          -1.0151765951983778,
          -1.6289811525645115,
          1.6268210437035,
          0.6256421851048581,
          0.6214972799378291,
          1.2228321462568825,
          1.4103128126593787,
          -1.3973949776753045,
          -0.18281033081801018,
          2.605677785134823,
          0.3988269851056346,
          -0.4529882860464019,
          1.0784128278939078,
          0.7901159872294277,
          -0.4910610738334806,
          -0.9409118009988205,
          0.434468041211235,
          0.3742896418368096,
          -1.1561864863866274,
          -1.2842867457363056,
          -0.5261606343749329,
          0.6429325143749458,
          -1.3552544051664746,
          1.6270610794688527,
          -2.1435595460990853,
          -0.23455305399294482,
          -1.5986242370245385,
          1.1759934266713825,
          -0.01270097113625606,
          -0.4668452761149272,
          -0.7412607679432618,
          0.3462472288658386,
          0.10935402326252003,
          -0.3649831789786431,
          -0.21849969872497854,
          0.32657994207227464,
          2.2351327991254717,
          0.18144734817366057,
          -0.6912176240497995,
          0.7261509416783926,
          -1.8859562311461544,
          0.6217916103657698,
          -1.814362876226159,
          0.4189234239519778,
          1.7208451979119816,
          0.46099175660802466,
          0.07536895923905688,
          1.6026332086845676,
          -0.4813040033991323,
          -1.1715479856146989,
          -0.961844887784821,
          -0.3697250311946081,
          0.9903676937190032,
          0.5987589037491994,
          0.22441901104260428,
          -0.7290832505061414,
          1.182504038571702,
          0.49849042094992546,
          1.934068179888321,
          -1.0356143693303237,
          0.5099229331601602,
          -0.14881706016740145,
          1.2932578315420147,
          -0.8803779558532795,
          0.9912732908960632,
          -0.07363103484386704,
          -1.2099173247127637,
          0.49734583814546224,
          0.35313499965974543,
          -0.27695109523629635,
          0.3977250325577475,
          0.4267867826118734,
          -1.2592491178910903,
          1.561409048832289,
          -0.6487493849583286,
          2.1000263133192827,
          -1.6738293406736495,
          -1.2478081529020673,
          -0.5461776592746976,
          -0.8069503449533223,
          -1.216016854020958,
          -0.6994925219189366,
          0.3168200730116124,
          -1.618796776256919,
          0.43488998610191393,
          -0.09960482964117366,
          0.8141745749221933,
          -0.6550109510461594,
          -1.0731797207644709,
          0.025062692688615756,
          -0.1987930919360324,
          -0.8068381141444133,
          -0.3756595044409874
         ],
         "y": [
          1.4318947810176526,
          0.24026038605821917,
          0.4451286277214846,
          0.5362264542043904,
          -1.1066503086203259,
          -0.42229707035492087,
          0.718042335741499,
          -0.9318978257839343,
          -0.44859068426479753,
          0.06393476675777732,
          -0.9638697396246255,
          0.047373052805112593,
          -2.6316439201988544,
          1.16645099432575,
          0.32036750849283824,
          -0.05364339294583357,
          0.3802655235220497,
          -0.09961734522532066,
          -0.3653884522071064,
          0.5387252402177625,
          0.4688390726042069,
          0.09915984634898799,
          0.07388293090421022,
          -0.18789060897527135,
          -0.11576320542210079,
          1.0107124619771906,
          -0.6193205128828219,
          -0.12003905201802431,
          -0.08329152526464428,
          -1.0665194384892394,
          0.5251365929191014,
          -1.7202303396085004,
          -0.4098643151059729,
          0.2192352113181968,
          0.23647471448842297,
          -0.1115245845888328,
          0.18615443769853549,
          -0.40964673877098917,
          0.9711188501856983,
          -1.5071541555991648,
          0.1999602495297384,
          2.492818422930499,
          -0.41384143683286634,
          -0.9240183532845967,
          0.428717009167491,
          1.8113112612096411,
          -0.003990601547180274,
          -1.0569525684969008,
          -0.2462620275510187,
          -0.4334682863880004,
          0.3952226502148541,
          1.2432030130337701,
          0.6223978449559944,
          -1.1375909277591023,
          0.8016351645868708,
          -0.20628826144655052,
          1.6797828797502556,
          -0.9924526424616922,
          -0.31062961008454076,
          1.4306099335403377,
          1.9799584956398923,
          1.2607300051211943,
          0.5926955856960735,
          -0.6860932783938856,
          0.8932491030110556,
          -0.2366485951762157,
          1.1461888955923492,
          0.9762538722558245,
          -0.7899138777903845,
          0.4001873776041438,
          0.12072644501913432,
          1.17629127197133,
          -1.489601357172212,
          0.28052146475854733,
          1.6260200481973202,
          0.4605915872324684,
          0.14764372184436497,
          0.7331058048576845,
          2.2291967418153136,
          -0.781849913741244,
          -0.9985226652186919,
          1.237574668861233,
          0.7169596395220929,
          -1.9079310473095077,
          1.2290383651644585,
          -0.7379281450552093,
          -0.3610320856280676,
          2.8491743491694232,
          1.0186867977434042,
          -0.45887321828980554,
          0.19222873439429394,
          0.11579126666695112,
          0.09289699526265048,
          -0.15629653044902783,
          -1.2121316352810876,
          0.24892657275282007,
          -0.34109291135368036,
          -0.8333844588916233,
          1.2299995015955598,
          -0.09384418811944956
         ]
        }
       ],
       "layout": {
        "legend": {
         "bgcolor": "#F5F6F9",
         "font": {
          "color": "#4D5663"
         }
        },
        "paper_bgcolor": "#F5F6F9",
        "plot_bgcolor": "#F5F6F9",
        "template": {
         "data": {
          "bar": [
           {
            "error_x": {
             "color": "#2a3f5f"
            },
            "error_y": {
             "color": "#2a3f5f"
            },
            "marker": {
             "line": {
              "color": "#E5ECF6",
              "width": 0.5
             },
             "pattern": {
              "fillmode": "overlay",
              "size": 10,
              "solidity": 0.2
             }
            },
            "type": "bar"
           }
          ],
          "barpolar": [
           {
            "marker": {
             "line": {
              "color": "#E5ECF6",
              "width": 0.5
             },
             "pattern": {
              "fillmode": "overlay",
              "size": 10,
              "solidity": 0.2
             }
            },
            "type": "barpolar"
           }
          ],
          "carpet": [
           {
            "aaxis": {
             "endlinecolor": "#2a3f5f",
             "gridcolor": "white",
             "linecolor": "white",
             "minorgridcolor": "white",
             "startlinecolor": "#2a3f5f"
            },
            "baxis": {
             "endlinecolor": "#2a3f5f",
             "gridcolor": "white",
             "linecolor": "white",
             "minorgridcolor": "white",
             "startlinecolor": "#2a3f5f"
            },
            "type": "carpet"
           }
          ],
          "choropleth": [
           {
            "colorbar": {
             "outlinewidth": 0,
             "ticks": ""
            },
            "type": "choropleth"
           }
          ],
          "contour": [
           {
            "colorbar": {
             "outlinewidth": 0,
             "ticks": ""
            },
            "colorscale": [
             [
              0,
              "#0d0887"
             ],
             [
              0.1111111111111111,
              "#46039f"
             ],
             [
              0.2222222222222222,
              "#7201a8"
             ],
             [
              0.3333333333333333,
              "#9c179e"
             ],
             [
              0.4444444444444444,
              "#bd3786"
             ],
             [
              0.5555555555555556,
              "#d8576b"
             ],
             [
              0.6666666666666666,
              "#ed7953"
             ],
             [
              0.7777777777777778,
              "#fb9f3a"
             ],
             [
              0.8888888888888888,
              "#fdca26"
             ],
             [
              1,
              "#f0f921"
             ]
            ],
            "type": "contour"
           }
          ],
          "contourcarpet": [
           {
            "colorbar": {
             "outlinewidth": 0,
             "ticks": ""
            },
            "type": "contourcarpet"
           }
          ],
          "heatmap": [
           {
            "colorbar": {
             "outlinewidth": 0,
             "ticks": ""
            },
            "colorscale": [
             [
              0,
              "#0d0887"
             ],
             [
              0.1111111111111111,
              "#46039f"
             ],
             [
              0.2222222222222222,
              "#7201a8"
             ],
             [
              0.3333333333333333,
              "#9c179e"
             ],
             [
              0.4444444444444444,
              "#bd3786"
             ],
             [
              0.5555555555555556,
              "#d8576b"
             ],
             [
              0.6666666666666666,
              "#ed7953"
             ],
             [
              0.7777777777777778,
              "#fb9f3a"
             ],
             [
              0.8888888888888888,
              "#fdca26"
             ],
             [
              1,
              "#f0f921"
             ]
            ],
            "type": "heatmap"
           }
          ],
          "heatmapgl": [
           {
            "colorbar": {
             "outlinewidth": 0,
             "ticks": ""
            },
            "colorscale": [
             [
              0,
              "#0d0887"
             ],
             [
              0.1111111111111111,
              "#46039f"
             ],
             [
              0.2222222222222222,
              "#7201a8"
             ],
             [
              0.3333333333333333,
              "#9c179e"
             ],
             [
              0.4444444444444444,
              "#bd3786"
             ],
             [
              0.5555555555555556,
              "#d8576b"
             ],
             [
              0.6666666666666666,
              "#ed7953"
             ],
             [
              0.7777777777777778,
              "#fb9f3a"
             ],
             [
              0.8888888888888888,
              "#fdca26"
             ],
             [
              1,
              "#f0f921"
             ]
            ],
            "type": "heatmapgl"
           }
          ],
          "histogram": [
           {
            "marker": {
             "pattern": {
              "fillmode": "overlay",
              "size": 10,
              "solidity": 0.2
             }
            },
            "type": "histogram"
           }
          ],
          "histogram2d": [
           {
            "colorbar": {
             "outlinewidth": 0,
             "ticks": ""
            },
            "colorscale": [
             [
              0,
              "#0d0887"
             ],
             [
              0.1111111111111111,
              "#46039f"
             ],
             [
              0.2222222222222222,
              "#7201a8"
             ],
             [
              0.3333333333333333,
              "#9c179e"
             ],
             [
              0.4444444444444444,
              "#bd3786"
             ],
             [
              0.5555555555555556,
              "#d8576b"
             ],
             [
              0.6666666666666666,
              "#ed7953"
             ],
             [
              0.7777777777777778,
              "#fb9f3a"
             ],
             [
              0.8888888888888888,
              "#fdca26"
             ],
             [
              1,
              "#f0f921"
             ]
            ],
            "type": "histogram2d"
           }
          ],
          "histogram2dcontour": [
           {
            "colorbar": {
             "outlinewidth": 0,
             "ticks": ""
            },
            "colorscale": [
             [
              0,
              "#0d0887"
             ],
             [
              0.1111111111111111,
              "#46039f"
             ],
             [
              0.2222222222222222,
              "#7201a8"
             ],
             [
              0.3333333333333333,
              "#9c179e"
             ],
             [
              0.4444444444444444,
              "#bd3786"
             ],
             [
              0.5555555555555556,
              "#d8576b"
             ],
             [
              0.6666666666666666,
              "#ed7953"
             ],
             [
              0.7777777777777778,
              "#fb9f3a"
             ],
             [
              0.8888888888888888,
              "#fdca26"
             ],
             [
              1,
              "#f0f921"
             ]
            ],
            "type": "histogram2dcontour"
           }
          ],
          "mesh3d": [
           {
            "colorbar": {
             "outlinewidth": 0,
             "ticks": ""
            },
            "type": "mesh3d"
           }
          ],
          "parcoords": [
           {
            "line": {
             "colorbar": {
              "outlinewidth": 0,
              "ticks": ""
             }
            },
            "type": "parcoords"
           }
          ],
          "pie": [
           {
            "automargin": true,
            "type": "pie"
           }
          ],
          "scatter": [
           {
            "fillpattern": {
             "fillmode": "overlay",
             "size": 10,
             "solidity": 0.2
            },
            "type": "scatter"
           }
          ],
          "scatter3d": [
           {
            "line": {
             "colorbar": {
              "outlinewidth": 0,
              "ticks": ""
             }
            },
            "marker": {
             "colorbar": {
              "outlinewidth": 0,
              "ticks": ""
             }
            },
            "type": "scatter3d"
           }
          ],
          "scattercarpet": [
           {
            "marker": {
             "colorbar": {
              "outlinewidth": 0,
              "ticks": ""
             }
            },
            "type": "scattercarpet"
           }
          ],
          "scattergeo": [
           {
            "marker": {
             "colorbar": {
              "outlinewidth": 0,
              "ticks": ""
             }
            },
            "type": "scattergeo"
           }
          ],
          "scattergl": [
           {
            "marker": {
             "colorbar": {
              "outlinewidth": 0,
              "ticks": ""
             }
            },
            "type": "scattergl"
           }
          ],
          "scattermapbox": [
           {
            "marker": {
             "colorbar": {
              "outlinewidth": 0,
              "ticks": ""
             }
            },
            "type": "scattermapbox"
           }
          ],
          "scatterpolar": [
           {
            "marker": {
             "colorbar": {
              "outlinewidth": 0,
              "ticks": ""
             }
            },
            "type": "scatterpolar"
           }
          ],
          "scatterpolargl": [
           {
            "marker": {
             "colorbar": {
              "outlinewidth": 0,
              "ticks": ""
             }
            },
            "type": "scatterpolargl"
           }
          ],
          "scatterternary": [
           {
            "marker": {
             "colorbar": {
              "outlinewidth": 0,
              "ticks": ""
             }
            },
            "type": "scatterternary"
           }
          ],
          "surface": [
           {
            "colorbar": {
             "outlinewidth": 0,
             "ticks": ""
            },
            "colorscale": [
             [
              0,
              "#0d0887"
             ],
             [
              0.1111111111111111,
              "#46039f"
             ],
             [
              0.2222222222222222,
              "#7201a8"
             ],
             [
              0.3333333333333333,
              "#9c179e"
             ],
             [
              0.4444444444444444,
              "#bd3786"
             ],
             [
              0.5555555555555556,
              "#d8576b"
             ],
             [
              0.6666666666666666,
              "#ed7953"
             ],
             [
              0.7777777777777778,
              "#fb9f3a"
             ],
             [
              0.8888888888888888,
              "#fdca26"
             ],
             [
              1,
              "#f0f921"
             ]
            ],
            "type": "surface"
           }
          ],
          "table": [
           {
            "cells": {
             "fill": {
              "color": "#EBF0F8"
             },
             "line": {
              "color": "white"
             }
            },
            "header": {
             "fill": {
              "color": "#C8D4E3"
             },
             "line": {
              "color": "white"
             }
            },
            "type": "table"
           }
          ]
         },
         "layout": {
          "annotationdefaults": {
           "arrowcolor": "#2a3f5f",
           "arrowhead": 0,
           "arrowwidth": 1
          },
          "autotypenumbers": "strict",
          "coloraxis": {
           "colorbar": {
            "outlinewidth": 0,
            "ticks": ""
           }
          },
          "colorscale": {
           "diverging": [
            [
             0,
             "#8e0152"
            ],
            [
             0.1,
             "#c51b7d"
            ],
            [
             0.2,
             "#de77ae"
            ],
            [
             0.3,
             "#f1b6da"
            ],
            [
             0.4,
             "#fde0ef"
            ],
            [
             0.5,
             "#f7f7f7"
            ],
            [
             0.6,
             "#e6f5d0"
            ],
            [
             0.7,
             "#b8e186"
            ],
            [
             0.8,
             "#7fbc41"
            ],
            [
             0.9,
             "#4d9221"
            ],
            [
             1,
             "#276419"
            ]
           ],
           "sequential": [
            [
             0,
             "#0d0887"
            ],
            [
             0.1111111111111111,
             "#46039f"
            ],
            [
             0.2222222222222222,
             "#7201a8"
            ],
            [
             0.3333333333333333,
             "#9c179e"
            ],
            [
             0.4444444444444444,
             "#bd3786"
            ],
            [
             0.5555555555555556,
             "#d8576b"
            ],
            [
             0.6666666666666666,
             "#ed7953"
            ],
            [
             0.7777777777777778,
             "#fb9f3a"
            ],
            [
             0.8888888888888888,
             "#fdca26"
            ],
            [
             1,
             "#f0f921"
            ]
           ],
           "sequentialminus": [
            [
             0,
             "#0d0887"
            ],
            [
             0.1111111111111111,
             "#46039f"
            ],
            [
             0.2222222222222222,
             "#7201a8"
            ],
            [
             0.3333333333333333,
             "#9c179e"
            ],
            [
             0.4444444444444444,
             "#bd3786"
            ],
            [
             0.5555555555555556,
             "#d8576b"
            ],
            [
             0.6666666666666666,
             "#ed7953"
            ],
            [
             0.7777777777777778,
             "#fb9f3a"
            ],
            [
             0.8888888888888888,
             "#fdca26"
            ],
            [
             1,
             "#f0f921"
            ]
           ]
          },
          "colorway": [
           "#636efa",
           "#EF553B",
           "#00cc96",
           "#ab63fa",
           "#FFA15A",
           "#19d3f3",
           "#FF6692",
           "#B6E880",
           "#FF97FF",
           "#FECB52"
          ],
          "font": {
           "color": "#2a3f5f"
          },
          "geo": {
           "bgcolor": "white",
           "lakecolor": "white",
           "landcolor": "#E5ECF6",
           "showlakes": true,
           "showland": true,
           "subunitcolor": "white"
          },
          "hoverlabel": {
           "align": "left"
          },
          "hovermode": "closest",
          "mapbox": {
           "style": "light"
          },
          "paper_bgcolor": "white",
          "plot_bgcolor": "#E5ECF6",
          "polar": {
           "angularaxis": {
            "gridcolor": "white",
            "linecolor": "white",
            "ticks": ""
           },
           "bgcolor": "#E5ECF6",
           "radialaxis": {
            "gridcolor": "white",
            "linecolor": "white",
            "ticks": ""
           }
          },
          "scene": {
           "xaxis": {
            "backgroundcolor": "#E5ECF6",
            "gridcolor": "white",
            "gridwidth": 2,
            "linecolor": "white",
            "showbackground": true,
            "ticks": "",
            "zerolinecolor": "white"
           },
           "yaxis": {
            "backgroundcolor": "#E5ECF6",
            "gridcolor": "white",
            "gridwidth": 2,
            "linecolor": "white",
            "showbackground": true,
            "ticks": "",
            "zerolinecolor": "white"
           },
           "zaxis": {
            "backgroundcolor": "#E5ECF6",
            "gridcolor": "white",
            "gridwidth": 2,
            "linecolor": "white",
            "showbackground": true,
            "ticks": "",
            "zerolinecolor": "white"
           }
          },
          "shapedefaults": {
           "line": {
            "color": "#2a3f5f"
           }
          },
          "ternary": {
           "aaxis": {
            "gridcolor": "white",
            "linecolor": "white",
            "ticks": ""
           },
           "baxis": {
            "gridcolor": "white",
            "linecolor": "white",
            "ticks": ""
           },
           "bgcolor": "#E5ECF6",
           "caxis": {
            "gridcolor": "white",
            "linecolor": "white",
            "ticks": ""
           }
          },
          "title": {
           "x": 0.05
          },
          "xaxis": {
           "automargin": true,
           "gridcolor": "white",
           "linecolor": "white",
           "ticks": "",
           "title": {
            "standoff": 15
           },
           "zerolinecolor": "white",
           "zerolinewidth": 2
          },
          "yaxis": {
           "automargin": true,
           "gridcolor": "white",
           "linecolor": "white",
           "ticks": "",
           "title": {
            "standoff": 15
           },
           "zerolinecolor": "white",
           "zerolinewidth": 2
          }
         }
        },
        "title": {
         "font": {
          "color": "#4D5663"
         }
        },
        "xaxis": {
         "gridcolor": "#E1E5ED",
         "showgrid": true,
         "tickfont": {
          "color": "#4D5663"
         },
         "title": {
          "font": {
           "color": "#4D5663"
          },
          "text": ""
         },
         "zerolinecolor": "#E1E5ED"
        },
        "yaxis": {
         "gridcolor": "#E1E5ED",
         "showgrid": true,
         "tickfont": {
          "color": "#4D5663"
         },
         "title": {
          "font": {
           "color": "#4D5663"
          },
          "text": ""
         },
         "zerolinecolor": "#E1E5ED"
        }
       }
      },
      "text/html": [
       "<div>                            <div id=\"9695fb7a-1c7f-4df7-abc5-6dd9effb90ca\" class=\"plotly-graph-div\" style=\"height:525px; width:100%;\"></div>            <script type=\"text/javascript\">                require([\"plotly\"], function(Plotly) {                    window.PLOTLYENV=window.PLOTLYENV || {};\n",
       "                    window.PLOTLYENV.BASE_URL='https://plot.ly';                                    if (document.getElementById(\"9695fb7a-1c7f-4df7-abc5-6dd9effb90ca\")) {                    Plotly.newPlot(                        \"9695fb7a-1c7f-4df7-abc5-6dd9effb90ca\",                        [{\"marker\":{\"color\":[\"rgb(255, 153, 51)\",\"rgb(55, 128, 191)\",\"rgb(50, 171, 96)\",\"rgb(128, 0, 128)\",\"rgb(219, 64, 82)\",\"rgb(0, 128, 128)\",\"rgb(255, 255, 51)\",\"rgb(128, 128, 0)\",\"rgb(251, 128, 114)\",\"rgb(128, 177, 211)\"],\"line\":{\"width\":1.3},\"size\":[39,49,93,81,41,97,94,66,51,82,65,59,49,39,76,56,44,42,83,42,38,51,43,108,66,70,49,111,35,70,23,65,53,52,35,26,59,100,60,102,58,28,87,72,92,65,59,48,62,91,96,74,44,46,86,89,37,47,58,98,28,60,83,88,28,67,80,67,81,98,57,12,61,53,57,75,112,37,78,27,24,85,78,99,95,90,28,35,48,77,20,76,44,46,34,34,78,48,52,89],\"symbol\":\"circle\"},\"mode\":\"markers\",\"text\":\"\",\"x\":[0.13160484099032704,-0.7950894148460821,-0.13178744981839602,0.04643253694874059,1.4008811580488094,1.0636094200617128,-0.6302576662973428,-1.0151765951983778,-1.6289811525645115,1.6268210437035,0.6256421851048581,0.6214972799378291,1.2228321462568825,1.4103128126593787,-1.3973949776753045,-0.18281033081801018,2.605677785134823,0.3988269851056346,-0.4529882860464019,1.0784128278939078,0.7901159872294277,-0.4910610738334806,-0.9409118009988205,0.434468041211235,0.3742896418368096,-1.1561864863866274,-1.2842867457363056,-0.5261606343749329,0.6429325143749458,-1.3552544051664746,1.6270610794688527,-2.1435595460990853,-0.23455305399294482,-1.5986242370245385,1.1759934266713825,-0.01270097113625606,-0.4668452761149272,-0.7412607679432618,0.3462472288658386,0.10935402326252003,-0.3649831789786431,-0.21849969872497854,0.32657994207227464,2.2351327991254717,0.18144734817366057,-0.6912176240497995,0.7261509416783926,-1.8859562311461544,0.6217916103657698,-1.814362876226159,0.4189234239519778,1.7208451979119816,0.46099175660802466,0.07536895923905688,1.6026332086845676,-0.4813040033991323,-1.1715479856146989,-0.961844887784821,-0.3697250311946081,0.9903676937190032,0.5987589037491994,0.22441901104260428,-0.7290832505061414,1.182504038571702,0.49849042094992546,1.934068179888321,-1.0356143693303237,0.5099229331601602,-0.14881706016740145,1.2932578315420147,-0.8803779558532795,0.9912732908960632,-0.07363103484386704,-1.2099173247127637,0.49734583814546224,0.35313499965974543,-0.27695109523629635,0.3977250325577475,0.4267867826118734,-1.2592491178910903,1.561409048832289,-0.6487493849583286,2.1000263133192827,-1.6738293406736495,-1.2478081529020673,-0.5461776592746976,-0.8069503449533223,-1.216016854020958,-0.6994925219189366,0.3168200730116124,-1.618796776256919,0.43488998610191393,-0.09960482964117366,0.8141745749221933,-0.6550109510461594,-1.0731797207644709,0.025062692688615756,-0.1987930919360324,-0.8068381141444133,-0.3756595044409874],\"y\":[1.4318947810176526,0.24026038605821917,0.4451286277214846,0.5362264542043904,-1.1066503086203259,-0.42229707035492087,0.718042335741499,-0.9318978257839343,-0.44859068426479753,0.06393476675777732,-0.9638697396246255,0.047373052805112593,-2.6316439201988544,1.16645099432575,0.32036750849283824,-0.05364339294583357,0.3802655235220497,-0.09961734522532066,-0.3653884522071064,0.5387252402177625,0.4688390726042069,0.09915984634898799,0.07388293090421022,-0.18789060897527135,-0.11576320542210079,1.0107124619771906,-0.6193205128828219,-0.12003905201802431,-0.08329152526464428,-1.0665194384892394,0.5251365929191014,-1.7202303396085004,-0.4098643151059729,0.2192352113181968,0.23647471448842297,-0.1115245845888328,0.18615443769853549,-0.40964673877098917,0.9711188501856983,-1.5071541555991648,0.1999602495297384,2.492818422930499,-0.41384143683286634,-0.9240183532845967,0.428717009167491,1.8113112612096411,-0.003990601547180274,-1.0569525684969008,-0.2462620275510187,-0.4334682863880004,0.3952226502148541,1.2432030130337701,0.6223978449559944,-1.1375909277591023,0.8016351645868708,-0.20628826144655052,1.6797828797502556,-0.9924526424616922,-0.31062961008454076,1.4306099335403377,1.9799584956398923,1.2607300051211943,0.5926955856960735,-0.6860932783938856,0.8932491030110556,-0.2366485951762157,1.1461888955923492,0.9762538722558245,-0.7899138777903845,0.4001873776041438,0.12072644501913432,1.17629127197133,-1.489601357172212,0.28052146475854733,1.6260200481973202,0.4605915872324684,0.14764372184436497,0.7331058048576845,2.2291967418153136,-0.781849913741244,-0.9985226652186919,1.237574668861233,0.7169596395220929,-1.9079310473095077,1.2290383651644585,-0.7379281450552093,-0.3610320856280676,2.8491743491694232,1.0186867977434042,-0.45887321828980554,0.19222873439429394,0.11579126666695112,0.09289699526265048,-0.15629653044902783,-1.2121316352810876,0.24892657275282007,-0.34109291135368036,-0.8333844588916233,1.2299995015955598,-0.09384418811944956],\"type\":\"scatter\"}],                        {\"legend\":{\"bgcolor\":\"#F5F6F9\",\"font\":{\"color\":\"#4D5663\"}},\"paper_bgcolor\":\"#F5F6F9\",\"plot_bgcolor\":\"#F5F6F9\",\"template\":{\"data\":{\"barpolar\":[{\"marker\":{\"line\":{\"color\":\"#E5ECF6\",\"width\":0.5},\"pattern\":{\"fillmode\":\"overlay\",\"size\":10,\"solidity\":0.2}},\"type\":\"barpolar\"}],\"bar\":[{\"error_x\":{\"color\":\"#2a3f5f\"},\"error_y\":{\"color\":\"#2a3f5f\"},\"marker\":{\"line\":{\"color\":\"#E5ECF6\",\"width\":0.5},\"pattern\":{\"fillmode\":\"overlay\",\"size\":10,\"solidity\":0.2}},\"type\":\"bar\"}],\"carpet\":[{\"aaxis\":{\"endlinecolor\":\"#2a3f5f\",\"gridcolor\":\"white\",\"linecolor\":\"white\",\"minorgridcolor\":\"white\",\"startlinecolor\":\"#2a3f5f\"},\"baxis\":{\"endlinecolor\":\"#2a3f5f\",\"gridcolor\":\"white\",\"linecolor\":\"white\",\"minorgridcolor\":\"white\",\"startlinecolor\":\"#2a3f5f\"},\"type\":\"carpet\"}],\"choropleth\":[{\"colorbar\":{\"outlinewidth\":0,\"ticks\":\"\"},\"type\":\"choropleth\"}],\"contourcarpet\":[{\"colorbar\":{\"outlinewidth\":0,\"ticks\":\"\"},\"type\":\"contourcarpet\"}],\"contour\":[{\"colorbar\":{\"outlinewidth\":0,\"ticks\":\"\"},\"colorscale\":[[0.0,\"#0d0887\"],[0.1111111111111111,\"#46039f\"],[0.2222222222222222,\"#7201a8\"],[0.3333333333333333,\"#9c179e\"],[0.4444444444444444,\"#bd3786\"],[0.5555555555555556,\"#d8576b\"],[0.6666666666666666,\"#ed7953\"],[0.7777777777777778,\"#fb9f3a\"],[0.8888888888888888,\"#fdca26\"],[1.0,\"#f0f921\"]],\"type\":\"contour\"}],\"heatmapgl\":[{\"colorbar\":{\"outlinewidth\":0,\"ticks\":\"\"},\"colorscale\":[[0.0,\"#0d0887\"],[0.1111111111111111,\"#46039f\"],[0.2222222222222222,\"#7201a8\"],[0.3333333333333333,\"#9c179e\"],[0.4444444444444444,\"#bd3786\"],[0.5555555555555556,\"#d8576b\"],[0.6666666666666666,\"#ed7953\"],[0.7777777777777778,\"#fb9f3a\"],[0.8888888888888888,\"#fdca26\"],[1.0,\"#f0f921\"]],\"type\":\"heatmapgl\"}],\"heatmap\":[{\"colorbar\":{\"outlinewidth\":0,\"ticks\":\"\"},\"colorscale\":[[0.0,\"#0d0887\"],[0.1111111111111111,\"#46039f\"],[0.2222222222222222,\"#7201a8\"],[0.3333333333333333,\"#9c179e\"],[0.4444444444444444,\"#bd3786\"],[0.5555555555555556,\"#d8576b\"],[0.6666666666666666,\"#ed7953\"],[0.7777777777777778,\"#fb9f3a\"],[0.8888888888888888,\"#fdca26\"],[1.0,\"#f0f921\"]],\"type\":\"heatmap\"}],\"histogram2dcontour\":[{\"colorbar\":{\"outlinewidth\":0,\"ticks\":\"\"},\"colorscale\":[[0.0,\"#0d0887\"],[0.1111111111111111,\"#46039f\"],[0.2222222222222222,\"#7201a8\"],[0.3333333333333333,\"#9c179e\"],[0.4444444444444444,\"#bd3786\"],[0.5555555555555556,\"#d8576b\"],[0.6666666666666666,\"#ed7953\"],[0.7777777777777778,\"#fb9f3a\"],[0.8888888888888888,\"#fdca26\"],[1.0,\"#f0f921\"]],\"type\":\"histogram2dcontour\"}],\"histogram2d\":[{\"colorbar\":{\"outlinewidth\":0,\"ticks\":\"\"},\"colorscale\":[[0.0,\"#0d0887\"],[0.1111111111111111,\"#46039f\"],[0.2222222222222222,\"#7201a8\"],[0.3333333333333333,\"#9c179e\"],[0.4444444444444444,\"#bd3786\"],[0.5555555555555556,\"#d8576b\"],[0.6666666666666666,\"#ed7953\"],[0.7777777777777778,\"#fb9f3a\"],[0.8888888888888888,\"#fdca26\"],[1.0,\"#f0f921\"]],\"type\":\"histogram2d\"}],\"histogram\":[{\"marker\":{\"pattern\":{\"fillmode\":\"overlay\",\"size\":10,\"solidity\":0.2}},\"type\":\"histogram\"}],\"mesh3d\":[{\"colorbar\":{\"outlinewidth\":0,\"ticks\":\"\"},\"type\":\"mesh3d\"}],\"parcoords\":[{\"line\":{\"colorbar\":{\"outlinewidth\":0,\"ticks\":\"\"}},\"type\":\"parcoords\"}],\"pie\":[{\"automargin\":true,\"type\":\"pie\"}],\"scatter3d\":[{\"line\":{\"colorbar\":{\"outlinewidth\":0,\"ticks\":\"\"}},\"marker\":{\"colorbar\":{\"outlinewidth\":0,\"ticks\":\"\"}},\"type\":\"scatter3d\"}],\"scattercarpet\":[{\"marker\":{\"colorbar\":{\"outlinewidth\":0,\"ticks\":\"\"}},\"type\":\"scattercarpet\"}],\"scattergeo\":[{\"marker\":{\"colorbar\":{\"outlinewidth\":0,\"ticks\":\"\"}},\"type\":\"scattergeo\"}],\"scattergl\":[{\"marker\":{\"colorbar\":{\"outlinewidth\":0,\"ticks\":\"\"}},\"type\":\"scattergl\"}],\"scattermapbox\":[{\"marker\":{\"colorbar\":{\"outlinewidth\":0,\"ticks\":\"\"}},\"type\":\"scattermapbox\"}],\"scatterpolargl\":[{\"marker\":{\"colorbar\":{\"outlinewidth\":0,\"ticks\":\"\"}},\"type\":\"scatterpolargl\"}],\"scatterpolar\":[{\"marker\":{\"colorbar\":{\"outlinewidth\":0,\"ticks\":\"\"}},\"type\":\"scatterpolar\"}],\"scatter\":[{\"fillpattern\":{\"fillmode\":\"overlay\",\"size\":10,\"solidity\":0.2},\"type\":\"scatter\"}],\"scatterternary\":[{\"marker\":{\"colorbar\":{\"outlinewidth\":0,\"ticks\":\"\"}},\"type\":\"scatterternary\"}],\"surface\":[{\"colorbar\":{\"outlinewidth\":0,\"ticks\":\"\"},\"colorscale\":[[0.0,\"#0d0887\"],[0.1111111111111111,\"#46039f\"],[0.2222222222222222,\"#7201a8\"],[0.3333333333333333,\"#9c179e\"],[0.4444444444444444,\"#bd3786\"],[0.5555555555555556,\"#d8576b\"],[0.6666666666666666,\"#ed7953\"],[0.7777777777777778,\"#fb9f3a\"],[0.8888888888888888,\"#fdca26\"],[1.0,\"#f0f921\"]],\"type\":\"surface\"}],\"table\":[{\"cells\":{\"fill\":{\"color\":\"#EBF0F8\"},\"line\":{\"color\":\"white\"}},\"header\":{\"fill\":{\"color\":\"#C8D4E3\"},\"line\":{\"color\":\"white\"}},\"type\":\"table\"}]},\"layout\":{\"annotationdefaults\":{\"arrowcolor\":\"#2a3f5f\",\"arrowhead\":0,\"arrowwidth\":1},\"autotypenumbers\":\"strict\",\"coloraxis\":{\"colorbar\":{\"outlinewidth\":0,\"ticks\":\"\"}},\"colorscale\":{\"diverging\":[[0,\"#8e0152\"],[0.1,\"#c51b7d\"],[0.2,\"#de77ae\"],[0.3,\"#f1b6da\"],[0.4,\"#fde0ef\"],[0.5,\"#f7f7f7\"],[0.6,\"#e6f5d0\"],[0.7,\"#b8e186\"],[0.8,\"#7fbc41\"],[0.9,\"#4d9221\"],[1,\"#276419\"]],\"sequential\":[[0.0,\"#0d0887\"],[0.1111111111111111,\"#46039f\"],[0.2222222222222222,\"#7201a8\"],[0.3333333333333333,\"#9c179e\"],[0.4444444444444444,\"#bd3786\"],[0.5555555555555556,\"#d8576b\"],[0.6666666666666666,\"#ed7953\"],[0.7777777777777778,\"#fb9f3a\"],[0.8888888888888888,\"#fdca26\"],[1.0,\"#f0f921\"]],\"sequentialminus\":[[0.0,\"#0d0887\"],[0.1111111111111111,\"#46039f\"],[0.2222222222222222,\"#7201a8\"],[0.3333333333333333,\"#9c179e\"],[0.4444444444444444,\"#bd3786\"],[0.5555555555555556,\"#d8576b\"],[0.6666666666666666,\"#ed7953\"],[0.7777777777777778,\"#fb9f3a\"],[0.8888888888888888,\"#fdca26\"],[1.0,\"#f0f921\"]]},\"colorway\":[\"#636efa\",\"#EF553B\",\"#00cc96\",\"#ab63fa\",\"#FFA15A\",\"#19d3f3\",\"#FF6692\",\"#B6E880\",\"#FF97FF\",\"#FECB52\"],\"font\":{\"color\":\"#2a3f5f\"},\"geo\":{\"bgcolor\":\"white\",\"lakecolor\":\"white\",\"landcolor\":\"#E5ECF6\",\"showlakes\":true,\"showland\":true,\"subunitcolor\":\"white\"},\"hoverlabel\":{\"align\":\"left\"},\"hovermode\":\"closest\",\"mapbox\":{\"style\":\"light\"},\"paper_bgcolor\":\"white\",\"plot_bgcolor\":\"#E5ECF6\",\"polar\":{\"angularaxis\":{\"gridcolor\":\"white\",\"linecolor\":\"white\",\"ticks\":\"\"},\"bgcolor\":\"#E5ECF6\",\"radialaxis\":{\"gridcolor\":\"white\",\"linecolor\":\"white\",\"ticks\":\"\"}},\"scene\":{\"xaxis\":{\"backgroundcolor\":\"#E5ECF6\",\"gridcolor\":\"white\",\"gridwidth\":2,\"linecolor\":\"white\",\"showbackground\":true,\"ticks\":\"\",\"zerolinecolor\":\"white\"},\"yaxis\":{\"backgroundcolor\":\"#E5ECF6\",\"gridcolor\":\"white\",\"gridwidth\":2,\"linecolor\":\"white\",\"showbackground\":true,\"ticks\":\"\",\"zerolinecolor\":\"white\"},\"zaxis\":{\"backgroundcolor\":\"#E5ECF6\",\"gridcolor\":\"white\",\"gridwidth\":2,\"linecolor\":\"white\",\"showbackground\":true,\"ticks\":\"\",\"zerolinecolor\":\"white\"}},\"shapedefaults\":{\"line\":{\"color\":\"#2a3f5f\"}},\"ternary\":{\"aaxis\":{\"gridcolor\":\"white\",\"linecolor\":\"white\",\"ticks\":\"\"},\"baxis\":{\"gridcolor\":\"white\",\"linecolor\":\"white\",\"ticks\":\"\"},\"bgcolor\":\"#E5ECF6\",\"caxis\":{\"gridcolor\":\"white\",\"linecolor\":\"white\",\"ticks\":\"\"}},\"title\":{\"x\":0.05},\"xaxis\":{\"automargin\":true,\"gridcolor\":\"white\",\"linecolor\":\"white\",\"ticks\":\"\",\"title\":{\"standoff\":15},\"zerolinecolor\":\"white\",\"zerolinewidth\":2},\"yaxis\":{\"automargin\":true,\"gridcolor\":\"white\",\"linecolor\":\"white\",\"ticks\":\"\",\"title\":{\"standoff\":15},\"zerolinecolor\":\"white\",\"zerolinewidth\":2}}},\"title\":{\"font\":{\"color\":\"#4D5663\"}},\"xaxis\":{\"gridcolor\":\"#E1E5ED\",\"showgrid\":true,\"tickfont\":{\"color\":\"#4D5663\"},\"title\":{\"font\":{\"color\":\"#4D5663\"},\"text\":\"\"},\"zerolinecolor\":\"#E1E5ED\"},\"yaxis\":{\"gridcolor\":\"#E1E5ED\",\"showgrid\":true,\"tickfont\":{\"color\":\"#4D5663\"},\"title\":{\"font\":{\"color\":\"#4D5663\"},\"text\":\"\"},\"zerolinecolor\":\"#E1E5ED\"}},                        {\"showLink\": true, \"linkText\": \"Export to plot.ly\", \"plotlyServerURL\": \"https://plot.ly\", \"responsive\": true}                    ).then(function(){\n",
       "                            \n",
       "var gd = document.getElementById('9695fb7a-1c7f-4df7-abc5-6dd9effb90ca');\n",
       "var x = new MutationObserver(function (mutations, observer) {{\n",
       "        var display = window.getComputedStyle(gd).display;\n",
       "        if (!display || display === 'none') {{\n",
       "            console.log([gd, 'removed!']);\n",
       "            Plotly.purge(gd);\n",
       "            observer.disconnect();\n",
       "        }}\n",
       "}});\n",
       "\n",
       "// Listen for the removal of the full notebook cells\n",
       "var notebookContainer = gd.closest('#notebook-container');\n",
       "if (notebookContainer) {{\n",
       "    x.observe(notebookContainer, {childList: true});\n",
       "}}\n",
       "\n",
       "// Listen for the clearing of the current output cell\n",
       "var outputEl = gd.closest('.output');\n",
       "if (outputEl) {{\n",
       "    x.observe(outputEl, {childList: true});\n",
       "}}\n",
       "\n",
       "                        })                };                });            </script>        </div>"
      ]
     },
     "metadata": {},
     "output_type": "display_data"
    }
   ],
   "source": [
    "df.iplot(kind='bubble',x='A',y='B',size='C')"
   ]
  },
  {
   "cell_type": "markdown",
   "metadata": {},
   "source": [
    "## scatter_matrix()\n",
    "\n",
    "Similar to sns.pairplot()"
   ]
  },
  {
   "cell_type": "code",
   "execution_count": 17,
   "metadata": {},
   "outputs": [
    {
     "data": {
      "application/vnd.plotly.v1+json": {
       "config": {
        "linkText": "Export to plot.ly",
        "plotlyServerURL": "https://plot.ly",
        "showLink": true
       },
       "data": [
        {
         "histfunc": "count",
         "histnorm": "",
         "marker": {
          "color": "rgba(255, 153, 51, 1.0)",
          "line": {
           "color": "#4D5663",
           "width": 1.3
          }
         },
         "name": "A",
         "nbinsx": 10,
         "opacity": 0.8,
         "orientation": "v",
         "type": "histogram",
         "x": [
          0.13160484099032704,
          -0.7950894148460821,
          -0.13178744981839602,
          0.04643253694874059,
          1.4008811580488094,
          1.0636094200617128,
          -0.6302576662973428,
          -1.0151765951983778,
          -1.6289811525645115,
          1.6268210437035,
          0.6256421851048581,
          0.6214972799378291,
          1.2228321462568825,
          1.4103128126593787,
          -1.3973949776753045,
          -0.18281033081801018,
          2.605677785134823,
          0.3988269851056346,
          -0.4529882860464019,
          1.0784128278939078,
          0.7901159872294277,
          -0.4910610738334806,
          -0.9409118009988205,
          0.434468041211235,
          0.3742896418368096,
          -1.1561864863866274,
          -1.2842867457363056,
          -0.5261606343749329,
          0.6429325143749458,
          -1.3552544051664746,
          1.6270610794688527,
          -2.1435595460990853,
          -0.23455305399294482,
          -1.5986242370245385,
          1.1759934266713825,
          -0.01270097113625606,
          -0.4668452761149272,
          -0.7412607679432618,
          0.3462472288658386,
          0.10935402326252003,
          -0.3649831789786431,
          -0.21849969872497854,
          0.32657994207227464,
          2.2351327991254717,
          0.18144734817366057,
          -0.6912176240497995,
          0.7261509416783926,
          -1.8859562311461544,
          0.6217916103657698,
          -1.814362876226159,
          0.4189234239519778,
          1.7208451979119816,
          0.46099175660802466,
          0.07536895923905688,
          1.6026332086845676,
          -0.4813040033991323,
          -1.1715479856146989,
          -0.961844887784821,
          -0.3697250311946081,
          0.9903676937190032,
          0.5987589037491994,
          0.22441901104260428,
          -0.7290832505061414,
          1.182504038571702,
          0.49849042094992546,
          1.934068179888321,
          -1.0356143693303237,
          0.5099229331601602,
          -0.14881706016740145,
          1.2932578315420147,
          -0.8803779558532795,
          0.9912732908960632,
          -0.07363103484386704,
          -1.2099173247127637,
          0.49734583814546224,
          0.35313499965974543,
          -0.27695109523629635,
          0.3977250325577475,
          0.4267867826118734,
          -1.2592491178910903,
          1.561409048832289,
          -0.6487493849583286,
          2.1000263133192827,
          -1.6738293406736495,
          -1.2478081529020673,
          -0.5461776592746976,
          -0.8069503449533223,
          -1.216016854020958,
          -0.6994925219189366,
          0.3168200730116124,
          -1.618796776256919,
          0.43488998610191393,
          -0.09960482964117366,
          0.8141745749221933,
          -0.6550109510461594,
          -1.0731797207644709,
          0.025062692688615756,
          -0.1987930919360324,
          -0.8068381141444133,
          -0.3756595044409874
         ],
         "xaxis": "x",
         "yaxis": "y"
        },
        {
         "line": {
          "color": "rgba(128, 128, 128, 1.0)",
          "dash": "solid",
          "shape": "linear",
          "width": 1.3
         },
         "marker": {
          "size": 2,
          "symbol": "circle"
         },
         "mode": "markers",
         "name": "A",
         "text": "",
         "type": "scatter",
         "x": [
          1.4318947810176526,
          0.24026038605821917,
          0.4451286277214846,
          0.5362264542043904,
          -1.1066503086203259,
          -0.42229707035492087,
          0.718042335741499,
          -0.9318978257839343,
          -0.44859068426479753,
          0.06393476675777732,
          -0.9638697396246255,
          0.047373052805112593,
          -2.6316439201988544,
          1.16645099432575,
          0.32036750849283824,
          -0.05364339294583357,
          0.3802655235220497,
          -0.09961734522532066,
          -0.3653884522071064,
          0.5387252402177625,
          0.4688390726042069,
          0.09915984634898799,
          0.07388293090421022,
          -0.18789060897527135,
          -0.11576320542210079,
          1.0107124619771906,
          -0.6193205128828219,
          -0.12003905201802431,
          -0.08329152526464428,
          -1.0665194384892394,
          0.5251365929191014,
          -1.7202303396085004,
          -0.4098643151059729,
          0.2192352113181968,
          0.23647471448842297,
          -0.1115245845888328,
          0.18615443769853549,
          -0.40964673877098917,
          0.9711188501856983,
          -1.5071541555991648,
          0.1999602495297384,
          2.492818422930499,
          -0.41384143683286634,
          -0.9240183532845967,
          0.428717009167491,
          1.8113112612096411,
          -0.003990601547180274,
          -1.0569525684969008,
          -0.2462620275510187,
          -0.4334682863880004,
          0.3952226502148541,
          1.2432030130337701,
          0.6223978449559944,
          -1.1375909277591023,
          0.8016351645868708,
          -0.20628826144655052,
          1.6797828797502556,
          -0.9924526424616922,
          -0.31062961008454076,
          1.4306099335403377,
          1.9799584956398923,
          1.2607300051211943,
          0.5926955856960735,
          -0.6860932783938856,
          0.8932491030110556,
          -0.2366485951762157,
          1.1461888955923492,
          0.9762538722558245,
          -0.7899138777903845,
          0.4001873776041438,
          0.12072644501913432,
          1.17629127197133,
          -1.489601357172212,
          0.28052146475854733,
          1.6260200481973202,
          0.4605915872324684,
          0.14764372184436497,
          0.7331058048576845,
          2.2291967418153136,
          -0.781849913741244,
          -0.9985226652186919,
          1.237574668861233,
          0.7169596395220929,
          -1.9079310473095077,
          1.2290383651644585,
          -0.7379281450552093,
          -0.3610320856280676,
          2.8491743491694232,
          1.0186867977434042,
          -0.45887321828980554,
          0.19222873439429394,
          0.11579126666695112,
          0.09289699526265048,
          -0.15629653044902783,
          -1.2121316352810876,
          0.24892657275282007,
          -0.34109291135368036,
          -0.8333844588916233,
          1.2299995015955598,
          -0.09384418811944956
         ],
         "xaxis": "x2",
         "y": [
          0.13160484099032704,
          -0.7950894148460821,
          -0.13178744981839602,
          0.04643253694874059,
          1.4008811580488094,
          1.0636094200617128,
          -0.6302576662973428,
          -1.0151765951983778,
          -1.6289811525645115,
          1.6268210437035,
          0.6256421851048581,
          0.6214972799378291,
          1.2228321462568825,
          1.4103128126593787,
          -1.3973949776753045,
          -0.18281033081801018,
          2.605677785134823,
          0.3988269851056346,
          -0.4529882860464019,
          1.0784128278939078,
          0.7901159872294277,
          -0.4910610738334806,
          -0.9409118009988205,
          0.434468041211235,
          0.3742896418368096,
          -1.1561864863866274,
          -1.2842867457363056,
          -0.5261606343749329,
          0.6429325143749458,
          -1.3552544051664746,
          1.6270610794688527,
          -2.1435595460990853,
          -0.23455305399294482,
          -1.5986242370245385,
          1.1759934266713825,
          -0.01270097113625606,
          -0.4668452761149272,
          -0.7412607679432618,
          0.3462472288658386,
          0.10935402326252003,
          -0.3649831789786431,
          -0.21849969872497854,
          0.32657994207227464,
          2.2351327991254717,
          0.18144734817366057,
          -0.6912176240497995,
          0.7261509416783926,
          -1.8859562311461544,
          0.6217916103657698,
          -1.814362876226159,
          0.4189234239519778,
          1.7208451979119816,
          0.46099175660802466,
          0.07536895923905688,
          1.6026332086845676,
          -0.4813040033991323,
          -1.1715479856146989,
          -0.961844887784821,
          -0.3697250311946081,
          0.9903676937190032,
          0.5987589037491994,
          0.22441901104260428,
          -0.7290832505061414,
          1.182504038571702,
          0.49849042094992546,
          1.934068179888321,
          -1.0356143693303237,
          0.5099229331601602,
          -0.14881706016740145,
          1.2932578315420147,
          -0.8803779558532795,
          0.9912732908960632,
          -0.07363103484386704,
          -1.2099173247127637,
          0.49734583814546224,
          0.35313499965974543,
          -0.27695109523629635,
          0.3977250325577475,
          0.4267867826118734,
          -1.2592491178910903,
          1.561409048832289,
          -0.6487493849583286,
          2.1000263133192827,
          -1.6738293406736495,
          -1.2478081529020673,
          -0.5461776592746976,
          -0.8069503449533223,
          -1.216016854020958,
          -0.6994925219189366,
          0.3168200730116124,
          -1.618796776256919,
          0.43488998610191393,
          -0.09960482964117366,
          0.8141745749221933,
          -0.6550109510461594,
          -1.0731797207644709,
          0.025062692688615756,
          -0.1987930919360324,
          -0.8068381141444133,
          -0.3756595044409874
         ],
         "yaxis": "y2"
        },
        {
         "line": {
          "color": "rgba(128, 128, 128, 1.0)",
          "dash": "solid",
          "shape": "linear",
          "width": 1.3
         },
         "marker": {
          "size": 2,
          "symbol": "circle"
         },
         "mode": "markers",
         "name": "A",
         "text": "",
         "type": "scatter",
         "x": [
          -0.971022346575938,
          -0.5243024731276443,
          1.4286413183508697,
          0.9137829630609101,
          -0.8858080620372212,
          1.60714413043683,
          1.500409250991382,
          0.23383299051706155,
          -0.45644596388353964,
          0.9323430868876016,
          0.18136130428341612,
          -0.08710946309744187,
          -0.5165280743998215,
          -0.9871919968274258,
          0.6957812675613306,
          -0.21310596317218783,
          -0.7671961431296472,
          -0.8456308966197522,
          1.000258255813157,
          -0.8766672551763515,
          -1.025581732381983,
          -0.4493566079268353,
          -0.8189968559032405,
          2.1423888628192667,
          0.21283462121999747,
          0.41124945491522974,
          -0.528734301448836,
          2.2378067259334387,
          -1.1604140663002422,
          0.4072605370018098,
          -1.6922822861315925,
          0.20304010437405975,
          -0.370719198334433,
          -0.4218291816271057,
          -1.1825893612552376,
          -1.5967591425602543,
          -0.09221248457979499,
          1.7631166471745965,
          -0.04083330384185371,
          1.832559072362424,
          -0.1275310601322519,
          -1.499482768775023,
          1.1900005959356978,
          0.4932095737397246,
          1.4089585106778706,
          0.1740381662200239,
          -0.11007728217088389,
          -0.5687332352449179,
          0.060133667198007765,
          1.3688822401017933,
          1.582865785466756,
          0.5822665546760064,
          -0.7815186844672299,
          -0.6777042737687243,
          1.126308992622847,
          1.2788472079126632,
          -1.0672752399294543,
          -0.643146503037076,
          -0.1511482000712323,
          1.6585490956043274,
          -1.4981491057130696,
          -0.058557970848679405,
          0.9795625424614111,
          1.2033564609474556,
          -1.4954506288951142,
          0.29031527322649764,
          0.8635660788280374,
          0.27092205398846453,
          0.8967125564808078,
          1.6857266086235219,
          -0.18267859561471733,
          -2.2304111589487903,
          -0.015856920988653118,
          -0.34308233132870436,
          -0.18275565819244208,
          0.6454017103842246,
          2.280495614345781,
          -1.0982758047559875,
          0.7686227898033995,
          -1.5435421374184264,
          -1.6748784707759343,
          1.1040311056681484,
          0.7640841601508227,
          1.6956137181403692,
          1.540992767196364,
          1.3080783711522082,
          -1.4700280148462321,
          -1.1657677185485011,
          -0.5634960739617756,
          0.712096619769324,
          -1.837827400119136,
          0.6761305537246636,
          -0.7441499518305543,
          -0.693276859929443,
          -1.2285294853916533,
          -1.216206962262111,
          0.7791380282318413,
          -0.5842460014967957,
          -0.41736139073749073,
          1.2635056761349914
         ],
         "xaxis": "x3",
         "y": [
          0.13160484099032704,
          -0.7950894148460821,
          -0.13178744981839602,
          0.04643253694874059,
          1.4008811580488094,
          1.0636094200617128,
          -0.6302576662973428,
          -1.0151765951983778,
          -1.6289811525645115,
          1.6268210437035,
          0.6256421851048581,
          0.6214972799378291,
          1.2228321462568825,
          1.4103128126593787,
          -1.3973949776753045,
          -0.18281033081801018,
          2.605677785134823,
          0.3988269851056346,
          -0.4529882860464019,
          1.0784128278939078,
          0.7901159872294277,
          -0.4910610738334806,
          -0.9409118009988205,
          0.434468041211235,
          0.3742896418368096,
          -1.1561864863866274,
          -1.2842867457363056,
          -0.5261606343749329,
          0.6429325143749458,
          -1.3552544051664746,
          1.6270610794688527,
          -2.1435595460990853,
          -0.23455305399294482,
          -1.5986242370245385,
          1.1759934266713825,
          -0.01270097113625606,
          -0.4668452761149272,
          -0.7412607679432618,
          0.3462472288658386,
          0.10935402326252003,
          -0.3649831789786431,
          -0.21849969872497854,
          0.32657994207227464,
          2.2351327991254717,
          0.18144734817366057,
          -0.6912176240497995,
          0.7261509416783926,
          -1.8859562311461544,
          0.6217916103657698,
          -1.814362876226159,
          0.4189234239519778,
          1.7208451979119816,
          0.46099175660802466,
          0.07536895923905688,
          1.6026332086845676,
          -0.4813040033991323,
          -1.1715479856146989,
          -0.961844887784821,
          -0.3697250311946081,
          0.9903676937190032,
          0.5987589037491994,
          0.22441901104260428,
          -0.7290832505061414,
          1.182504038571702,
          0.49849042094992546,
          1.934068179888321,
          -1.0356143693303237,
          0.5099229331601602,
          -0.14881706016740145,
          1.2932578315420147,
          -0.8803779558532795,
          0.9912732908960632,
          -0.07363103484386704,
          -1.2099173247127637,
          0.49734583814546224,
          0.35313499965974543,
          -0.27695109523629635,
          0.3977250325577475,
          0.4267867826118734,
          -1.2592491178910903,
          1.561409048832289,
          -0.6487493849583286,
          2.1000263133192827,
          -1.6738293406736495,
          -1.2478081529020673,
          -0.5461776592746976,
          -0.8069503449533223,
          -1.216016854020958,
          -0.6994925219189366,
          0.3168200730116124,
          -1.618796776256919,
          0.43488998610191393,
          -0.09960482964117366,
          0.8141745749221933,
          -0.6550109510461594,
          -1.0731797207644709,
          0.025062692688615756,
          -0.1987930919360324,
          -0.8068381141444133,
          -0.3756595044409874
         ],
         "yaxis": "y3"
        },
        {
         "line": {
          "color": "rgba(128, 128, 128, 1.0)",
          "dash": "solid",
          "shape": "linear",
          "width": 1.3
         },
         "marker": {
          "size": 2,
          "symbol": "circle"
         },
         "mode": "markers",
         "name": "A",
         "text": "",
         "type": "scatter",
         "x": [
          -0.026946352214707543,
          0.7001864198834278,
          -0.2982169573158846,
          -0.46785808251321376,
          0.1662198421131035,
          -1.0361993190548702,
          0.36990320951933825,
          -0.46096929909194345,
          -0.32786381054044816,
          -1.9425338206029976,
          1.3241557623479694,
          1.1454651188750975,
          0.7486765634810072,
          0.9330479359890153,
          -0.9417092796502509,
          0.6690846669731796,
          -1.336677393459967,
          0.8684602791773485,
          -0.6536004660338142,
          -0.12821638297337665,
          -0.5600649918885628,
          0.12970791744126992,
          0.6532835157045196,
          -1.282823899790167,
          0.7736421266931258,
          -1.7976496762557792,
          -0.15948682481998375,
          -0.391125585197008,
          1.354088423712669,
          -1.443692993191206,
          -0.4289105316998597,
          0.5740855457163138,
          -0.33639804341759105,
          -0.10356897058918564,
          1.574387291112665,
          -0.9091404976969024,
          1.046847296801124,
          0.5706535462664871,
          -1.6541427845300183,
          -0.8536739719150671,
          -1.0688862444256853,
          -1.9336291584556424,
          1.9376248679459394,
          0.6695776761101119,
          1.5313603114363874,
          -1.4712342112068328,
          1.7690964396844335,
          1.1077083251306983,
          -0.58024259998545,
          -0.5196224712276971,
          0.38399780945459105,
          0.31773733607258414,
          -1.8371234971094654,
          0.08363561366150972,
          0.473428602686091,
          -1.057167404990847,
          -0.2945659075349518,
          -0.46844130149068275,
          -0.7780798699914746,
          0.25040311051155845,
          -0.10387342147144044,
          -1.263258128858654,
          0.4867782976354999,
          -0.8868103081610105,
          0.15165521213779967,
          -0.8652838520851245,
          0.17588274530746156,
          -0.11919944926902291,
          -1.4675189167998794,
          1.7553033154179047,
          0.8196102272713092,
          -0.4133265676516026,
          -1.443631395161763,
          -1.1308320153402704,
          -0.6639551530556687,
          -0.39126040132210677,
          0.46545469886051766,
          0.5733045030441133,
          -2.0616130374103525,
          0.2949920301219885,
          0.012695105848094499,
          -0.07790473580455372,
          0.10607123347971581,
          0.6567785605314618,
          -0.6250906670799768,
          1.6570247763242396,
          1.1201417570577372,
          1.033694848041122,
          -0.9124782530568055,
          1.988878350986756,
          -0.4582865124599824,
          -0.8059843919133812,
          0.5124959363470918,
          1.9149527906323667,
          -0.17926090652051777,
          1.2052411849841747,
          -0.555649682790034,
          0.3362816656037818,
          -0.7121607025339074,
          1.0413593991665846
         ],
         "xaxis": "x4",
         "y": [
          0.13160484099032704,
          -0.7950894148460821,
          -0.13178744981839602,
          0.04643253694874059,
          1.4008811580488094,
          1.0636094200617128,
          -0.6302576662973428,
          -1.0151765951983778,
          -1.6289811525645115,
          1.6268210437035,
          0.6256421851048581,
          0.6214972799378291,
          1.2228321462568825,
          1.4103128126593787,
          -1.3973949776753045,
          -0.18281033081801018,
          2.605677785134823,
          0.3988269851056346,
          -0.4529882860464019,
          1.0784128278939078,
          0.7901159872294277,
          -0.4910610738334806,
          -0.9409118009988205,
          0.434468041211235,
          0.3742896418368096,
          -1.1561864863866274,
          -1.2842867457363056,
          -0.5261606343749329,
          0.6429325143749458,
          -1.3552544051664746,
          1.6270610794688527,
          -2.1435595460990853,
          -0.23455305399294482,
          -1.5986242370245385,
          1.1759934266713825,
          -0.01270097113625606,
          -0.4668452761149272,
          -0.7412607679432618,
          0.3462472288658386,
          0.10935402326252003,
          -0.3649831789786431,
          -0.21849969872497854,
          0.32657994207227464,
          2.2351327991254717,
          0.18144734817366057,
          -0.6912176240497995,
          0.7261509416783926,
          -1.8859562311461544,
          0.6217916103657698,
          -1.814362876226159,
          0.4189234239519778,
          1.7208451979119816,
          0.46099175660802466,
          0.07536895923905688,
          1.6026332086845676,
          -0.4813040033991323,
          -1.1715479856146989,
          -0.961844887784821,
          -0.3697250311946081,
          0.9903676937190032,
          0.5987589037491994,
          0.22441901104260428,
          -0.7290832505061414,
          1.182504038571702,
          0.49849042094992546,
          1.934068179888321,
          -1.0356143693303237,
          0.5099229331601602,
          -0.14881706016740145,
          1.2932578315420147,
          -0.8803779558532795,
          0.9912732908960632,
          -0.07363103484386704,
          -1.2099173247127637,
          0.49734583814546224,
          0.35313499965974543,
          -0.27695109523629635,
          0.3977250325577475,
          0.4267867826118734,
          -1.2592491178910903,
          1.561409048832289,
          -0.6487493849583286,
          2.1000263133192827,
          -1.6738293406736495,
          -1.2478081529020673,
          -0.5461776592746976,
          -0.8069503449533223,
          -1.216016854020958,
          -0.6994925219189366,
          0.3168200730116124,
          -1.618796776256919,
          0.43488998610191393,
          -0.09960482964117366,
          0.8141745749221933,
          -0.6550109510461594,
          -1.0731797207644709,
          0.025062692688615756,
          -0.1987930919360324,
          -0.8068381141444133,
          -0.3756595044409874
         ],
         "yaxis": "y4"
        },
        {
         "line": {
          "color": "rgba(128, 128, 128, 1.0)",
          "dash": "solid",
          "shape": "linear",
          "width": 1.3
         },
         "marker": {
          "size": 2,
          "symbol": "circle"
         },
         "mode": "markers",
         "name": "B",
         "text": "",
         "type": "scatter",
         "x": [
          0.13160484099032704,
          -0.7950894148460821,
          -0.13178744981839602,
          0.04643253694874059,
          1.4008811580488094,
          1.0636094200617128,
          -0.6302576662973428,
          -1.0151765951983778,
          -1.6289811525645115,
          1.6268210437035,
          0.6256421851048581,
          0.6214972799378291,
          1.2228321462568825,
          1.4103128126593787,
          -1.3973949776753045,
          -0.18281033081801018,
          2.605677785134823,
          0.3988269851056346,
          -0.4529882860464019,
          1.0784128278939078,
          0.7901159872294277,
          -0.4910610738334806,
          -0.9409118009988205,
          0.434468041211235,
          0.3742896418368096,
          -1.1561864863866274,
          -1.2842867457363056,
          -0.5261606343749329,
          0.6429325143749458,
          -1.3552544051664746,
          1.6270610794688527,
          -2.1435595460990853,
          -0.23455305399294482,
          -1.5986242370245385,
          1.1759934266713825,
          -0.01270097113625606,
          -0.4668452761149272,
          -0.7412607679432618,
          0.3462472288658386,
          0.10935402326252003,
          -0.3649831789786431,
          -0.21849969872497854,
          0.32657994207227464,
          2.2351327991254717,
          0.18144734817366057,
          -0.6912176240497995,
          0.7261509416783926,
          -1.8859562311461544,
          0.6217916103657698,
          -1.814362876226159,
          0.4189234239519778,
          1.7208451979119816,
          0.46099175660802466,
          0.07536895923905688,
          1.6026332086845676,
          -0.4813040033991323,
          -1.1715479856146989,
          -0.961844887784821,
          -0.3697250311946081,
          0.9903676937190032,
          0.5987589037491994,
          0.22441901104260428,
          -0.7290832505061414,
          1.182504038571702,
          0.49849042094992546,
          1.934068179888321,
          -1.0356143693303237,
          0.5099229331601602,
          -0.14881706016740145,
          1.2932578315420147,
          -0.8803779558532795,
          0.9912732908960632,
          -0.07363103484386704,
          -1.2099173247127637,
          0.49734583814546224,
          0.35313499965974543,
          -0.27695109523629635,
          0.3977250325577475,
          0.4267867826118734,
          -1.2592491178910903,
          1.561409048832289,
          -0.6487493849583286,
          2.1000263133192827,
          -1.6738293406736495,
          -1.2478081529020673,
          -0.5461776592746976,
          -0.8069503449533223,
          -1.216016854020958,
          -0.6994925219189366,
          0.3168200730116124,
          -1.618796776256919,
          0.43488998610191393,
          -0.09960482964117366,
          0.8141745749221933,
          -0.6550109510461594,
          -1.0731797207644709,
          0.025062692688615756,
          -0.1987930919360324,
          -0.8068381141444133,
          -0.3756595044409874
         ],
         "xaxis": "x5",
         "y": [
          1.4318947810176526,
          0.24026038605821917,
          0.4451286277214846,
          0.5362264542043904,
          -1.1066503086203259,
          -0.42229707035492087,
          0.718042335741499,
          -0.9318978257839343,
          -0.44859068426479753,
          0.06393476675777732,
          -0.9638697396246255,
          0.047373052805112593,
          -2.6316439201988544,
          1.16645099432575,
          0.32036750849283824,
          -0.05364339294583357,
          0.3802655235220497,
          -0.09961734522532066,
          -0.3653884522071064,
          0.5387252402177625,
          0.4688390726042069,
          0.09915984634898799,
          0.07388293090421022,
          -0.18789060897527135,
          -0.11576320542210079,
          1.0107124619771906,
          -0.6193205128828219,
          -0.12003905201802431,
          -0.08329152526464428,
          -1.0665194384892394,
          0.5251365929191014,
          -1.7202303396085004,
          -0.4098643151059729,
          0.2192352113181968,
          0.23647471448842297,
          -0.1115245845888328,
          0.18615443769853549,
          -0.40964673877098917,
          0.9711188501856983,
          -1.5071541555991648,
          0.1999602495297384,
          2.492818422930499,
          -0.41384143683286634,
          -0.9240183532845967,
          0.428717009167491,
          1.8113112612096411,
          -0.003990601547180274,
          -1.0569525684969008,
          -0.2462620275510187,
          -0.4334682863880004,
          0.3952226502148541,
          1.2432030130337701,
          0.6223978449559944,
          -1.1375909277591023,
          0.8016351645868708,
          -0.20628826144655052,
          1.6797828797502556,
          -0.9924526424616922,
          -0.31062961008454076,
          1.4306099335403377,
          1.9799584956398923,
          1.2607300051211943,
          0.5926955856960735,
          -0.6860932783938856,
          0.8932491030110556,
          -0.2366485951762157,
          1.1461888955923492,
          0.9762538722558245,
          -0.7899138777903845,
          0.4001873776041438,
          0.12072644501913432,
          1.17629127197133,
          -1.489601357172212,
          0.28052146475854733,
          1.6260200481973202,
          0.4605915872324684,
          0.14764372184436497,
          0.7331058048576845,
          2.2291967418153136,
          -0.781849913741244,
          -0.9985226652186919,
          1.237574668861233,
          0.7169596395220929,
          -1.9079310473095077,
          1.2290383651644585,
          -0.7379281450552093,
          -0.3610320856280676,
          2.8491743491694232,
          1.0186867977434042,
          -0.45887321828980554,
          0.19222873439429394,
          0.11579126666695112,
          0.09289699526265048,
          -0.15629653044902783,
          -1.2121316352810876,
          0.24892657275282007,
          -0.34109291135368036,
          -0.8333844588916233,
          1.2299995015955598,
          -0.09384418811944956
         ],
         "yaxis": "y5"
        },
        {
         "histfunc": "count",
         "histnorm": "",
         "marker": {
          "color": "rgba(55, 128, 191, 1.0)",
          "line": {
           "color": "#4D5663",
           "width": 1.3
          }
         },
         "name": "B",
         "nbinsx": 10,
         "opacity": 0.8,
         "orientation": "v",
         "type": "histogram",
         "x": [
          1.4318947810176526,
          0.24026038605821917,
          0.4451286277214846,
          0.5362264542043904,
          -1.1066503086203259,
          -0.42229707035492087,
          0.718042335741499,
          -0.9318978257839343,
          -0.44859068426479753,
          0.06393476675777732,
          -0.9638697396246255,
          0.047373052805112593,
          -2.6316439201988544,
          1.16645099432575,
          0.32036750849283824,
          -0.05364339294583357,
          0.3802655235220497,
          -0.09961734522532066,
          -0.3653884522071064,
          0.5387252402177625,
          0.4688390726042069,
          0.09915984634898799,
          0.07388293090421022,
          -0.18789060897527135,
          -0.11576320542210079,
          1.0107124619771906,
          -0.6193205128828219,
          -0.12003905201802431,
          -0.08329152526464428,
          -1.0665194384892394,
          0.5251365929191014,
          -1.7202303396085004,
          -0.4098643151059729,
          0.2192352113181968,
          0.23647471448842297,
          -0.1115245845888328,
          0.18615443769853549,
          -0.40964673877098917,
          0.9711188501856983,
          -1.5071541555991648,
          0.1999602495297384,
          2.492818422930499,
          -0.41384143683286634,
          -0.9240183532845967,
          0.428717009167491,
          1.8113112612096411,
          -0.003990601547180274,
          -1.0569525684969008,
          -0.2462620275510187,
          -0.4334682863880004,
          0.3952226502148541,
          1.2432030130337701,
          0.6223978449559944,
          -1.1375909277591023,
          0.8016351645868708,
          -0.20628826144655052,
          1.6797828797502556,
          -0.9924526424616922,
          -0.31062961008454076,
          1.4306099335403377,
          1.9799584956398923,
          1.2607300051211943,
          0.5926955856960735,
          -0.6860932783938856,
          0.8932491030110556,
          -0.2366485951762157,
          1.1461888955923492,
          0.9762538722558245,
          -0.7899138777903845,
          0.4001873776041438,
          0.12072644501913432,
          1.17629127197133,
          -1.489601357172212,
          0.28052146475854733,
          1.6260200481973202,
          0.4605915872324684,
          0.14764372184436497,
          0.7331058048576845,
          2.2291967418153136,
          -0.781849913741244,
          -0.9985226652186919,
          1.237574668861233,
          0.7169596395220929,
          -1.9079310473095077,
          1.2290383651644585,
          -0.7379281450552093,
          -0.3610320856280676,
          2.8491743491694232,
          1.0186867977434042,
          -0.45887321828980554,
          0.19222873439429394,
          0.11579126666695112,
          0.09289699526265048,
          -0.15629653044902783,
          -1.2121316352810876,
          0.24892657275282007,
          -0.34109291135368036,
          -0.8333844588916233,
          1.2299995015955598,
          -0.09384418811944956
         ],
         "xaxis": "x6",
         "yaxis": "y6"
        },
        {
         "line": {
          "color": "rgba(128, 128, 128, 1.0)",
          "dash": "solid",
          "shape": "linear",
          "width": 1.3
         },
         "marker": {
          "size": 2,
          "symbol": "circle"
         },
         "mode": "markers",
         "name": "B",
         "text": "",
         "type": "scatter",
         "x": [
          -0.971022346575938,
          -0.5243024731276443,
          1.4286413183508697,
          0.9137829630609101,
          -0.8858080620372212,
          1.60714413043683,
          1.500409250991382,
          0.23383299051706155,
          -0.45644596388353964,
          0.9323430868876016,
          0.18136130428341612,
          -0.08710946309744187,
          -0.5165280743998215,
          -0.9871919968274258,
          0.6957812675613306,
          -0.21310596317218783,
          -0.7671961431296472,
          -0.8456308966197522,
          1.000258255813157,
          -0.8766672551763515,
          -1.025581732381983,
          -0.4493566079268353,
          -0.8189968559032405,
          2.1423888628192667,
          0.21283462121999747,
          0.41124945491522974,
          -0.528734301448836,
          2.2378067259334387,
          -1.1604140663002422,
          0.4072605370018098,
          -1.6922822861315925,
          0.20304010437405975,
          -0.370719198334433,
          -0.4218291816271057,
          -1.1825893612552376,
          -1.5967591425602543,
          -0.09221248457979499,
          1.7631166471745965,
          -0.04083330384185371,
          1.832559072362424,
          -0.1275310601322519,
          -1.499482768775023,
          1.1900005959356978,
          0.4932095737397246,
          1.4089585106778706,
          0.1740381662200239,
          -0.11007728217088389,
          -0.5687332352449179,
          0.060133667198007765,
          1.3688822401017933,
          1.582865785466756,
          0.5822665546760064,
          -0.7815186844672299,
          -0.6777042737687243,
          1.126308992622847,
          1.2788472079126632,
          -1.0672752399294543,
          -0.643146503037076,
          -0.1511482000712323,
          1.6585490956043274,
          -1.4981491057130696,
          -0.058557970848679405,
          0.9795625424614111,
          1.2033564609474556,
          -1.4954506288951142,
          0.29031527322649764,
          0.8635660788280374,
          0.27092205398846453,
          0.8967125564808078,
          1.6857266086235219,
          -0.18267859561471733,
          -2.2304111589487903,
          -0.015856920988653118,
          -0.34308233132870436,
          -0.18275565819244208,
          0.6454017103842246,
          2.280495614345781,
          -1.0982758047559875,
          0.7686227898033995,
          -1.5435421374184264,
          -1.6748784707759343,
          1.1040311056681484,
          0.7640841601508227,
          1.6956137181403692,
          1.540992767196364,
          1.3080783711522082,
          -1.4700280148462321,
          -1.1657677185485011,
          -0.5634960739617756,
          0.712096619769324,
          -1.837827400119136,
          0.6761305537246636,
          -0.7441499518305543,
          -0.693276859929443,
          -1.2285294853916533,
          -1.216206962262111,
          0.7791380282318413,
          -0.5842460014967957,
          -0.41736139073749073,
          1.2635056761349914
         ],
         "xaxis": "x7",
         "y": [
          1.4318947810176526,
          0.24026038605821917,
          0.4451286277214846,
          0.5362264542043904,
          -1.1066503086203259,
          -0.42229707035492087,
          0.718042335741499,
          -0.9318978257839343,
          -0.44859068426479753,
          0.06393476675777732,
          -0.9638697396246255,
          0.047373052805112593,
          -2.6316439201988544,
          1.16645099432575,
          0.32036750849283824,
          -0.05364339294583357,
          0.3802655235220497,
          -0.09961734522532066,
          -0.3653884522071064,
          0.5387252402177625,
          0.4688390726042069,
          0.09915984634898799,
          0.07388293090421022,
          -0.18789060897527135,
          -0.11576320542210079,
          1.0107124619771906,
          -0.6193205128828219,
          -0.12003905201802431,
          -0.08329152526464428,
          -1.0665194384892394,
          0.5251365929191014,
          -1.7202303396085004,
          -0.4098643151059729,
          0.2192352113181968,
          0.23647471448842297,
          -0.1115245845888328,
          0.18615443769853549,
          -0.40964673877098917,
          0.9711188501856983,
          -1.5071541555991648,
          0.1999602495297384,
          2.492818422930499,
          -0.41384143683286634,
          -0.9240183532845967,
          0.428717009167491,
          1.8113112612096411,
          -0.003990601547180274,
          -1.0569525684969008,
          -0.2462620275510187,
          -0.4334682863880004,
          0.3952226502148541,
          1.2432030130337701,
          0.6223978449559944,
          -1.1375909277591023,
          0.8016351645868708,
          -0.20628826144655052,
          1.6797828797502556,
          -0.9924526424616922,
          -0.31062961008454076,
          1.4306099335403377,
          1.9799584956398923,
          1.2607300051211943,
          0.5926955856960735,
          -0.6860932783938856,
          0.8932491030110556,
          -0.2366485951762157,
          1.1461888955923492,
          0.9762538722558245,
          -0.7899138777903845,
          0.4001873776041438,
          0.12072644501913432,
          1.17629127197133,
          -1.489601357172212,
          0.28052146475854733,
          1.6260200481973202,
          0.4605915872324684,
          0.14764372184436497,
          0.7331058048576845,
          2.2291967418153136,
          -0.781849913741244,
          -0.9985226652186919,
          1.237574668861233,
          0.7169596395220929,
          -1.9079310473095077,
          1.2290383651644585,
          -0.7379281450552093,
          -0.3610320856280676,
          2.8491743491694232,
          1.0186867977434042,
          -0.45887321828980554,
          0.19222873439429394,
          0.11579126666695112,
          0.09289699526265048,
          -0.15629653044902783,
          -1.2121316352810876,
          0.24892657275282007,
          -0.34109291135368036,
          -0.8333844588916233,
          1.2299995015955598,
          -0.09384418811944956
         ],
         "yaxis": "y7"
        },
        {
         "line": {
          "color": "rgba(128, 128, 128, 1.0)",
          "dash": "solid",
          "shape": "linear",
          "width": 1.3
         },
         "marker": {
          "size": 2,
          "symbol": "circle"
         },
         "mode": "markers",
         "name": "B",
         "text": "",
         "type": "scatter",
         "x": [
          -0.026946352214707543,
          0.7001864198834278,
          -0.2982169573158846,
          -0.46785808251321376,
          0.1662198421131035,
          -1.0361993190548702,
          0.36990320951933825,
          -0.46096929909194345,
          -0.32786381054044816,
          -1.9425338206029976,
          1.3241557623479694,
          1.1454651188750975,
          0.7486765634810072,
          0.9330479359890153,
          -0.9417092796502509,
          0.6690846669731796,
          -1.336677393459967,
          0.8684602791773485,
          -0.6536004660338142,
          -0.12821638297337665,
          -0.5600649918885628,
          0.12970791744126992,
          0.6532835157045196,
          -1.282823899790167,
          0.7736421266931258,
          -1.7976496762557792,
          -0.15948682481998375,
          -0.391125585197008,
          1.354088423712669,
          -1.443692993191206,
          -0.4289105316998597,
          0.5740855457163138,
          -0.33639804341759105,
          -0.10356897058918564,
          1.574387291112665,
          -0.9091404976969024,
          1.046847296801124,
          0.5706535462664871,
          -1.6541427845300183,
          -0.8536739719150671,
          -1.0688862444256853,
          -1.9336291584556424,
          1.9376248679459394,
          0.6695776761101119,
          1.5313603114363874,
          -1.4712342112068328,
          1.7690964396844335,
          1.1077083251306983,
          -0.58024259998545,
          -0.5196224712276971,
          0.38399780945459105,
          0.31773733607258414,
          -1.8371234971094654,
          0.08363561366150972,
          0.473428602686091,
          -1.057167404990847,
          -0.2945659075349518,
          -0.46844130149068275,
          -0.7780798699914746,
          0.25040311051155845,
          -0.10387342147144044,
          -1.263258128858654,
          0.4867782976354999,
          -0.8868103081610105,
          0.15165521213779967,
          -0.8652838520851245,
          0.17588274530746156,
          -0.11919944926902291,
          -1.4675189167998794,
          1.7553033154179047,
          0.8196102272713092,
          -0.4133265676516026,
          -1.443631395161763,
          -1.1308320153402704,
          -0.6639551530556687,
          -0.39126040132210677,
          0.46545469886051766,
          0.5733045030441133,
          -2.0616130374103525,
          0.2949920301219885,
          0.012695105848094499,
          -0.07790473580455372,
          0.10607123347971581,
          0.6567785605314618,
          -0.6250906670799768,
          1.6570247763242396,
          1.1201417570577372,
          1.033694848041122,
          -0.9124782530568055,
          1.988878350986756,
          -0.4582865124599824,
          -0.8059843919133812,
          0.5124959363470918,
          1.9149527906323667,
          -0.17926090652051777,
          1.2052411849841747,
          -0.555649682790034,
          0.3362816656037818,
          -0.7121607025339074,
          1.0413593991665846
         ],
         "xaxis": "x8",
         "y": [
          1.4318947810176526,
          0.24026038605821917,
          0.4451286277214846,
          0.5362264542043904,
          -1.1066503086203259,
          -0.42229707035492087,
          0.718042335741499,
          -0.9318978257839343,
          -0.44859068426479753,
          0.06393476675777732,
          -0.9638697396246255,
          0.047373052805112593,
          -2.6316439201988544,
          1.16645099432575,
          0.32036750849283824,
          -0.05364339294583357,
          0.3802655235220497,
          -0.09961734522532066,
          -0.3653884522071064,
          0.5387252402177625,
          0.4688390726042069,
          0.09915984634898799,
          0.07388293090421022,
          -0.18789060897527135,
          -0.11576320542210079,
          1.0107124619771906,
          -0.6193205128828219,
          -0.12003905201802431,
          -0.08329152526464428,
          -1.0665194384892394,
          0.5251365929191014,
          -1.7202303396085004,
          -0.4098643151059729,
          0.2192352113181968,
          0.23647471448842297,
          -0.1115245845888328,
          0.18615443769853549,
          -0.40964673877098917,
          0.9711188501856983,
          -1.5071541555991648,
          0.1999602495297384,
          2.492818422930499,
          -0.41384143683286634,
          -0.9240183532845967,
          0.428717009167491,
          1.8113112612096411,
          -0.003990601547180274,
          -1.0569525684969008,
          -0.2462620275510187,
          -0.4334682863880004,
          0.3952226502148541,
          1.2432030130337701,
          0.6223978449559944,
          -1.1375909277591023,
          0.8016351645868708,
          -0.20628826144655052,
          1.6797828797502556,
          -0.9924526424616922,
          -0.31062961008454076,
          1.4306099335403377,
          1.9799584956398923,
          1.2607300051211943,
          0.5926955856960735,
          -0.6860932783938856,
          0.8932491030110556,
          -0.2366485951762157,
          1.1461888955923492,
          0.9762538722558245,
          -0.7899138777903845,
          0.4001873776041438,
          0.12072644501913432,
          1.17629127197133,
          -1.489601357172212,
          0.28052146475854733,
          1.6260200481973202,
          0.4605915872324684,
          0.14764372184436497,
          0.7331058048576845,
          2.2291967418153136,
          -0.781849913741244,
          -0.9985226652186919,
          1.237574668861233,
          0.7169596395220929,
          -1.9079310473095077,
          1.2290383651644585,
          -0.7379281450552093,
          -0.3610320856280676,
          2.8491743491694232,
          1.0186867977434042,
          -0.45887321828980554,
          0.19222873439429394,
          0.11579126666695112,
          0.09289699526265048,
          -0.15629653044902783,
          -1.2121316352810876,
          0.24892657275282007,
          -0.34109291135368036,
          -0.8333844588916233,
          1.2299995015955598,
          -0.09384418811944956
         ],
         "yaxis": "y8"
        },
        {
         "line": {
          "color": "rgba(128, 128, 128, 1.0)",
          "dash": "solid",
          "shape": "linear",
          "width": 1.3
         },
         "marker": {
          "size": 2,
          "symbol": "circle"
         },
         "mode": "markers",
         "name": "C",
         "text": "",
         "type": "scatter",
         "x": [
          0.13160484099032704,
          -0.7950894148460821,
          -0.13178744981839602,
          0.04643253694874059,
          1.4008811580488094,
          1.0636094200617128,
          -0.6302576662973428,
          -1.0151765951983778,
          -1.6289811525645115,
          1.6268210437035,
          0.6256421851048581,
          0.6214972799378291,
          1.2228321462568825,
          1.4103128126593787,
          -1.3973949776753045,
          -0.18281033081801018,
          2.605677785134823,
          0.3988269851056346,
          -0.4529882860464019,
          1.0784128278939078,
          0.7901159872294277,
          -0.4910610738334806,
          -0.9409118009988205,
          0.434468041211235,
          0.3742896418368096,
          -1.1561864863866274,
          -1.2842867457363056,
          -0.5261606343749329,
          0.6429325143749458,
          -1.3552544051664746,
          1.6270610794688527,
          -2.1435595460990853,
          -0.23455305399294482,
          -1.5986242370245385,
          1.1759934266713825,
          -0.01270097113625606,
          -0.4668452761149272,
          -0.7412607679432618,
          0.3462472288658386,
          0.10935402326252003,
          -0.3649831789786431,
          -0.21849969872497854,
          0.32657994207227464,
          2.2351327991254717,
          0.18144734817366057,
          -0.6912176240497995,
          0.7261509416783926,
          -1.8859562311461544,
          0.6217916103657698,
          -1.814362876226159,
          0.4189234239519778,
          1.7208451979119816,
          0.46099175660802466,
          0.07536895923905688,
          1.6026332086845676,
          -0.4813040033991323,
          -1.1715479856146989,
          -0.961844887784821,
          -0.3697250311946081,
          0.9903676937190032,
          0.5987589037491994,
          0.22441901104260428,
          -0.7290832505061414,
          1.182504038571702,
          0.49849042094992546,
          1.934068179888321,
          -1.0356143693303237,
          0.5099229331601602,
          -0.14881706016740145,
          1.2932578315420147,
          -0.8803779558532795,
          0.9912732908960632,
          -0.07363103484386704,
          -1.2099173247127637,
          0.49734583814546224,
          0.35313499965974543,
          -0.27695109523629635,
          0.3977250325577475,
          0.4267867826118734,
          -1.2592491178910903,
          1.561409048832289,
          -0.6487493849583286,
          2.1000263133192827,
          -1.6738293406736495,
          -1.2478081529020673,
          -0.5461776592746976,
          -0.8069503449533223,
          -1.216016854020958,
          -0.6994925219189366,
          0.3168200730116124,
          -1.618796776256919,
          0.43488998610191393,
          -0.09960482964117366,
          0.8141745749221933,
          -0.6550109510461594,
          -1.0731797207644709,
          0.025062692688615756,
          -0.1987930919360324,
          -0.8068381141444133,
          -0.3756595044409874
         ],
         "xaxis": "x9",
         "y": [
          -0.971022346575938,
          -0.5243024731276443,
          1.4286413183508697,
          0.9137829630609101,
          -0.8858080620372212,
          1.60714413043683,
          1.500409250991382,
          0.23383299051706155,
          -0.45644596388353964,
          0.9323430868876016,
          0.18136130428341612,
          -0.08710946309744187,
          -0.5165280743998215,
          -0.9871919968274258,
          0.6957812675613306,
          -0.21310596317218783,
          -0.7671961431296472,
          -0.8456308966197522,
          1.000258255813157,
          -0.8766672551763515,
          -1.025581732381983,
          -0.4493566079268353,
          -0.8189968559032405,
          2.1423888628192667,
          0.21283462121999747,
          0.41124945491522974,
          -0.528734301448836,
          2.2378067259334387,
          -1.1604140663002422,
          0.4072605370018098,
          -1.6922822861315925,
          0.20304010437405975,
          -0.370719198334433,
          -0.4218291816271057,
          -1.1825893612552376,
          -1.5967591425602543,
          -0.09221248457979499,
          1.7631166471745965,
          -0.04083330384185371,
          1.832559072362424,
          -0.1275310601322519,
          -1.499482768775023,
          1.1900005959356978,
          0.4932095737397246,
          1.4089585106778706,
          0.1740381662200239,
          -0.11007728217088389,
          -0.5687332352449179,
          0.060133667198007765,
          1.3688822401017933,
          1.582865785466756,
          0.5822665546760064,
          -0.7815186844672299,
          -0.6777042737687243,
          1.126308992622847,
          1.2788472079126632,
          -1.0672752399294543,
          -0.643146503037076,
          -0.1511482000712323,
          1.6585490956043274,
          -1.4981491057130696,
          -0.058557970848679405,
          0.9795625424614111,
          1.2033564609474556,
          -1.4954506288951142,
          0.29031527322649764,
          0.8635660788280374,
          0.27092205398846453,
          0.8967125564808078,
          1.6857266086235219,
          -0.18267859561471733,
          -2.2304111589487903,
          -0.015856920988653118,
          -0.34308233132870436,
          -0.18275565819244208,
          0.6454017103842246,
          2.280495614345781,
          -1.0982758047559875,
          0.7686227898033995,
          -1.5435421374184264,
          -1.6748784707759343,
          1.1040311056681484,
          0.7640841601508227,
          1.6956137181403692,
          1.540992767196364,
          1.3080783711522082,
          -1.4700280148462321,
          -1.1657677185485011,
          -0.5634960739617756,
          0.712096619769324,
          -1.837827400119136,
          0.6761305537246636,
          -0.7441499518305543,
          -0.693276859929443,
          -1.2285294853916533,
          -1.216206962262111,
          0.7791380282318413,
          -0.5842460014967957,
          -0.41736139073749073,
          1.2635056761349914
         ],
         "yaxis": "y9"
        },
        {
         "line": {
          "color": "rgba(128, 128, 128, 1.0)",
          "dash": "solid",
          "shape": "linear",
          "width": 1.3
         },
         "marker": {
          "size": 2,
          "symbol": "circle"
         },
         "mode": "markers",
         "name": "C",
         "text": "",
         "type": "scatter",
         "x": [
          1.4318947810176526,
          0.24026038605821917,
          0.4451286277214846,
          0.5362264542043904,
          -1.1066503086203259,
          -0.42229707035492087,
          0.718042335741499,
          -0.9318978257839343,
          -0.44859068426479753,
          0.06393476675777732,
          -0.9638697396246255,
          0.047373052805112593,
          -2.6316439201988544,
          1.16645099432575,
          0.32036750849283824,
          -0.05364339294583357,
          0.3802655235220497,
          -0.09961734522532066,
          -0.3653884522071064,
          0.5387252402177625,
          0.4688390726042069,
          0.09915984634898799,
          0.07388293090421022,
          -0.18789060897527135,
          -0.11576320542210079,
          1.0107124619771906,
          -0.6193205128828219,
          -0.12003905201802431,
          -0.08329152526464428,
          -1.0665194384892394,
          0.5251365929191014,
          -1.7202303396085004,
          -0.4098643151059729,
          0.2192352113181968,
          0.23647471448842297,
          -0.1115245845888328,
          0.18615443769853549,
          -0.40964673877098917,
          0.9711188501856983,
          -1.5071541555991648,
          0.1999602495297384,
          2.492818422930499,
          -0.41384143683286634,
          -0.9240183532845967,
          0.428717009167491,
          1.8113112612096411,
          -0.003990601547180274,
          -1.0569525684969008,
          -0.2462620275510187,
          -0.4334682863880004,
          0.3952226502148541,
          1.2432030130337701,
          0.6223978449559944,
          -1.1375909277591023,
          0.8016351645868708,
          -0.20628826144655052,
          1.6797828797502556,
          -0.9924526424616922,
          -0.31062961008454076,
          1.4306099335403377,
          1.9799584956398923,
          1.2607300051211943,
          0.5926955856960735,
          -0.6860932783938856,
          0.8932491030110556,
          -0.2366485951762157,
          1.1461888955923492,
          0.9762538722558245,
          -0.7899138777903845,
          0.4001873776041438,
          0.12072644501913432,
          1.17629127197133,
          -1.489601357172212,
          0.28052146475854733,
          1.6260200481973202,
          0.4605915872324684,
          0.14764372184436497,
          0.7331058048576845,
          2.2291967418153136,
          -0.781849913741244,
          -0.9985226652186919,
          1.237574668861233,
          0.7169596395220929,
          -1.9079310473095077,
          1.2290383651644585,
          -0.7379281450552093,
          -0.3610320856280676,
          2.8491743491694232,
          1.0186867977434042,
          -0.45887321828980554,
          0.19222873439429394,
          0.11579126666695112,
          0.09289699526265048,
          -0.15629653044902783,
          -1.2121316352810876,
          0.24892657275282007,
          -0.34109291135368036,
          -0.8333844588916233,
          1.2299995015955598,
          -0.09384418811944956
         ],
         "xaxis": "x10",
         "y": [
          -0.971022346575938,
          -0.5243024731276443,
          1.4286413183508697,
          0.9137829630609101,
          -0.8858080620372212,
          1.60714413043683,
          1.500409250991382,
          0.23383299051706155,
          -0.45644596388353964,
          0.9323430868876016,
          0.18136130428341612,
          -0.08710946309744187,
          -0.5165280743998215,
          -0.9871919968274258,
          0.6957812675613306,
          -0.21310596317218783,
          -0.7671961431296472,
          -0.8456308966197522,
          1.000258255813157,
          -0.8766672551763515,
          -1.025581732381983,
          -0.4493566079268353,
          -0.8189968559032405,
          2.1423888628192667,
          0.21283462121999747,
          0.41124945491522974,
          -0.528734301448836,
          2.2378067259334387,
          -1.1604140663002422,
          0.4072605370018098,
          -1.6922822861315925,
          0.20304010437405975,
          -0.370719198334433,
          -0.4218291816271057,
          -1.1825893612552376,
          -1.5967591425602543,
          -0.09221248457979499,
          1.7631166471745965,
          -0.04083330384185371,
          1.832559072362424,
          -0.1275310601322519,
          -1.499482768775023,
          1.1900005959356978,
          0.4932095737397246,
          1.4089585106778706,
          0.1740381662200239,
          -0.11007728217088389,
          -0.5687332352449179,
          0.060133667198007765,
          1.3688822401017933,
          1.582865785466756,
          0.5822665546760064,
          -0.7815186844672299,
          -0.6777042737687243,
          1.126308992622847,
          1.2788472079126632,
          -1.0672752399294543,
          -0.643146503037076,
          -0.1511482000712323,
          1.6585490956043274,
          -1.4981491057130696,
          -0.058557970848679405,
          0.9795625424614111,
          1.2033564609474556,
          -1.4954506288951142,
          0.29031527322649764,
          0.8635660788280374,
          0.27092205398846453,
          0.8967125564808078,
          1.6857266086235219,
          -0.18267859561471733,
          -2.2304111589487903,
          -0.015856920988653118,
          -0.34308233132870436,
          -0.18275565819244208,
          0.6454017103842246,
          2.280495614345781,
          -1.0982758047559875,
          0.7686227898033995,
          -1.5435421374184264,
          -1.6748784707759343,
          1.1040311056681484,
          0.7640841601508227,
          1.6956137181403692,
          1.540992767196364,
          1.3080783711522082,
          -1.4700280148462321,
          -1.1657677185485011,
          -0.5634960739617756,
          0.712096619769324,
          -1.837827400119136,
          0.6761305537246636,
          -0.7441499518305543,
          -0.693276859929443,
          -1.2285294853916533,
          -1.216206962262111,
          0.7791380282318413,
          -0.5842460014967957,
          -0.41736139073749073,
          1.2635056761349914
         ],
         "yaxis": "y10"
        },
        {
         "histfunc": "count",
         "histnorm": "",
         "marker": {
          "color": "rgba(50, 171, 96, 1.0)",
          "line": {
           "color": "#4D5663",
           "width": 1.3
          }
         },
         "name": "C",
         "nbinsx": 10,
         "opacity": 0.8,
         "orientation": "v",
         "type": "histogram",
         "x": [
          -0.971022346575938,
          -0.5243024731276443,
          1.4286413183508697,
          0.9137829630609101,
          -0.8858080620372212,
          1.60714413043683,
          1.500409250991382,
          0.23383299051706155,
          -0.45644596388353964,
          0.9323430868876016,
          0.18136130428341612,
          -0.08710946309744187,
          -0.5165280743998215,
          -0.9871919968274258,
          0.6957812675613306,
          -0.21310596317218783,
          -0.7671961431296472,
          -0.8456308966197522,
          1.000258255813157,
          -0.8766672551763515,
          -1.025581732381983,
          -0.4493566079268353,
          -0.8189968559032405,
          2.1423888628192667,
          0.21283462121999747,
          0.41124945491522974,
          -0.528734301448836,
          2.2378067259334387,
          -1.1604140663002422,
          0.4072605370018098,
          -1.6922822861315925,
          0.20304010437405975,
          -0.370719198334433,
          -0.4218291816271057,
          -1.1825893612552376,
          -1.5967591425602543,
          -0.09221248457979499,
          1.7631166471745965,
          -0.04083330384185371,
          1.832559072362424,
          -0.1275310601322519,
          -1.499482768775023,
          1.1900005959356978,
          0.4932095737397246,
          1.4089585106778706,
          0.1740381662200239,
          -0.11007728217088389,
          -0.5687332352449179,
          0.060133667198007765,
          1.3688822401017933,
          1.582865785466756,
          0.5822665546760064,
          -0.7815186844672299,
          -0.6777042737687243,
          1.126308992622847,
          1.2788472079126632,
          -1.0672752399294543,
          -0.643146503037076,
          -0.1511482000712323,
          1.6585490956043274,
          -1.4981491057130696,
          -0.058557970848679405,
          0.9795625424614111,
          1.2033564609474556,
          -1.4954506288951142,
          0.29031527322649764,
          0.8635660788280374,
          0.27092205398846453,
          0.8967125564808078,
          1.6857266086235219,
          -0.18267859561471733,
          -2.2304111589487903,
          -0.015856920988653118,
          -0.34308233132870436,
          -0.18275565819244208,
          0.6454017103842246,
          2.280495614345781,
          -1.0982758047559875,
          0.7686227898033995,
          -1.5435421374184264,
          -1.6748784707759343,
          1.1040311056681484,
          0.7640841601508227,
          1.6956137181403692,
          1.540992767196364,
          1.3080783711522082,
          -1.4700280148462321,
          -1.1657677185485011,
          -0.5634960739617756,
          0.712096619769324,
          -1.837827400119136,
          0.6761305537246636,
          -0.7441499518305543,
          -0.693276859929443,
          -1.2285294853916533,
          -1.216206962262111,
          0.7791380282318413,
          -0.5842460014967957,
          -0.41736139073749073,
          1.2635056761349914
         ],
         "xaxis": "x11",
         "yaxis": "y11"
        },
        {
         "line": {
          "color": "rgba(128, 128, 128, 1.0)",
          "dash": "solid",
          "shape": "linear",
          "width": 1.3
         },
         "marker": {
          "size": 2,
          "symbol": "circle"
         },
         "mode": "markers",
         "name": "C",
         "text": "",
         "type": "scatter",
         "x": [
          -0.026946352214707543,
          0.7001864198834278,
          -0.2982169573158846,
          -0.46785808251321376,
          0.1662198421131035,
          -1.0361993190548702,
          0.36990320951933825,
          -0.46096929909194345,
          -0.32786381054044816,
          -1.9425338206029976,
          1.3241557623479694,
          1.1454651188750975,
          0.7486765634810072,
          0.9330479359890153,
          -0.9417092796502509,
          0.6690846669731796,
          -1.336677393459967,
          0.8684602791773485,
          -0.6536004660338142,
          -0.12821638297337665,
          -0.5600649918885628,
          0.12970791744126992,
          0.6532835157045196,
          -1.282823899790167,
          0.7736421266931258,
          -1.7976496762557792,
          -0.15948682481998375,
          -0.391125585197008,
          1.354088423712669,
          -1.443692993191206,
          -0.4289105316998597,
          0.5740855457163138,
          -0.33639804341759105,
          -0.10356897058918564,
          1.574387291112665,
          -0.9091404976969024,
          1.046847296801124,
          0.5706535462664871,
          -1.6541427845300183,
          -0.8536739719150671,
          -1.0688862444256853,
          -1.9336291584556424,
          1.9376248679459394,
          0.6695776761101119,
          1.5313603114363874,
          -1.4712342112068328,
          1.7690964396844335,
          1.1077083251306983,
          -0.58024259998545,
          -0.5196224712276971,
          0.38399780945459105,
          0.31773733607258414,
          -1.8371234971094654,
          0.08363561366150972,
          0.473428602686091,
          -1.057167404990847,
          -0.2945659075349518,
          -0.46844130149068275,
          -0.7780798699914746,
          0.25040311051155845,
          -0.10387342147144044,
          -1.263258128858654,
          0.4867782976354999,
          -0.8868103081610105,
          0.15165521213779967,
          -0.8652838520851245,
          0.17588274530746156,
          -0.11919944926902291,
          -1.4675189167998794,
          1.7553033154179047,
          0.8196102272713092,
          -0.4133265676516026,
          -1.443631395161763,
          -1.1308320153402704,
          -0.6639551530556687,
          -0.39126040132210677,
          0.46545469886051766,
          0.5733045030441133,
          -2.0616130374103525,
          0.2949920301219885,
          0.012695105848094499,
          -0.07790473580455372,
          0.10607123347971581,
          0.6567785605314618,
          -0.6250906670799768,
          1.6570247763242396,
          1.1201417570577372,
          1.033694848041122,
          -0.9124782530568055,
          1.988878350986756,
          -0.4582865124599824,
          -0.8059843919133812,
          0.5124959363470918,
          1.9149527906323667,
          -0.17926090652051777,
          1.2052411849841747,
          -0.555649682790034,
          0.3362816656037818,
          -0.7121607025339074,
          1.0413593991665846
         ],
         "xaxis": "x12",
         "y": [
          -0.971022346575938,
          -0.5243024731276443,
          1.4286413183508697,
          0.9137829630609101,
          -0.8858080620372212,
          1.60714413043683,
          1.500409250991382,
          0.23383299051706155,
          -0.45644596388353964,
          0.9323430868876016,
          0.18136130428341612,
          -0.08710946309744187,
          -0.5165280743998215,
          -0.9871919968274258,
          0.6957812675613306,
          -0.21310596317218783,
          -0.7671961431296472,
          -0.8456308966197522,
          1.000258255813157,
          -0.8766672551763515,
          -1.025581732381983,
          -0.4493566079268353,
          -0.8189968559032405,
          2.1423888628192667,
          0.21283462121999747,
          0.41124945491522974,
          -0.528734301448836,
          2.2378067259334387,
          -1.1604140663002422,
          0.4072605370018098,
          -1.6922822861315925,
          0.20304010437405975,
          -0.370719198334433,
          -0.4218291816271057,
          -1.1825893612552376,
          -1.5967591425602543,
          -0.09221248457979499,
          1.7631166471745965,
          -0.04083330384185371,
          1.832559072362424,
          -0.1275310601322519,
          -1.499482768775023,
          1.1900005959356978,
          0.4932095737397246,
          1.4089585106778706,
          0.1740381662200239,
          -0.11007728217088389,
          -0.5687332352449179,
          0.060133667198007765,
          1.3688822401017933,
          1.582865785466756,
          0.5822665546760064,
          -0.7815186844672299,
          -0.6777042737687243,
          1.126308992622847,
          1.2788472079126632,
          -1.0672752399294543,
          -0.643146503037076,
          -0.1511482000712323,
          1.6585490956043274,
          -1.4981491057130696,
          -0.058557970848679405,
          0.9795625424614111,
          1.2033564609474556,
          -1.4954506288951142,
          0.29031527322649764,
          0.8635660788280374,
          0.27092205398846453,
          0.8967125564808078,
          1.6857266086235219,
          -0.18267859561471733,
          -2.2304111589487903,
          -0.015856920988653118,
          -0.34308233132870436,
          -0.18275565819244208,
          0.6454017103842246,
          2.280495614345781,
          -1.0982758047559875,
          0.7686227898033995,
          -1.5435421374184264,
          -1.6748784707759343,
          1.1040311056681484,
          0.7640841601508227,
          1.6956137181403692,
          1.540992767196364,
          1.3080783711522082,
          -1.4700280148462321,
          -1.1657677185485011,
          -0.5634960739617756,
          0.712096619769324,
          -1.837827400119136,
          0.6761305537246636,
          -0.7441499518305543,
          -0.693276859929443,
          -1.2285294853916533,
          -1.216206962262111,
          0.7791380282318413,
          -0.5842460014967957,
          -0.41736139073749073,
          1.2635056761349914
         ],
         "yaxis": "y12"
        },
        {
         "line": {
          "color": "rgba(128, 128, 128, 1.0)",
          "dash": "solid",
          "shape": "linear",
          "width": 1.3
         },
         "marker": {
          "size": 2,
          "symbol": "circle"
         },
         "mode": "markers",
         "name": "D",
         "text": "",
         "type": "scatter",
         "x": [
          0.13160484099032704,
          -0.7950894148460821,
          -0.13178744981839602,
          0.04643253694874059,
          1.4008811580488094,
          1.0636094200617128,
          -0.6302576662973428,
          -1.0151765951983778,
          -1.6289811525645115,
          1.6268210437035,
          0.6256421851048581,
          0.6214972799378291,
          1.2228321462568825,
          1.4103128126593787,
          -1.3973949776753045,
          -0.18281033081801018,
          2.605677785134823,
          0.3988269851056346,
          -0.4529882860464019,
          1.0784128278939078,
          0.7901159872294277,
          -0.4910610738334806,
          -0.9409118009988205,
          0.434468041211235,
          0.3742896418368096,
          -1.1561864863866274,
          -1.2842867457363056,
          -0.5261606343749329,
          0.6429325143749458,
          -1.3552544051664746,
          1.6270610794688527,
          -2.1435595460990853,
          -0.23455305399294482,
          -1.5986242370245385,
          1.1759934266713825,
          -0.01270097113625606,
          -0.4668452761149272,
          -0.7412607679432618,
          0.3462472288658386,
          0.10935402326252003,
          -0.3649831789786431,
          -0.21849969872497854,
          0.32657994207227464,
          2.2351327991254717,
          0.18144734817366057,
          -0.6912176240497995,
          0.7261509416783926,
          -1.8859562311461544,
          0.6217916103657698,
          -1.814362876226159,
          0.4189234239519778,
          1.7208451979119816,
          0.46099175660802466,
          0.07536895923905688,
          1.6026332086845676,
          -0.4813040033991323,
          -1.1715479856146989,
          -0.961844887784821,
          -0.3697250311946081,
          0.9903676937190032,
          0.5987589037491994,
          0.22441901104260428,
          -0.7290832505061414,
          1.182504038571702,
          0.49849042094992546,
          1.934068179888321,
          -1.0356143693303237,
          0.5099229331601602,
          -0.14881706016740145,
          1.2932578315420147,
          -0.8803779558532795,
          0.9912732908960632,
          -0.07363103484386704,
          -1.2099173247127637,
          0.49734583814546224,
          0.35313499965974543,
          -0.27695109523629635,
          0.3977250325577475,
          0.4267867826118734,
          -1.2592491178910903,
          1.561409048832289,
          -0.6487493849583286,
          2.1000263133192827,
          -1.6738293406736495,
          -1.2478081529020673,
          -0.5461776592746976,
          -0.8069503449533223,
          -1.216016854020958,
          -0.6994925219189366,
          0.3168200730116124,
          -1.618796776256919,
          0.43488998610191393,
          -0.09960482964117366,
          0.8141745749221933,
          -0.6550109510461594,
          -1.0731797207644709,
          0.025062692688615756,
          -0.1987930919360324,
          -0.8068381141444133,
          -0.3756595044409874
         ],
         "xaxis": "x13",
         "y": [
          -0.026946352214707543,
          0.7001864198834278,
          -0.2982169573158846,
          -0.46785808251321376,
          0.1662198421131035,
          -1.0361993190548702,
          0.36990320951933825,
          -0.46096929909194345,
          -0.32786381054044816,
          -1.9425338206029976,
          1.3241557623479694,
          1.1454651188750975,
          0.7486765634810072,
          0.9330479359890153,
          -0.9417092796502509,
          0.6690846669731796,
          -1.336677393459967,
          0.8684602791773485,
          -0.6536004660338142,
          -0.12821638297337665,
          -0.5600649918885628,
          0.12970791744126992,
          0.6532835157045196,
          -1.282823899790167,
          0.7736421266931258,
          -1.7976496762557792,
          -0.15948682481998375,
          -0.391125585197008,
          1.354088423712669,
          -1.443692993191206,
          -0.4289105316998597,
          0.5740855457163138,
          -0.33639804341759105,
          -0.10356897058918564,
          1.574387291112665,
          -0.9091404976969024,
          1.046847296801124,
          0.5706535462664871,
          -1.6541427845300183,
          -0.8536739719150671,
          -1.0688862444256853,
          -1.9336291584556424,
          1.9376248679459394,
          0.6695776761101119,
          1.5313603114363874,
          -1.4712342112068328,
          1.7690964396844335,
          1.1077083251306983,
          -0.58024259998545,
          -0.5196224712276971,
          0.38399780945459105,
          0.31773733607258414,
          -1.8371234971094654,
          0.08363561366150972,
          0.473428602686091,
          -1.057167404990847,
          -0.2945659075349518,
          -0.46844130149068275,
          -0.7780798699914746,
          0.25040311051155845,
          -0.10387342147144044,
          -1.263258128858654,
          0.4867782976354999,
          -0.8868103081610105,
          0.15165521213779967,
          -0.8652838520851245,
          0.17588274530746156,
          -0.11919944926902291,
          -1.4675189167998794,
          1.7553033154179047,
          0.8196102272713092,
          -0.4133265676516026,
          -1.443631395161763,
          -1.1308320153402704,
          -0.6639551530556687,
          -0.39126040132210677,
          0.46545469886051766,
          0.5733045030441133,
          -2.0616130374103525,
          0.2949920301219885,
          0.012695105848094499,
          -0.07790473580455372,
          0.10607123347971581,
          0.6567785605314618,
          -0.6250906670799768,
          1.6570247763242396,
          1.1201417570577372,
          1.033694848041122,
          -0.9124782530568055,
          1.988878350986756,
          -0.4582865124599824,
          -0.8059843919133812,
          0.5124959363470918,
          1.9149527906323667,
          -0.17926090652051777,
          1.2052411849841747,
          -0.555649682790034,
          0.3362816656037818,
          -0.7121607025339074,
          1.0413593991665846
         ],
         "yaxis": "y13"
        },
        {
         "line": {
          "color": "rgba(128, 128, 128, 1.0)",
          "dash": "solid",
          "shape": "linear",
          "width": 1.3
         },
         "marker": {
          "size": 2,
          "symbol": "circle"
         },
         "mode": "markers",
         "name": "D",
         "text": "",
         "type": "scatter",
         "x": [
          1.4318947810176526,
          0.24026038605821917,
          0.4451286277214846,
          0.5362264542043904,
          -1.1066503086203259,
          -0.42229707035492087,
          0.718042335741499,
          -0.9318978257839343,
          -0.44859068426479753,
          0.06393476675777732,
          -0.9638697396246255,
          0.047373052805112593,
          -2.6316439201988544,
          1.16645099432575,
          0.32036750849283824,
          -0.05364339294583357,
          0.3802655235220497,
          -0.09961734522532066,
          -0.3653884522071064,
          0.5387252402177625,
          0.4688390726042069,
          0.09915984634898799,
          0.07388293090421022,
          -0.18789060897527135,
          -0.11576320542210079,
          1.0107124619771906,
          -0.6193205128828219,
          -0.12003905201802431,
          -0.08329152526464428,
          -1.0665194384892394,
          0.5251365929191014,
          -1.7202303396085004,
          -0.4098643151059729,
          0.2192352113181968,
          0.23647471448842297,
          -0.1115245845888328,
          0.18615443769853549,
          -0.40964673877098917,
          0.9711188501856983,
          -1.5071541555991648,
          0.1999602495297384,
          2.492818422930499,
          -0.41384143683286634,
          -0.9240183532845967,
          0.428717009167491,
          1.8113112612096411,
          -0.003990601547180274,
          -1.0569525684969008,
          -0.2462620275510187,
          -0.4334682863880004,
          0.3952226502148541,
          1.2432030130337701,
          0.6223978449559944,
          -1.1375909277591023,
          0.8016351645868708,
          -0.20628826144655052,
          1.6797828797502556,
          -0.9924526424616922,
          -0.31062961008454076,
          1.4306099335403377,
          1.9799584956398923,
          1.2607300051211943,
          0.5926955856960735,
          -0.6860932783938856,
          0.8932491030110556,
          -0.2366485951762157,
          1.1461888955923492,
          0.9762538722558245,
          -0.7899138777903845,
          0.4001873776041438,
          0.12072644501913432,
          1.17629127197133,
          -1.489601357172212,
          0.28052146475854733,
          1.6260200481973202,
          0.4605915872324684,
          0.14764372184436497,
          0.7331058048576845,
          2.2291967418153136,
          -0.781849913741244,
          -0.9985226652186919,
          1.237574668861233,
          0.7169596395220929,
          -1.9079310473095077,
          1.2290383651644585,
          -0.7379281450552093,
          -0.3610320856280676,
          2.8491743491694232,
          1.0186867977434042,
          -0.45887321828980554,
          0.19222873439429394,
          0.11579126666695112,
          0.09289699526265048,
          -0.15629653044902783,
          -1.2121316352810876,
          0.24892657275282007,
          -0.34109291135368036,
          -0.8333844588916233,
          1.2299995015955598,
          -0.09384418811944956
         ],
         "xaxis": "x14",
         "y": [
          -0.026946352214707543,
          0.7001864198834278,
          -0.2982169573158846,
          -0.46785808251321376,
          0.1662198421131035,
          -1.0361993190548702,
          0.36990320951933825,
          -0.46096929909194345,
          -0.32786381054044816,
          -1.9425338206029976,
          1.3241557623479694,
          1.1454651188750975,
          0.7486765634810072,
          0.9330479359890153,
          -0.9417092796502509,
          0.6690846669731796,
          -1.336677393459967,
          0.8684602791773485,
          -0.6536004660338142,
          -0.12821638297337665,
          -0.5600649918885628,
          0.12970791744126992,
          0.6532835157045196,
          -1.282823899790167,
          0.7736421266931258,
          -1.7976496762557792,
          -0.15948682481998375,
          -0.391125585197008,
          1.354088423712669,
          -1.443692993191206,
          -0.4289105316998597,
          0.5740855457163138,
          -0.33639804341759105,
          -0.10356897058918564,
          1.574387291112665,
          -0.9091404976969024,
          1.046847296801124,
          0.5706535462664871,
          -1.6541427845300183,
          -0.8536739719150671,
          -1.0688862444256853,
          -1.9336291584556424,
          1.9376248679459394,
          0.6695776761101119,
          1.5313603114363874,
          -1.4712342112068328,
          1.7690964396844335,
          1.1077083251306983,
          -0.58024259998545,
          -0.5196224712276971,
          0.38399780945459105,
          0.31773733607258414,
          -1.8371234971094654,
          0.08363561366150972,
          0.473428602686091,
          -1.057167404990847,
          -0.2945659075349518,
          -0.46844130149068275,
          -0.7780798699914746,
          0.25040311051155845,
          -0.10387342147144044,
          -1.263258128858654,
          0.4867782976354999,
          -0.8868103081610105,
          0.15165521213779967,
          -0.8652838520851245,
          0.17588274530746156,
          -0.11919944926902291,
          -1.4675189167998794,
          1.7553033154179047,
          0.8196102272713092,
          -0.4133265676516026,
          -1.443631395161763,
          -1.1308320153402704,
          -0.6639551530556687,
          -0.39126040132210677,
          0.46545469886051766,
          0.5733045030441133,
          -2.0616130374103525,
          0.2949920301219885,
          0.012695105848094499,
          -0.07790473580455372,
          0.10607123347971581,
          0.6567785605314618,
          -0.6250906670799768,
          1.6570247763242396,
          1.1201417570577372,
          1.033694848041122,
          -0.9124782530568055,
          1.988878350986756,
          -0.4582865124599824,
          -0.8059843919133812,
          0.5124959363470918,
          1.9149527906323667,
          -0.17926090652051777,
          1.2052411849841747,
          -0.555649682790034,
          0.3362816656037818,
          -0.7121607025339074,
          1.0413593991665846
         ],
         "yaxis": "y14"
        },
        {
         "line": {
          "color": "rgba(128, 128, 128, 1.0)",
          "dash": "solid",
          "shape": "linear",
          "width": 1.3
         },
         "marker": {
          "size": 2,
          "symbol": "circle"
         },
         "mode": "markers",
         "name": "D",
         "text": "",
         "type": "scatter",
         "x": [
          -0.971022346575938,
          -0.5243024731276443,
          1.4286413183508697,
          0.9137829630609101,
          -0.8858080620372212,
          1.60714413043683,
          1.500409250991382,
          0.23383299051706155,
          -0.45644596388353964,
          0.9323430868876016,
          0.18136130428341612,
          -0.08710946309744187,
          -0.5165280743998215,
          -0.9871919968274258,
          0.6957812675613306,
          -0.21310596317218783,
          -0.7671961431296472,
          -0.8456308966197522,
          1.000258255813157,
          -0.8766672551763515,
          -1.025581732381983,
          -0.4493566079268353,
          -0.8189968559032405,
          2.1423888628192667,
          0.21283462121999747,
          0.41124945491522974,
          -0.528734301448836,
          2.2378067259334387,
          -1.1604140663002422,
          0.4072605370018098,
          -1.6922822861315925,
          0.20304010437405975,
          -0.370719198334433,
          -0.4218291816271057,
          -1.1825893612552376,
          -1.5967591425602543,
          -0.09221248457979499,
          1.7631166471745965,
          -0.04083330384185371,
          1.832559072362424,
          -0.1275310601322519,
          -1.499482768775023,
          1.1900005959356978,
          0.4932095737397246,
          1.4089585106778706,
          0.1740381662200239,
          -0.11007728217088389,
          -0.5687332352449179,
          0.060133667198007765,
          1.3688822401017933,
          1.582865785466756,
          0.5822665546760064,
          -0.7815186844672299,
          -0.6777042737687243,
          1.126308992622847,
          1.2788472079126632,
          -1.0672752399294543,
          -0.643146503037076,
          -0.1511482000712323,
          1.6585490956043274,
          -1.4981491057130696,
          -0.058557970848679405,
          0.9795625424614111,
          1.2033564609474556,
          -1.4954506288951142,
          0.29031527322649764,
          0.8635660788280374,
          0.27092205398846453,
          0.8967125564808078,
          1.6857266086235219,
          -0.18267859561471733,
          -2.2304111589487903,
          -0.015856920988653118,
          -0.34308233132870436,
          -0.18275565819244208,
          0.6454017103842246,
          2.280495614345781,
          -1.0982758047559875,
          0.7686227898033995,
          -1.5435421374184264,
          -1.6748784707759343,
          1.1040311056681484,
          0.7640841601508227,
          1.6956137181403692,
          1.540992767196364,
          1.3080783711522082,
          -1.4700280148462321,
          -1.1657677185485011,
          -0.5634960739617756,
          0.712096619769324,
          -1.837827400119136,
          0.6761305537246636,
          -0.7441499518305543,
          -0.693276859929443,
          -1.2285294853916533,
          -1.216206962262111,
          0.7791380282318413,
          -0.5842460014967957,
          -0.41736139073749073,
          1.2635056761349914
         ],
         "xaxis": "x15",
         "y": [
          -0.026946352214707543,
          0.7001864198834278,
          -0.2982169573158846,
          -0.46785808251321376,
          0.1662198421131035,
          -1.0361993190548702,
          0.36990320951933825,
          -0.46096929909194345,
          -0.32786381054044816,
          -1.9425338206029976,
          1.3241557623479694,
          1.1454651188750975,
          0.7486765634810072,
          0.9330479359890153,
          -0.9417092796502509,
          0.6690846669731796,
          -1.336677393459967,
          0.8684602791773485,
          -0.6536004660338142,
          -0.12821638297337665,
          -0.5600649918885628,
          0.12970791744126992,
          0.6532835157045196,
          -1.282823899790167,
          0.7736421266931258,
          -1.7976496762557792,
          -0.15948682481998375,
          -0.391125585197008,
          1.354088423712669,
          -1.443692993191206,
          -0.4289105316998597,
          0.5740855457163138,
          -0.33639804341759105,
          -0.10356897058918564,
          1.574387291112665,
          -0.9091404976969024,
          1.046847296801124,
          0.5706535462664871,
          -1.6541427845300183,
          -0.8536739719150671,
          -1.0688862444256853,
          -1.9336291584556424,
          1.9376248679459394,
          0.6695776761101119,
          1.5313603114363874,
          -1.4712342112068328,
          1.7690964396844335,
          1.1077083251306983,
          -0.58024259998545,
          -0.5196224712276971,
          0.38399780945459105,
          0.31773733607258414,
          -1.8371234971094654,
          0.08363561366150972,
          0.473428602686091,
          -1.057167404990847,
          -0.2945659075349518,
          -0.46844130149068275,
          -0.7780798699914746,
          0.25040311051155845,
          -0.10387342147144044,
          -1.263258128858654,
          0.4867782976354999,
          -0.8868103081610105,
          0.15165521213779967,
          -0.8652838520851245,
          0.17588274530746156,
          -0.11919944926902291,
          -1.4675189167998794,
          1.7553033154179047,
          0.8196102272713092,
          -0.4133265676516026,
          -1.443631395161763,
          -1.1308320153402704,
          -0.6639551530556687,
          -0.39126040132210677,
          0.46545469886051766,
          0.5733045030441133,
          -2.0616130374103525,
          0.2949920301219885,
          0.012695105848094499,
          -0.07790473580455372,
          0.10607123347971581,
          0.6567785605314618,
          -0.6250906670799768,
          1.6570247763242396,
          1.1201417570577372,
          1.033694848041122,
          -0.9124782530568055,
          1.988878350986756,
          -0.4582865124599824,
          -0.8059843919133812,
          0.5124959363470918,
          1.9149527906323667,
          -0.17926090652051777,
          1.2052411849841747,
          -0.555649682790034,
          0.3362816656037818,
          -0.7121607025339074,
          1.0413593991665846
         ],
         "yaxis": "y15"
        },
        {
         "histfunc": "count",
         "histnorm": "",
         "marker": {
          "color": "rgba(128, 0, 128, 1.0)",
          "line": {
           "color": "#4D5663",
           "width": 1.3
          }
         },
         "name": "D",
         "nbinsx": 10,
         "opacity": 0.8,
         "orientation": "v",
         "type": "histogram",
         "x": [
          -0.026946352214707543,
          0.7001864198834278,
          -0.2982169573158846,
          -0.46785808251321376,
          0.1662198421131035,
          -1.0361993190548702,
          0.36990320951933825,
          -0.46096929909194345,
          -0.32786381054044816,
          -1.9425338206029976,
          1.3241557623479694,
          1.1454651188750975,
          0.7486765634810072,
          0.9330479359890153,
          -0.9417092796502509,
          0.6690846669731796,
          -1.336677393459967,
          0.8684602791773485,
          -0.6536004660338142,
          -0.12821638297337665,
          -0.5600649918885628,
          0.12970791744126992,
          0.6532835157045196,
          -1.282823899790167,
          0.7736421266931258,
          -1.7976496762557792,
          -0.15948682481998375,
          -0.391125585197008,
          1.354088423712669,
          -1.443692993191206,
          -0.4289105316998597,
          0.5740855457163138,
          -0.33639804341759105,
          -0.10356897058918564,
          1.574387291112665,
          -0.9091404976969024,
          1.046847296801124,
          0.5706535462664871,
          -1.6541427845300183,
          -0.8536739719150671,
          -1.0688862444256853,
          -1.9336291584556424,
          1.9376248679459394,
          0.6695776761101119,
          1.5313603114363874,
          -1.4712342112068328,
          1.7690964396844335,
          1.1077083251306983,
          -0.58024259998545,
          -0.5196224712276971,
          0.38399780945459105,
          0.31773733607258414,
          -1.8371234971094654,
          0.08363561366150972,
          0.473428602686091,
          -1.057167404990847,
          -0.2945659075349518,
          -0.46844130149068275,
          -0.7780798699914746,
          0.25040311051155845,
          -0.10387342147144044,
          -1.263258128858654,
          0.4867782976354999,
          -0.8868103081610105,
          0.15165521213779967,
          -0.8652838520851245,
          0.17588274530746156,
          -0.11919944926902291,
          -1.4675189167998794,
          1.7553033154179047,
          0.8196102272713092,
          -0.4133265676516026,
          -1.443631395161763,
          -1.1308320153402704,
          -0.6639551530556687,
          -0.39126040132210677,
          0.46545469886051766,
          0.5733045030441133,
          -2.0616130374103525,
          0.2949920301219885,
          0.012695105848094499,
          -0.07790473580455372,
          0.10607123347971581,
          0.6567785605314618,
          -0.6250906670799768,
          1.6570247763242396,
          1.1201417570577372,
          1.033694848041122,
          -0.9124782530568055,
          1.988878350986756,
          -0.4582865124599824,
          -0.8059843919133812,
          0.5124959363470918,
          1.9149527906323667,
          -0.17926090652051777,
          1.2052411849841747,
          -0.555649682790034,
          0.3362816656037818,
          -0.7121607025339074,
          1.0413593991665846
         ],
         "xaxis": "x16",
         "yaxis": "y16"
        }
       ],
       "layout": {
        "bargap": 0.02,
        "legend": {
         "bgcolor": "#F5F6F9",
         "font": {
          "color": "#4D5663"
         }
        },
        "paper_bgcolor": "#F5F6F9",
        "plot_bgcolor": "#F5F6F9",
        "showlegend": false,
        "template": {
         "data": {
          "bar": [
           {
            "error_x": {
             "color": "#2a3f5f"
            },
            "error_y": {
             "color": "#2a3f5f"
            },
            "marker": {
             "line": {
              "color": "#E5ECF6",
              "width": 0.5
             },
             "pattern": {
              "fillmode": "overlay",
              "size": 10,
              "solidity": 0.2
             }
            },
            "type": "bar"
           }
          ],
          "barpolar": [
           {
            "marker": {
             "line": {
              "color": "#E5ECF6",
              "width": 0.5
             },
             "pattern": {
              "fillmode": "overlay",
              "size": 10,
              "solidity": 0.2
             }
            },
            "type": "barpolar"
           }
          ],
          "carpet": [
           {
            "aaxis": {
             "endlinecolor": "#2a3f5f",
             "gridcolor": "white",
             "linecolor": "white",
             "minorgridcolor": "white",
             "startlinecolor": "#2a3f5f"
            },
            "baxis": {
             "endlinecolor": "#2a3f5f",
             "gridcolor": "white",
             "linecolor": "white",
             "minorgridcolor": "white",
             "startlinecolor": "#2a3f5f"
            },
            "type": "carpet"
           }
          ],
          "choropleth": [
           {
            "colorbar": {
             "outlinewidth": 0,
             "ticks": ""
            },
            "type": "choropleth"
           }
          ],
          "contour": [
           {
            "colorbar": {
             "outlinewidth": 0,
             "ticks": ""
            },
            "colorscale": [
             [
              0,
              "#0d0887"
             ],
             [
              0.1111111111111111,
              "#46039f"
             ],
             [
              0.2222222222222222,
              "#7201a8"
             ],
             [
              0.3333333333333333,
              "#9c179e"
             ],
             [
              0.4444444444444444,
              "#bd3786"
             ],
             [
              0.5555555555555556,
              "#d8576b"
             ],
             [
              0.6666666666666666,
              "#ed7953"
             ],
             [
              0.7777777777777778,
              "#fb9f3a"
             ],
             [
              0.8888888888888888,
              "#fdca26"
             ],
             [
              1,
              "#f0f921"
             ]
            ],
            "type": "contour"
           }
          ],
          "contourcarpet": [
           {
            "colorbar": {
             "outlinewidth": 0,
             "ticks": ""
            },
            "type": "contourcarpet"
           }
          ],
          "heatmap": [
           {
            "colorbar": {
             "outlinewidth": 0,
             "ticks": ""
            },
            "colorscale": [
             [
              0,
              "#0d0887"
             ],
             [
              0.1111111111111111,
              "#46039f"
             ],
             [
              0.2222222222222222,
              "#7201a8"
             ],
             [
              0.3333333333333333,
              "#9c179e"
             ],
             [
              0.4444444444444444,
              "#bd3786"
             ],
             [
              0.5555555555555556,
              "#d8576b"
             ],
             [
              0.6666666666666666,
              "#ed7953"
             ],
             [
              0.7777777777777778,
              "#fb9f3a"
             ],
             [
              0.8888888888888888,
              "#fdca26"
             ],
             [
              1,
              "#f0f921"
             ]
            ],
            "type": "heatmap"
           }
          ],
          "heatmapgl": [
           {
            "colorbar": {
             "outlinewidth": 0,
             "ticks": ""
            },
            "colorscale": [
             [
              0,
              "#0d0887"
             ],
             [
              0.1111111111111111,
              "#46039f"
             ],
             [
              0.2222222222222222,
              "#7201a8"
             ],
             [
              0.3333333333333333,
              "#9c179e"
             ],
             [
              0.4444444444444444,
              "#bd3786"
             ],
             [
              0.5555555555555556,
              "#d8576b"
             ],
             [
              0.6666666666666666,
              "#ed7953"
             ],
             [
              0.7777777777777778,
              "#fb9f3a"
             ],
             [
              0.8888888888888888,
              "#fdca26"
             ],
             [
              1,
              "#f0f921"
             ]
            ],
            "type": "heatmapgl"
           }
          ],
          "histogram": [
           {
            "marker": {
             "pattern": {
              "fillmode": "overlay",
              "size": 10,
              "solidity": 0.2
             }
            },
            "type": "histogram"
           }
          ],
          "histogram2d": [
           {
            "colorbar": {
             "outlinewidth": 0,
             "ticks": ""
            },
            "colorscale": [
             [
              0,
              "#0d0887"
             ],
             [
              0.1111111111111111,
              "#46039f"
             ],
             [
              0.2222222222222222,
              "#7201a8"
             ],
             [
              0.3333333333333333,
              "#9c179e"
             ],
             [
              0.4444444444444444,
              "#bd3786"
             ],
             [
              0.5555555555555556,
              "#d8576b"
             ],
             [
              0.6666666666666666,
              "#ed7953"
             ],
             [
              0.7777777777777778,
              "#fb9f3a"
             ],
             [
              0.8888888888888888,
              "#fdca26"
             ],
             [
              1,
              "#f0f921"
             ]
            ],
            "type": "histogram2d"
           }
          ],
          "histogram2dcontour": [
           {
            "colorbar": {
             "outlinewidth": 0,
             "ticks": ""
            },
            "colorscale": [
             [
              0,
              "#0d0887"
             ],
             [
              0.1111111111111111,
              "#46039f"
             ],
             [
              0.2222222222222222,
              "#7201a8"
             ],
             [
              0.3333333333333333,
              "#9c179e"
             ],
             [
              0.4444444444444444,
              "#bd3786"
             ],
             [
              0.5555555555555556,
              "#d8576b"
             ],
             [
              0.6666666666666666,
              "#ed7953"
             ],
             [
              0.7777777777777778,
              "#fb9f3a"
             ],
             [
              0.8888888888888888,
              "#fdca26"
             ],
             [
              1,
              "#f0f921"
             ]
            ],
            "type": "histogram2dcontour"
           }
          ],
          "mesh3d": [
           {
            "colorbar": {
             "outlinewidth": 0,
             "ticks": ""
            },
            "type": "mesh3d"
           }
          ],
          "parcoords": [
           {
            "line": {
             "colorbar": {
              "outlinewidth": 0,
              "ticks": ""
             }
            },
            "type": "parcoords"
           }
          ],
          "pie": [
           {
            "automargin": true,
            "type": "pie"
           }
          ],
          "scatter": [
           {
            "fillpattern": {
             "fillmode": "overlay",
             "size": 10,
             "solidity": 0.2
            },
            "type": "scatter"
           }
          ],
          "scatter3d": [
           {
            "line": {
             "colorbar": {
              "outlinewidth": 0,
              "ticks": ""
             }
            },
            "marker": {
             "colorbar": {
              "outlinewidth": 0,
              "ticks": ""
             }
            },
            "type": "scatter3d"
           }
          ],
          "scattercarpet": [
           {
            "marker": {
             "colorbar": {
              "outlinewidth": 0,
              "ticks": ""
             }
            },
            "type": "scattercarpet"
           }
          ],
          "scattergeo": [
           {
            "marker": {
             "colorbar": {
              "outlinewidth": 0,
              "ticks": ""
             }
            },
            "type": "scattergeo"
           }
          ],
          "scattergl": [
           {
            "marker": {
             "colorbar": {
              "outlinewidth": 0,
              "ticks": ""
             }
            },
            "type": "scattergl"
           }
          ],
          "scattermapbox": [
           {
            "marker": {
             "colorbar": {
              "outlinewidth": 0,
              "ticks": ""
             }
            },
            "type": "scattermapbox"
           }
          ],
          "scatterpolar": [
           {
            "marker": {
             "colorbar": {
              "outlinewidth": 0,
              "ticks": ""
             }
            },
            "type": "scatterpolar"
           }
          ],
          "scatterpolargl": [
           {
            "marker": {
             "colorbar": {
              "outlinewidth": 0,
              "ticks": ""
             }
            },
            "type": "scatterpolargl"
           }
          ],
          "scatterternary": [
           {
            "marker": {
             "colorbar": {
              "outlinewidth": 0,
              "ticks": ""
             }
            },
            "type": "scatterternary"
           }
          ],
          "surface": [
           {
            "colorbar": {
             "outlinewidth": 0,
             "ticks": ""
            },
            "colorscale": [
             [
              0,
              "#0d0887"
             ],
             [
              0.1111111111111111,
              "#46039f"
             ],
             [
              0.2222222222222222,
              "#7201a8"
             ],
             [
              0.3333333333333333,
              "#9c179e"
             ],
             [
              0.4444444444444444,
              "#bd3786"
             ],
             [
              0.5555555555555556,
              "#d8576b"
             ],
             [
              0.6666666666666666,
              "#ed7953"
             ],
             [
              0.7777777777777778,
              "#fb9f3a"
             ],
             [
              0.8888888888888888,
              "#fdca26"
             ],
             [
              1,
              "#f0f921"
             ]
            ],
            "type": "surface"
           }
          ],
          "table": [
           {
            "cells": {
             "fill": {
              "color": "#EBF0F8"
             },
             "line": {
              "color": "white"
             }
            },
            "header": {
             "fill": {
              "color": "#C8D4E3"
             },
             "line": {
              "color": "white"
             }
            },
            "type": "table"
           }
          ]
         },
         "layout": {
          "annotationdefaults": {
           "arrowcolor": "#2a3f5f",
           "arrowhead": 0,
           "arrowwidth": 1
          },
          "autotypenumbers": "strict",
          "coloraxis": {
           "colorbar": {
            "outlinewidth": 0,
            "ticks": ""
           }
          },
          "colorscale": {
           "diverging": [
            [
             0,
             "#8e0152"
            ],
            [
             0.1,
             "#c51b7d"
            ],
            [
             0.2,
             "#de77ae"
            ],
            [
             0.3,
             "#f1b6da"
            ],
            [
             0.4,
             "#fde0ef"
            ],
            [
             0.5,
             "#f7f7f7"
            ],
            [
             0.6,
             "#e6f5d0"
            ],
            [
             0.7,
             "#b8e186"
            ],
            [
             0.8,
             "#7fbc41"
            ],
            [
             0.9,
             "#4d9221"
            ],
            [
             1,
             "#276419"
            ]
           ],
           "sequential": [
            [
             0,
             "#0d0887"
            ],
            [
             0.1111111111111111,
             "#46039f"
            ],
            [
             0.2222222222222222,
             "#7201a8"
            ],
            [
             0.3333333333333333,
             "#9c179e"
            ],
            [
             0.4444444444444444,
             "#bd3786"
            ],
            [
             0.5555555555555556,
             "#d8576b"
            ],
            [
             0.6666666666666666,
             "#ed7953"
            ],
            [
             0.7777777777777778,
             "#fb9f3a"
            ],
            [
             0.8888888888888888,
             "#fdca26"
            ],
            [
             1,
             "#f0f921"
            ]
           ],
           "sequentialminus": [
            [
             0,
             "#0d0887"
            ],
            [
             0.1111111111111111,
             "#46039f"
            ],
            [
             0.2222222222222222,
             "#7201a8"
            ],
            [
             0.3333333333333333,
             "#9c179e"
            ],
            [
             0.4444444444444444,
             "#bd3786"
            ],
            [
             0.5555555555555556,
             "#d8576b"
            ],
            [
             0.6666666666666666,
             "#ed7953"
            ],
            [
             0.7777777777777778,
             "#fb9f3a"
            ],
            [
             0.8888888888888888,
             "#fdca26"
            ],
            [
             1,
             "#f0f921"
            ]
           ]
          },
          "colorway": [
           "#636efa",
           "#EF553B",
           "#00cc96",
           "#ab63fa",
           "#FFA15A",
           "#19d3f3",
           "#FF6692",
           "#B6E880",
           "#FF97FF",
           "#FECB52"
          ],
          "font": {
           "color": "#2a3f5f"
          },
          "geo": {
           "bgcolor": "white",
           "lakecolor": "white",
           "landcolor": "#E5ECF6",
           "showlakes": true,
           "showland": true,
           "subunitcolor": "white"
          },
          "hoverlabel": {
           "align": "left"
          },
          "hovermode": "closest",
          "mapbox": {
           "style": "light"
          },
          "paper_bgcolor": "white",
          "plot_bgcolor": "#E5ECF6",
          "polar": {
           "angularaxis": {
            "gridcolor": "white",
            "linecolor": "white",
            "ticks": ""
           },
           "bgcolor": "#E5ECF6",
           "radialaxis": {
            "gridcolor": "white",
            "linecolor": "white",
            "ticks": ""
           }
          },
          "scene": {
           "xaxis": {
            "backgroundcolor": "#E5ECF6",
            "gridcolor": "white",
            "gridwidth": 2,
            "linecolor": "white",
            "showbackground": true,
            "ticks": "",
            "zerolinecolor": "white"
           },
           "yaxis": {
            "backgroundcolor": "#E5ECF6",
            "gridcolor": "white",
            "gridwidth": 2,
            "linecolor": "white",
            "showbackground": true,
            "ticks": "",
            "zerolinecolor": "white"
           },
           "zaxis": {
            "backgroundcolor": "#E5ECF6",
            "gridcolor": "white",
            "gridwidth": 2,
            "linecolor": "white",
            "showbackground": true,
            "ticks": "",
            "zerolinecolor": "white"
           }
          },
          "shapedefaults": {
           "line": {
            "color": "#2a3f5f"
           }
          },
          "ternary": {
           "aaxis": {
            "gridcolor": "white",
            "linecolor": "white",
            "ticks": ""
           },
           "baxis": {
            "gridcolor": "white",
            "linecolor": "white",
            "ticks": ""
           },
           "bgcolor": "#E5ECF6",
           "caxis": {
            "gridcolor": "white",
            "linecolor": "white",
            "ticks": ""
           }
          },
          "title": {
           "x": 0.05
          },
          "xaxis": {
           "automargin": true,
           "gridcolor": "white",
           "linecolor": "white",
           "ticks": "",
           "title": {
            "standoff": 15
           },
           "zerolinecolor": "white",
           "zerolinewidth": 2
          },
          "yaxis": {
           "automargin": true,
           "gridcolor": "white",
           "linecolor": "white",
           "ticks": "",
           "title": {
            "standoff": 15
           },
           "zerolinecolor": "white",
           "zerolinewidth": 2
          }
         }
        },
        "title": {
         "font": {
          "color": "#4D5663"
         }
        },
        "xaxis": {
         "anchor": "y",
         "domain": [
          0,
          0.2125
         ],
         "gridcolor": "#E1E5ED",
         "showgrid": false,
         "tickfont": {
          "color": "#4D5663"
         },
         "title": {
          "font": {
           "color": "#4D5663"
          },
          "text": ""
         },
         "zerolinecolor": "#E1E5ED"
        },
        "xaxis10": {
         "anchor": "y10",
         "domain": [
          0.2625,
          0.475
         ],
         "gridcolor": "#E1E5ED",
         "showgrid": false,
         "tickfont": {
          "color": "#4D5663"
         },
         "title": {
          "font": {
           "color": "#4D5663"
          },
          "text": ""
         },
         "zerolinecolor": "#E1E5ED"
        },
        "xaxis11": {
         "anchor": "y11",
         "domain": [
          0.525,
          0.7375
         ],
         "gridcolor": "#E1E5ED",
         "showgrid": false,
         "tickfont": {
          "color": "#4D5663"
         },
         "title": {
          "font": {
           "color": "#4D5663"
          },
          "text": ""
         },
         "zerolinecolor": "#E1E5ED"
        },
        "xaxis12": {
         "anchor": "y12",
         "domain": [
          0.7875,
          1
         ],
         "gridcolor": "#E1E5ED",
         "showgrid": false,
         "tickfont": {
          "color": "#4D5663"
         },
         "title": {
          "font": {
           "color": "#4D5663"
          },
          "text": ""
         },
         "zerolinecolor": "#E1E5ED"
        },
        "xaxis13": {
         "anchor": "y13",
         "domain": [
          0,
          0.2125
         ],
         "gridcolor": "#E1E5ED",
         "showgrid": false,
         "tickfont": {
          "color": "#4D5663"
         },
         "title": {
          "font": {
           "color": "#4D5663"
          },
          "text": ""
         },
         "zerolinecolor": "#E1E5ED"
        },
        "xaxis14": {
         "anchor": "y14",
         "domain": [
          0.2625,
          0.475
         ],
         "gridcolor": "#E1E5ED",
         "showgrid": false,
         "tickfont": {
          "color": "#4D5663"
         },
         "title": {
          "font": {
           "color": "#4D5663"
          },
          "text": ""
         },
         "zerolinecolor": "#E1E5ED"
        },
        "xaxis15": {
         "anchor": "y15",
         "domain": [
          0.525,
          0.7375
         ],
         "gridcolor": "#E1E5ED",
         "showgrid": false,
         "tickfont": {
          "color": "#4D5663"
         },
         "title": {
          "font": {
           "color": "#4D5663"
          },
          "text": ""
         },
         "zerolinecolor": "#E1E5ED"
        },
        "xaxis16": {
         "anchor": "y16",
         "domain": [
          0.7875,
          1
         ],
         "gridcolor": "#E1E5ED",
         "showgrid": false,
         "tickfont": {
          "color": "#4D5663"
         },
         "title": {
          "font": {
           "color": "#4D5663"
          },
          "text": ""
         },
         "zerolinecolor": "#E1E5ED"
        },
        "xaxis2": {
         "anchor": "y2",
         "domain": [
          0.2625,
          0.475
         ],
         "gridcolor": "#E1E5ED",
         "showgrid": false,
         "tickfont": {
          "color": "#4D5663"
         },
         "title": {
          "font": {
           "color": "#4D5663"
          },
          "text": ""
         },
         "zerolinecolor": "#E1E5ED"
        },
        "xaxis3": {
         "anchor": "y3",
         "domain": [
          0.525,
          0.7375
         ],
         "gridcolor": "#E1E5ED",
         "showgrid": false,
         "tickfont": {
          "color": "#4D5663"
         },
         "title": {
          "font": {
           "color": "#4D5663"
          },
          "text": ""
         },
         "zerolinecolor": "#E1E5ED"
        },
        "xaxis4": {
         "anchor": "y4",
         "domain": [
          0.7875,
          1
         ],
         "gridcolor": "#E1E5ED",
         "showgrid": false,
         "tickfont": {
          "color": "#4D5663"
         },
         "title": {
          "font": {
           "color": "#4D5663"
          },
          "text": ""
         },
         "zerolinecolor": "#E1E5ED"
        },
        "xaxis5": {
         "anchor": "y5",
         "domain": [
          0,
          0.2125
         ],
         "gridcolor": "#E1E5ED",
         "showgrid": false,
         "tickfont": {
          "color": "#4D5663"
         },
         "title": {
          "font": {
           "color": "#4D5663"
          },
          "text": ""
         },
         "zerolinecolor": "#E1E5ED"
        },
        "xaxis6": {
         "anchor": "y6",
         "domain": [
          0.2625,
          0.475
         ],
         "gridcolor": "#E1E5ED",
         "showgrid": false,
         "tickfont": {
          "color": "#4D5663"
         },
         "title": {
          "font": {
           "color": "#4D5663"
          },
          "text": ""
         },
         "zerolinecolor": "#E1E5ED"
        },
        "xaxis7": {
         "anchor": "y7",
         "domain": [
          0.525,
          0.7375
         ],
         "gridcolor": "#E1E5ED",
         "showgrid": false,
         "tickfont": {
          "color": "#4D5663"
         },
         "title": {
          "font": {
           "color": "#4D5663"
          },
          "text": ""
         },
         "zerolinecolor": "#E1E5ED"
        },
        "xaxis8": {
         "anchor": "y8",
         "domain": [
          0.7875,
          1
         ],
         "gridcolor": "#E1E5ED",
         "showgrid": false,
         "tickfont": {
          "color": "#4D5663"
         },
         "title": {
          "font": {
           "color": "#4D5663"
          },
          "text": ""
         },
         "zerolinecolor": "#E1E5ED"
        },
        "xaxis9": {
         "anchor": "y9",
         "domain": [
          0,
          0.2125
         ],
         "gridcolor": "#E1E5ED",
         "showgrid": false,
         "tickfont": {
          "color": "#4D5663"
         },
         "title": {
          "font": {
           "color": "#4D5663"
          },
          "text": ""
         },
         "zerolinecolor": "#E1E5ED"
        },
        "yaxis": {
         "anchor": "x",
         "domain": [
          0.8025,
          1
         ],
         "gridcolor": "#E1E5ED",
         "showgrid": false,
         "tickfont": {
          "color": "#4D5663"
         },
         "title": {
          "font": {
           "color": "#4D5663"
          },
          "text": ""
         },
         "zerolinecolor": "#E1E5ED"
        },
        "yaxis10": {
         "anchor": "x10",
         "domain": [
          0.2675,
          0.465
         ],
         "gridcolor": "#E1E5ED",
         "showgrid": false,
         "tickfont": {
          "color": "#4D5663"
         },
         "title": {
          "font": {
           "color": "#4D5663"
          },
          "text": ""
         },
         "zerolinecolor": "#E1E5ED"
        },
        "yaxis11": {
         "anchor": "x11",
         "domain": [
          0.2675,
          0.465
         ],
         "gridcolor": "#E1E5ED",
         "showgrid": false,
         "tickfont": {
          "color": "#4D5663"
         },
         "title": {
          "font": {
           "color": "#4D5663"
          },
          "text": ""
         },
         "zerolinecolor": "#E1E5ED"
        },
        "yaxis12": {
         "anchor": "x12",
         "domain": [
          0.2675,
          0.465
         ],
         "gridcolor": "#E1E5ED",
         "showgrid": false,
         "tickfont": {
          "color": "#4D5663"
         },
         "title": {
          "font": {
           "color": "#4D5663"
          },
          "text": ""
         },
         "zerolinecolor": "#E1E5ED"
        },
        "yaxis13": {
         "anchor": "x13",
         "domain": [
          0,
          0.1975
         ],
         "gridcolor": "#E1E5ED",
         "showgrid": false,
         "tickfont": {
          "color": "#4D5663"
         },
         "title": {
          "font": {
           "color": "#4D5663"
          },
          "text": ""
         },
         "zerolinecolor": "#E1E5ED"
        },
        "yaxis14": {
         "anchor": "x14",
         "domain": [
          0,
          0.1975
         ],
         "gridcolor": "#E1E5ED",
         "showgrid": false,
         "tickfont": {
          "color": "#4D5663"
         },
         "title": {
          "font": {
           "color": "#4D5663"
          },
          "text": ""
         },
         "zerolinecolor": "#E1E5ED"
        },
        "yaxis15": {
         "anchor": "x15",
         "domain": [
          0,
          0.1975
         ],
         "gridcolor": "#E1E5ED",
         "showgrid": false,
         "tickfont": {
          "color": "#4D5663"
         },
         "title": {
          "font": {
           "color": "#4D5663"
          },
          "text": ""
         },
         "zerolinecolor": "#E1E5ED"
        },
        "yaxis16": {
         "anchor": "x16",
         "domain": [
          0,
          0.1975
         ],
         "gridcolor": "#E1E5ED",
         "showgrid": false,
         "tickfont": {
          "color": "#4D5663"
         },
         "title": {
          "font": {
           "color": "#4D5663"
          },
          "text": ""
         },
         "zerolinecolor": "#E1E5ED"
        },
        "yaxis2": {
         "anchor": "x2",
         "domain": [
          0.8025,
          1
         ],
         "gridcolor": "#E1E5ED",
         "showgrid": false,
         "tickfont": {
          "color": "#4D5663"
         },
         "title": {
          "font": {
           "color": "#4D5663"
          },
          "text": ""
         },
         "zerolinecolor": "#E1E5ED"
        },
        "yaxis3": {
         "anchor": "x3",
         "domain": [
          0.8025,
          1
         ],
         "gridcolor": "#E1E5ED",
         "showgrid": false,
         "tickfont": {
          "color": "#4D5663"
         },
         "title": {
          "font": {
           "color": "#4D5663"
          },
          "text": ""
         },
         "zerolinecolor": "#E1E5ED"
        },
        "yaxis4": {
         "anchor": "x4",
         "domain": [
          0.8025,
          1
         ],
         "gridcolor": "#E1E5ED",
         "showgrid": false,
         "tickfont": {
          "color": "#4D5663"
         },
         "title": {
          "font": {
           "color": "#4D5663"
          },
          "text": ""
         },
         "zerolinecolor": "#E1E5ED"
        },
        "yaxis5": {
         "anchor": "x5",
         "domain": [
          0.535,
          0.7325
         ],
         "gridcolor": "#E1E5ED",
         "showgrid": false,
         "tickfont": {
          "color": "#4D5663"
         },
         "title": {
          "font": {
           "color": "#4D5663"
          },
          "text": ""
         },
         "zerolinecolor": "#E1E5ED"
        },
        "yaxis6": {
         "anchor": "x6",
         "domain": [
          0.535,
          0.7325
         ],
         "gridcolor": "#E1E5ED",
         "showgrid": false,
         "tickfont": {
          "color": "#4D5663"
         },
         "title": {
          "font": {
           "color": "#4D5663"
          },
          "text": ""
         },
         "zerolinecolor": "#E1E5ED"
        },
        "yaxis7": {
         "anchor": "x7",
         "domain": [
          0.535,
          0.7325
         ],
         "gridcolor": "#E1E5ED",
         "showgrid": false,
         "tickfont": {
          "color": "#4D5663"
         },
         "title": {
          "font": {
           "color": "#4D5663"
          },
          "text": ""
         },
         "zerolinecolor": "#E1E5ED"
        },
        "yaxis8": {
         "anchor": "x8",
         "domain": [
          0.535,
          0.7325
         ],
         "gridcolor": "#E1E5ED",
         "showgrid": false,
         "tickfont": {
          "color": "#4D5663"
         },
         "title": {
          "font": {
           "color": "#4D5663"
          },
          "text": ""
         },
         "zerolinecolor": "#E1E5ED"
        },
        "yaxis9": {
         "anchor": "x9",
         "domain": [
          0.2675,
          0.465
         ],
         "gridcolor": "#E1E5ED",
         "showgrid": false,
         "tickfont": {
          "color": "#4D5663"
         },
         "title": {
          "font": {
           "color": "#4D5663"
          },
          "text": ""
         },
         "zerolinecolor": "#E1E5ED"
        }
       }
      },
      "text/html": [
       "<div>                            <div id=\"7f643968-c8ed-417b-8304-488508a42657\" class=\"plotly-graph-div\" style=\"height:525px; width:100%;\"></div>            <script type=\"text/javascript\">                require([\"plotly\"], function(Plotly) {                    window.PLOTLYENV=window.PLOTLYENV || {};\n",
       "                    window.PLOTLYENV.BASE_URL='https://plot.ly';                                    if (document.getElementById(\"7f643968-c8ed-417b-8304-488508a42657\")) {                    Plotly.newPlot(                        \"7f643968-c8ed-417b-8304-488508a42657\",                        [{\"histfunc\":\"count\",\"histnorm\":\"\",\"marker\":{\"color\":\"rgba(255, 153, 51, 1.0)\",\"line\":{\"color\":\"#4D5663\",\"width\":1.3}},\"name\":\"A\",\"nbinsx\":10,\"opacity\":0.8,\"orientation\":\"v\",\"x\":[0.13160484099032704,-0.7950894148460821,-0.13178744981839602,0.04643253694874059,1.4008811580488094,1.0636094200617128,-0.6302576662973428,-1.0151765951983778,-1.6289811525645115,1.6268210437035,0.6256421851048581,0.6214972799378291,1.2228321462568825,1.4103128126593787,-1.3973949776753045,-0.18281033081801018,2.605677785134823,0.3988269851056346,-0.4529882860464019,1.0784128278939078,0.7901159872294277,-0.4910610738334806,-0.9409118009988205,0.434468041211235,0.3742896418368096,-1.1561864863866274,-1.2842867457363056,-0.5261606343749329,0.6429325143749458,-1.3552544051664746,1.6270610794688527,-2.1435595460990853,-0.23455305399294482,-1.5986242370245385,1.1759934266713825,-0.01270097113625606,-0.4668452761149272,-0.7412607679432618,0.3462472288658386,0.10935402326252003,-0.3649831789786431,-0.21849969872497854,0.32657994207227464,2.2351327991254717,0.18144734817366057,-0.6912176240497995,0.7261509416783926,-1.8859562311461544,0.6217916103657698,-1.814362876226159,0.4189234239519778,1.7208451979119816,0.46099175660802466,0.07536895923905688,1.6026332086845676,-0.4813040033991323,-1.1715479856146989,-0.961844887784821,-0.3697250311946081,0.9903676937190032,0.5987589037491994,0.22441901104260428,-0.7290832505061414,1.182504038571702,0.49849042094992546,1.934068179888321,-1.0356143693303237,0.5099229331601602,-0.14881706016740145,1.2932578315420147,-0.8803779558532795,0.9912732908960632,-0.07363103484386704,-1.2099173247127637,0.49734583814546224,0.35313499965974543,-0.27695109523629635,0.3977250325577475,0.4267867826118734,-1.2592491178910903,1.561409048832289,-0.6487493849583286,2.1000263133192827,-1.6738293406736495,-1.2478081529020673,-0.5461776592746976,-0.8069503449533223,-1.216016854020958,-0.6994925219189366,0.3168200730116124,-1.618796776256919,0.43488998610191393,-0.09960482964117366,0.8141745749221933,-0.6550109510461594,-1.0731797207644709,0.025062692688615756,-0.1987930919360324,-0.8068381141444133,-0.3756595044409874],\"xaxis\":\"x\",\"yaxis\":\"y\",\"type\":\"histogram\"},{\"line\":{\"color\":\"rgba(128, 128, 128, 1.0)\",\"dash\":\"solid\",\"shape\":\"linear\",\"width\":1.3},\"marker\":{\"size\":2,\"symbol\":\"circle\"},\"mode\":\"markers\",\"name\":\"A\",\"text\":\"\",\"x\":[1.4318947810176526,0.24026038605821917,0.4451286277214846,0.5362264542043904,-1.1066503086203259,-0.42229707035492087,0.718042335741499,-0.9318978257839343,-0.44859068426479753,0.06393476675777732,-0.9638697396246255,0.047373052805112593,-2.6316439201988544,1.16645099432575,0.32036750849283824,-0.05364339294583357,0.3802655235220497,-0.09961734522532066,-0.3653884522071064,0.5387252402177625,0.4688390726042069,0.09915984634898799,0.07388293090421022,-0.18789060897527135,-0.11576320542210079,1.0107124619771906,-0.6193205128828219,-0.12003905201802431,-0.08329152526464428,-1.0665194384892394,0.5251365929191014,-1.7202303396085004,-0.4098643151059729,0.2192352113181968,0.23647471448842297,-0.1115245845888328,0.18615443769853549,-0.40964673877098917,0.9711188501856983,-1.5071541555991648,0.1999602495297384,2.492818422930499,-0.41384143683286634,-0.9240183532845967,0.428717009167491,1.8113112612096411,-0.003990601547180274,-1.0569525684969008,-0.2462620275510187,-0.4334682863880004,0.3952226502148541,1.2432030130337701,0.6223978449559944,-1.1375909277591023,0.8016351645868708,-0.20628826144655052,1.6797828797502556,-0.9924526424616922,-0.31062961008454076,1.4306099335403377,1.9799584956398923,1.2607300051211943,0.5926955856960735,-0.6860932783938856,0.8932491030110556,-0.2366485951762157,1.1461888955923492,0.9762538722558245,-0.7899138777903845,0.4001873776041438,0.12072644501913432,1.17629127197133,-1.489601357172212,0.28052146475854733,1.6260200481973202,0.4605915872324684,0.14764372184436497,0.7331058048576845,2.2291967418153136,-0.781849913741244,-0.9985226652186919,1.237574668861233,0.7169596395220929,-1.9079310473095077,1.2290383651644585,-0.7379281450552093,-0.3610320856280676,2.8491743491694232,1.0186867977434042,-0.45887321828980554,0.19222873439429394,0.11579126666695112,0.09289699526265048,-0.15629653044902783,-1.2121316352810876,0.24892657275282007,-0.34109291135368036,-0.8333844588916233,1.2299995015955598,-0.09384418811944956],\"xaxis\":\"x2\",\"y\":[0.13160484099032704,-0.7950894148460821,-0.13178744981839602,0.04643253694874059,1.4008811580488094,1.0636094200617128,-0.6302576662973428,-1.0151765951983778,-1.6289811525645115,1.6268210437035,0.6256421851048581,0.6214972799378291,1.2228321462568825,1.4103128126593787,-1.3973949776753045,-0.18281033081801018,2.605677785134823,0.3988269851056346,-0.4529882860464019,1.0784128278939078,0.7901159872294277,-0.4910610738334806,-0.9409118009988205,0.434468041211235,0.3742896418368096,-1.1561864863866274,-1.2842867457363056,-0.5261606343749329,0.6429325143749458,-1.3552544051664746,1.6270610794688527,-2.1435595460990853,-0.23455305399294482,-1.5986242370245385,1.1759934266713825,-0.01270097113625606,-0.4668452761149272,-0.7412607679432618,0.3462472288658386,0.10935402326252003,-0.3649831789786431,-0.21849969872497854,0.32657994207227464,2.2351327991254717,0.18144734817366057,-0.6912176240497995,0.7261509416783926,-1.8859562311461544,0.6217916103657698,-1.814362876226159,0.4189234239519778,1.7208451979119816,0.46099175660802466,0.07536895923905688,1.6026332086845676,-0.4813040033991323,-1.1715479856146989,-0.961844887784821,-0.3697250311946081,0.9903676937190032,0.5987589037491994,0.22441901104260428,-0.7290832505061414,1.182504038571702,0.49849042094992546,1.934068179888321,-1.0356143693303237,0.5099229331601602,-0.14881706016740145,1.2932578315420147,-0.8803779558532795,0.9912732908960632,-0.07363103484386704,-1.2099173247127637,0.49734583814546224,0.35313499965974543,-0.27695109523629635,0.3977250325577475,0.4267867826118734,-1.2592491178910903,1.561409048832289,-0.6487493849583286,2.1000263133192827,-1.6738293406736495,-1.2478081529020673,-0.5461776592746976,-0.8069503449533223,-1.216016854020958,-0.6994925219189366,0.3168200730116124,-1.618796776256919,0.43488998610191393,-0.09960482964117366,0.8141745749221933,-0.6550109510461594,-1.0731797207644709,0.025062692688615756,-0.1987930919360324,-0.8068381141444133,-0.3756595044409874],\"yaxis\":\"y2\",\"type\":\"scatter\"},{\"line\":{\"color\":\"rgba(128, 128, 128, 1.0)\",\"dash\":\"solid\",\"shape\":\"linear\",\"width\":1.3},\"marker\":{\"size\":2,\"symbol\":\"circle\"},\"mode\":\"markers\",\"name\":\"A\",\"text\":\"\",\"x\":[-0.971022346575938,-0.5243024731276443,1.4286413183508697,0.9137829630609101,-0.8858080620372212,1.60714413043683,1.500409250991382,0.23383299051706155,-0.45644596388353964,0.9323430868876016,0.18136130428341612,-0.08710946309744187,-0.5165280743998215,-0.9871919968274258,0.6957812675613306,-0.21310596317218783,-0.7671961431296472,-0.8456308966197522,1.000258255813157,-0.8766672551763515,-1.025581732381983,-0.4493566079268353,-0.8189968559032405,2.1423888628192667,0.21283462121999747,0.41124945491522974,-0.528734301448836,2.2378067259334387,-1.1604140663002422,0.4072605370018098,-1.6922822861315925,0.20304010437405975,-0.370719198334433,-0.4218291816271057,-1.1825893612552376,-1.5967591425602543,-0.09221248457979499,1.7631166471745965,-0.04083330384185371,1.832559072362424,-0.1275310601322519,-1.499482768775023,1.1900005959356978,0.4932095737397246,1.4089585106778706,0.1740381662200239,-0.11007728217088389,-0.5687332352449179,0.060133667198007765,1.3688822401017933,1.582865785466756,0.5822665546760064,-0.7815186844672299,-0.6777042737687243,1.126308992622847,1.2788472079126632,-1.0672752399294543,-0.643146503037076,-0.1511482000712323,1.6585490956043274,-1.4981491057130696,-0.058557970848679405,0.9795625424614111,1.2033564609474556,-1.4954506288951142,0.29031527322649764,0.8635660788280374,0.27092205398846453,0.8967125564808078,1.6857266086235219,-0.18267859561471733,-2.2304111589487903,-0.015856920988653118,-0.34308233132870436,-0.18275565819244208,0.6454017103842246,2.280495614345781,-1.0982758047559875,0.7686227898033995,-1.5435421374184264,-1.6748784707759343,1.1040311056681484,0.7640841601508227,1.6956137181403692,1.540992767196364,1.3080783711522082,-1.4700280148462321,-1.1657677185485011,-0.5634960739617756,0.712096619769324,-1.837827400119136,0.6761305537246636,-0.7441499518305543,-0.693276859929443,-1.2285294853916533,-1.216206962262111,0.7791380282318413,-0.5842460014967957,-0.41736139073749073,1.2635056761349914],\"xaxis\":\"x3\",\"y\":[0.13160484099032704,-0.7950894148460821,-0.13178744981839602,0.04643253694874059,1.4008811580488094,1.0636094200617128,-0.6302576662973428,-1.0151765951983778,-1.6289811525645115,1.6268210437035,0.6256421851048581,0.6214972799378291,1.2228321462568825,1.4103128126593787,-1.3973949776753045,-0.18281033081801018,2.605677785134823,0.3988269851056346,-0.4529882860464019,1.0784128278939078,0.7901159872294277,-0.4910610738334806,-0.9409118009988205,0.434468041211235,0.3742896418368096,-1.1561864863866274,-1.2842867457363056,-0.5261606343749329,0.6429325143749458,-1.3552544051664746,1.6270610794688527,-2.1435595460990853,-0.23455305399294482,-1.5986242370245385,1.1759934266713825,-0.01270097113625606,-0.4668452761149272,-0.7412607679432618,0.3462472288658386,0.10935402326252003,-0.3649831789786431,-0.21849969872497854,0.32657994207227464,2.2351327991254717,0.18144734817366057,-0.6912176240497995,0.7261509416783926,-1.8859562311461544,0.6217916103657698,-1.814362876226159,0.4189234239519778,1.7208451979119816,0.46099175660802466,0.07536895923905688,1.6026332086845676,-0.4813040033991323,-1.1715479856146989,-0.961844887784821,-0.3697250311946081,0.9903676937190032,0.5987589037491994,0.22441901104260428,-0.7290832505061414,1.182504038571702,0.49849042094992546,1.934068179888321,-1.0356143693303237,0.5099229331601602,-0.14881706016740145,1.2932578315420147,-0.8803779558532795,0.9912732908960632,-0.07363103484386704,-1.2099173247127637,0.49734583814546224,0.35313499965974543,-0.27695109523629635,0.3977250325577475,0.4267867826118734,-1.2592491178910903,1.561409048832289,-0.6487493849583286,2.1000263133192827,-1.6738293406736495,-1.2478081529020673,-0.5461776592746976,-0.8069503449533223,-1.216016854020958,-0.6994925219189366,0.3168200730116124,-1.618796776256919,0.43488998610191393,-0.09960482964117366,0.8141745749221933,-0.6550109510461594,-1.0731797207644709,0.025062692688615756,-0.1987930919360324,-0.8068381141444133,-0.3756595044409874],\"yaxis\":\"y3\",\"type\":\"scatter\"},{\"line\":{\"color\":\"rgba(128, 128, 128, 1.0)\",\"dash\":\"solid\",\"shape\":\"linear\",\"width\":1.3},\"marker\":{\"size\":2,\"symbol\":\"circle\"},\"mode\":\"markers\",\"name\":\"A\",\"text\":\"\",\"x\":[-0.026946352214707543,0.7001864198834278,-0.2982169573158846,-0.46785808251321376,0.1662198421131035,-1.0361993190548702,0.36990320951933825,-0.46096929909194345,-0.32786381054044816,-1.9425338206029976,1.3241557623479694,1.1454651188750975,0.7486765634810072,0.9330479359890153,-0.9417092796502509,0.6690846669731796,-1.336677393459967,0.8684602791773485,-0.6536004660338142,-0.12821638297337665,-0.5600649918885628,0.12970791744126992,0.6532835157045196,-1.282823899790167,0.7736421266931258,-1.7976496762557792,-0.15948682481998375,-0.391125585197008,1.354088423712669,-1.443692993191206,-0.4289105316998597,0.5740855457163138,-0.33639804341759105,-0.10356897058918564,1.574387291112665,-0.9091404976969024,1.046847296801124,0.5706535462664871,-1.6541427845300183,-0.8536739719150671,-1.0688862444256853,-1.9336291584556424,1.9376248679459394,0.6695776761101119,1.5313603114363874,-1.4712342112068328,1.7690964396844335,1.1077083251306983,-0.58024259998545,-0.5196224712276971,0.38399780945459105,0.31773733607258414,-1.8371234971094654,0.08363561366150972,0.473428602686091,-1.057167404990847,-0.2945659075349518,-0.46844130149068275,-0.7780798699914746,0.25040311051155845,-0.10387342147144044,-1.263258128858654,0.4867782976354999,-0.8868103081610105,0.15165521213779967,-0.8652838520851245,0.17588274530746156,-0.11919944926902291,-1.4675189167998794,1.7553033154179047,0.8196102272713092,-0.4133265676516026,-1.443631395161763,-1.1308320153402704,-0.6639551530556687,-0.39126040132210677,0.46545469886051766,0.5733045030441133,-2.0616130374103525,0.2949920301219885,0.012695105848094499,-0.07790473580455372,0.10607123347971581,0.6567785605314618,-0.6250906670799768,1.6570247763242396,1.1201417570577372,1.033694848041122,-0.9124782530568055,1.988878350986756,-0.4582865124599824,-0.8059843919133812,0.5124959363470918,1.9149527906323667,-0.17926090652051777,1.2052411849841747,-0.555649682790034,0.3362816656037818,-0.7121607025339074,1.0413593991665846],\"xaxis\":\"x4\",\"y\":[0.13160484099032704,-0.7950894148460821,-0.13178744981839602,0.04643253694874059,1.4008811580488094,1.0636094200617128,-0.6302576662973428,-1.0151765951983778,-1.6289811525645115,1.6268210437035,0.6256421851048581,0.6214972799378291,1.2228321462568825,1.4103128126593787,-1.3973949776753045,-0.18281033081801018,2.605677785134823,0.3988269851056346,-0.4529882860464019,1.0784128278939078,0.7901159872294277,-0.4910610738334806,-0.9409118009988205,0.434468041211235,0.3742896418368096,-1.1561864863866274,-1.2842867457363056,-0.5261606343749329,0.6429325143749458,-1.3552544051664746,1.6270610794688527,-2.1435595460990853,-0.23455305399294482,-1.5986242370245385,1.1759934266713825,-0.01270097113625606,-0.4668452761149272,-0.7412607679432618,0.3462472288658386,0.10935402326252003,-0.3649831789786431,-0.21849969872497854,0.32657994207227464,2.2351327991254717,0.18144734817366057,-0.6912176240497995,0.7261509416783926,-1.8859562311461544,0.6217916103657698,-1.814362876226159,0.4189234239519778,1.7208451979119816,0.46099175660802466,0.07536895923905688,1.6026332086845676,-0.4813040033991323,-1.1715479856146989,-0.961844887784821,-0.3697250311946081,0.9903676937190032,0.5987589037491994,0.22441901104260428,-0.7290832505061414,1.182504038571702,0.49849042094992546,1.934068179888321,-1.0356143693303237,0.5099229331601602,-0.14881706016740145,1.2932578315420147,-0.8803779558532795,0.9912732908960632,-0.07363103484386704,-1.2099173247127637,0.49734583814546224,0.35313499965974543,-0.27695109523629635,0.3977250325577475,0.4267867826118734,-1.2592491178910903,1.561409048832289,-0.6487493849583286,2.1000263133192827,-1.6738293406736495,-1.2478081529020673,-0.5461776592746976,-0.8069503449533223,-1.216016854020958,-0.6994925219189366,0.3168200730116124,-1.618796776256919,0.43488998610191393,-0.09960482964117366,0.8141745749221933,-0.6550109510461594,-1.0731797207644709,0.025062692688615756,-0.1987930919360324,-0.8068381141444133,-0.3756595044409874],\"yaxis\":\"y4\",\"type\":\"scatter\"},{\"line\":{\"color\":\"rgba(128, 128, 128, 1.0)\",\"dash\":\"solid\",\"shape\":\"linear\",\"width\":1.3},\"marker\":{\"size\":2,\"symbol\":\"circle\"},\"mode\":\"markers\",\"name\":\"B\",\"text\":\"\",\"x\":[0.13160484099032704,-0.7950894148460821,-0.13178744981839602,0.04643253694874059,1.4008811580488094,1.0636094200617128,-0.6302576662973428,-1.0151765951983778,-1.6289811525645115,1.6268210437035,0.6256421851048581,0.6214972799378291,1.2228321462568825,1.4103128126593787,-1.3973949776753045,-0.18281033081801018,2.605677785134823,0.3988269851056346,-0.4529882860464019,1.0784128278939078,0.7901159872294277,-0.4910610738334806,-0.9409118009988205,0.434468041211235,0.3742896418368096,-1.1561864863866274,-1.2842867457363056,-0.5261606343749329,0.6429325143749458,-1.3552544051664746,1.6270610794688527,-2.1435595460990853,-0.23455305399294482,-1.5986242370245385,1.1759934266713825,-0.01270097113625606,-0.4668452761149272,-0.7412607679432618,0.3462472288658386,0.10935402326252003,-0.3649831789786431,-0.21849969872497854,0.32657994207227464,2.2351327991254717,0.18144734817366057,-0.6912176240497995,0.7261509416783926,-1.8859562311461544,0.6217916103657698,-1.814362876226159,0.4189234239519778,1.7208451979119816,0.46099175660802466,0.07536895923905688,1.6026332086845676,-0.4813040033991323,-1.1715479856146989,-0.961844887784821,-0.3697250311946081,0.9903676937190032,0.5987589037491994,0.22441901104260428,-0.7290832505061414,1.182504038571702,0.49849042094992546,1.934068179888321,-1.0356143693303237,0.5099229331601602,-0.14881706016740145,1.2932578315420147,-0.8803779558532795,0.9912732908960632,-0.07363103484386704,-1.2099173247127637,0.49734583814546224,0.35313499965974543,-0.27695109523629635,0.3977250325577475,0.4267867826118734,-1.2592491178910903,1.561409048832289,-0.6487493849583286,2.1000263133192827,-1.6738293406736495,-1.2478081529020673,-0.5461776592746976,-0.8069503449533223,-1.216016854020958,-0.6994925219189366,0.3168200730116124,-1.618796776256919,0.43488998610191393,-0.09960482964117366,0.8141745749221933,-0.6550109510461594,-1.0731797207644709,0.025062692688615756,-0.1987930919360324,-0.8068381141444133,-0.3756595044409874],\"xaxis\":\"x5\",\"y\":[1.4318947810176526,0.24026038605821917,0.4451286277214846,0.5362264542043904,-1.1066503086203259,-0.42229707035492087,0.718042335741499,-0.9318978257839343,-0.44859068426479753,0.06393476675777732,-0.9638697396246255,0.047373052805112593,-2.6316439201988544,1.16645099432575,0.32036750849283824,-0.05364339294583357,0.3802655235220497,-0.09961734522532066,-0.3653884522071064,0.5387252402177625,0.4688390726042069,0.09915984634898799,0.07388293090421022,-0.18789060897527135,-0.11576320542210079,1.0107124619771906,-0.6193205128828219,-0.12003905201802431,-0.08329152526464428,-1.0665194384892394,0.5251365929191014,-1.7202303396085004,-0.4098643151059729,0.2192352113181968,0.23647471448842297,-0.1115245845888328,0.18615443769853549,-0.40964673877098917,0.9711188501856983,-1.5071541555991648,0.1999602495297384,2.492818422930499,-0.41384143683286634,-0.9240183532845967,0.428717009167491,1.8113112612096411,-0.003990601547180274,-1.0569525684969008,-0.2462620275510187,-0.4334682863880004,0.3952226502148541,1.2432030130337701,0.6223978449559944,-1.1375909277591023,0.8016351645868708,-0.20628826144655052,1.6797828797502556,-0.9924526424616922,-0.31062961008454076,1.4306099335403377,1.9799584956398923,1.2607300051211943,0.5926955856960735,-0.6860932783938856,0.8932491030110556,-0.2366485951762157,1.1461888955923492,0.9762538722558245,-0.7899138777903845,0.4001873776041438,0.12072644501913432,1.17629127197133,-1.489601357172212,0.28052146475854733,1.6260200481973202,0.4605915872324684,0.14764372184436497,0.7331058048576845,2.2291967418153136,-0.781849913741244,-0.9985226652186919,1.237574668861233,0.7169596395220929,-1.9079310473095077,1.2290383651644585,-0.7379281450552093,-0.3610320856280676,2.8491743491694232,1.0186867977434042,-0.45887321828980554,0.19222873439429394,0.11579126666695112,0.09289699526265048,-0.15629653044902783,-1.2121316352810876,0.24892657275282007,-0.34109291135368036,-0.8333844588916233,1.2299995015955598,-0.09384418811944956],\"yaxis\":\"y5\",\"type\":\"scatter\"},{\"histfunc\":\"count\",\"histnorm\":\"\",\"marker\":{\"color\":\"rgba(55, 128, 191, 1.0)\",\"line\":{\"color\":\"#4D5663\",\"width\":1.3}},\"name\":\"B\",\"nbinsx\":10,\"opacity\":0.8,\"orientation\":\"v\",\"x\":[1.4318947810176526,0.24026038605821917,0.4451286277214846,0.5362264542043904,-1.1066503086203259,-0.42229707035492087,0.718042335741499,-0.9318978257839343,-0.44859068426479753,0.06393476675777732,-0.9638697396246255,0.047373052805112593,-2.6316439201988544,1.16645099432575,0.32036750849283824,-0.05364339294583357,0.3802655235220497,-0.09961734522532066,-0.3653884522071064,0.5387252402177625,0.4688390726042069,0.09915984634898799,0.07388293090421022,-0.18789060897527135,-0.11576320542210079,1.0107124619771906,-0.6193205128828219,-0.12003905201802431,-0.08329152526464428,-1.0665194384892394,0.5251365929191014,-1.7202303396085004,-0.4098643151059729,0.2192352113181968,0.23647471448842297,-0.1115245845888328,0.18615443769853549,-0.40964673877098917,0.9711188501856983,-1.5071541555991648,0.1999602495297384,2.492818422930499,-0.41384143683286634,-0.9240183532845967,0.428717009167491,1.8113112612096411,-0.003990601547180274,-1.0569525684969008,-0.2462620275510187,-0.4334682863880004,0.3952226502148541,1.2432030130337701,0.6223978449559944,-1.1375909277591023,0.8016351645868708,-0.20628826144655052,1.6797828797502556,-0.9924526424616922,-0.31062961008454076,1.4306099335403377,1.9799584956398923,1.2607300051211943,0.5926955856960735,-0.6860932783938856,0.8932491030110556,-0.2366485951762157,1.1461888955923492,0.9762538722558245,-0.7899138777903845,0.4001873776041438,0.12072644501913432,1.17629127197133,-1.489601357172212,0.28052146475854733,1.6260200481973202,0.4605915872324684,0.14764372184436497,0.7331058048576845,2.2291967418153136,-0.781849913741244,-0.9985226652186919,1.237574668861233,0.7169596395220929,-1.9079310473095077,1.2290383651644585,-0.7379281450552093,-0.3610320856280676,2.8491743491694232,1.0186867977434042,-0.45887321828980554,0.19222873439429394,0.11579126666695112,0.09289699526265048,-0.15629653044902783,-1.2121316352810876,0.24892657275282007,-0.34109291135368036,-0.8333844588916233,1.2299995015955598,-0.09384418811944956],\"xaxis\":\"x6\",\"yaxis\":\"y6\",\"type\":\"histogram\"},{\"line\":{\"color\":\"rgba(128, 128, 128, 1.0)\",\"dash\":\"solid\",\"shape\":\"linear\",\"width\":1.3},\"marker\":{\"size\":2,\"symbol\":\"circle\"},\"mode\":\"markers\",\"name\":\"B\",\"text\":\"\",\"x\":[-0.971022346575938,-0.5243024731276443,1.4286413183508697,0.9137829630609101,-0.8858080620372212,1.60714413043683,1.500409250991382,0.23383299051706155,-0.45644596388353964,0.9323430868876016,0.18136130428341612,-0.08710946309744187,-0.5165280743998215,-0.9871919968274258,0.6957812675613306,-0.21310596317218783,-0.7671961431296472,-0.8456308966197522,1.000258255813157,-0.8766672551763515,-1.025581732381983,-0.4493566079268353,-0.8189968559032405,2.1423888628192667,0.21283462121999747,0.41124945491522974,-0.528734301448836,2.2378067259334387,-1.1604140663002422,0.4072605370018098,-1.6922822861315925,0.20304010437405975,-0.370719198334433,-0.4218291816271057,-1.1825893612552376,-1.5967591425602543,-0.09221248457979499,1.7631166471745965,-0.04083330384185371,1.832559072362424,-0.1275310601322519,-1.499482768775023,1.1900005959356978,0.4932095737397246,1.4089585106778706,0.1740381662200239,-0.11007728217088389,-0.5687332352449179,0.060133667198007765,1.3688822401017933,1.582865785466756,0.5822665546760064,-0.7815186844672299,-0.6777042737687243,1.126308992622847,1.2788472079126632,-1.0672752399294543,-0.643146503037076,-0.1511482000712323,1.6585490956043274,-1.4981491057130696,-0.058557970848679405,0.9795625424614111,1.2033564609474556,-1.4954506288951142,0.29031527322649764,0.8635660788280374,0.27092205398846453,0.8967125564808078,1.6857266086235219,-0.18267859561471733,-2.2304111589487903,-0.015856920988653118,-0.34308233132870436,-0.18275565819244208,0.6454017103842246,2.280495614345781,-1.0982758047559875,0.7686227898033995,-1.5435421374184264,-1.6748784707759343,1.1040311056681484,0.7640841601508227,1.6956137181403692,1.540992767196364,1.3080783711522082,-1.4700280148462321,-1.1657677185485011,-0.5634960739617756,0.712096619769324,-1.837827400119136,0.6761305537246636,-0.7441499518305543,-0.693276859929443,-1.2285294853916533,-1.216206962262111,0.7791380282318413,-0.5842460014967957,-0.41736139073749073,1.2635056761349914],\"xaxis\":\"x7\",\"y\":[1.4318947810176526,0.24026038605821917,0.4451286277214846,0.5362264542043904,-1.1066503086203259,-0.42229707035492087,0.718042335741499,-0.9318978257839343,-0.44859068426479753,0.06393476675777732,-0.9638697396246255,0.047373052805112593,-2.6316439201988544,1.16645099432575,0.32036750849283824,-0.05364339294583357,0.3802655235220497,-0.09961734522532066,-0.3653884522071064,0.5387252402177625,0.4688390726042069,0.09915984634898799,0.07388293090421022,-0.18789060897527135,-0.11576320542210079,1.0107124619771906,-0.6193205128828219,-0.12003905201802431,-0.08329152526464428,-1.0665194384892394,0.5251365929191014,-1.7202303396085004,-0.4098643151059729,0.2192352113181968,0.23647471448842297,-0.1115245845888328,0.18615443769853549,-0.40964673877098917,0.9711188501856983,-1.5071541555991648,0.1999602495297384,2.492818422930499,-0.41384143683286634,-0.9240183532845967,0.428717009167491,1.8113112612096411,-0.003990601547180274,-1.0569525684969008,-0.2462620275510187,-0.4334682863880004,0.3952226502148541,1.2432030130337701,0.6223978449559944,-1.1375909277591023,0.8016351645868708,-0.20628826144655052,1.6797828797502556,-0.9924526424616922,-0.31062961008454076,1.4306099335403377,1.9799584956398923,1.2607300051211943,0.5926955856960735,-0.6860932783938856,0.8932491030110556,-0.2366485951762157,1.1461888955923492,0.9762538722558245,-0.7899138777903845,0.4001873776041438,0.12072644501913432,1.17629127197133,-1.489601357172212,0.28052146475854733,1.6260200481973202,0.4605915872324684,0.14764372184436497,0.7331058048576845,2.2291967418153136,-0.781849913741244,-0.9985226652186919,1.237574668861233,0.7169596395220929,-1.9079310473095077,1.2290383651644585,-0.7379281450552093,-0.3610320856280676,2.8491743491694232,1.0186867977434042,-0.45887321828980554,0.19222873439429394,0.11579126666695112,0.09289699526265048,-0.15629653044902783,-1.2121316352810876,0.24892657275282007,-0.34109291135368036,-0.8333844588916233,1.2299995015955598,-0.09384418811944956],\"yaxis\":\"y7\",\"type\":\"scatter\"},{\"line\":{\"color\":\"rgba(128, 128, 128, 1.0)\",\"dash\":\"solid\",\"shape\":\"linear\",\"width\":1.3},\"marker\":{\"size\":2,\"symbol\":\"circle\"},\"mode\":\"markers\",\"name\":\"B\",\"text\":\"\",\"x\":[-0.026946352214707543,0.7001864198834278,-0.2982169573158846,-0.46785808251321376,0.1662198421131035,-1.0361993190548702,0.36990320951933825,-0.46096929909194345,-0.32786381054044816,-1.9425338206029976,1.3241557623479694,1.1454651188750975,0.7486765634810072,0.9330479359890153,-0.9417092796502509,0.6690846669731796,-1.336677393459967,0.8684602791773485,-0.6536004660338142,-0.12821638297337665,-0.5600649918885628,0.12970791744126992,0.6532835157045196,-1.282823899790167,0.7736421266931258,-1.7976496762557792,-0.15948682481998375,-0.391125585197008,1.354088423712669,-1.443692993191206,-0.4289105316998597,0.5740855457163138,-0.33639804341759105,-0.10356897058918564,1.574387291112665,-0.9091404976969024,1.046847296801124,0.5706535462664871,-1.6541427845300183,-0.8536739719150671,-1.0688862444256853,-1.9336291584556424,1.9376248679459394,0.6695776761101119,1.5313603114363874,-1.4712342112068328,1.7690964396844335,1.1077083251306983,-0.58024259998545,-0.5196224712276971,0.38399780945459105,0.31773733607258414,-1.8371234971094654,0.08363561366150972,0.473428602686091,-1.057167404990847,-0.2945659075349518,-0.46844130149068275,-0.7780798699914746,0.25040311051155845,-0.10387342147144044,-1.263258128858654,0.4867782976354999,-0.8868103081610105,0.15165521213779967,-0.8652838520851245,0.17588274530746156,-0.11919944926902291,-1.4675189167998794,1.7553033154179047,0.8196102272713092,-0.4133265676516026,-1.443631395161763,-1.1308320153402704,-0.6639551530556687,-0.39126040132210677,0.46545469886051766,0.5733045030441133,-2.0616130374103525,0.2949920301219885,0.012695105848094499,-0.07790473580455372,0.10607123347971581,0.6567785605314618,-0.6250906670799768,1.6570247763242396,1.1201417570577372,1.033694848041122,-0.9124782530568055,1.988878350986756,-0.4582865124599824,-0.8059843919133812,0.5124959363470918,1.9149527906323667,-0.17926090652051777,1.2052411849841747,-0.555649682790034,0.3362816656037818,-0.7121607025339074,1.0413593991665846],\"xaxis\":\"x8\",\"y\":[1.4318947810176526,0.24026038605821917,0.4451286277214846,0.5362264542043904,-1.1066503086203259,-0.42229707035492087,0.718042335741499,-0.9318978257839343,-0.44859068426479753,0.06393476675777732,-0.9638697396246255,0.047373052805112593,-2.6316439201988544,1.16645099432575,0.32036750849283824,-0.05364339294583357,0.3802655235220497,-0.09961734522532066,-0.3653884522071064,0.5387252402177625,0.4688390726042069,0.09915984634898799,0.07388293090421022,-0.18789060897527135,-0.11576320542210079,1.0107124619771906,-0.6193205128828219,-0.12003905201802431,-0.08329152526464428,-1.0665194384892394,0.5251365929191014,-1.7202303396085004,-0.4098643151059729,0.2192352113181968,0.23647471448842297,-0.1115245845888328,0.18615443769853549,-0.40964673877098917,0.9711188501856983,-1.5071541555991648,0.1999602495297384,2.492818422930499,-0.41384143683286634,-0.9240183532845967,0.428717009167491,1.8113112612096411,-0.003990601547180274,-1.0569525684969008,-0.2462620275510187,-0.4334682863880004,0.3952226502148541,1.2432030130337701,0.6223978449559944,-1.1375909277591023,0.8016351645868708,-0.20628826144655052,1.6797828797502556,-0.9924526424616922,-0.31062961008454076,1.4306099335403377,1.9799584956398923,1.2607300051211943,0.5926955856960735,-0.6860932783938856,0.8932491030110556,-0.2366485951762157,1.1461888955923492,0.9762538722558245,-0.7899138777903845,0.4001873776041438,0.12072644501913432,1.17629127197133,-1.489601357172212,0.28052146475854733,1.6260200481973202,0.4605915872324684,0.14764372184436497,0.7331058048576845,2.2291967418153136,-0.781849913741244,-0.9985226652186919,1.237574668861233,0.7169596395220929,-1.9079310473095077,1.2290383651644585,-0.7379281450552093,-0.3610320856280676,2.8491743491694232,1.0186867977434042,-0.45887321828980554,0.19222873439429394,0.11579126666695112,0.09289699526265048,-0.15629653044902783,-1.2121316352810876,0.24892657275282007,-0.34109291135368036,-0.8333844588916233,1.2299995015955598,-0.09384418811944956],\"yaxis\":\"y8\",\"type\":\"scatter\"},{\"line\":{\"color\":\"rgba(128, 128, 128, 1.0)\",\"dash\":\"solid\",\"shape\":\"linear\",\"width\":1.3},\"marker\":{\"size\":2,\"symbol\":\"circle\"},\"mode\":\"markers\",\"name\":\"C\",\"text\":\"\",\"x\":[0.13160484099032704,-0.7950894148460821,-0.13178744981839602,0.04643253694874059,1.4008811580488094,1.0636094200617128,-0.6302576662973428,-1.0151765951983778,-1.6289811525645115,1.6268210437035,0.6256421851048581,0.6214972799378291,1.2228321462568825,1.4103128126593787,-1.3973949776753045,-0.18281033081801018,2.605677785134823,0.3988269851056346,-0.4529882860464019,1.0784128278939078,0.7901159872294277,-0.4910610738334806,-0.9409118009988205,0.434468041211235,0.3742896418368096,-1.1561864863866274,-1.2842867457363056,-0.5261606343749329,0.6429325143749458,-1.3552544051664746,1.6270610794688527,-2.1435595460990853,-0.23455305399294482,-1.5986242370245385,1.1759934266713825,-0.01270097113625606,-0.4668452761149272,-0.7412607679432618,0.3462472288658386,0.10935402326252003,-0.3649831789786431,-0.21849969872497854,0.32657994207227464,2.2351327991254717,0.18144734817366057,-0.6912176240497995,0.7261509416783926,-1.8859562311461544,0.6217916103657698,-1.814362876226159,0.4189234239519778,1.7208451979119816,0.46099175660802466,0.07536895923905688,1.6026332086845676,-0.4813040033991323,-1.1715479856146989,-0.961844887784821,-0.3697250311946081,0.9903676937190032,0.5987589037491994,0.22441901104260428,-0.7290832505061414,1.182504038571702,0.49849042094992546,1.934068179888321,-1.0356143693303237,0.5099229331601602,-0.14881706016740145,1.2932578315420147,-0.8803779558532795,0.9912732908960632,-0.07363103484386704,-1.2099173247127637,0.49734583814546224,0.35313499965974543,-0.27695109523629635,0.3977250325577475,0.4267867826118734,-1.2592491178910903,1.561409048832289,-0.6487493849583286,2.1000263133192827,-1.6738293406736495,-1.2478081529020673,-0.5461776592746976,-0.8069503449533223,-1.216016854020958,-0.6994925219189366,0.3168200730116124,-1.618796776256919,0.43488998610191393,-0.09960482964117366,0.8141745749221933,-0.6550109510461594,-1.0731797207644709,0.025062692688615756,-0.1987930919360324,-0.8068381141444133,-0.3756595044409874],\"xaxis\":\"x9\",\"y\":[-0.971022346575938,-0.5243024731276443,1.4286413183508697,0.9137829630609101,-0.8858080620372212,1.60714413043683,1.500409250991382,0.23383299051706155,-0.45644596388353964,0.9323430868876016,0.18136130428341612,-0.08710946309744187,-0.5165280743998215,-0.9871919968274258,0.6957812675613306,-0.21310596317218783,-0.7671961431296472,-0.8456308966197522,1.000258255813157,-0.8766672551763515,-1.025581732381983,-0.4493566079268353,-0.8189968559032405,2.1423888628192667,0.21283462121999747,0.41124945491522974,-0.528734301448836,2.2378067259334387,-1.1604140663002422,0.4072605370018098,-1.6922822861315925,0.20304010437405975,-0.370719198334433,-0.4218291816271057,-1.1825893612552376,-1.5967591425602543,-0.09221248457979499,1.7631166471745965,-0.04083330384185371,1.832559072362424,-0.1275310601322519,-1.499482768775023,1.1900005959356978,0.4932095737397246,1.4089585106778706,0.1740381662200239,-0.11007728217088389,-0.5687332352449179,0.060133667198007765,1.3688822401017933,1.582865785466756,0.5822665546760064,-0.7815186844672299,-0.6777042737687243,1.126308992622847,1.2788472079126632,-1.0672752399294543,-0.643146503037076,-0.1511482000712323,1.6585490956043274,-1.4981491057130696,-0.058557970848679405,0.9795625424614111,1.2033564609474556,-1.4954506288951142,0.29031527322649764,0.8635660788280374,0.27092205398846453,0.8967125564808078,1.6857266086235219,-0.18267859561471733,-2.2304111589487903,-0.015856920988653118,-0.34308233132870436,-0.18275565819244208,0.6454017103842246,2.280495614345781,-1.0982758047559875,0.7686227898033995,-1.5435421374184264,-1.6748784707759343,1.1040311056681484,0.7640841601508227,1.6956137181403692,1.540992767196364,1.3080783711522082,-1.4700280148462321,-1.1657677185485011,-0.5634960739617756,0.712096619769324,-1.837827400119136,0.6761305537246636,-0.7441499518305543,-0.693276859929443,-1.2285294853916533,-1.216206962262111,0.7791380282318413,-0.5842460014967957,-0.41736139073749073,1.2635056761349914],\"yaxis\":\"y9\",\"type\":\"scatter\"},{\"line\":{\"color\":\"rgba(128, 128, 128, 1.0)\",\"dash\":\"solid\",\"shape\":\"linear\",\"width\":1.3},\"marker\":{\"size\":2,\"symbol\":\"circle\"},\"mode\":\"markers\",\"name\":\"C\",\"text\":\"\",\"x\":[1.4318947810176526,0.24026038605821917,0.4451286277214846,0.5362264542043904,-1.1066503086203259,-0.42229707035492087,0.718042335741499,-0.9318978257839343,-0.44859068426479753,0.06393476675777732,-0.9638697396246255,0.047373052805112593,-2.6316439201988544,1.16645099432575,0.32036750849283824,-0.05364339294583357,0.3802655235220497,-0.09961734522532066,-0.3653884522071064,0.5387252402177625,0.4688390726042069,0.09915984634898799,0.07388293090421022,-0.18789060897527135,-0.11576320542210079,1.0107124619771906,-0.6193205128828219,-0.12003905201802431,-0.08329152526464428,-1.0665194384892394,0.5251365929191014,-1.7202303396085004,-0.4098643151059729,0.2192352113181968,0.23647471448842297,-0.1115245845888328,0.18615443769853549,-0.40964673877098917,0.9711188501856983,-1.5071541555991648,0.1999602495297384,2.492818422930499,-0.41384143683286634,-0.9240183532845967,0.428717009167491,1.8113112612096411,-0.003990601547180274,-1.0569525684969008,-0.2462620275510187,-0.4334682863880004,0.3952226502148541,1.2432030130337701,0.6223978449559944,-1.1375909277591023,0.8016351645868708,-0.20628826144655052,1.6797828797502556,-0.9924526424616922,-0.31062961008454076,1.4306099335403377,1.9799584956398923,1.2607300051211943,0.5926955856960735,-0.6860932783938856,0.8932491030110556,-0.2366485951762157,1.1461888955923492,0.9762538722558245,-0.7899138777903845,0.4001873776041438,0.12072644501913432,1.17629127197133,-1.489601357172212,0.28052146475854733,1.6260200481973202,0.4605915872324684,0.14764372184436497,0.7331058048576845,2.2291967418153136,-0.781849913741244,-0.9985226652186919,1.237574668861233,0.7169596395220929,-1.9079310473095077,1.2290383651644585,-0.7379281450552093,-0.3610320856280676,2.8491743491694232,1.0186867977434042,-0.45887321828980554,0.19222873439429394,0.11579126666695112,0.09289699526265048,-0.15629653044902783,-1.2121316352810876,0.24892657275282007,-0.34109291135368036,-0.8333844588916233,1.2299995015955598,-0.09384418811944956],\"xaxis\":\"x10\",\"y\":[-0.971022346575938,-0.5243024731276443,1.4286413183508697,0.9137829630609101,-0.8858080620372212,1.60714413043683,1.500409250991382,0.23383299051706155,-0.45644596388353964,0.9323430868876016,0.18136130428341612,-0.08710946309744187,-0.5165280743998215,-0.9871919968274258,0.6957812675613306,-0.21310596317218783,-0.7671961431296472,-0.8456308966197522,1.000258255813157,-0.8766672551763515,-1.025581732381983,-0.4493566079268353,-0.8189968559032405,2.1423888628192667,0.21283462121999747,0.41124945491522974,-0.528734301448836,2.2378067259334387,-1.1604140663002422,0.4072605370018098,-1.6922822861315925,0.20304010437405975,-0.370719198334433,-0.4218291816271057,-1.1825893612552376,-1.5967591425602543,-0.09221248457979499,1.7631166471745965,-0.04083330384185371,1.832559072362424,-0.1275310601322519,-1.499482768775023,1.1900005959356978,0.4932095737397246,1.4089585106778706,0.1740381662200239,-0.11007728217088389,-0.5687332352449179,0.060133667198007765,1.3688822401017933,1.582865785466756,0.5822665546760064,-0.7815186844672299,-0.6777042737687243,1.126308992622847,1.2788472079126632,-1.0672752399294543,-0.643146503037076,-0.1511482000712323,1.6585490956043274,-1.4981491057130696,-0.058557970848679405,0.9795625424614111,1.2033564609474556,-1.4954506288951142,0.29031527322649764,0.8635660788280374,0.27092205398846453,0.8967125564808078,1.6857266086235219,-0.18267859561471733,-2.2304111589487903,-0.015856920988653118,-0.34308233132870436,-0.18275565819244208,0.6454017103842246,2.280495614345781,-1.0982758047559875,0.7686227898033995,-1.5435421374184264,-1.6748784707759343,1.1040311056681484,0.7640841601508227,1.6956137181403692,1.540992767196364,1.3080783711522082,-1.4700280148462321,-1.1657677185485011,-0.5634960739617756,0.712096619769324,-1.837827400119136,0.6761305537246636,-0.7441499518305543,-0.693276859929443,-1.2285294853916533,-1.216206962262111,0.7791380282318413,-0.5842460014967957,-0.41736139073749073,1.2635056761349914],\"yaxis\":\"y10\",\"type\":\"scatter\"},{\"histfunc\":\"count\",\"histnorm\":\"\",\"marker\":{\"color\":\"rgba(50, 171, 96, 1.0)\",\"line\":{\"color\":\"#4D5663\",\"width\":1.3}},\"name\":\"C\",\"nbinsx\":10,\"opacity\":0.8,\"orientation\":\"v\",\"x\":[-0.971022346575938,-0.5243024731276443,1.4286413183508697,0.9137829630609101,-0.8858080620372212,1.60714413043683,1.500409250991382,0.23383299051706155,-0.45644596388353964,0.9323430868876016,0.18136130428341612,-0.08710946309744187,-0.5165280743998215,-0.9871919968274258,0.6957812675613306,-0.21310596317218783,-0.7671961431296472,-0.8456308966197522,1.000258255813157,-0.8766672551763515,-1.025581732381983,-0.4493566079268353,-0.8189968559032405,2.1423888628192667,0.21283462121999747,0.41124945491522974,-0.528734301448836,2.2378067259334387,-1.1604140663002422,0.4072605370018098,-1.6922822861315925,0.20304010437405975,-0.370719198334433,-0.4218291816271057,-1.1825893612552376,-1.5967591425602543,-0.09221248457979499,1.7631166471745965,-0.04083330384185371,1.832559072362424,-0.1275310601322519,-1.499482768775023,1.1900005959356978,0.4932095737397246,1.4089585106778706,0.1740381662200239,-0.11007728217088389,-0.5687332352449179,0.060133667198007765,1.3688822401017933,1.582865785466756,0.5822665546760064,-0.7815186844672299,-0.6777042737687243,1.126308992622847,1.2788472079126632,-1.0672752399294543,-0.643146503037076,-0.1511482000712323,1.6585490956043274,-1.4981491057130696,-0.058557970848679405,0.9795625424614111,1.2033564609474556,-1.4954506288951142,0.29031527322649764,0.8635660788280374,0.27092205398846453,0.8967125564808078,1.6857266086235219,-0.18267859561471733,-2.2304111589487903,-0.015856920988653118,-0.34308233132870436,-0.18275565819244208,0.6454017103842246,2.280495614345781,-1.0982758047559875,0.7686227898033995,-1.5435421374184264,-1.6748784707759343,1.1040311056681484,0.7640841601508227,1.6956137181403692,1.540992767196364,1.3080783711522082,-1.4700280148462321,-1.1657677185485011,-0.5634960739617756,0.712096619769324,-1.837827400119136,0.6761305537246636,-0.7441499518305543,-0.693276859929443,-1.2285294853916533,-1.216206962262111,0.7791380282318413,-0.5842460014967957,-0.41736139073749073,1.2635056761349914],\"xaxis\":\"x11\",\"yaxis\":\"y11\",\"type\":\"histogram\"},{\"line\":{\"color\":\"rgba(128, 128, 128, 1.0)\",\"dash\":\"solid\",\"shape\":\"linear\",\"width\":1.3},\"marker\":{\"size\":2,\"symbol\":\"circle\"},\"mode\":\"markers\",\"name\":\"C\",\"text\":\"\",\"x\":[-0.026946352214707543,0.7001864198834278,-0.2982169573158846,-0.46785808251321376,0.1662198421131035,-1.0361993190548702,0.36990320951933825,-0.46096929909194345,-0.32786381054044816,-1.9425338206029976,1.3241557623479694,1.1454651188750975,0.7486765634810072,0.9330479359890153,-0.9417092796502509,0.6690846669731796,-1.336677393459967,0.8684602791773485,-0.6536004660338142,-0.12821638297337665,-0.5600649918885628,0.12970791744126992,0.6532835157045196,-1.282823899790167,0.7736421266931258,-1.7976496762557792,-0.15948682481998375,-0.391125585197008,1.354088423712669,-1.443692993191206,-0.4289105316998597,0.5740855457163138,-0.33639804341759105,-0.10356897058918564,1.574387291112665,-0.9091404976969024,1.046847296801124,0.5706535462664871,-1.6541427845300183,-0.8536739719150671,-1.0688862444256853,-1.9336291584556424,1.9376248679459394,0.6695776761101119,1.5313603114363874,-1.4712342112068328,1.7690964396844335,1.1077083251306983,-0.58024259998545,-0.5196224712276971,0.38399780945459105,0.31773733607258414,-1.8371234971094654,0.08363561366150972,0.473428602686091,-1.057167404990847,-0.2945659075349518,-0.46844130149068275,-0.7780798699914746,0.25040311051155845,-0.10387342147144044,-1.263258128858654,0.4867782976354999,-0.8868103081610105,0.15165521213779967,-0.8652838520851245,0.17588274530746156,-0.11919944926902291,-1.4675189167998794,1.7553033154179047,0.8196102272713092,-0.4133265676516026,-1.443631395161763,-1.1308320153402704,-0.6639551530556687,-0.39126040132210677,0.46545469886051766,0.5733045030441133,-2.0616130374103525,0.2949920301219885,0.012695105848094499,-0.07790473580455372,0.10607123347971581,0.6567785605314618,-0.6250906670799768,1.6570247763242396,1.1201417570577372,1.033694848041122,-0.9124782530568055,1.988878350986756,-0.4582865124599824,-0.8059843919133812,0.5124959363470918,1.9149527906323667,-0.17926090652051777,1.2052411849841747,-0.555649682790034,0.3362816656037818,-0.7121607025339074,1.0413593991665846],\"xaxis\":\"x12\",\"y\":[-0.971022346575938,-0.5243024731276443,1.4286413183508697,0.9137829630609101,-0.8858080620372212,1.60714413043683,1.500409250991382,0.23383299051706155,-0.45644596388353964,0.9323430868876016,0.18136130428341612,-0.08710946309744187,-0.5165280743998215,-0.9871919968274258,0.6957812675613306,-0.21310596317218783,-0.7671961431296472,-0.8456308966197522,1.000258255813157,-0.8766672551763515,-1.025581732381983,-0.4493566079268353,-0.8189968559032405,2.1423888628192667,0.21283462121999747,0.41124945491522974,-0.528734301448836,2.2378067259334387,-1.1604140663002422,0.4072605370018098,-1.6922822861315925,0.20304010437405975,-0.370719198334433,-0.4218291816271057,-1.1825893612552376,-1.5967591425602543,-0.09221248457979499,1.7631166471745965,-0.04083330384185371,1.832559072362424,-0.1275310601322519,-1.499482768775023,1.1900005959356978,0.4932095737397246,1.4089585106778706,0.1740381662200239,-0.11007728217088389,-0.5687332352449179,0.060133667198007765,1.3688822401017933,1.582865785466756,0.5822665546760064,-0.7815186844672299,-0.6777042737687243,1.126308992622847,1.2788472079126632,-1.0672752399294543,-0.643146503037076,-0.1511482000712323,1.6585490956043274,-1.4981491057130696,-0.058557970848679405,0.9795625424614111,1.2033564609474556,-1.4954506288951142,0.29031527322649764,0.8635660788280374,0.27092205398846453,0.8967125564808078,1.6857266086235219,-0.18267859561471733,-2.2304111589487903,-0.015856920988653118,-0.34308233132870436,-0.18275565819244208,0.6454017103842246,2.280495614345781,-1.0982758047559875,0.7686227898033995,-1.5435421374184264,-1.6748784707759343,1.1040311056681484,0.7640841601508227,1.6956137181403692,1.540992767196364,1.3080783711522082,-1.4700280148462321,-1.1657677185485011,-0.5634960739617756,0.712096619769324,-1.837827400119136,0.6761305537246636,-0.7441499518305543,-0.693276859929443,-1.2285294853916533,-1.216206962262111,0.7791380282318413,-0.5842460014967957,-0.41736139073749073,1.2635056761349914],\"yaxis\":\"y12\",\"type\":\"scatter\"},{\"line\":{\"color\":\"rgba(128, 128, 128, 1.0)\",\"dash\":\"solid\",\"shape\":\"linear\",\"width\":1.3},\"marker\":{\"size\":2,\"symbol\":\"circle\"},\"mode\":\"markers\",\"name\":\"D\",\"text\":\"\",\"x\":[0.13160484099032704,-0.7950894148460821,-0.13178744981839602,0.04643253694874059,1.4008811580488094,1.0636094200617128,-0.6302576662973428,-1.0151765951983778,-1.6289811525645115,1.6268210437035,0.6256421851048581,0.6214972799378291,1.2228321462568825,1.4103128126593787,-1.3973949776753045,-0.18281033081801018,2.605677785134823,0.3988269851056346,-0.4529882860464019,1.0784128278939078,0.7901159872294277,-0.4910610738334806,-0.9409118009988205,0.434468041211235,0.3742896418368096,-1.1561864863866274,-1.2842867457363056,-0.5261606343749329,0.6429325143749458,-1.3552544051664746,1.6270610794688527,-2.1435595460990853,-0.23455305399294482,-1.5986242370245385,1.1759934266713825,-0.01270097113625606,-0.4668452761149272,-0.7412607679432618,0.3462472288658386,0.10935402326252003,-0.3649831789786431,-0.21849969872497854,0.32657994207227464,2.2351327991254717,0.18144734817366057,-0.6912176240497995,0.7261509416783926,-1.8859562311461544,0.6217916103657698,-1.814362876226159,0.4189234239519778,1.7208451979119816,0.46099175660802466,0.07536895923905688,1.6026332086845676,-0.4813040033991323,-1.1715479856146989,-0.961844887784821,-0.3697250311946081,0.9903676937190032,0.5987589037491994,0.22441901104260428,-0.7290832505061414,1.182504038571702,0.49849042094992546,1.934068179888321,-1.0356143693303237,0.5099229331601602,-0.14881706016740145,1.2932578315420147,-0.8803779558532795,0.9912732908960632,-0.07363103484386704,-1.2099173247127637,0.49734583814546224,0.35313499965974543,-0.27695109523629635,0.3977250325577475,0.4267867826118734,-1.2592491178910903,1.561409048832289,-0.6487493849583286,2.1000263133192827,-1.6738293406736495,-1.2478081529020673,-0.5461776592746976,-0.8069503449533223,-1.216016854020958,-0.6994925219189366,0.3168200730116124,-1.618796776256919,0.43488998610191393,-0.09960482964117366,0.8141745749221933,-0.6550109510461594,-1.0731797207644709,0.025062692688615756,-0.1987930919360324,-0.8068381141444133,-0.3756595044409874],\"xaxis\":\"x13\",\"y\":[-0.026946352214707543,0.7001864198834278,-0.2982169573158846,-0.46785808251321376,0.1662198421131035,-1.0361993190548702,0.36990320951933825,-0.46096929909194345,-0.32786381054044816,-1.9425338206029976,1.3241557623479694,1.1454651188750975,0.7486765634810072,0.9330479359890153,-0.9417092796502509,0.6690846669731796,-1.336677393459967,0.8684602791773485,-0.6536004660338142,-0.12821638297337665,-0.5600649918885628,0.12970791744126992,0.6532835157045196,-1.282823899790167,0.7736421266931258,-1.7976496762557792,-0.15948682481998375,-0.391125585197008,1.354088423712669,-1.443692993191206,-0.4289105316998597,0.5740855457163138,-0.33639804341759105,-0.10356897058918564,1.574387291112665,-0.9091404976969024,1.046847296801124,0.5706535462664871,-1.6541427845300183,-0.8536739719150671,-1.0688862444256853,-1.9336291584556424,1.9376248679459394,0.6695776761101119,1.5313603114363874,-1.4712342112068328,1.7690964396844335,1.1077083251306983,-0.58024259998545,-0.5196224712276971,0.38399780945459105,0.31773733607258414,-1.8371234971094654,0.08363561366150972,0.473428602686091,-1.057167404990847,-0.2945659075349518,-0.46844130149068275,-0.7780798699914746,0.25040311051155845,-0.10387342147144044,-1.263258128858654,0.4867782976354999,-0.8868103081610105,0.15165521213779967,-0.8652838520851245,0.17588274530746156,-0.11919944926902291,-1.4675189167998794,1.7553033154179047,0.8196102272713092,-0.4133265676516026,-1.443631395161763,-1.1308320153402704,-0.6639551530556687,-0.39126040132210677,0.46545469886051766,0.5733045030441133,-2.0616130374103525,0.2949920301219885,0.012695105848094499,-0.07790473580455372,0.10607123347971581,0.6567785605314618,-0.6250906670799768,1.6570247763242396,1.1201417570577372,1.033694848041122,-0.9124782530568055,1.988878350986756,-0.4582865124599824,-0.8059843919133812,0.5124959363470918,1.9149527906323667,-0.17926090652051777,1.2052411849841747,-0.555649682790034,0.3362816656037818,-0.7121607025339074,1.0413593991665846],\"yaxis\":\"y13\",\"type\":\"scatter\"},{\"line\":{\"color\":\"rgba(128, 128, 128, 1.0)\",\"dash\":\"solid\",\"shape\":\"linear\",\"width\":1.3},\"marker\":{\"size\":2,\"symbol\":\"circle\"},\"mode\":\"markers\",\"name\":\"D\",\"text\":\"\",\"x\":[1.4318947810176526,0.24026038605821917,0.4451286277214846,0.5362264542043904,-1.1066503086203259,-0.42229707035492087,0.718042335741499,-0.9318978257839343,-0.44859068426479753,0.06393476675777732,-0.9638697396246255,0.047373052805112593,-2.6316439201988544,1.16645099432575,0.32036750849283824,-0.05364339294583357,0.3802655235220497,-0.09961734522532066,-0.3653884522071064,0.5387252402177625,0.4688390726042069,0.09915984634898799,0.07388293090421022,-0.18789060897527135,-0.11576320542210079,1.0107124619771906,-0.6193205128828219,-0.12003905201802431,-0.08329152526464428,-1.0665194384892394,0.5251365929191014,-1.7202303396085004,-0.4098643151059729,0.2192352113181968,0.23647471448842297,-0.1115245845888328,0.18615443769853549,-0.40964673877098917,0.9711188501856983,-1.5071541555991648,0.1999602495297384,2.492818422930499,-0.41384143683286634,-0.9240183532845967,0.428717009167491,1.8113112612096411,-0.003990601547180274,-1.0569525684969008,-0.2462620275510187,-0.4334682863880004,0.3952226502148541,1.2432030130337701,0.6223978449559944,-1.1375909277591023,0.8016351645868708,-0.20628826144655052,1.6797828797502556,-0.9924526424616922,-0.31062961008454076,1.4306099335403377,1.9799584956398923,1.2607300051211943,0.5926955856960735,-0.6860932783938856,0.8932491030110556,-0.2366485951762157,1.1461888955923492,0.9762538722558245,-0.7899138777903845,0.4001873776041438,0.12072644501913432,1.17629127197133,-1.489601357172212,0.28052146475854733,1.6260200481973202,0.4605915872324684,0.14764372184436497,0.7331058048576845,2.2291967418153136,-0.781849913741244,-0.9985226652186919,1.237574668861233,0.7169596395220929,-1.9079310473095077,1.2290383651644585,-0.7379281450552093,-0.3610320856280676,2.8491743491694232,1.0186867977434042,-0.45887321828980554,0.19222873439429394,0.11579126666695112,0.09289699526265048,-0.15629653044902783,-1.2121316352810876,0.24892657275282007,-0.34109291135368036,-0.8333844588916233,1.2299995015955598,-0.09384418811944956],\"xaxis\":\"x14\",\"y\":[-0.026946352214707543,0.7001864198834278,-0.2982169573158846,-0.46785808251321376,0.1662198421131035,-1.0361993190548702,0.36990320951933825,-0.46096929909194345,-0.32786381054044816,-1.9425338206029976,1.3241557623479694,1.1454651188750975,0.7486765634810072,0.9330479359890153,-0.9417092796502509,0.6690846669731796,-1.336677393459967,0.8684602791773485,-0.6536004660338142,-0.12821638297337665,-0.5600649918885628,0.12970791744126992,0.6532835157045196,-1.282823899790167,0.7736421266931258,-1.7976496762557792,-0.15948682481998375,-0.391125585197008,1.354088423712669,-1.443692993191206,-0.4289105316998597,0.5740855457163138,-0.33639804341759105,-0.10356897058918564,1.574387291112665,-0.9091404976969024,1.046847296801124,0.5706535462664871,-1.6541427845300183,-0.8536739719150671,-1.0688862444256853,-1.9336291584556424,1.9376248679459394,0.6695776761101119,1.5313603114363874,-1.4712342112068328,1.7690964396844335,1.1077083251306983,-0.58024259998545,-0.5196224712276971,0.38399780945459105,0.31773733607258414,-1.8371234971094654,0.08363561366150972,0.473428602686091,-1.057167404990847,-0.2945659075349518,-0.46844130149068275,-0.7780798699914746,0.25040311051155845,-0.10387342147144044,-1.263258128858654,0.4867782976354999,-0.8868103081610105,0.15165521213779967,-0.8652838520851245,0.17588274530746156,-0.11919944926902291,-1.4675189167998794,1.7553033154179047,0.8196102272713092,-0.4133265676516026,-1.443631395161763,-1.1308320153402704,-0.6639551530556687,-0.39126040132210677,0.46545469886051766,0.5733045030441133,-2.0616130374103525,0.2949920301219885,0.012695105848094499,-0.07790473580455372,0.10607123347971581,0.6567785605314618,-0.6250906670799768,1.6570247763242396,1.1201417570577372,1.033694848041122,-0.9124782530568055,1.988878350986756,-0.4582865124599824,-0.8059843919133812,0.5124959363470918,1.9149527906323667,-0.17926090652051777,1.2052411849841747,-0.555649682790034,0.3362816656037818,-0.7121607025339074,1.0413593991665846],\"yaxis\":\"y14\",\"type\":\"scatter\"},{\"line\":{\"color\":\"rgba(128, 128, 128, 1.0)\",\"dash\":\"solid\",\"shape\":\"linear\",\"width\":1.3},\"marker\":{\"size\":2,\"symbol\":\"circle\"},\"mode\":\"markers\",\"name\":\"D\",\"text\":\"\",\"x\":[-0.971022346575938,-0.5243024731276443,1.4286413183508697,0.9137829630609101,-0.8858080620372212,1.60714413043683,1.500409250991382,0.23383299051706155,-0.45644596388353964,0.9323430868876016,0.18136130428341612,-0.08710946309744187,-0.5165280743998215,-0.9871919968274258,0.6957812675613306,-0.21310596317218783,-0.7671961431296472,-0.8456308966197522,1.000258255813157,-0.8766672551763515,-1.025581732381983,-0.4493566079268353,-0.8189968559032405,2.1423888628192667,0.21283462121999747,0.41124945491522974,-0.528734301448836,2.2378067259334387,-1.1604140663002422,0.4072605370018098,-1.6922822861315925,0.20304010437405975,-0.370719198334433,-0.4218291816271057,-1.1825893612552376,-1.5967591425602543,-0.09221248457979499,1.7631166471745965,-0.04083330384185371,1.832559072362424,-0.1275310601322519,-1.499482768775023,1.1900005959356978,0.4932095737397246,1.4089585106778706,0.1740381662200239,-0.11007728217088389,-0.5687332352449179,0.060133667198007765,1.3688822401017933,1.582865785466756,0.5822665546760064,-0.7815186844672299,-0.6777042737687243,1.126308992622847,1.2788472079126632,-1.0672752399294543,-0.643146503037076,-0.1511482000712323,1.6585490956043274,-1.4981491057130696,-0.058557970848679405,0.9795625424614111,1.2033564609474556,-1.4954506288951142,0.29031527322649764,0.8635660788280374,0.27092205398846453,0.8967125564808078,1.6857266086235219,-0.18267859561471733,-2.2304111589487903,-0.015856920988653118,-0.34308233132870436,-0.18275565819244208,0.6454017103842246,2.280495614345781,-1.0982758047559875,0.7686227898033995,-1.5435421374184264,-1.6748784707759343,1.1040311056681484,0.7640841601508227,1.6956137181403692,1.540992767196364,1.3080783711522082,-1.4700280148462321,-1.1657677185485011,-0.5634960739617756,0.712096619769324,-1.837827400119136,0.6761305537246636,-0.7441499518305543,-0.693276859929443,-1.2285294853916533,-1.216206962262111,0.7791380282318413,-0.5842460014967957,-0.41736139073749073,1.2635056761349914],\"xaxis\":\"x15\",\"y\":[-0.026946352214707543,0.7001864198834278,-0.2982169573158846,-0.46785808251321376,0.1662198421131035,-1.0361993190548702,0.36990320951933825,-0.46096929909194345,-0.32786381054044816,-1.9425338206029976,1.3241557623479694,1.1454651188750975,0.7486765634810072,0.9330479359890153,-0.9417092796502509,0.6690846669731796,-1.336677393459967,0.8684602791773485,-0.6536004660338142,-0.12821638297337665,-0.5600649918885628,0.12970791744126992,0.6532835157045196,-1.282823899790167,0.7736421266931258,-1.7976496762557792,-0.15948682481998375,-0.391125585197008,1.354088423712669,-1.443692993191206,-0.4289105316998597,0.5740855457163138,-0.33639804341759105,-0.10356897058918564,1.574387291112665,-0.9091404976969024,1.046847296801124,0.5706535462664871,-1.6541427845300183,-0.8536739719150671,-1.0688862444256853,-1.9336291584556424,1.9376248679459394,0.6695776761101119,1.5313603114363874,-1.4712342112068328,1.7690964396844335,1.1077083251306983,-0.58024259998545,-0.5196224712276971,0.38399780945459105,0.31773733607258414,-1.8371234971094654,0.08363561366150972,0.473428602686091,-1.057167404990847,-0.2945659075349518,-0.46844130149068275,-0.7780798699914746,0.25040311051155845,-0.10387342147144044,-1.263258128858654,0.4867782976354999,-0.8868103081610105,0.15165521213779967,-0.8652838520851245,0.17588274530746156,-0.11919944926902291,-1.4675189167998794,1.7553033154179047,0.8196102272713092,-0.4133265676516026,-1.443631395161763,-1.1308320153402704,-0.6639551530556687,-0.39126040132210677,0.46545469886051766,0.5733045030441133,-2.0616130374103525,0.2949920301219885,0.012695105848094499,-0.07790473580455372,0.10607123347971581,0.6567785605314618,-0.6250906670799768,1.6570247763242396,1.1201417570577372,1.033694848041122,-0.9124782530568055,1.988878350986756,-0.4582865124599824,-0.8059843919133812,0.5124959363470918,1.9149527906323667,-0.17926090652051777,1.2052411849841747,-0.555649682790034,0.3362816656037818,-0.7121607025339074,1.0413593991665846],\"yaxis\":\"y15\",\"type\":\"scatter\"},{\"histfunc\":\"count\",\"histnorm\":\"\",\"marker\":{\"color\":\"rgba(128, 0, 128, 1.0)\",\"line\":{\"color\":\"#4D5663\",\"width\":1.3}},\"name\":\"D\",\"nbinsx\":10,\"opacity\":0.8,\"orientation\":\"v\",\"x\":[-0.026946352214707543,0.7001864198834278,-0.2982169573158846,-0.46785808251321376,0.1662198421131035,-1.0361993190548702,0.36990320951933825,-0.46096929909194345,-0.32786381054044816,-1.9425338206029976,1.3241557623479694,1.1454651188750975,0.7486765634810072,0.9330479359890153,-0.9417092796502509,0.6690846669731796,-1.336677393459967,0.8684602791773485,-0.6536004660338142,-0.12821638297337665,-0.5600649918885628,0.12970791744126992,0.6532835157045196,-1.282823899790167,0.7736421266931258,-1.7976496762557792,-0.15948682481998375,-0.391125585197008,1.354088423712669,-1.443692993191206,-0.4289105316998597,0.5740855457163138,-0.33639804341759105,-0.10356897058918564,1.574387291112665,-0.9091404976969024,1.046847296801124,0.5706535462664871,-1.6541427845300183,-0.8536739719150671,-1.0688862444256853,-1.9336291584556424,1.9376248679459394,0.6695776761101119,1.5313603114363874,-1.4712342112068328,1.7690964396844335,1.1077083251306983,-0.58024259998545,-0.5196224712276971,0.38399780945459105,0.31773733607258414,-1.8371234971094654,0.08363561366150972,0.473428602686091,-1.057167404990847,-0.2945659075349518,-0.46844130149068275,-0.7780798699914746,0.25040311051155845,-0.10387342147144044,-1.263258128858654,0.4867782976354999,-0.8868103081610105,0.15165521213779967,-0.8652838520851245,0.17588274530746156,-0.11919944926902291,-1.4675189167998794,1.7553033154179047,0.8196102272713092,-0.4133265676516026,-1.443631395161763,-1.1308320153402704,-0.6639551530556687,-0.39126040132210677,0.46545469886051766,0.5733045030441133,-2.0616130374103525,0.2949920301219885,0.012695105848094499,-0.07790473580455372,0.10607123347971581,0.6567785605314618,-0.6250906670799768,1.6570247763242396,1.1201417570577372,1.033694848041122,-0.9124782530568055,1.988878350986756,-0.4582865124599824,-0.8059843919133812,0.5124959363470918,1.9149527906323667,-0.17926090652051777,1.2052411849841747,-0.555649682790034,0.3362816656037818,-0.7121607025339074,1.0413593991665846],\"xaxis\":\"x16\",\"yaxis\":\"y16\",\"type\":\"histogram\"}],                        {\"bargap\":0.02,\"legend\":{\"bgcolor\":\"#F5F6F9\",\"font\":{\"color\":\"#4D5663\"}},\"paper_bgcolor\":\"#F5F6F9\",\"plot_bgcolor\":\"#F5F6F9\",\"showlegend\":false,\"template\":{\"data\":{\"barpolar\":[{\"marker\":{\"line\":{\"color\":\"#E5ECF6\",\"width\":0.5},\"pattern\":{\"fillmode\":\"overlay\",\"size\":10,\"solidity\":0.2}},\"type\":\"barpolar\"}],\"bar\":[{\"error_x\":{\"color\":\"#2a3f5f\"},\"error_y\":{\"color\":\"#2a3f5f\"},\"marker\":{\"line\":{\"color\":\"#E5ECF6\",\"width\":0.5},\"pattern\":{\"fillmode\":\"overlay\",\"size\":10,\"solidity\":0.2}},\"type\":\"bar\"}],\"carpet\":[{\"aaxis\":{\"endlinecolor\":\"#2a3f5f\",\"gridcolor\":\"white\",\"linecolor\":\"white\",\"minorgridcolor\":\"white\",\"startlinecolor\":\"#2a3f5f\"},\"baxis\":{\"endlinecolor\":\"#2a3f5f\",\"gridcolor\":\"white\",\"linecolor\":\"white\",\"minorgridcolor\":\"white\",\"startlinecolor\":\"#2a3f5f\"},\"type\":\"carpet\"}],\"choropleth\":[{\"colorbar\":{\"outlinewidth\":0,\"ticks\":\"\"},\"type\":\"choropleth\"}],\"contourcarpet\":[{\"colorbar\":{\"outlinewidth\":0,\"ticks\":\"\"},\"type\":\"contourcarpet\"}],\"contour\":[{\"colorbar\":{\"outlinewidth\":0,\"ticks\":\"\"},\"colorscale\":[[0.0,\"#0d0887\"],[0.1111111111111111,\"#46039f\"],[0.2222222222222222,\"#7201a8\"],[0.3333333333333333,\"#9c179e\"],[0.4444444444444444,\"#bd3786\"],[0.5555555555555556,\"#d8576b\"],[0.6666666666666666,\"#ed7953\"],[0.7777777777777778,\"#fb9f3a\"],[0.8888888888888888,\"#fdca26\"],[1.0,\"#f0f921\"]],\"type\":\"contour\"}],\"heatmapgl\":[{\"colorbar\":{\"outlinewidth\":0,\"ticks\":\"\"},\"colorscale\":[[0.0,\"#0d0887\"],[0.1111111111111111,\"#46039f\"],[0.2222222222222222,\"#7201a8\"],[0.3333333333333333,\"#9c179e\"],[0.4444444444444444,\"#bd3786\"],[0.5555555555555556,\"#d8576b\"],[0.6666666666666666,\"#ed7953\"],[0.7777777777777778,\"#fb9f3a\"],[0.8888888888888888,\"#fdca26\"],[1.0,\"#f0f921\"]],\"type\":\"heatmapgl\"}],\"heatmap\":[{\"colorbar\":{\"outlinewidth\":0,\"ticks\":\"\"},\"colorscale\":[[0.0,\"#0d0887\"],[0.1111111111111111,\"#46039f\"],[0.2222222222222222,\"#7201a8\"],[0.3333333333333333,\"#9c179e\"],[0.4444444444444444,\"#bd3786\"],[0.5555555555555556,\"#d8576b\"],[0.6666666666666666,\"#ed7953\"],[0.7777777777777778,\"#fb9f3a\"],[0.8888888888888888,\"#fdca26\"],[1.0,\"#f0f921\"]],\"type\":\"heatmap\"}],\"histogram2dcontour\":[{\"colorbar\":{\"outlinewidth\":0,\"ticks\":\"\"},\"colorscale\":[[0.0,\"#0d0887\"],[0.1111111111111111,\"#46039f\"],[0.2222222222222222,\"#7201a8\"],[0.3333333333333333,\"#9c179e\"],[0.4444444444444444,\"#bd3786\"],[0.5555555555555556,\"#d8576b\"],[0.6666666666666666,\"#ed7953\"],[0.7777777777777778,\"#fb9f3a\"],[0.8888888888888888,\"#fdca26\"],[1.0,\"#f0f921\"]],\"type\":\"histogram2dcontour\"}],\"histogram2d\":[{\"colorbar\":{\"outlinewidth\":0,\"ticks\":\"\"},\"colorscale\":[[0.0,\"#0d0887\"],[0.1111111111111111,\"#46039f\"],[0.2222222222222222,\"#7201a8\"],[0.3333333333333333,\"#9c179e\"],[0.4444444444444444,\"#bd3786\"],[0.5555555555555556,\"#d8576b\"],[0.6666666666666666,\"#ed7953\"],[0.7777777777777778,\"#fb9f3a\"],[0.8888888888888888,\"#fdca26\"],[1.0,\"#f0f921\"]],\"type\":\"histogram2d\"}],\"histogram\":[{\"marker\":{\"pattern\":{\"fillmode\":\"overlay\",\"size\":10,\"solidity\":0.2}},\"type\":\"histogram\"}],\"mesh3d\":[{\"colorbar\":{\"outlinewidth\":0,\"ticks\":\"\"},\"type\":\"mesh3d\"}],\"parcoords\":[{\"line\":{\"colorbar\":{\"outlinewidth\":0,\"ticks\":\"\"}},\"type\":\"parcoords\"}],\"pie\":[{\"automargin\":true,\"type\":\"pie\"}],\"scatter3d\":[{\"line\":{\"colorbar\":{\"outlinewidth\":0,\"ticks\":\"\"}},\"marker\":{\"colorbar\":{\"outlinewidth\":0,\"ticks\":\"\"}},\"type\":\"scatter3d\"}],\"scattercarpet\":[{\"marker\":{\"colorbar\":{\"outlinewidth\":0,\"ticks\":\"\"}},\"type\":\"scattercarpet\"}],\"scattergeo\":[{\"marker\":{\"colorbar\":{\"outlinewidth\":0,\"ticks\":\"\"}},\"type\":\"scattergeo\"}],\"scattergl\":[{\"marker\":{\"colorbar\":{\"outlinewidth\":0,\"ticks\":\"\"}},\"type\":\"scattergl\"}],\"scattermapbox\":[{\"marker\":{\"colorbar\":{\"outlinewidth\":0,\"ticks\":\"\"}},\"type\":\"scattermapbox\"}],\"scatterpolargl\":[{\"marker\":{\"colorbar\":{\"outlinewidth\":0,\"ticks\":\"\"}},\"type\":\"scatterpolargl\"}],\"scatterpolar\":[{\"marker\":{\"colorbar\":{\"outlinewidth\":0,\"ticks\":\"\"}},\"type\":\"scatterpolar\"}],\"scatter\":[{\"fillpattern\":{\"fillmode\":\"overlay\",\"size\":10,\"solidity\":0.2},\"type\":\"scatter\"}],\"scatterternary\":[{\"marker\":{\"colorbar\":{\"outlinewidth\":0,\"ticks\":\"\"}},\"type\":\"scatterternary\"}],\"surface\":[{\"colorbar\":{\"outlinewidth\":0,\"ticks\":\"\"},\"colorscale\":[[0.0,\"#0d0887\"],[0.1111111111111111,\"#46039f\"],[0.2222222222222222,\"#7201a8\"],[0.3333333333333333,\"#9c179e\"],[0.4444444444444444,\"#bd3786\"],[0.5555555555555556,\"#d8576b\"],[0.6666666666666666,\"#ed7953\"],[0.7777777777777778,\"#fb9f3a\"],[0.8888888888888888,\"#fdca26\"],[1.0,\"#f0f921\"]],\"type\":\"surface\"}],\"table\":[{\"cells\":{\"fill\":{\"color\":\"#EBF0F8\"},\"line\":{\"color\":\"white\"}},\"header\":{\"fill\":{\"color\":\"#C8D4E3\"},\"line\":{\"color\":\"white\"}},\"type\":\"table\"}]},\"layout\":{\"annotationdefaults\":{\"arrowcolor\":\"#2a3f5f\",\"arrowhead\":0,\"arrowwidth\":1},\"autotypenumbers\":\"strict\",\"coloraxis\":{\"colorbar\":{\"outlinewidth\":0,\"ticks\":\"\"}},\"colorscale\":{\"diverging\":[[0,\"#8e0152\"],[0.1,\"#c51b7d\"],[0.2,\"#de77ae\"],[0.3,\"#f1b6da\"],[0.4,\"#fde0ef\"],[0.5,\"#f7f7f7\"],[0.6,\"#e6f5d0\"],[0.7,\"#b8e186\"],[0.8,\"#7fbc41\"],[0.9,\"#4d9221\"],[1,\"#276419\"]],\"sequential\":[[0.0,\"#0d0887\"],[0.1111111111111111,\"#46039f\"],[0.2222222222222222,\"#7201a8\"],[0.3333333333333333,\"#9c179e\"],[0.4444444444444444,\"#bd3786\"],[0.5555555555555556,\"#d8576b\"],[0.6666666666666666,\"#ed7953\"],[0.7777777777777778,\"#fb9f3a\"],[0.8888888888888888,\"#fdca26\"],[1.0,\"#f0f921\"]],\"sequentialminus\":[[0.0,\"#0d0887\"],[0.1111111111111111,\"#46039f\"],[0.2222222222222222,\"#7201a8\"],[0.3333333333333333,\"#9c179e\"],[0.4444444444444444,\"#bd3786\"],[0.5555555555555556,\"#d8576b\"],[0.6666666666666666,\"#ed7953\"],[0.7777777777777778,\"#fb9f3a\"],[0.8888888888888888,\"#fdca26\"],[1.0,\"#f0f921\"]]},\"colorway\":[\"#636efa\",\"#EF553B\",\"#00cc96\",\"#ab63fa\",\"#FFA15A\",\"#19d3f3\",\"#FF6692\",\"#B6E880\",\"#FF97FF\",\"#FECB52\"],\"font\":{\"color\":\"#2a3f5f\"},\"geo\":{\"bgcolor\":\"white\",\"lakecolor\":\"white\",\"landcolor\":\"#E5ECF6\",\"showlakes\":true,\"showland\":true,\"subunitcolor\":\"white\"},\"hoverlabel\":{\"align\":\"left\"},\"hovermode\":\"closest\",\"mapbox\":{\"style\":\"light\"},\"paper_bgcolor\":\"white\",\"plot_bgcolor\":\"#E5ECF6\",\"polar\":{\"angularaxis\":{\"gridcolor\":\"white\",\"linecolor\":\"white\",\"ticks\":\"\"},\"bgcolor\":\"#E5ECF6\",\"radialaxis\":{\"gridcolor\":\"white\",\"linecolor\":\"white\",\"ticks\":\"\"}},\"scene\":{\"xaxis\":{\"backgroundcolor\":\"#E5ECF6\",\"gridcolor\":\"white\",\"gridwidth\":2,\"linecolor\":\"white\",\"showbackground\":true,\"ticks\":\"\",\"zerolinecolor\":\"white\"},\"yaxis\":{\"backgroundcolor\":\"#E5ECF6\",\"gridcolor\":\"white\",\"gridwidth\":2,\"linecolor\":\"white\",\"showbackground\":true,\"ticks\":\"\",\"zerolinecolor\":\"white\"},\"zaxis\":{\"backgroundcolor\":\"#E5ECF6\",\"gridcolor\":\"white\",\"gridwidth\":2,\"linecolor\":\"white\",\"showbackground\":true,\"ticks\":\"\",\"zerolinecolor\":\"white\"}},\"shapedefaults\":{\"line\":{\"color\":\"#2a3f5f\"}},\"ternary\":{\"aaxis\":{\"gridcolor\":\"white\",\"linecolor\":\"white\",\"ticks\":\"\"},\"baxis\":{\"gridcolor\":\"white\",\"linecolor\":\"white\",\"ticks\":\"\"},\"bgcolor\":\"#E5ECF6\",\"caxis\":{\"gridcolor\":\"white\",\"linecolor\":\"white\",\"ticks\":\"\"}},\"title\":{\"x\":0.05},\"xaxis\":{\"automargin\":true,\"gridcolor\":\"white\",\"linecolor\":\"white\",\"ticks\":\"\",\"title\":{\"standoff\":15},\"zerolinecolor\":\"white\",\"zerolinewidth\":2},\"yaxis\":{\"automargin\":true,\"gridcolor\":\"white\",\"linecolor\":\"white\",\"ticks\":\"\",\"title\":{\"standoff\":15},\"zerolinecolor\":\"white\",\"zerolinewidth\":2}}},\"title\":{\"font\":{\"color\":\"#4D5663\"}},\"xaxis\":{\"anchor\":\"y\",\"domain\":[0.0,0.2125],\"gridcolor\":\"#E1E5ED\",\"showgrid\":false,\"tickfont\":{\"color\":\"#4D5663\"},\"title\":{\"font\":{\"color\":\"#4D5663\"},\"text\":\"\"},\"zerolinecolor\":\"#E1E5ED\"},\"yaxis\":{\"anchor\":\"x\",\"domain\":[0.8025,1.0],\"gridcolor\":\"#E1E5ED\",\"showgrid\":false,\"tickfont\":{\"color\":\"#4D5663\"},\"title\":{\"font\":{\"color\":\"#4D5663\"},\"text\":\"\"},\"zerolinecolor\":\"#E1E5ED\"},\"xaxis2\":{\"anchor\":\"y2\",\"domain\":[0.2625,0.475],\"gridcolor\":\"#E1E5ED\",\"showgrid\":false,\"tickfont\":{\"color\":\"#4D5663\"},\"title\":{\"font\":{\"color\":\"#4D5663\"},\"text\":\"\"},\"zerolinecolor\":\"#E1E5ED\"},\"yaxis2\":{\"anchor\":\"x2\",\"domain\":[0.8025,1.0],\"gridcolor\":\"#E1E5ED\",\"showgrid\":false,\"tickfont\":{\"color\":\"#4D5663\"},\"title\":{\"font\":{\"color\":\"#4D5663\"},\"text\":\"\"},\"zerolinecolor\":\"#E1E5ED\"},\"xaxis3\":{\"anchor\":\"y3\",\"domain\":[0.525,0.7375],\"gridcolor\":\"#E1E5ED\",\"showgrid\":false,\"tickfont\":{\"color\":\"#4D5663\"},\"title\":{\"font\":{\"color\":\"#4D5663\"},\"text\":\"\"},\"zerolinecolor\":\"#E1E5ED\"},\"yaxis3\":{\"anchor\":\"x3\",\"domain\":[0.8025,1.0],\"gridcolor\":\"#E1E5ED\",\"showgrid\":false,\"tickfont\":{\"color\":\"#4D5663\"},\"title\":{\"font\":{\"color\":\"#4D5663\"},\"text\":\"\"},\"zerolinecolor\":\"#E1E5ED\"},\"xaxis4\":{\"anchor\":\"y4\",\"domain\":[0.7875,1.0],\"gridcolor\":\"#E1E5ED\",\"showgrid\":false,\"tickfont\":{\"color\":\"#4D5663\"},\"title\":{\"font\":{\"color\":\"#4D5663\"},\"text\":\"\"},\"zerolinecolor\":\"#E1E5ED\"},\"yaxis4\":{\"anchor\":\"x4\",\"domain\":[0.8025,1.0],\"gridcolor\":\"#E1E5ED\",\"showgrid\":false,\"tickfont\":{\"color\":\"#4D5663\"},\"title\":{\"font\":{\"color\":\"#4D5663\"},\"text\":\"\"},\"zerolinecolor\":\"#E1E5ED\"},\"xaxis5\":{\"anchor\":\"y5\",\"domain\":[0.0,0.2125],\"gridcolor\":\"#E1E5ED\",\"showgrid\":false,\"tickfont\":{\"color\":\"#4D5663\"},\"title\":{\"font\":{\"color\":\"#4D5663\"},\"text\":\"\"},\"zerolinecolor\":\"#E1E5ED\"},\"yaxis5\":{\"anchor\":\"x5\",\"domain\":[0.535,0.7325],\"gridcolor\":\"#E1E5ED\",\"showgrid\":false,\"tickfont\":{\"color\":\"#4D5663\"},\"title\":{\"font\":{\"color\":\"#4D5663\"},\"text\":\"\"},\"zerolinecolor\":\"#E1E5ED\"},\"xaxis6\":{\"anchor\":\"y6\",\"domain\":[0.2625,0.475],\"gridcolor\":\"#E1E5ED\",\"showgrid\":false,\"tickfont\":{\"color\":\"#4D5663\"},\"title\":{\"font\":{\"color\":\"#4D5663\"},\"text\":\"\"},\"zerolinecolor\":\"#E1E5ED\"},\"yaxis6\":{\"anchor\":\"x6\",\"domain\":[0.535,0.7325],\"gridcolor\":\"#E1E5ED\",\"showgrid\":false,\"tickfont\":{\"color\":\"#4D5663\"},\"title\":{\"font\":{\"color\":\"#4D5663\"},\"text\":\"\"},\"zerolinecolor\":\"#E1E5ED\"},\"xaxis7\":{\"anchor\":\"y7\",\"domain\":[0.525,0.7375],\"gridcolor\":\"#E1E5ED\",\"showgrid\":false,\"tickfont\":{\"color\":\"#4D5663\"},\"title\":{\"font\":{\"color\":\"#4D5663\"},\"text\":\"\"},\"zerolinecolor\":\"#E1E5ED\"},\"yaxis7\":{\"anchor\":\"x7\",\"domain\":[0.535,0.7325],\"gridcolor\":\"#E1E5ED\",\"showgrid\":false,\"tickfont\":{\"color\":\"#4D5663\"},\"title\":{\"font\":{\"color\":\"#4D5663\"},\"text\":\"\"},\"zerolinecolor\":\"#E1E5ED\"},\"xaxis8\":{\"anchor\":\"y8\",\"domain\":[0.7875,1.0],\"gridcolor\":\"#E1E5ED\",\"showgrid\":false,\"tickfont\":{\"color\":\"#4D5663\"},\"title\":{\"font\":{\"color\":\"#4D5663\"},\"text\":\"\"},\"zerolinecolor\":\"#E1E5ED\"},\"yaxis8\":{\"anchor\":\"x8\",\"domain\":[0.535,0.7325],\"gridcolor\":\"#E1E5ED\",\"showgrid\":false,\"tickfont\":{\"color\":\"#4D5663\"},\"title\":{\"font\":{\"color\":\"#4D5663\"},\"text\":\"\"},\"zerolinecolor\":\"#E1E5ED\"},\"xaxis9\":{\"anchor\":\"y9\",\"domain\":[0.0,0.2125],\"gridcolor\":\"#E1E5ED\",\"showgrid\":false,\"tickfont\":{\"color\":\"#4D5663\"},\"title\":{\"font\":{\"color\":\"#4D5663\"},\"text\":\"\"},\"zerolinecolor\":\"#E1E5ED\"},\"yaxis9\":{\"anchor\":\"x9\",\"domain\":[0.2675,0.465],\"gridcolor\":\"#E1E5ED\",\"showgrid\":false,\"tickfont\":{\"color\":\"#4D5663\"},\"title\":{\"font\":{\"color\":\"#4D5663\"},\"text\":\"\"},\"zerolinecolor\":\"#E1E5ED\"},\"xaxis10\":{\"anchor\":\"y10\",\"domain\":[0.2625,0.475],\"gridcolor\":\"#E1E5ED\",\"showgrid\":false,\"tickfont\":{\"color\":\"#4D5663\"},\"title\":{\"font\":{\"color\":\"#4D5663\"},\"text\":\"\"},\"zerolinecolor\":\"#E1E5ED\"},\"yaxis10\":{\"anchor\":\"x10\",\"domain\":[0.2675,0.465],\"gridcolor\":\"#E1E5ED\",\"showgrid\":false,\"tickfont\":{\"color\":\"#4D5663\"},\"title\":{\"font\":{\"color\":\"#4D5663\"},\"text\":\"\"},\"zerolinecolor\":\"#E1E5ED\"},\"xaxis11\":{\"anchor\":\"y11\",\"domain\":[0.525,0.7375],\"gridcolor\":\"#E1E5ED\",\"showgrid\":false,\"tickfont\":{\"color\":\"#4D5663\"},\"title\":{\"font\":{\"color\":\"#4D5663\"},\"text\":\"\"},\"zerolinecolor\":\"#E1E5ED\"},\"yaxis11\":{\"anchor\":\"x11\",\"domain\":[0.2675,0.465],\"gridcolor\":\"#E1E5ED\",\"showgrid\":false,\"tickfont\":{\"color\":\"#4D5663\"},\"title\":{\"font\":{\"color\":\"#4D5663\"},\"text\":\"\"},\"zerolinecolor\":\"#E1E5ED\"},\"xaxis12\":{\"anchor\":\"y12\",\"domain\":[0.7875,1.0],\"gridcolor\":\"#E1E5ED\",\"showgrid\":false,\"tickfont\":{\"color\":\"#4D5663\"},\"title\":{\"font\":{\"color\":\"#4D5663\"},\"text\":\"\"},\"zerolinecolor\":\"#E1E5ED\"},\"yaxis12\":{\"anchor\":\"x12\",\"domain\":[0.2675,0.465],\"gridcolor\":\"#E1E5ED\",\"showgrid\":false,\"tickfont\":{\"color\":\"#4D5663\"},\"title\":{\"font\":{\"color\":\"#4D5663\"},\"text\":\"\"},\"zerolinecolor\":\"#E1E5ED\"},\"xaxis13\":{\"anchor\":\"y13\",\"domain\":[0.0,0.2125],\"gridcolor\":\"#E1E5ED\",\"showgrid\":false,\"tickfont\":{\"color\":\"#4D5663\"},\"title\":{\"font\":{\"color\":\"#4D5663\"},\"text\":\"\"},\"zerolinecolor\":\"#E1E5ED\"},\"yaxis13\":{\"anchor\":\"x13\",\"domain\":[0.0,0.1975],\"gridcolor\":\"#E1E5ED\",\"showgrid\":false,\"tickfont\":{\"color\":\"#4D5663\"},\"title\":{\"font\":{\"color\":\"#4D5663\"},\"text\":\"\"},\"zerolinecolor\":\"#E1E5ED\"},\"xaxis14\":{\"anchor\":\"y14\",\"domain\":[0.2625,0.475],\"gridcolor\":\"#E1E5ED\",\"showgrid\":false,\"tickfont\":{\"color\":\"#4D5663\"},\"title\":{\"font\":{\"color\":\"#4D5663\"},\"text\":\"\"},\"zerolinecolor\":\"#E1E5ED\"},\"yaxis14\":{\"anchor\":\"x14\",\"domain\":[0.0,0.1975],\"gridcolor\":\"#E1E5ED\",\"showgrid\":false,\"tickfont\":{\"color\":\"#4D5663\"},\"title\":{\"font\":{\"color\":\"#4D5663\"},\"text\":\"\"},\"zerolinecolor\":\"#E1E5ED\"},\"xaxis15\":{\"anchor\":\"y15\",\"domain\":[0.525,0.7375],\"gridcolor\":\"#E1E5ED\",\"showgrid\":false,\"tickfont\":{\"color\":\"#4D5663\"},\"title\":{\"font\":{\"color\":\"#4D5663\"},\"text\":\"\"},\"zerolinecolor\":\"#E1E5ED\"},\"yaxis15\":{\"anchor\":\"x15\",\"domain\":[0.0,0.1975],\"gridcolor\":\"#E1E5ED\",\"showgrid\":false,\"tickfont\":{\"color\":\"#4D5663\"},\"title\":{\"font\":{\"color\":\"#4D5663\"},\"text\":\"\"},\"zerolinecolor\":\"#E1E5ED\"},\"xaxis16\":{\"anchor\":\"y16\",\"domain\":[0.7875,1.0],\"gridcolor\":\"#E1E5ED\",\"showgrid\":false,\"tickfont\":{\"color\":\"#4D5663\"},\"title\":{\"font\":{\"color\":\"#4D5663\"},\"text\":\"\"},\"zerolinecolor\":\"#E1E5ED\"},\"yaxis16\":{\"anchor\":\"x16\",\"domain\":[0.0,0.1975],\"gridcolor\":\"#E1E5ED\",\"showgrid\":false,\"tickfont\":{\"color\":\"#4D5663\"},\"title\":{\"font\":{\"color\":\"#4D5663\"},\"text\":\"\"},\"zerolinecolor\":\"#E1E5ED\"}},                        {\"showLink\": true, \"linkText\": \"Export to plot.ly\", \"plotlyServerURL\": \"https://plot.ly\", \"responsive\": true}                    ).then(function(){\n",
       "                            \n",
       "var gd = document.getElementById('7f643968-c8ed-417b-8304-488508a42657');\n",
       "var x = new MutationObserver(function (mutations, observer) {{\n",
       "        var display = window.getComputedStyle(gd).display;\n",
       "        if (!display || display === 'none') {{\n",
       "            console.log([gd, 'removed!']);\n",
       "            Plotly.purge(gd);\n",
       "            observer.disconnect();\n",
       "        }}\n",
       "}});\n",
       "\n",
       "// Listen for the removal of the full notebook cells\n",
       "var notebookContainer = gd.closest('#notebook-container');\n",
       "if (notebookContainer) {{\n",
       "    x.observe(notebookContainer, {childList: true});\n",
       "}}\n",
       "\n",
       "// Listen for the clearing of the current output cell\n",
       "var outputEl = gd.closest('.output');\n",
       "if (outputEl) {{\n",
       "    x.observe(outputEl, {childList: true});\n",
       "}}\n",
       "\n",
       "                        })                };                });            </script>        </div>"
      ]
     },
     "metadata": {},
     "output_type": "display_data"
    }
   ],
   "source": [
    "df.scatter_matrix()"
   ]
  }
 ],
 "metadata": {
  "kernelspec": {
   "display_name": "Python 3 (ipykernel)",
   "language": "python",
   "name": "python3"
  },
  "language_info": {
   "codemirror_mode": {
    "name": "ipython",
    "version": 3
   },
   "file_extension": ".py",
   "mimetype": "text/x-python",
   "name": "python",
   "nbconvert_exporter": "python",
   "pygments_lexer": "ipython3",
   "version": "3.9.17"
  }
 },
 "nbformat": 4,
 "nbformat_minor": 1
}
